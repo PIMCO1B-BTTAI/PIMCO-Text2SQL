{
 "cells": [
  {
   "cell_type": "markdown",
   "metadata": {},
   "source": [
    "This jupyter notebook is to automate the extracting of data from zipfiles, and then populate pandas dataframes for further data processing."
   ]
  },
  {
   "cell_type": "code",
   "execution_count": null,
   "metadata": {},
   "outputs": [],
   "source": [
    "# Print current Python executable for the active kernel\n",
    "import sys\n",
    "print(sys.executable)"
   ]
  },
  {
   "cell_type": "code",
   "execution_count": null,
   "metadata": {},
   "outputs": [],
   "source": [
    "# extract_data_zips.py extracts .tsv files and store them in different folders for each quarter's zip file \n",
    "# if data zip has been extracted before, it will indicate that the folder already exists and skip to next zip\n",
    "# you can safely run this cell without worrying about duplicate data folders\n",
    "%run extract_data_zips.py"
   ]
  },
  {
   "cell_type": "code",
   "execution_count": 2,
   "metadata": {},
   "outputs": [
    {
     "name": "stdout",
     "output_type": "stream",
     "text": [
      "The table 'BORROWER.tsv' already exists in the current working directory.\n",
      "The table 'BORROW_AGGREGATE.tsv' already exists in the current working directory.\n",
      "The table 'CONVERTIBLE_SECURITY_CURRENCY.tsv' already exists in the current working directory.\n",
      "The table 'DEBT_SECURITY.tsv' already exists in the current working directory.\n",
      "The table 'DEBT_SECURITY_REF_INSTRUMENT.tsv' already exists in the current working directory.\n",
      "The table 'DERIVATIVE_COUNTERPARTY.tsv' already exists in the current working directory.\n",
      "The table 'DESC_REF_INDEX_BASKET.tsv' already exists in the current working directory.\n",
      "The table 'DESC_REF_INDEX_COMPONENT.tsv' already exists in the current working directory.\n",
      "The table 'DESC_REF_OTHER.tsv' already exists in the current working directory.\n",
      "The table 'EXPLANATORY_NOTE.tsv' already exists in the current working directory.\n",
      "The table 'FLOATING_RATE_RESET_TENOR.tsv' already exists in the current working directory.\n",
      "Skipping '{table_name}' because we will run out of RAM due to its size\n",
      "The table 'FUND_REPORTED_INFO.tsv' already exists in the current working directory.\n",
      "The table 'FUT_FWD_NONFOREIGNCUR_CONTRACT.tsv' already exists in the current working directory.\n",
      "The table 'FWD_FOREIGNCUR_CONTRACT_SWAP.tsv' already exists in the current working directory.\n",
      "Skipping '{table_name}' because we will run out of RAM due to its size\n",
      "The table 'INTEREST_RATE_RISK.tsv' already exists in the current working directory.\n",
      "The table 'MONTHLY_RETURN_CAT_INSTRUMENT.tsv' already exists in the current working directory.\n",
      "The table 'MONTHLY_TOTAL_RETURN.tsv' already exists in the current working directory.\n",
      "The table 'NONFOREIGN_EXCHANGE_SWAP.tsv' already exists in the current working directory.\n",
      "Skipping non-TSV file: nport_metadata.json\n",
      "Skipping non-TSV file: nport_readme.htm\n",
      "The table 'OTHER_DERIV.tsv' already exists in the current working directory.\n",
      "The table 'OTHER_DERIV_NOTIONAL_AMOUNT.tsv' already exists in the current working directory.\n",
      "The table 'REGISTRANT.tsv' already exists in the current working directory.\n",
      "The table 'REPURCHASE_AGREEMENT.tsv' already exists in the current working directory.\n",
      "The table 'REPURCHASE_COLLATERAL.tsv' already exists in the current working directory.\n",
      "The table 'REPURCHASE_COUNTERPARTY.tsv' already exists in the current working directory.\n",
      "The table 'SECURITIES_LENDING.tsv' already exists in the current working directory.\n",
      "Saving table SUBMISSION.tsv ...\n",
      "Finished creating  SUBMISSION.tsv\n",
      "The table 'SWAPTION_OPTION_WARNT_DERIV.tsv' already exists in the current working directory.\n"
     ]
    }
   ],
   "source": [
    "# concat_quarterly_tables.py concatenates the table from all quarters for every table into a pandas dataframe and saves it as [table_name].tsv \n",
    "# if a table has been saved before, it will indicate that the file already exists and skips to next table\n",
    "# you can safely run this cell without worrying about duplicate tables\n",
    "%run concat_quarterly_tables.py\n",
    "# this will likely take quite long (~15 minutes)\n",
    "# alternatively, if you only want one table, use the cell below"
   ]
  },
  {
   "cell_type": "code",
   "execution_count": null,
   "metadata": {},
   "outputs": [],
   "source": [
    "#below cell deletes all tsv files in the data/ folder and not any subfolders \n",
    "#i.e. delete all output tsv from concat_quarterly_tables.py\n",
    "#commented out for safety, uncomment to use\n",
    "\n",
    "#%run delete_all.py"
   ]
  }
 ],
 "metadata": {
  "kernelspec": {
   "display_name": "base",
   "language": "python",
   "name": "python3"
  },
  "language_info": {
   "codemirror_mode": {
    "name": "ipython",
    "version": 3
   },
   "file_extension": ".py",
   "mimetype": "text/x-python",
   "name": "python",
   "nbconvert_exporter": "python",
   "pygments_lexer": "ipython3",
   "version": "3.11.5"
  }
 },
 "nbformat": 4,
 "nbformat_minor": 2
}
