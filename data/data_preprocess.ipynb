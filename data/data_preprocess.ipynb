{
 "cells": [
  {
   "cell_type": "markdown",
   "metadata": {},
   "source": [
    "This jupyter notebook is to automate the extracting of data from zipfiles, and then populate pandas dataframes for further data processing."
   ]
  },
  {
   "cell_type": "code",
   "execution_count": 1,
   "metadata": {},
   "outputs": [
    {
     "name": "stdout",
     "output_type": "stream",
     "text": [
      "/usr/local/bin/python3\n"
     ]
    }
   ],
   "source": [
    "# Print current Python executable for the active kernel\n",
    "import sys\n",
    "print(sys.executable)"
   ]
  },
  {
   "cell_type": "code",
   "execution_count": 2,
   "metadata": {},
   "outputs": [
    {
     "name": "stdout",
     "output_type": "stream",
     "text": [
      "Processing '2022q1_nport.zip'...\n",
      "Extracted '2022q1_nport.zip' to '/Users/ritawu/Desktop/BTTAI/PIMCO-Text2SQL/data/2022q1_nport'\n",
      "Processing '2020q2_nport.zip'...\n",
      "Extracted '2020q2_nport.zip' to '/Users/ritawu/Desktop/BTTAI/PIMCO-Text2SQL/data/2020q2_nport'\n",
      "Processing '2020q4_nport.zip'...\n",
      "Extracted '2020q4_nport.zip' to '/Users/ritawu/Desktop/BTTAI/PIMCO-Text2SQL/data/2020q4_nport'\n",
      "Processing '2023q3_nport.zip'...\n",
      "Extracted '2023q3_nport.zip' to '/Users/ritawu/Desktop/BTTAI/PIMCO-Text2SQL/data/2023q3_nport'\n",
      "Processing '2020q3_nport.zip'...\n",
      "Extracted '2020q3_nport.zip' to '/Users/ritawu/Desktop/BTTAI/PIMCO-Text2SQL/data/2020q3_nport'\n",
      "Processing '2024q1_nport.zip'...\n",
      "Extracted '2024q1_nport.zip' to '/Users/ritawu/Desktop/BTTAI/PIMCO-Text2SQL/data/2024q1_nport'\n",
      "Processing '2023q4_nport.zip'...\n",
      "Extracted '2023q4_nport.zip' to '/Users/ritawu/Desktop/BTTAI/PIMCO-Text2SQL/data/2023q4_nport'\n",
      "Processing '2023q2_nport.zip'...\n",
      "Extracted '2023q2_nport.zip' to '/Users/ritawu/Desktop/BTTAI/PIMCO-Text2SQL/data/2023q2_nport'\n",
      "Processing '2021q1_nport.zip'...\n",
      "Extracted '2021q1_nport.zip' to '/Users/ritawu/Desktop/BTTAI/PIMCO-Text2SQL/data/2021q1_nport'\n",
      "Processing '2024q2_nport.zip'...\n",
      "Extracted '2024q2_nport.zip' to '/Users/ritawu/Desktop/BTTAI/PIMCO-Text2SQL/data/2024q2_nport'\n",
      "Processing '2022q3_nport.zip'...\n",
      "Extracted '2022q3_nport.zip' to '/Users/ritawu/Desktop/BTTAI/PIMCO-Text2SQL/data/2022q3_nport'\n",
      "Processing '2021q4_nport.zip'...\n",
      "Extracted '2021q4_nport.zip' to '/Users/ritawu/Desktop/BTTAI/PIMCO-Text2SQL/data/2021q4_nport'\n",
      "Processing '2021q2_nport.zip'...\n",
      "Extracted '2021q2_nport.zip' to '/Users/ritawu/Desktop/BTTAI/PIMCO-Text2SQL/data/2021q2_nport'\n",
      "Processing '2023q1_nport.zip'...\n",
      "Extracted '2023q1_nport.zip' to '/Users/ritawu/Desktop/BTTAI/PIMCO-Text2SQL/data/2023q1_nport'\n",
      "Processing '2020q1_nport.zip'...\n",
      "Extracted '2020q1_nport.zip' to '/Users/ritawu/Desktop/BTTAI/PIMCO-Text2SQL/data/2020q1_nport'\n",
      "Processing '2024q3_nport.zip'...\n",
      "Extracted '2024q3_nport.zip' to '/Users/ritawu/Desktop/BTTAI/PIMCO-Text2SQL/data/2024q3_nport'\n",
      "Processing '2022q2_nport.zip'...\n",
      "Extracted '2022q2_nport.zip' to '/Users/ritawu/Desktop/BTTAI/PIMCO-Text2SQL/data/2022q2_nport'\n",
      "Processing '2022q4_nport.zip'...\n",
      "Extracted '2022q4_nport.zip' to '/Users/ritawu/Desktop/BTTAI/PIMCO-Text2SQL/data/2022q4_nport'\n",
      "Processing '2021q3_nport.zip'...\n",
      "Extracted '2021q3_nport.zip' to '/Users/ritawu/Desktop/BTTAI/PIMCO-Text2SQL/data/2021q3_nport'\n",
      "Processing '2019q4_nport.zip'...\n",
      "Extracted '2019q4_nport.zip' to '/Users/ritawu/Desktop/BTTAI/PIMCO-Text2SQL/data/2019q4_nport'\n"
     ]
    }
   ],
   "source": [
    "# extract_data_zips.py extracts .tsv files and store them in different folders for each quarter's zip file \n",
    "# if data zip has been extracted before, it will indicate that the folder already exists and skip to next zip\n",
    "# you can safely run this cell without worrying about duplicate data folders\n",
    "%run extract_data_zips.py"
   ]
  },
  {
   "cell_type": "code",
   "execution_count": 3,
   "metadata": {},
   "outputs": [
    {
     "ename": "ModuleNotFoundError",
     "evalue": "No module named 'pandas'",
     "output_type": "error",
     "traceback": [
      "\u001b[0;31m---------------------------------------------------------------------------\u001b[0m",
      "\u001b[0;31mModuleNotFoundError\u001b[0m                       Traceback (most recent call last)",
      "File \u001b[0;32m~/Desktop/BTTAI/PIMCO-Text2SQL/data/concat_quarterly_tables.py:2\u001b[0m\n\u001b[1;32m      1\u001b[0m \u001b[38;5;28;01mimport\u001b[39;00m \u001b[38;5;21;01mos\u001b[39;00m\n\u001b[0;32m----> 2\u001b[0m \u001b[38;5;28;01mimport\u001b[39;00m \u001b[38;5;21;01mpandas\u001b[39;00m \u001b[38;5;28;01mas\u001b[39;00m \u001b[38;5;21;01mpd\u001b[39;00m\n\u001b[1;32m      4\u001b[0m \u001b[38;5;66;03m# Path to the directory containing quarterly folders\u001b[39;00m\n\u001b[1;32m      5\u001b[0m directory_path \u001b[38;5;241m=\u001b[39m os\u001b[38;5;241m.\u001b[39mgetcwd()\n",
      "\u001b[0;31mModuleNotFoundError\u001b[0m: No module named 'pandas'"
     ]
    }
   ],
   "source": [
    "# concat_quarterly_tables.py concatenates the table from all quarters for every table into a pandas dataframe and saves it as [table_name].tsv \n",
    "# if a table has been saved before, it will indicate that the file already exists and skips to next table\n",
    "# you can safely run this cell without worrying about duplicate tables\n",
    "%run concat_quarterly_tables.py\n",
    "# this will likely take quite long (~15 minutes)\n",
    "# alternatively, if you only want one table, use the cell below"
   ]
  },
  {
   "cell_type": "code",
   "execution_count": 4,
   "metadata": {},
   "outputs": [],
   "source": [
    "#below cell deletes all tsv files in the data/ folder and not any subfolders \n",
    "#i.e. delete all output tsv from concat_quarterly_tables.py\n",
    "#commented out for safety, uncomment to use\n",
    "\n",
    "#%run delete_all.py"
   ]
  }
 ],
 "metadata": {
  "kernelspec": {
   "display_name": "Python 3",
   "language": "python",
   "name": "python3"
  },
  "language_info": {
   "codemirror_mode": {
    "name": "ipython",
    "version": 3
   },
   "file_extension": ".py",
   "mimetype": "text/x-python",
   "name": "python",
   "nbconvert_exporter": "python",
   "pygments_lexer": "ipython3",
   "version": "3.12.3"
  }
 },
 "nbformat": 4,
 "nbformat_minor": 2
}
