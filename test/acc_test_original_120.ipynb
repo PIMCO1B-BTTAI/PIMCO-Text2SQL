{
 "cells": [
  {
   "cell_type": "code",
   "execution_count": 1,
   "metadata": {},
   "outputs": [
    {
     "name": "stdout",
     "output_type": "stream",
     "text": [
      "d:\\GithubRepos\\PIMCO-Text2SQL\\test\n"
     ]
    }
   ],
   "source": [
    "import os\n",
    "print(os.getcwd())"
   ]
  },
  {
   "cell_type": "code",
   "execution_count": 2,
   "metadata": {},
   "outputs": [
    {
     "name": "stderr",
     "output_type": "stream",
     "text": [
      "c:\\Users\\User\\anaconda3\\Lib\\site-packages\\pandas\\core\\arrays\\masked.py:60: UserWarning: Pandas requires version '1.3.6' or newer of 'bottleneck' (version '1.3.5' currently installed).\n",
      "  from pandas.core import (\n",
      "DEBUG:httpx:load_ssl_context verify=True cert=None trust_env=True http2=False\n",
      "DEBUG:httpx:load_verify_locations cafile='C:\\\\Users\\\\User\\\\anaconda3\\\\Library\\\\ssl\\\\cacert.pem'\n",
      "INFO:chatgpt_api.api:OpenAI API key loaded successfully\n",
      "DEBUG:chatgpt_api.api:Attempting to load schema from chatgpt_api/schema.json\n",
      "INFO:chatgpt_api.api:Schema loaded successfully\n"
     ]
    },
    {
     "name": "stdout",
     "output_type": "stream",
     "text": [
      "Expected schema path: chatgpt_api/schema.json\n"
     ]
    },
    {
     "name": "stderr",
     "output_type": "stream",
     "text": [
      "[nltk_data] Downloading package punkt to\n",
      "[nltk_data]     C:\\Users\\User\\AppData\\Roaming\\nltk_data...\n",
      "[nltk_data]   Package punkt is already up-to-date!\n",
      "[nltk_data] Downloading package wordnet to\n",
      "[nltk_data]     C:\\Users\\User\\AppData\\Roaming\\nltk_data...\n",
      "[nltk_data]   Package wordnet is already up-to-date!\n",
      "[nltk_data] Downloading package stopwords to\n",
      "[nltk_data]     C:\\Users\\User\\AppData\\Roaming\\nltk_data...\n",
      "[nltk_data]   Package stopwords is already up-to-date!\n"
     ]
    }
   ],
   "source": [
    "import sys\n",
    "import os\n",
    "\n",
    "import re\n",
    "import compare_csv"
   ]
  },
  {
   "cell_type": "code",
   "execution_count": 3,
   "metadata": {},
   "outputs": [],
   "source": [
    "import csv\n",
    "import json\n",
    "\n",
    "# Load data from query_summary.csv\n",
    "def load_queries(input_file):\n",
    "    llm_query = []\n",
    "    ground_truth_query = []\n",
    "    with open(input_file, 'r', newline='', encoding='utf-8') as csvfile:\n",
    "        reader = csv.DictReader(csvfile)\n",
    "        for row in reader:\n",
    "            llm_query.append(row[\"Question\"])\n",
    "            ground_truth_query.append(row[\"SQL\"])\n",
    "    return llm_query, ground_truth_query\n",
    "\n",
    "# Save arrays to file\n",
    "def save_queries_to_file(file_path, llm_query, ground_truth_query):\n",
    "    with open(file_path, 'w', encoding='utf-8') as file:\n",
    "        json.dump({\"llm_query\": llm_query, \"ground_truth_query\": ground_truth_query}, file)\n",
    "\n",
    "# Load arrays from file\n",
    "def load_queries_from_file(file_path):\n",
    "    with open(file_path, 'r', encoding='utf-8') as file:\n",
    "        data = json.load(file)\n",
    "        return data[\"llm_query\"], data[\"ground_truth_query\"]\n",
    "\n",
    "# Write comparison results to output file\n",
    "def write_to_output(file_path, ground_truth, llm, result):\n",
    "    with open(file_path, 'a', newline='', encoding='utf-8') as csvfile:\n",
    "        writer = csv.writer(csvfile)\n",
    "        writer.writerow([ground_truth, llm, result])\n",
    "\n",
    "# Main script logic\n",
    "def process_queries(input_file, temp_file, output_file):\n",
    "    # If temp file doesn't exist, load queries from CSV\n",
    "    try:\n",
    "        llm_query, ground_truth_query = load_queries_from_file(temp_file)\n",
    "    except FileNotFoundError:\n",
    "        llm_query, ground_truth_query = load_queries(input_file)\n",
    "        save_queries_to_file(temp_file, llm_query, ground_truth_query)\n",
    "\n",
    "    # Prepare output file with a header if starting fresh\n",
    "    if not os.path.exists(output_file):\n",
    "        with open(output_file, 'w', newline='', encoding='utf-8') as csvfile:\n",
    "            writer = csv.writer(csvfile)\n",
    "            writer.writerow([\"Ground_Truth_Query\", \"LLM_Query\", \"Comparison_Result\"])\n",
    "\n",
    "    # Process queries\n",
    "    while llm_query and ground_truth_query:\n",
    "        gt_query = ground_truth_query.pop(0)\n",
    "        llm_query_item = llm_query.pop(0)\n",
    "\n",
    "        # Compare queries and write results\n",
    "        try:\n",
    "            result = compare_csv.compare_csv(gt_query, llm_query_item)\n",
    "            write_to_output(output_file, gt_query, llm_query_item, result)\n",
    "        except Exception as e:\n",
    "            print(f\"Error comparing queries: {e}\")\n",
    "            write_to_output(output_file, gt_query, llm_query_item, \"Error\")\n",
    "\n",
    "        # Save the remaining queries back to the temp file\n",
    "        save_queries_to_file(temp_file, llm_query, ground_truth_query)\n"
   ]
  },
  {
   "cell_type": "code",
   "execution_count": 4,
   "metadata": {},
   "outputs": [
    {
     "name": "stderr",
     "output_type": "stream",
     "text": [
      "INFO:compare_csv:Executing LLM query\n",
      "DEBUG:urllib3.connectionpool:Starting new HTTP connection (1): localhost:8000\n",
      "DEBUG:urllib3.connectionpool:http://localhost:8000 \"POST /query HTTP/11\" 200 414\n",
      "INFO:compare_csv:Executing grouth truth query...\n",
      "DEBUG:chatgpt_api.api:Executing SQL query: SELECT \n",
      "    SERIES_NAME,\n",
      "    TOTAL_ASSETS \n",
      "FROM \n",
      "    FUND_REPORTED_INFO \n",
      "ORDER BY \n",
      "    CAST(TOTAL_ASSETS AS FLOAT) DESC \n",
      "LIMIT 5;\n",
      "INFO:chatgpt_api.api:SQL query executed successfully\n",
      "INFO:compare_csv:Executing LLM query\n",
      "DEBUG:urllib3.connectionpool:Starting new HTTP connection (1): localhost:8000\n"
     ]
    },
    {
     "name": "stdout",
     "output_type": "stream",
     "text": [
      "CSV outputs match perfectly.\n"
     ]
    },
    {
     "name": "stderr",
     "output_type": "stream",
     "text": [
      "DEBUG:urllib3.connectionpool:http://localhost:8000 \"POST /query HTTP/11\" 200 1162\n",
      "INFO:compare_csv:Executing grouth truth query...\n",
      "DEBUG:chatgpt_api.api:Executing SQL query: WITH FundSizes AS (\n",
      "    SELECT \n",
      "        SERIES_NAME,\n",
      "        CAST(TOTAL_ASSETS AS FLOAT) as Total_Assets,\n",
      "        CAST(NET_ASSETS AS FLOAT) as Net_Assets\n",
      "    FROM \n",
      "        FUND_REPORTED_INFO\n",
      "    WHERE \n",
      "        TOTAL_ASSETS IS NOT NULL\n",
      ")\n",
      "SELECT \n",
      "    SERIES_NAME,\n",
      "    ROUND(Total_Assets / 1000000, 2) as Total_Assets_Millions,\n",
      "    ROUND(Net_Assets / 1000000, 2) as Net_Assets_Millions\n",
      "FROM \n",
      "    FundSizes\n",
      "ORDER BY \n",
      "    Total_Assets DESC\n",
      "LIMIT 20;\n",
      "INFO:chatgpt_api.api:SQL query executed successfully\n",
      "INFO:compare_csv:Executing LLM query\n",
      "DEBUG:urllib3.connectionpool:Starting new HTTP connection (1): localhost:8000\n"
     ]
    },
    {
     "name": "stdout",
     "output_type": "stream",
     "text": [
      "Mismatch found.\n"
     ]
    },
    {
     "name": "stderr",
     "output_type": "stream",
     "text": [
      "DEBUG:urllib3.connectionpool:http://localhost:8000 \"POST /query HTTP/11\" 200 54384\n",
      "INFO:compare_csv:Executing grouth truth query...\n",
      "DEBUG:chatgpt_api.api:Executing SQL query: SELECT \n",
      "    SERIES_NAME,\n",
      "    NET_ASSETS \n",
      "FROM \n",
      "    FUND_REPORTED_INFO \n",
      "WHERE \n",
      "    CAST(NET_ASSETS AS FLOAT) > 1000000000;\n",
      "INFO:chatgpt_api.api:SQL query executed successfully\n",
      "INFO:compare_csv:Executing LLM query\n",
      "DEBUG:urllib3.connectionpool:Starting new HTTP connection (1): localhost:8000\n"
     ]
    },
    {
     "name": "stdout",
     "output_type": "stream",
     "text": [
      "CSV outputs match perfectly.\n"
     ]
    },
    {
     "name": "stderr",
     "output_type": "stream",
     "text": [
      "DEBUG:urllib3.connectionpool:http://localhost:8000 \"POST /query HTTP/11\" 200 27079\n",
      "INFO:compare_csv:Executing grouth truth query...\n",
      "DEBUG:chatgpt_api.api:Executing SQL query: SELECT \n",
      "    REGISTRANT_NAME,\n",
      "    COUNT(F.SERIES_NAME) as Fund_Count\n",
      "FROM \n",
      "    REGISTRANT R\n",
      "    JOIN FUND_REPORTED_INFO F \n",
      "        ON R.ACCESSION_NUMBER = F.ACCESSION_NUMBER\n",
      "GROUP BY \n",
      "    REGISTRANT_NAME;\n",
      "INFO:chatgpt_api.api:SQL query executed successfully\n",
      "INFO:compare_csv:Executing LLM query\n",
      "DEBUG:urllib3.connectionpool:Starting new HTTP connection (1): localhost:8000\n"
     ]
    },
    {
     "name": "stdout",
     "output_type": "stream",
     "text": [
      "CSV outputs match perfectly.\n"
     ]
    },
    {
     "name": "stderr",
     "output_type": "stream",
     "text": [
      "DEBUG:urllib3.connectionpool:http://localhost:8000 \"POST /query HTTP/11\" 200 277\n",
      "INFO:compare_csv:Executing grouth truth query...\n",
      "DEBUG:chatgpt_api.api:Executing SQL query: SELECT \n",
      "    SUM(CAST(TOTAL_ASSETS AS FLOAT)) as Total_BlackRock_Assets\n",
      "FROM \n",
      "    FUND_REPORTED_INFO F\n",
      "    JOIN REGISTRANT R \n",
      "        ON F.ACCESSION_NUMBER = R.ACCESSION_NUMBER\n",
      "WHERE \n",
      "    R.REGISTRANT_NAME LIKE '%BLACKROCK%';\n",
      "INFO:chatgpt_api.api:SQL query executed successfully\n",
      "INFO:compare_csv:Executing LLM query\n",
      "DEBUG:urllib3.connectionpool:Starting new HTTP connection (1): localhost:8000\n"
     ]
    },
    {
     "name": "stdout",
     "output_type": "stream",
     "text": [
      "CSV outputs match perfectly.\n"
     ]
    },
    {
     "name": "stderr",
     "output_type": "stream",
     "text": [
      "DEBUG:urllib3.connectionpool:http://localhost:8000 \"POST /query HTTP/11\" 200 185704\n",
      "INFO:compare_csv:Executing grouth truth query...\n",
      "DEBUG:chatgpt_api.api:Executing SQL query: SELECT \n",
      "    R.REGISTRANT_NAME,\n",
      "    F.SERIES_NAME\n",
      "FROM \n",
      "    REGISTRANT R\n",
      "    JOIN FUND_REPORTED_INFO F \n",
      "        ON R.ACCESSION_NUMBER = F.ACCESSION_NUMBER;\n",
      "INFO:chatgpt_api.api:SQL query executed successfully\n",
      "INFO:compare_csv:Executing LLM query\n",
      "DEBUG:urllib3.connectionpool:Starting new HTTP connection (1): localhost:8000\n"
     ]
    },
    {
     "name": "stdout",
     "output_type": "stream",
     "text": [
      "CSV outputs match perfectly.\n"
     ]
    },
    {
     "name": "stderr",
     "output_type": "stream",
     "text": [
      "DEBUG:urllib3.connectionpool:http://localhost:8000 \"POST /query HTTP/11\" 200 733\n",
      "INFO:compare_csv:Executing grouth truth query...\n",
      "DEBUG:chatgpt_api.api:Executing SQL query: SELECT \n",
      "    SERIES_NAME,\n",
      "    TOTAL_LIABILITIES \n",
      "FROM \n",
      "    FUND_REPORTED_INFO \n",
      "ORDER BY \n",
      "    CAST(TOTAL_LIABILITIES AS FLOAT) DESC \n",
      "LIMIT 10;\n",
      "INFO:chatgpt_api.api:SQL query executed successfully\n",
      "INFO:compare_csv:Executing LLM query\n",
      "DEBUG:urllib3.connectionpool:Starting new HTTP connection (1): localhost:8000\n"
     ]
    },
    {
     "name": "stdout",
     "output_type": "stream",
     "text": [
      "CSV outputs match perfectly.\n"
     ]
    },
    {
     "name": "stderr",
     "output_type": "stream",
     "text": [
      "DEBUG:urllib3.connectionpool:http://localhost:8000 \"POST /query HTTP/11\" 200 669\n",
      "INFO:compare_csv:Executing grouth truth query...\n",
      "DEBUG:chatgpt_api.api:Executing SQL query: WITH AssetTotals AS (\n",
      "    SELECT \n",
      "        ASSET_CAT,\n",
      "        COUNT(*) as Holdings_Count,\n",
      "        SUM(CAST(CURRENCY_VALUE AS FLOAT)) as Total_Value\n",
      "    FROM \n",
      "        FUND_REPORTED_HOLDING\n",
      "    WHERE \n",
      "        ASSET_CAT IS NOT NULL\n",
      "    GROUP BY \n",
      "        ASSET_CAT\n",
      ")\n",
      "SELECT \n",
      "    ASSET_CAT,\n",
      "    Holdings_Count,\n",
      "    ROUND(Total_Value / 1000000, 2) as Value_Millions\n",
      "FROM \n",
      "    AssetTotals\n",
      "ORDER BY \n",
      "    Total_Value DESC;\n",
      "INFO:chatgpt_api.api:SQL query executed successfully\n",
      "INFO:compare_csv:Executing LLM query\n",
      "DEBUG:urllib3.connectionpool:Starting new HTTP connection (1): localhost:8000\n"
     ]
    },
    {
     "name": "stdout",
     "output_type": "stream",
     "text": [
      "Mismatch found.\n"
     ]
    },
    {
     "name": "stderr",
     "output_type": "stream",
     "text": [
      "DEBUG:urllib3.connectionpool:http://localhost:8000 \"POST /query HTTP/11\" 200 140146\n",
      "INFO:compare_csv:Executing grouth truth query...\n",
      "DEBUG:chatgpt_api.api:Executing SQL query: SELECT \n",
      "    F.SERIES_NAME,\n",
      "    MAX(S.FILING_DATE) as Latest_Filing\n",
      "FROM \n",
      "    FUND_REPORTED_INFO F\n",
      "    JOIN SUBMISSION S \n",
      "        ON F.ACCESSION_NUMBER = S.ACCESSION_NUMBER\n",
      "GROUP BY \n",
      "    F.SERIES_NAME;\n",
      "INFO:chatgpt_api.api:SQL query executed successfully\n",
      "INFO:compare_csv:Executing LLM query\n",
      "DEBUG:urllib3.connectionpool:Starting new HTTP connection (1): localhost:8000\n"
     ]
    },
    {
     "name": "stdout",
     "output_type": "stream",
     "text": [
      "CSV outputs match perfectly.\n"
     ]
    },
    {
     "name": "stderr",
     "output_type": "stream",
     "text": [
      "DEBUG:urllib3.connectionpool:http://localhost:8000 \"POST /query HTTP/11\" 200 995\n",
      "INFO:compare_csv:Executing grouth truth query...\n",
      "DEBUG:chatgpt_api.api:Executing SQL query: SELECT \n",
      "    SERIES_NAME,\n",
      "    ROUND(CAST(TOTAL_ASSETS AS FLOAT) / 1000000, 2) as Assets_Millions\n",
      "FROM \n",
      "    FUND_REPORTED_INFO\n",
      "WHERE \n",
      "    SERIES_NAME LIKE '%BOND%'\n",
      "ORDER BY \n",
      "    Assets_Millions DESC\n",
      "LIMIT 15;\n",
      "INFO:chatgpt_api.api:SQL query executed successfully\n",
      "INFO:compare_csv:Executing LLM query\n",
      "DEBUG:urllib3.connectionpool:Starting new HTTP connection (1): localhost:8000\n"
     ]
    },
    {
     "name": "stdout",
     "output_type": "stream",
     "text": [
      "CSV outputs match perfectly.\n"
     ]
    },
    {
     "name": "stderr",
     "output_type": "stream",
     "text": [
      "DEBUG:urllib3.connectionpool:http://localhost:8000 \"POST /query HTTP/11\" 200 3011\n",
      "INFO:compare_csv:Executing grouth truth query...\n",
      "DEBUG:chatgpt_api.api:Executing SQL query: SELECT \n",
      "    REGISTRANT_NAME,\n",
      "    PHONE \n",
      "FROM \n",
      "    REGISTRANT \n",
      "WHERE \n",
      "    REGISTRANT_NAME LIKE '%VANGUARD%';\n",
      "INFO:chatgpt_api.api:SQL query executed successfully\n",
      "INFO:compare_csv:Executing LLM query\n",
      "DEBUG:urllib3.connectionpool:Starting new HTTP connection (1): localhost:8000\n"
     ]
    },
    {
     "name": "stdout",
     "output_type": "stream",
     "text": [
      "CSV outputs match perfectly.\n"
     ]
    },
    {
     "name": "stderr",
     "output_type": "stream",
     "text": [
      "DEBUG:urllib3.connectionpool:http://localhost:8000 \"POST /query HTTP/11\" 200 40639\n",
      "INFO:compare_csv:Executing grouth truth query...\n",
      "DEBUG:chatgpt_api.api:Executing SQL query: SELECT \n",
      "    SERIES_NAME,\n",
      "    TOTAL_ASSETS \n",
      "FROM \n",
      "    FUND_REPORTED_INFO \n",
      "WHERE \n",
      "    CAST(TOTAL_ASSETS AS FLOAT) BETWEEN 100000000 AND 500000000;\n",
      "INFO:chatgpt_api.api:SQL query executed successfully\n",
      "INFO:compare_csv:Executing LLM query\n",
      "DEBUG:urllib3.connectionpool:Starting new HTTP connection (1): localhost:8000\n"
     ]
    },
    {
     "name": "stdout",
     "output_type": "stream",
     "text": [
      "CSV outputs match perfectly.\n"
     ]
    },
    {
     "name": "stderr",
     "output_type": "stream",
     "text": [
      "DEBUG:urllib3.connectionpool:http://localhost:8000 \"POST /query HTTP/11\" 200 112030\n",
      "INFO:compare_csv:Executing grouth truth query...\n",
      "DEBUG:chatgpt_api.api:Executing SQL query: SELECT \n",
      "    REGISTRANT_NAME,\n",
      "    CITY,\n",
      "    STATE \n",
      "FROM \n",
      "    REGISTRANT \n",
      "ORDER BY \n",
      "    STATE,\n",
      "    CITY;\n",
      "INFO:chatgpt_api.api:SQL query executed successfully\n",
      "INFO:compare_csv:Executing LLM query\n",
      "DEBUG:urllib3.connectionpool:Starting new HTTP connection (1): localhost:8000\n"
     ]
    },
    {
     "name": "stdout",
     "output_type": "stream",
     "text": [
      "Mismatch found.\n"
     ]
    },
    {
     "name": "stderr",
     "output_type": "stream",
     "text": [
      "DEBUG:urllib3.connectionpool:http://localhost:8000 \"POST /query HTTP/11\" 200 34442\n",
      "INFO:compare_csv:Executing grouth truth query...\n",
      "DEBUG:chatgpt_api.api:Executing SQL query: SELECT \n",
      "    R.REGISTRANT_NAME,\n",
      "    MIN(S.FILING_DATE) as First_Filing\n",
      "FROM \n",
      "    REGISTRANT R\n",
      "    JOIN SUBMISSION S \n",
      "        ON R.ACCESSION_NUMBER = S.ACCESSION_NUMBER\n",
      "GROUP BY \n",
      "    R.REGISTRANT_NAME;\n",
      "INFO:chatgpt_api.api:SQL query executed successfully\n",
      "INFO:compare_csv:Executing LLM query\n",
      "DEBUG:urllib3.connectionpool:Starting new HTTP connection (1): localhost:8000\n"
     ]
    },
    {
     "name": "stdout",
     "output_type": "stream",
     "text": [
      "CSV outputs match perfectly.\n"
     ]
    },
    {
     "name": "stderr",
     "output_type": "stream",
     "text": [
      "DEBUG:urllib3.connectionpool:http://localhost:8000 \"POST /query HTTP/11\" 200 782\n",
      "INFO:compare_csv:Executing grouth truth query...\n",
      "DEBUG:chatgpt_api.api:Executing SQL query: SELECT \n",
      "    SERIES_NAME \n",
      "FROM \n",
      "    FUND_REPORTED_INFO \n",
      "WHERE \n",
      "    TOTAL_ASSETS = NET_ASSETS;\n",
      "INFO:chatgpt_api.api:SQL query executed successfully\n",
      "INFO:compare_csv:Executing LLM query\n",
      "DEBUG:urllib3.connectionpool:Starting new HTTP connection (1): localhost:8000\n"
     ]
    },
    {
     "name": "stdout",
     "output_type": "stream",
     "text": [
      "CSV outputs match perfectly.\n"
     ]
    },
    {
     "name": "stderr",
     "output_type": "stream",
     "text": [
      "DEBUG:urllib3.connectionpool:http://localhost:8000 \"POST /query HTTP/11\" 200 20737\n",
      "INFO:compare_csv:Executing grouth truth query...\n",
      "DEBUG:chatgpt_api.api:Executing SQL query: SELECT \n",
      "    SERIES_NAME,\n",
      "    TOTAL_ASSETS \n",
      "FROM \n",
      "    FUND_REPORTED_INFO \n",
      "WHERE \n",
      "    SERIES_NAME LIKE '%INCOME%';\n",
      "INFO:chatgpt_api.api:SQL query executed successfully\n",
      "INFO:compare_csv:Executing LLM query\n",
      "DEBUG:urllib3.connectionpool:Starting new HTTP connection (1): localhost:8000\n"
     ]
    },
    {
     "name": "stdout",
     "output_type": "stream",
     "text": [
      "CSV outputs match perfectly.\n"
     ]
    },
    {
     "name": "stderr",
     "output_type": "stream",
     "text": [
      "DEBUG:urllib3.connectionpool:http://localhost:8000 \"POST /query HTTP/11\" 200 1021\n",
      "INFO:compare_csv:Executing grouth truth query...\n",
      "DEBUG:chatgpt_api.api:Executing SQL query: WITH FundSizeBuckets AS (\n",
      "    SELECT \n",
      "        SERIES_NAME,\n",
      "        CAST(NET_ASSETS AS FLOAT) as Net_Assets,\n",
      "        CASE \n",
      "            WHEN CAST(NET_ASSETS AS FLOAT) >= 10000000000 THEN 'Very Large (>10B)'\n",
      "            WHEN CAST(NET_ASSETS AS FLOAT) >= 1000000000 THEN 'Large (1B-10B)'\n",
      "            WHEN CAST(NET_ASSETS AS FLOAT) >= 100000000 THEN 'Medium (100M-1B)'\n",
      "            ELSE 'Small (<100M)'\n",
      "        END as Size_Category\n",
      "    FROM \n",
      "        FUND_REPORTED_INFO\n",
      "    WHERE \n",
      "        NET_ASSETS IS NOT NULL\n",
      ")\n",
      "SELECT \n",
      "    Size_Category,\n",
      "    COUNT(*) as Number_of_Funds,\n",
      "    ROUND(AVG(Net_Assets) / 1000000, 2) as Avg_Net_Assets_Millions,\n",
      "    ROUND(MIN(Net_Assets) / 1000000, 2) as Min_Net_Assets_Millions,\n",
      "    ROUND(MAX(Net_Assets) / 1000000, 2) as Max_Net_Assets_Millions\n",
      "FROM \n",
      "    FundSizeBuckets\n",
      "GROUP BY \n",
      "    Size_Category\n",
      "ORDER BY \n",
      "    MIN(Net_Assets);\n",
      "INFO:chatgpt_api.api:SQL query executed successfully\n",
      "INFO:compare_csv:Executing LLM query\n",
      "DEBUG:urllib3.connectionpool:Starting new HTTP connection (1): localhost:8000\n"
     ]
    },
    {
     "name": "stdout",
     "output_type": "stream",
     "text": [
      "CSV outputs match perfectly.\n"
     ]
    },
    {
     "name": "stderr",
     "output_type": "stream",
     "text": [
      "DEBUG:urllib3.connectionpool:http://localhost:8000 \"POST /query HTTP/11\" 200 546\n",
      "INFO:compare_csv:Executing grouth truth query...\n",
      "DEBUG:chatgpt_api.api:Executing SQL query: SELECT \n",
      "    SERIES_NAME,\n",
      "    CAST(TOTAL_LIABILITIES AS FLOAT) / CAST(TOTAL_ASSETS AS FLOAT) as Liability_Ratio\n",
      "FROM \n",
      "    FUND_REPORTED_INFO\n",
      "WHERE \n",
      "    TOTAL_ASSETS != '0'\n",
      "ORDER BY \n",
      "    Liability_Ratio DESC\n",
      "LIMIT 5;\n",
      "INFO:chatgpt_api.api:SQL query executed successfully\n",
      "INFO:compare_csv:Executing LLM query\n",
      "DEBUG:urllib3.connectionpool:Starting new HTTP connection (1): localhost:8000\n"
     ]
    },
    {
     "name": "stdout",
     "output_type": "stream",
     "text": [
      "CSV outputs match perfectly.\n"
     ]
    },
    {
     "name": "stderr",
     "output_type": "stream",
     "text": [
      "DEBUG:urllib3.connectionpool:http://localhost:8000 \"POST /query HTTP/11\" 200 37811\n",
      "INFO:compare_csv:Executing grouth truth query...\n",
      "DEBUG:chatgpt_api.api:Executing SQL query: SELECT \n",
      "    R.REGISTRANT_NAME,\n",
      "    COUNT(F.SERIES_NAME) as Fund_Count,\n",
      "    SUM(CAST(F.TOTAL_ASSETS AS FLOAT)) as Total_Assets\n",
      "FROM \n",
      "    REGISTRANT R\n",
      "    JOIN FUND_REPORTED_INFO F \n",
      "        ON R.ACCESSION_NUMBER = F.ACCESSION_NUMBER\n",
      "GROUP BY \n",
      "    R.REGISTRANT_NAME;\n",
      "INFO:chatgpt_api.api:SQL query executed successfully\n",
      "INFO:compare_csv:Executing LLM query\n",
      "DEBUG:urllib3.connectionpool:Starting new HTTP connection (1): localhost:8000\n"
     ]
    },
    {
     "name": "stdout",
     "output_type": "stream",
     "text": [
      "CSV outputs match perfectly.\n"
     ]
    },
    {
     "name": "stderr",
     "output_type": "stream",
     "text": [
      "DEBUG:urllib3.connectionpool:http://localhost:8000 \"POST /query HTTP/11\" 200 12467\n",
      "INFO:compare_csv:Executing grouth truth query...\n",
      "DEBUG:chatgpt_api.api:Executing SQL query: SELECT \n",
      "    SERIES_NAME,\n",
      "    TOTAL_ASSETS \n",
      "FROM \n",
      "    FUND_REPORTED_INFO \n",
      "WHERE \n",
      "    SERIES_NAME LIKE '%GROWTH%';\n",
      "INFO:chatgpt_api.api:SQL query executed successfully\n",
      "INFO:compare_csv:Executing LLM query\n",
      "DEBUG:urllib3.connectionpool:Starting new HTTP connection (1): localhost:8000\n"
     ]
    },
    {
     "name": "stdout",
     "output_type": "stream",
     "text": [
      "CSV outputs match perfectly.\n"
     ]
    },
    {
     "name": "stderr",
     "output_type": "stream",
     "text": [
      "DEBUG:urllib3.connectionpool:http://localhost:8000 \"POST /query HTTP/11\" 200 145983\n",
      "INFO:compare_csv:Executing grouth truth query...\n",
      "DEBUG:chatgpt_api.api:Executing SQL query: WITH LargeFunds AS (\n",
      "    SELECT \n",
      "        SERIES_NAME,\n",
      "        CAST(TOTAL_ASSETS AS FLOAT) / 1000000 as Assets_Millions\n",
      "    FROM \n",
      "        FUND_REPORTED_INFO\n",
      "    WHERE \n",
      "        TOTAL_ASSETS >= 1000000000\n",
      ")\n",
      "SELECT * FROM LargeFunds\n",
      "ORDER BY Assets_Millions DESC\n",
      "LIMIT 15;\n",
      "INFO:chatgpt_api.api:SQL query executed successfully\n",
      "INFO:compare_csv:Executing LLM query\n",
      "DEBUG:urllib3.connectionpool:Starting new HTTP connection (1): localhost:8000\n"
     ]
    },
    {
     "name": "stdout",
     "output_type": "stream",
     "text": [
      "Mismatch found.\n"
     ]
    },
    {
     "name": "stderr",
     "output_type": "stream",
     "text": [
      "DEBUG:urllib3.connectionpool:http://localhost:8000 \"POST /query HTTP/11\" 200 670\n",
      "INFO:compare_csv:Executing grouth truth query...\n",
      "DEBUG:chatgpt_api.api:Executing SQL query: SELECT \n",
      "    SERIES_NAME,\n",
      "    NET_ASSETS \n",
      "FROM \n",
      "    FUND_REPORTED_INFO \n",
      "ORDER BY \n",
      "    CAST(NET_ASSETS AS FLOAT) DESC \n",
      "LIMIT 10;\n",
      "INFO:chatgpt_api.api:SQL query executed successfully\n",
      "INFO:compare_csv:Executing LLM query\n",
      "DEBUG:urllib3.connectionpool:Starting new HTTP connection (1): localhost:8000\n"
     ]
    },
    {
     "name": "stdout",
     "output_type": "stream",
     "text": [
      "CSV outputs match perfectly.\n"
     ]
    },
    {
     "name": "stderr",
     "output_type": "stream",
     "text": [
      "DEBUG:urllib3.connectionpool:http://localhost:8000 \"POST /query HTTP/11\" 200 7944\n",
      "INFO:compare_csv:Executing grouth truth query...\n",
      "DEBUG:chatgpt_api.api:Executing SQL query: SELECT \n",
      "    F.SERIES_NAME,\n",
      "    F.TOTAL_ASSETS\n",
      "FROM \n",
      "    FUND_REPORTED_INFO F\n",
      "    JOIN REGISTRANT R \n",
      "        ON F.ACCESSION_NUMBER = R.ACCESSION_NUMBER\n",
      "WHERE \n",
      "    R.REGISTRANT_NAME LIKE '%FIDELITY%';\n",
      "INFO:chatgpt_api.api:SQL query executed successfully\n",
      "INFO:compare_csv:Executing LLM query\n",
      "DEBUG:urllib3.connectionpool:Starting new HTTP connection (1): localhost:8000\n"
     ]
    },
    {
     "name": "stdout",
     "output_type": "stream",
     "text": [
      "CSV outputs match perfectly.\n"
     ]
    },
    {
     "name": "stderr",
     "output_type": "stream",
     "text": [
      "DEBUG:urllib3.connectionpool:http://localhost:8000 \"POST /query HTTP/11\" 200 809\n",
      "INFO:compare_csv:Executing grouth truth query...\n",
      "DEBUG:chatgpt_api.api:Executing SQL query: SELECT \n",
      "    SERIES_NAME \n",
      "FROM \n",
      "    FUND_REPORTED_INFO \n",
      "WHERE \n",
      "    TOTAL_LIABILITIES = '0' \n",
      "    OR TOTAL_LIABILITIES IS NULL;\n",
      "INFO:chatgpt_api.api:SQL query executed successfully\n",
      "INFO:compare_csv:Executing LLM query\n",
      "DEBUG:urllib3.connectionpool:Starting new HTTP connection (1): localhost:8000\n"
     ]
    },
    {
     "name": "stdout",
     "output_type": "stream",
     "text": [
      "CSV outputs match perfectly.\n"
     ]
    },
    {
     "name": "stderr",
     "output_type": "stream",
     "text": [
      "DEBUG:urllib3.connectionpool:http://localhost:8000 \"POST /query HTTP/11\" 200 121920\n",
      "INFO:compare_csv:Executing grouth truth query...\n",
      "DEBUG:chatgpt_api.api:Executing SQL query: SELECT \n",
      "    R.REGISTRANT_NAME,\n",
      "    F.TOTAL_ASSETS\n",
      "FROM \n",
      "    REGISTRANT R\n",
      "    JOIN FUND_REPORTED_INFO F \n",
      "        ON R.ACCESSION_NUMBER = F.ACCESSION_NUMBER;\n",
      "INFO:chatgpt_api.api:SQL query executed successfully\n",
      "INFO:compare_csv:Executing LLM query\n",
      "DEBUG:urllib3.connectionpool:Starting new HTTP connection (1): localhost:8000\n"
     ]
    },
    {
     "name": "stdout",
     "output_type": "stream",
     "text": [
      "Mismatch found.\n"
     ]
    },
    {
     "name": "stderr",
     "output_type": "stream",
     "text": [
      "DEBUG:urllib3.connectionpool:http://localhost:8000 \"POST /query HTTP/11\" 200 5927\n",
      "INFO:compare_csv:Executing grouth truth query...\n",
      "DEBUG:chatgpt_api.api:Executing SQL query: SELECT \n",
      "    SERIES_NAME,\n",
      "    TOTAL_ASSETS \n",
      "FROM \n",
      "    FUND_REPORTED_INFO \n",
      "WHERE \n",
      "    SERIES_NAME LIKE '%INTERNATIONAL%';\n",
      "INFO:chatgpt_api.api:SQL query executed successfully\n",
      "INFO:compare_csv:Executing LLM query\n",
      "DEBUG:urllib3.connectionpool:Starting new HTTP connection (1): localhost:8000\n"
     ]
    },
    {
     "name": "stdout",
     "output_type": "stream",
     "text": [
      "CSV outputs match perfectly.\n"
     ]
    },
    {
     "name": "stderr",
     "output_type": "stream",
     "text": [
      "DEBUG:urllib3.connectionpool:http://localhost:8000 \"POST /query HTTP/11\" 200 743\n",
      "INFO:compare_csv:Executing grouth truth query...\n",
      "DEBUG:chatgpt_api.api:Executing SQL query: WITH CashHoldings AS (\n",
      "    SELECT \n",
      "        SERIES_NAME,\n",
      "        ROUND(CAST(CASH_NOT_RPTD_IN_C_OR_D AS FLOAT) / 1000000, 2) as Cash_Millions\n",
      "    FROM \n",
      "        FUND_REPORTED_INFO\n",
      "    WHERE \n",
      "        CASH_NOT_RPTD_IN_C_OR_D IS NOT NULL\n",
      ")\n",
      "SELECT * FROM CashHoldings\n",
      "ORDER BY Cash_Millions DESC\n",
      "LIMIT 10;\n",
      "INFO:chatgpt_api.api:SQL query executed successfully\n",
      "INFO:compare_csv:Executing LLM query\n",
      "DEBUG:urllib3.connectionpool:Starting new HTTP connection (1): localhost:8000\n"
     ]
    },
    {
     "name": "stdout",
     "output_type": "stream",
     "text": [
      "CSV outputs match perfectly.\n"
     ]
    },
    {
     "name": "stderr",
     "output_type": "stream",
     "text": [
      "DEBUG:urllib3.connectionpool:http://localhost:8000 \"POST /query HTTP/11\" 200 143104\n",
      "INFO:compare_csv:Executing grouth truth query...\n",
      "DEBUG:chatgpt_api.api:Executing SQL query: SELECT \n",
      "    F.SERIES_NAME,\n",
      "    S.FILING_DATE\n",
      "FROM \n",
      "    FUND_REPORTED_INFO F\n",
      "    JOIN SUBMISSION S \n",
      "        ON F.ACCESSION_NUMBER = S.ACCESSION_NUMBER;\n",
      "INFO:chatgpt_api.api:SQL query executed successfully\n",
      "INFO:compare_csv:Executing LLM query\n",
      "DEBUG:urllib3.connectionpool:Starting new HTTP connection (1): localhost:8000\n"
     ]
    },
    {
     "name": "stdout",
     "output_type": "stream",
     "text": [
      "CSV outputs match perfectly.\n"
     ]
    },
    {
     "name": "stderr",
     "output_type": "stream",
     "text": [
      "DEBUG:urllib3.connectionpool:http://localhost:8000 \"POST /query HTTP/11\" 200 422\n",
      "INFO:compare_csv:Executing grouth truth query...\n",
      "DEBUG:chatgpt_api.api:Executing SQL query: SELECT \n",
      "    SERIES_NAME,\n",
      "    TOTAL_ASSETS \n",
      "FROM \n",
      "    FUND_REPORTED_INFO \n",
      "WHERE \n",
      "    TOTAL_ASSETS IS NOT NULL\n",
      "ORDER BY \n",
      "    CAST(TOTAL_ASSETS AS FLOAT) ASC \n",
      "LIMIT 5;\n",
      "INFO:chatgpt_api.api:SQL query executed successfully\n",
      "INFO:compare_csv:Executing LLM query\n",
      "DEBUG:urllib3.connectionpool:Starting new HTTP connection (1): localhost:8000\n"
     ]
    },
    {
     "name": "stdout",
     "output_type": "stream",
     "text": [
      "CSV outputs match perfectly.\n"
     ]
    },
    {
     "name": "stderr",
     "output_type": "stream",
     "text": [
      "DEBUG:urllib3.connectionpool:http://localhost:8000 \"POST /query HTTP/11\" 200 245\n",
      "INFO:compare_csv:Executing grouth truth query...\n",
      "DEBUG:chatgpt_api.api:Executing SQL query: SELECT \n",
      "    REGISTRANT_NAME,\n",
      "    COUNT(DISTINCT PHONE) as Phone_Count\n",
      "FROM \n",
      "    REGISTRANT\n",
      "GROUP BY \n",
      "    REGISTRANT_NAME\n",
      "HAVING \n",
      "    Phone_Count > 1;\n",
      "INFO:chatgpt_api.api:SQL query executed successfully\n",
      "INFO:compare_csv:Executing LLM query\n",
      "DEBUG:urllib3.connectionpool:Starting new HTTP connection (1): localhost:8000\n"
     ]
    },
    {
     "name": "stdout",
     "output_type": "stream",
     "text": [
      "CSV outputs match perfectly.\n"
     ]
    },
    {
     "name": "stderr",
     "output_type": "stream",
     "text": [
      "DEBUG:urllib3.connectionpool:http://localhost:8000 \"POST /query HTTP/11\" 200 23786\n",
      "INFO:compare_csv:Executing grouth truth query...\n",
      "DEBUG:chatgpt_api.api:Executing SQL query: SELECT \n",
      "    SERIES_NAME,\n",
      "    TOTAL_ASSETS \n",
      "FROM \n",
      "    FUND_REPORTED_INFO \n",
      "WHERE \n",
      "    SERIES_NAME LIKE '%BOND%';\n",
      "INFO:chatgpt_api.api:SQL query executed successfully\n",
      "INFO:compare_csv:Executing LLM query\n",
      "DEBUG:urllib3.connectionpool:Starting new HTTP connection (1): localhost:8000\n"
     ]
    },
    {
     "name": "stdout",
     "output_type": "stream",
     "text": [
      "CSV outputs match perfectly.\n"
     ]
    },
    {
     "name": "stderr",
     "output_type": "stream",
     "text": [
      "DEBUG:urllib3.connectionpool:http://localhost:8000 \"POST /query HTTP/11\" 200 140\n",
      "INFO:compare_csv:Executing grouth truth query...\n",
      "DEBUG:chatgpt_api.api:Executing SQL query: SELECT \n",
      "    REGISTRANT_NAME,\n",
      "    CITY,\n",
      "    ADDRESS1 \n",
      "FROM \n",
      "    REGISTRANT \n",
      "WHERE \n",
      "    STATE = 'FL';\n",
      "INFO:chatgpt_api.api:SQL query executed successfully\n",
      "INFO:compare_csv:Executing LLM query\n",
      "DEBUG:urllib3.connectionpool:Starting new HTTP connection (1): localhost:8000\n"
     ]
    },
    {
     "name": "stdout",
     "output_type": "stream",
     "text": [
      "CSV outputs match perfectly.\n"
     ]
    },
    {
     "name": "stderr",
     "output_type": "stream",
     "text": [
      "DEBUG:urllib3.connectionpool:http://localhost:8000 \"POST /query HTTP/11\" 200 929\n",
      "INFO:compare_csv:Executing grouth truth query...\n",
      "DEBUG:chatgpt_api.api:Executing SQL query: SELECT \n",
      "    SERIES_NAME,\n",
      "    ROUND(CAST(CASH_NOT_RPTD_IN_C_OR_D AS FLOAT) * 100.0 / \n",
      "          CAST(TOTAL_ASSETS AS FLOAT), 2) as Cash_Percentage\n",
      "FROM \n",
      "    FUND_REPORTED_INFO\n",
      "WHERE \n",
      "    CASH_NOT_RPTD_IN_C_OR_D IS NOT NULL \n",
      "    AND TOTAL_ASSETS > 0\n",
      "ORDER BY \n",
      "    Cash_Percentage DESC\n",
      "LIMIT 15;\n",
      "INFO:chatgpt_api.api:SQL query executed successfully\n",
      "INFO:compare_csv:Executing LLM query\n",
      "DEBUG:urllib3.connectionpool:Starting new HTTP connection (1): localhost:8000\n"
     ]
    },
    {
     "name": "stdout",
     "output_type": "stream",
     "text": [
      "CSV outputs match perfectly.\n"
     ]
    },
    {
     "name": "stderr",
     "output_type": "stream",
     "text": [
      "DEBUG:urllib3.connectionpool:http://localhost:8000 \"POST /query HTTP/11\" 200 15484\n",
      "INFO:compare_csv:Executing grouth truth query...\n",
      "DEBUG:chatgpt_api.api:Executing SQL query: SELECT \n",
      "    SERIES_NAME,\n",
      "    TOTAL_ASSETS \n",
      "FROM \n",
      "    FUND_REPORTED_INFO \n",
      "WHERE \n",
      "    SERIES_NAME LIKE '%INDEX%';\n",
      "INFO:chatgpt_api.api:SQL query executed successfully\n",
      "INFO:compare_csv:Executing LLM query\n",
      "DEBUG:urllib3.connectionpool:Starting new HTTP connection (1): localhost:8000\n"
     ]
    },
    {
     "name": "stdout",
     "output_type": "stream",
     "text": [
      "CSV outputs match perfectly.\n"
     ]
    },
    {
     "name": "stderr",
     "output_type": "stream",
     "text": [
      "DEBUG:urllib3.connectionpool:http://localhost:8000 \"POST /query HTTP/11\" 200 493\n",
      "INFO:compare_csv:Executing grouth truth query...\n",
      "DEBUG:chatgpt_api.api:Executing SQL query: SELECT \n",
      "    R.REGISTRANT_NAME,\n",
      "    MAX(S.FILING_DATE) as Latest_Filing\n",
      "FROM \n",
      "    REGISTRANT R\n",
      "    JOIN SUBMISSION S \n",
      "        ON R.ACCESSION_NUMBER = S.ACCESSION_NUMBER\n",
      "GROUP BY \n",
      "    R.REGISTRANT_NAME\n",
      "ORDER BY \n",
      "    Latest_Filing DESC\n",
      "LIMIT 5;\n",
      "INFO:chatgpt_api.api:SQL query executed successfully\n",
      "INFO:compare_csv:Executing LLM query\n",
      "DEBUG:urllib3.connectionpool:Starting new HTTP connection (1): localhost:8000\n"
     ]
    },
    {
     "name": "stdout",
     "output_type": "stream",
     "text": [
      "CSV outputs match perfectly.\n"
     ]
    },
    {
     "name": "stderr",
     "output_type": "stream",
     "text": [
      "DEBUG:urllib3.connectionpool:http://localhost:8000 \"POST /query HTTP/11\" 200 15880\n",
      "INFO:compare_csv:Executing grouth truth query...\n",
      "DEBUG:chatgpt_api.api:Executing SQL query: SELECT \n",
      "    SERIES_NAME,\n",
      "    TOTAL_ASSETS \n",
      "FROM \n",
      "    FUND_REPORTED_INFO \n",
      "WHERE \n",
      "    SERIES_NAME LIKE '%ETF%';\n",
      "INFO:chatgpt_api.api:SQL query executed successfully\n",
      "INFO:compare_csv:Executing LLM query\n",
      "DEBUG:urllib3.connectionpool:Starting new HTTP connection (1): localhost:8000\n"
     ]
    },
    {
     "name": "stdout",
     "output_type": "stream",
     "text": [
      "CSV outputs match perfectly.\n"
     ]
    },
    {
     "name": "stderr",
     "output_type": "stream",
     "text": [
      "DEBUG:urllib3.connectionpool:http://localhost:8000 \"POST /query HTTP/11\" 200 103314\n",
      "INFO:compare_csv:Executing grouth truth query...\n",
      "DEBUG:chatgpt_api.api:Executing SQL query: SELECT \n",
      "    REGISTRANT_NAME,\n",
      "    ZIP,\n",
      "    STATE \n",
      "FROM \n",
      "    REGISTRANT \n",
      "ORDER BY \n",
      "    ZIP;\n",
      "INFO:chatgpt_api.api:SQL query executed successfully\n",
      "INFO:compare_csv:Executing LLM query\n",
      "DEBUG:urllib3.connectionpool:Starting new HTTP connection (1): localhost:8000\n"
     ]
    },
    {
     "name": "stdout",
     "output_type": "stream",
     "text": [
      "Mismatch found.\n"
     ]
    },
    {
     "name": "stderr",
     "output_type": "stream",
     "text": [
      "DEBUG:urllib3.connectionpool:http://localhost:8000 \"POST /query HTTP/11\" 200 1315\n",
      "INFO:compare_csv:Executing grouth truth query...\n",
      "DEBUG:chatgpt_api.api:Executing SQL query: SELECT \n",
      "    SERIES_NAME,\n",
      "    ROUND(CAST(TOTAL_ASSETS AS FLOAT) / 1000000, 2) as Assets_Millions\n",
      "FROM \n",
      "    FUND_REPORTED_INFO\n",
      "WHERE \n",
      "    SERIES_NAME LIKE '%EQUITY%'\n",
      "    OR SERIES_NAME LIKE '%STOCK%'\n",
      "ORDER BY \n",
      "    Assets_Millions DESC\n",
      "LIMIT 20;\n",
      "INFO:chatgpt_api.api:SQL query executed successfully\n",
      "INFO:compare_csv:Executing LLM query\n",
      "DEBUG:urllib3.connectionpool:Starting new HTTP connection (1): localhost:8000\n"
     ]
    },
    {
     "name": "stdout",
     "output_type": "stream",
     "text": [
      "CSV outputs match perfectly.\n"
     ]
    },
    {
     "name": "stderr",
     "output_type": "stream",
     "text": [
      "DEBUG:urllib3.connectionpool:http://localhost:8000 \"POST /query HTTP/11\" 200 9549\n",
      "INFO:compare_csv:Executing grouth truth query...\n",
      "DEBUG:chatgpt_api.api:Executing SQL query: SELECT \n",
      "    SERIES_NAME,\n",
      "    TOTAL_ASSETS \n",
      "FROM \n",
      "    FUND_REPORTED_INFO \n",
      "WHERE \n",
      "    CAST(TOTAL_ASSETS AS FLOAT) > 10000000000;\n",
      "INFO:chatgpt_api.api:SQL query executed successfully\n",
      "INFO:compare_csv:Executing LLM query\n",
      "DEBUG:urllib3.connectionpool:Starting new HTTP connection (1): localhost:8000\n"
     ]
    },
    {
     "name": "stdout",
     "output_type": "stream",
     "text": [
      "CSV outputs match perfectly.\n"
     ]
    },
    {
     "name": "stderr",
     "output_type": "stream",
     "text": [
      "DEBUG:urllib3.connectionpool:http://localhost:8000 \"POST /query HTTP/11\" 200 93496\n",
      "INFO:compare_csv:Executing grouth truth query...\n",
      "DEBUG:chatgpt_api.api:Executing SQL query: SELECT \n",
      "    REGISTRANT_NAME,\n",
      "    COUNTRY,\n",
      "    STATE \n",
      "FROM \n",
      "    REGISTRANT \n",
      "ORDER BY \n",
      "    COUNTRY,\n",
      "    STATE;\n",
      "INFO:chatgpt_api.api:SQL query executed successfully\n",
      "INFO:compare_csv:Executing LLM query\n",
      "DEBUG:urllib3.connectionpool:Starting new HTTP connection (1): localhost:8000\n"
     ]
    },
    {
     "name": "stdout",
     "output_type": "stream",
     "text": [
      "Mismatch found.\n"
     ]
    },
    {
     "name": "stderr",
     "output_type": "stream",
     "text": [
      "DEBUG:urllib3.connectionpool:http://localhost:8000 \"POST /query HTTP/11\" 200 875\n",
      "INFO:compare_csv:Executing grouth truth query...\n",
      "DEBUG:chatgpt_api.api:Executing SQL query: WITH ESGFunds AS (\n",
      "    SELECT \n",
      "        SERIES_NAME,\n",
      "        TOTAL_ASSETS\n",
      "    FROM \n",
      "        FUND_REPORTED_INFO\n",
      "    WHERE \n",
      "        SERIES_NAME LIKE '%SUSTAINABLE%'\n",
      "        OR SERIES_NAME LIKE '%ESG%'\n",
      ")\n",
      "SELECT \n",
      "    COUNT(*) as Number_of_ESG_Funds,\n",
      "    SUM(CAST(TOTAL_ASSETS AS FLOAT)) as Total_ESG_Assets\n",
      "FROM \n",
      "    ESGFunds;\n",
      "INFO:chatgpt_api.api:SQL query executed successfully\n",
      "INFO:compare_csv:Executing LLM query\n",
      "DEBUG:urllib3.connectionpool:Starting new HTTP connection (1): localhost:8000\n"
     ]
    },
    {
     "name": "stdout",
     "output_type": "stream",
     "text": [
      "Mismatch found.\n"
     ]
    },
    {
     "name": "stderr",
     "output_type": "stream",
     "text": [
      "DEBUG:urllib3.connectionpool:http://localhost:8000 \"POST /query HTTP/11\" 200 251\n",
      "INFO:compare_csv:Executing grouth truth query...\n",
      "DEBUG:chatgpt_api.api:Executing SQL query: WITH StateRegistrants AS (\n",
      "    SELECT \n",
      "        STATE,\n",
      "        COUNT(DISTINCT REGISTRANT_NAME) as Registrant_Count,\n",
      "        COUNT(DISTINCT F.SERIES_NAME) as Fund_Count\n",
      "    FROM \n",
      "        REGISTRANT R\n",
      "        LEFT JOIN FUND_REPORTED_INFO F \n",
      "            ON R.ACCESSION_NUMBER = F.ACCESSION_NUMBER\n",
      "    WHERE \n",
      "        STATE IS NOT NULL\n",
      "    GROUP BY \n",
      "        STATE\n",
      ")\n",
      "SELECT \n",
      "    STATE,\n",
      "    Registrant_Count,\n",
      "    Fund_Count\n",
      "FROM \n",
      "    StateRegistrants\n",
      "ORDER BY \n",
      "    Registrant_Count DESC\n",
      "LIMIT 5;\n",
      "INFO:chatgpt_api.api:SQL query executed successfully\n",
      "INFO:compare_csv:Executing LLM query\n",
      "DEBUG:urllib3.connectionpool:Starting new HTTP connection (1): localhost:8000\n"
     ]
    },
    {
     "name": "stdout",
     "output_type": "stream",
     "text": [
      "Mismatch found.\n"
     ]
    },
    {
     "name": "stderr",
     "output_type": "stream",
     "text": [
      "DEBUG:urllib3.connectionpool:http://localhost:8000 \"POST /query HTTP/11\" 200 515\n",
      "INFO:compare_csv:Executing grouth truth query...\n",
      "DEBUG:chatgpt_api.api:Executing SQL query: WITH FundTypes AS (\n",
      "    SELECT \n",
      "        R.REGISTRANT_NAME,\n",
      "        COUNT(DISTINCT \n",
      "            CASE \n",
      "                WHEN F.SERIES_NAME LIKE '%BOND%' THEN 'BOND'\n",
      "                WHEN F.SERIES_NAME LIKE '%EQUITY%' THEN 'EQUITY'\n",
      "                WHEN F.SERIES_NAME LIKE '%MONEY MARKET%' THEN 'MONEY MARKET'\n",
      "                WHEN F.SERIES_NAME LIKE '%INDEX%' THEN 'INDEX'\n",
      "                WHEN F.SERIES_NAME LIKE '%ETF%' THEN 'ETF'\n",
      "                ELSE 'OTHER'\n",
      "            END\n",
      "        ) as Fund_Type_Count\n",
      "    FROM \n",
      "        REGISTRANT R\n",
      "        JOIN FUND_REPORTED_INFO F \n",
      "            ON R.ACCESSION_NUMBER = F.ACCESSION_NUMBER\n",
      "    GROUP BY \n",
      "        R.REGISTRANT_NAME\n",
      ")\n",
      "SELECT \n",
      "    REGISTRANT_NAME,\n",
      "    Fund_Type_Count\n",
      "FROM \n",
      "    FundTypes\n",
      "WHERE \n",
      "    Fund_Type_Count > 2\n",
      "ORDER BY \n",
      "    Fund_Type_Count DESC\n",
      "LIMIT 10;\n",
      "INFO:chatgpt_api.api:SQL query executed successfully\n",
      "INFO:compare_csv:Executing LLM query\n",
      "DEBUG:urllib3.connectionpool:Starting new HTTP connection (1): localhost:8000\n"
     ]
    },
    {
     "name": "stdout",
     "output_type": "stream",
     "text": [
      "Mismatch found.\n"
     ]
    },
    {
     "name": "stderr",
     "output_type": "stream",
     "text": [
      "DEBUG:urllib3.connectionpool:http://localhost:8000 \"POST /query HTTP/11\" 500 61\n",
      "ERROR:compare_csv:Unexpected error in process_query: 500 Server Error: Internal Server Error for url: http://localhost:8000/query\n",
      "INFO:compare_csv:Executing LLM query\n",
      "DEBUG:urllib3.connectionpool:Starting new HTTP connection (1): localhost:8000\n"
     ]
    },
    {
     "name": "stdout",
     "output_type": "stream",
     "text": [
      "Error comparing queries: 500: Unexpected error: 500 Server Error: Internal Server Error for url: http://localhost:8000/query\n"
     ]
    },
    {
     "name": "stderr",
     "output_type": "stream",
     "text": [
      "DEBUG:urllib3.connectionpool:http://localhost:8000 \"POST /query HTTP/11\" 200 727\n",
      "INFO:compare_csv:Executing grouth truth query...\n",
      "DEBUG:chatgpt_api.api:Executing SQL query: WITH FundReturns AS (\n",
      "    SELECT \n",
      "        F.SERIES_NAME,\n",
      "        CASE \n",
      "            WHEN F.SERIES_NAME LIKE '%BOND%' THEN 'Bond'\n",
      "            WHEN F.SERIES_NAME LIKE '%EQUITY%' THEN 'Equity'\n",
      "        END as Fund_Type,\n",
      "        M.MONTHLY_TOTAL_RETURN1\n",
      "    FROM \n",
      "        FUND_REPORTED_INFO F\n",
      "        JOIN MONTHLY_TOTAL_RETURN M \n",
      "            ON F.ACCESSION_NUMBER = M.ACCESSION_NUMBER\n",
      "    WHERE \n",
      "        F.SERIES_NAME LIKE '%BOND%'\n",
      "        OR F.SERIES_NAME LIKE '%EQUITY%'\n",
      ")\n",
      "SELECT \n",
      "    Fund_Type,\n",
      "    AVG(CAST(MONTHLY_TOTAL_RETURN1 AS FLOAT)) as Avg_Return,\n",
      "    COUNT(*) as Fund_Count\n",
      "FROM \n",
      "    FundReturns\n",
      "GROUP BY \n",
      "    Fund_Type;\n",
      "INFO:chatgpt_api.api:SQL query executed successfully\n",
      "INFO:compare_csv:Executing LLM query\n",
      "DEBUG:urllib3.connectionpool:Starting new HTTP connection (1): localhost:8000\n"
     ]
    },
    {
     "name": "stdout",
     "output_type": "stream",
     "text": [
      "Mismatch found.\n"
     ]
    },
    {
     "name": "stderr",
     "output_type": "stream",
     "text": [
      "DEBUG:urllib3.connectionpool:http://localhost:8000 \"POST /query HTTP/11\" 500 59\n",
      "ERROR:compare_csv:Unexpected error in process_query: 500 Server Error: Internal Server Error for url: http://localhost:8000/query\n",
      "INFO:compare_csv:Executing LLM query\n",
      "DEBUG:urllib3.connectionpool:Starting new HTTP connection (1): localhost:8000\n"
     ]
    },
    {
     "name": "stdout",
     "output_type": "stream",
     "text": [
      "Error comparing queries: 500: Unexpected error: 500 Server Error: Internal Server Error for url: http://localhost:8000/query\n"
     ]
    },
    {
     "name": "stderr",
     "output_type": "stream",
     "text": [
      "DEBUG:urllib3.connectionpool:http://localhost:8000 \"POST /query HTTP/11\" 500 58\n",
      "ERROR:compare_csv:Unexpected error in process_query: 500 Server Error: Internal Server Error for url: http://localhost:8000/query\n",
      "INFO:compare_csv:Executing LLM query\n",
      "DEBUG:urllib3.connectionpool:Starting new HTTP connection (1): localhost:8000\n"
     ]
    },
    {
     "name": "stdout",
     "output_type": "stream",
     "text": [
      "Error comparing queries: 500: Unexpected error: 500 Server Error: Internal Server Error for url: http://localhost:8000/query\n"
     ]
    },
    {
     "name": "stderr",
     "output_type": "stream",
     "text": [
      "DEBUG:urllib3.connectionpool:http://localhost:8000 \"POST /query HTTP/11\" 500 54\n",
      "ERROR:compare_csv:Unexpected error in process_query: 500 Server Error: Internal Server Error for url: http://localhost:8000/query\n",
      "INFO:compare_csv:Executing LLM query\n",
      "DEBUG:urllib3.connectionpool:Starting new HTTP connection (1): localhost:8000\n"
     ]
    },
    {
     "name": "stdout",
     "output_type": "stream",
     "text": [
      "Error comparing queries: 500: Unexpected error: 500 Server Error: Internal Server Error for url: http://localhost:8000/query\n"
     ]
    },
    {
     "name": "stderr",
     "output_type": "stream",
     "text": [
      "DEBUG:urllib3.connectionpool:http://localhost:8000 \"POST /query HTTP/11\" 500 61\n",
      "ERROR:compare_csv:Unexpected error in process_query: 500 Server Error: Internal Server Error for url: http://localhost:8000/query\n",
      "INFO:compare_csv:Executing LLM query\n",
      "DEBUG:urllib3.connectionpool:Starting new HTTP connection (1): localhost:8000\n"
     ]
    },
    {
     "name": "stdout",
     "output_type": "stream",
     "text": [
      "Error comparing queries: 500: Unexpected error: 500 Server Error: Internal Server Error for url: http://localhost:8000/query\n"
     ]
    },
    {
     "name": "stderr",
     "output_type": "stream",
     "text": [
      "DEBUG:urllib3.connectionpool:http://localhost:8000 \"POST /query HTTP/11\" 500 59\n",
      "ERROR:compare_csv:Unexpected error in process_query: 500 Server Error: Internal Server Error for url: http://localhost:8000/query\n",
      "INFO:compare_csv:Executing LLM query\n",
      "DEBUG:urllib3.connectionpool:Starting new HTTP connection (1): localhost:8000\n"
     ]
    },
    {
     "name": "stdout",
     "output_type": "stream",
     "text": [
      "Error comparing queries: 500: Unexpected error: 500 Server Error: Internal Server Error for url: http://localhost:8000/query\n"
     ]
    },
    {
     "name": "stderr",
     "output_type": "stream",
     "text": [
      "DEBUG:urllib3.connectionpool:http://localhost:8000 \"POST /query HTTP/11\" 200 2374\n",
      "INFO:compare_csv:Executing grouth truth query...\n",
      "DEBUG:chatgpt_api.api:Executing SQL query: WITH ConsistentPerformers AS (\n",
      "    SELECT \n",
      "        F.SERIES_NAME,\n",
      "        M.MONTHLY_TOTAL_RETURN1,\n",
      "        M.MONTHLY_TOTAL_RETURN2,\n",
      "        M.MONTHLY_TOTAL_RETURN3,\n",
      "        (CAST(M.MONTHLY_TOTAL_RETURN1 AS FLOAT) + \n",
      "         CAST(M.MONTHLY_TOTAL_RETURN2 AS FLOAT) + \n",
      "         CAST(M.MONTHLY_TOTAL_RETURN3 AS FLOAT)) / 3 as Avg_Return\n",
      "    FROM \n",
      "        FUND_REPORTED_INFO F\n",
      "        JOIN MONTHLY_TOTAL_RETURN M \n",
      "            ON F.ACCESSION_NUMBER = M.ACCESSION_NUMBER\n",
      "    WHERE \n",
      "        M.MONTHLY_TOTAL_RETURN1 IS NOT NULL\n",
      "        AND M.MONTHLY_TOTAL_RETURN2 IS NOT NULL\n",
      "        AND M.MONTHLY_TOTAL_RETURN3 IS NOT NULL\n",
      ")\n",
      "SELECT \n",
      "    SERIES_NAME,\n",
      "    MONTHLY_TOTAL_RETURN1,\n",
      "    MONTHLY_TOTAL_RETURN2,\n",
      "    MONTHLY_TOTAL_RETURN3,\n",
      "    Avg_Return\n",
      "FROM \n",
      "    ConsistentPerformers\n",
      "WHERE \n",
      "    CAST(MONTHLY_TOTAL_RETURN1 AS FLOAT) > 0\n",
      "    AND CAST(MONTHLY_TOTAL_RETURN2 AS FLOAT) > 0\n",
      "    AND CAST(MONTHLY_TOTAL_RETURN3 AS FLOAT) > 0\n",
      "ORDER BY \n",
      "    Avg_Return DESC\n",
      "LIMIT 10;\n",
      "INFO:chatgpt_api.api:SQL query executed successfully\n",
      "INFO:compare_csv:Executing LLM query\n",
      "DEBUG:urllib3.connectionpool:Starting new HTTP connection (1): localhost:8000\n"
     ]
    },
    {
     "name": "stdout",
     "output_type": "stream",
     "text": [
      "Mismatch found.\n"
     ]
    },
    {
     "name": "stderr",
     "output_type": "stream",
     "text": [
      "DEBUG:urllib3.connectionpool:http://localhost:8000 \"POST /query HTTP/11\" 500 60\n",
      "ERROR:compare_csv:Unexpected error in process_query: 500 Server Error: Internal Server Error for url: http://localhost:8000/query\n",
      "INFO:compare_csv:Executing LLM query\n",
      "DEBUG:urllib3.connectionpool:Starting new HTTP connection (1): localhost:8000\n"
     ]
    },
    {
     "name": "stdout",
     "output_type": "stream",
     "text": [
      "Error comparing queries: 500: Unexpected error: 500 Server Error: Internal Server Error for url: http://localhost:8000/query\n"
     ]
    },
    {
     "name": "stderr",
     "output_type": "stream",
     "text": [
      "DEBUG:urllib3.connectionpool:http://localhost:8000 \"POST /query HTTP/11\" 500 66\n",
      "ERROR:compare_csv:Unexpected error in process_query: 500 Server Error: Internal Server Error for url: http://localhost:8000/query\n",
      "INFO:compare_csv:Executing LLM query\n",
      "DEBUG:urllib3.connectionpool:Starting new HTTP connection (1): localhost:8000\n"
     ]
    },
    {
     "name": "stdout",
     "output_type": "stream",
     "text": [
      "Error comparing queries: 500: Unexpected error: 500 Server Error: Internal Server Error for url: http://localhost:8000/query\n"
     ]
    },
    {
     "name": "stderr",
     "output_type": "stream",
     "text": [
      "DEBUG:urllib3.connectionpool:http://localhost:8000 \"POST /query HTTP/11\" 500 62\n",
      "ERROR:compare_csv:Unexpected error in process_query: 500 Server Error: Internal Server Error for url: http://localhost:8000/query\n",
      "INFO:compare_csv:Executing LLM query\n",
      "DEBUG:urllib3.connectionpool:Starting new HTTP connection (1): localhost:8000\n"
     ]
    },
    {
     "name": "stdout",
     "output_type": "stream",
     "text": [
      "Error comparing queries: 500: Unexpected error: 500 Server Error: Internal Server Error for url: http://localhost:8000/query\n"
     ]
    },
    {
     "name": "stderr",
     "output_type": "stream",
     "text": [
      "DEBUG:urllib3.connectionpool:http://localhost:8000 \"POST /query HTTP/11\" 200 764\n",
      "INFO:compare_csv:Executing grouth truth query...\n",
      "DEBUG:chatgpt_api.api:Executing SQL query: WITH FundTypes AS (\n",
      "    SELECT \n",
      "        R.REGISTRANT_NAME,\n",
      "        COUNT(DISTINCT \n",
      "            CASE \n",
      "                WHEN F.SERIES_NAME LIKE '%BOND%' THEN 'BOND'\n",
      "                WHEN F.SERIES_NAME LIKE '%EQUITY%' THEN 'EQUITY'\n",
      "                WHEN F.SERIES_NAME LIKE '%ETF%' THEN 'ETF'\n",
      "                WHEN F.SERIES_NAME LIKE '%INDEX%' THEN 'INDEX'\n",
      "                WHEN F.SERIES_NAME LIKE '%MONEY MARKET%' THEN 'MONEY MARKET'\n",
      "                WHEN F.SERIES_NAME LIKE '%BALANCED%' THEN 'BALANCED'\n",
      "                ELSE 'OTHER'\n",
      "            END\n",
      "        ) as Fund_Type_Count,\n",
      "        COUNT(*) as Total_Funds\n",
      "    FROM \n",
      "        REGISTRANT R\n",
      "        JOIN FUND_REPORTED_INFO F \n",
      "            ON R.ACCESSION_NUMBER = F.ACCESSION_NUMBER\n",
      "    GROUP BY \n",
      "        R.REGISTRANT_NAME\n",
      ")\n",
      "SELECT \n",
      "    REGISTRANT_NAME,\n",
      "    Fund_Type_Count,\n",
      "    Total_Funds,\n",
      "    (Fund_Type_Count * 100.0 / Total_Funds) as Diversity_Score\n",
      "FROM \n",
      "    FundTypes\n",
      "WHERE \n",
      "    Total_Funds >= 5\n",
      "ORDER BY \n",
      "    Fund_Type_Count DESC, Total_Funds DESC;\n",
      "INFO:chatgpt_api.api:SQL query executed successfully\n",
      "INFO:compare_csv:Executing LLM query\n",
      "DEBUG:urllib3.connectionpool:Starting new HTTP connection (1): localhost:8000\n"
     ]
    },
    {
     "name": "stdout",
     "output_type": "stream",
     "text": [
      "Mismatch found.\n"
     ]
    },
    {
     "name": "stderr",
     "output_type": "stream",
     "text": [
      "DEBUG:urllib3.connectionpool:http://localhost:8000 \"POST /query HTTP/11\" 500 62\n",
      "ERROR:compare_csv:Unexpected error in process_query: 500 Server Error: Internal Server Error for url: http://localhost:8000/query\n",
      "INFO:compare_csv:Executing LLM query\n",
      "DEBUG:urllib3.connectionpool:Starting new HTTP connection (1): localhost:8000\n"
     ]
    },
    {
     "name": "stdout",
     "output_type": "stream",
     "text": [
      "Error comparing queries: 500: Unexpected error: 500 Server Error: Internal Server Error for url: http://localhost:8000/query\n"
     ]
    },
    {
     "name": "stderr",
     "output_type": "stream",
     "text": [
      "DEBUG:urllib3.connectionpool:http://localhost:8000 \"POST /query HTTP/11\" 200 755\n",
      "INFO:compare_csv:Executing grouth truth query...\n",
      "DEBUG:chatgpt_api.api:Executing SQL query: WITH FundSizePerformance AS (\n",
      "    SELECT \n",
      "        F.SERIES_NAME,\n",
      "        CAST(F.TOTAL_ASSETS AS FLOAT) as Assets,\n",
      "        CAST(M.MONTHLY_TOTAL_RETURN1 AS FLOAT) as Latest_Return,\n",
      "        NTILE(4) OVER (ORDER BY CAST(F.TOTAL_ASSETS AS FLOAT)) as Size_Quartile\n",
      "    FROM \n",
      "        FUND_REPORTED_INFO F\n",
      "        JOIN MONTHLY_TOTAL_RETURN M \n",
      "            ON F.ACCESSION_NUMBER = M.ACCESSION_NUMBER\n",
      "    WHERE \n",
      "        F.TOTAL_ASSETS IS NOT NULL\n",
      "        AND M.MONTHLY_TOTAL_RETURN1 IS NOT NULL\n",
      ")\n",
      "SELECT \n",
      "    Size_Quartile,\n",
      "    AVG(Latest_Return) as Avg_Return,\n",
      "    COUNT(*) as Fund_Count,\n",
      "    AVG(Assets) as Avg_Assets\n",
      "FROM \n",
      "    FundSizePerformance\n",
      "GROUP BY \n",
      "    Size_Quartile\n",
      "ORDER BY \n",
      "    Size_Quartile;\n",
      "INFO:chatgpt_api.api:SQL query executed successfully\n",
      "INFO:compare_csv:Executing LLM query\n",
      "DEBUG:urllib3.connectionpool:Starting new HTTP connection (1): localhost:8000\n"
     ]
    },
    {
     "name": "stdout",
     "output_type": "stream",
     "text": [
      "Mismatch found.\n"
     ]
    },
    {
     "name": "stderr",
     "output_type": "stream",
     "text": [
      "DEBUG:urllib3.connectionpool:http://localhost:8000 \"POST /query HTTP/11\" 500 62\n",
      "ERROR:compare_csv:Unexpected error in process_query: 500 Server Error: Internal Server Error for url: http://localhost:8000/query\n",
      "INFO:compare_csv:Executing LLM query\n",
      "DEBUG:urllib3.connectionpool:Starting new HTTP connection (1): localhost:8000\n"
     ]
    },
    {
     "name": "stdout",
     "output_type": "stream",
     "text": [
      "Error comparing queries: 500: Unexpected error: 500 Server Error: Internal Server Error for url: http://localhost:8000/query\n"
     ]
    },
    {
     "name": "stderr",
     "output_type": "stream",
     "text": [
      "DEBUG:urllib3.connectionpool:http://localhost:8000 \"POST /query HTTP/11\" 200 935\n",
      "INFO:compare_csv:Executing grouth truth query...\n",
      "DEBUG:chatgpt_api.api:Executing SQL query: WITH InternationalExposure AS (\n",
      "    SELECT \n",
      "        R.REGISTRANT_NAME,\n",
      "        COUNT(CASE WHEN H.INVESTMENT_COUNTRY != 'US' THEN 1 END) as International_Holdings,\n",
      "        COUNT(*) as Total_Holdings,\n",
      "        SUM(CASE WHEN H.INVESTMENT_COUNTRY != 'US' \n",
      "            THEN CAST(H.CURRENCY_VALUE AS FLOAT) ELSE 0 END) as International_Value\n",
      "    FROM \n",
      "        REGISTRANT R\n",
      "        JOIN FUND_REPORTED_INFO F \n",
      "            ON R.ACCESSION_NUMBER = F.ACCESSION_NUMBER\n",
      "        JOIN FUND_REPORTED_HOLDING H \n",
      "            ON F.ACCESSION_NUMBER = H.ACCESSION_NUMBER\n",
      "    GROUP BY \n",
      "        R.REGISTRANT_NAME\n",
      ")\n",
      "SELECT \n",
      "    REGISTRANT_NAME,\n",
      "    International_Holdings * 100.0 / NULLIF(Total_Holdings, 0) as International_Percentage,\n",
      "    International_Value\n",
      "FROM \n",
      "    InternationalExposure\n",
      "WHERE \n",
      "    Total_Holdings > 10\n",
      "ORDER BY \n",
      "    International_Percentage DESC\n",
      "LIMIT 10;\n",
      "INFO:chatgpt_api.api:SQL query executed successfully\n",
      "INFO:compare_csv:Executing LLM query\n",
      "DEBUG:urllib3.connectionpool:Starting new HTTP connection (1): localhost:8000\n"
     ]
    },
    {
     "name": "stdout",
     "output_type": "stream",
     "text": [
      "Mismatch found.\n"
     ]
    },
    {
     "name": "stderr",
     "output_type": "stream",
     "text": [
      "DEBUG:urllib3.connectionpool:http://localhost:8000 \"POST /query HTTP/11\" 200 109382\n",
      "INFO:compare_csv:Executing grouth truth query...\n",
      "DEBUG:chatgpt_api.api:Executing SQL query: WITH SectorConcentration AS (\n",
      "    SELECT \n",
      "        F.SERIES_NAME,\n",
      "        H.ASSET_CAT,\n",
      "        COUNT(*) as Holdings_Count,\n",
      "        SUM(CAST(H.CURRENCY_VALUE AS FLOAT)) as Sector_Value,\n",
      "        CAST(F.TOTAL_ASSETS AS FLOAT) as Total_Assets\n",
      "    FROM \n",
      "        FUND_REPORTED_INFO F\n",
      "        JOIN FUND_REPORTED_HOLDING H \n",
      "            ON F.ACCESSION_NUMBER = H.ACCESSION_NUMBER\n",
      "    WHERE \n",
      "        H.ASSET_CAT IS NOT NULL\n",
      "    GROUP BY \n",
      "        F.SERIES_NAME,\n",
      "        H.ASSET_CAT,\n",
      "        F.TOTAL_ASSETS\n",
      ")\n",
      "SELECT \n",
      "    SERIES_NAME,\n",
      "    ASSET_CAT,\n",
      "    (Sector_Value / Total_Assets * 100) as Sector_Percentage\n",
      "FROM \n",
      "    SectorConcentration\n",
      "WHERE \n",
      "    (Sector_Value / Total_Assets * 100) > 30\n",
      "ORDER BY \n",
      "    Sector_Percentage DESC;\n",
      "INFO:chatgpt_api.api:SQL query executed successfully\n",
      "INFO:compare_csv:Executing LLM query\n",
      "DEBUG:urllib3.connectionpool:Starting new HTTP connection (1): localhost:8000\n"
     ]
    },
    {
     "name": "stdout",
     "output_type": "stream",
     "text": [
      "Mismatch found.\n"
     ]
    },
    {
     "name": "stderr",
     "output_type": "stream",
     "text": [
      "DEBUG:urllib3.connectionpool:http://localhost:8000 \"POST /query HTTP/11\" 200 521\n",
      "INFO:compare_csv:Executing grouth truth query...\n",
      "DEBUG:chatgpt_api.api:Executing SQL query: WITH FixedIncomeQuality AS (\n",
      "    SELECT \n",
      "        F.SERIES_NAME,\n",
      "        SUM(CAST(F.CREDIT_SPREAD_10YR_INVEST AS FLOAT)) as Investment_Grade_Exposure,\n",
      "        SUM(CAST(F.CREDIT_SPREAD_10YR_NONINVEST AS FLOAT)) as NonInvestment_Grade_Exposure,\n",
      "        CAST(F.TOTAL_ASSETS AS FLOAT) as Total_Assets\n",
      "    FROM \n",
      "        FUND_REPORTED_INFO F\n",
      "    WHERE \n",
      "        F.SERIES_NAME LIKE '%BOND%'\n",
      "        OR F.SERIES_NAME LIKE '%FIXED INCOME%'\n",
      "    GROUP BY \n",
      "        F.SERIES_NAME,\n",
      "        F.TOTAL_ASSETS\n",
      ")\n",
      "SELECT \n",
      "    SERIES_NAME,\n",
      "    (Investment_Grade_Exposure / NULLIF(Investment_Grade_Exposure + NonInvestment_Grade_Exposure, 0) * 100) as Quality_Score\n",
      "FROM \n",
      "    FixedIncomeQuality\n",
      "WHERE \n",
      "    Investment_Grade_Exposure + NonInvestment_Grade_Exposure > 0\n",
      "ORDER BY \n",
      "    Quality_Score DESC\n",
      "LIMIT 15;\n",
      "INFO:chatgpt_api.api:SQL query executed successfully\n",
      "INFO:compare_csv:Executing LLM query\n",
      "DEBUG:urllib3.connectionpool:Starting new HTTP connection (1): localhost:8000\n"
     ]
    },
    {
     "name": "stdout",
     "output_type": "stream",
     "text": [
      "Mismatch found.\n"
     ]
    },
    {
     "name": "stderr",
     "output_type": "stream",
     "text": [
      "DEBUG:urllib3.connectionpool:http://localhost:8000 \"POST /query HTTP/11\" 200 1353\n",
      "INFO:compare_csv:Executing grouth truth query...\n",
      "DEBUG:chatgpt_api.api:Executing SQL query: WITH InterestRateRisk AS (\n",
      "    SELECT \n",
      "        F.SERIES_NAME,\n",
      "        IR.INTRST_RATE_CHANGE_10YR_DV01,\n",
      "        IR.INTRST_RATE_CHANGE_30YR_DV01,\n",
      "        F.TOTAL_ASSETS\n",
      "    FROM \n",
      "        FUND_REPORTED_INFO F\n",
      "        JOIN INTEREST_RATE_RISK IR \n",
      "            ON F.ACCESSION_NUMBER = IR.ACCESSION_NUMBER\n",
      "    WHERE \n",
      "        IR.INTRST_RATE_CHANGE_10YR_DV01 IS NOT NULL\n",
      "        OR IR.INTRST_RATE_CHANGE_30YR_DV01 IS NOT NULL\n",
      ")\n",
      "SELECT \n",
      "    SERIES_NAME,\n",
      "    CAST(INTRST_RATE_CHANGE_10YR_DV01 AS FLOAT) as Ten_Year_Risk,\n",
      "    CAST(INTRST_RATE_CHANGE_30YR_DV01 AS FLOAT) as Thirty_Year_Risk,\n",
      "    CAST(INTRST_RATE_CHANGE_10YR_DV01 AS FLOAT) + CAST(INTRST_RATE_CHANGE_30YR_DV01 AS FLOAT) as Total_Risk\n",
      "FROM \n",
      "    InterestRateRisk\n",
      "ORDER BY \n",
      "    Total_Risk DESC\n",
      "LIMIT 10;\n",
      "INFO:chatgpt_api.api:SQL query executed successfully\n",
      "INFO:compare_csv:Executing LLM query\n",
      "DEBUG:urllib3.connectionpool:Starting new HTTP connection (1): localhost:8000\n"
     ]
    },
    {
     "name": "stdout",
     "output_type": "stream",
     "text": [
      "Mismatch found.\n"
     ]
    },
    {
     "name": "stderr",
     "output_type": "stream",
     "text": [
      "DEBUG:urllib3.connectionpool:http://localhost:8000 \"POST /query HTTP/11\" 500 65\n",
      "ERROR:compare_csv:Unexpected error in process_query: 500 Server Error: Internal Server Error for url: http://localhost:8000/query\n",
      "INFO:compare_csv:Executing LLM query\n",
      "DEBUG:urllib3.connectionpool:Starting new HTTP connection (1): localhost:8000\n"
     ]
    },
    {
     "name": "stdout",
     "output_type": "stream",
     "text": [
      "Error comparing queries: 500: Unexpected error: 500 Server Error: Internal Server Error for url: http://localhost:8000/query\n"
     ]
    },
    {
     "name": "stderr",
     "output_type": "stream",
     "text": [
      "DEBUG:urllib3.connectionpool:http://localhost:8000 \"POST /query HTTP/11\" 500 80\n",
      "ERROR:compare_csv:Unexpected error in process_query: 500 Server Error: Internal Server Error for url: http://localhost:8000/query\n",
      "INFO:compare_csv:Executing LLM query\n",
      "DEBUG:urllib3.connectionpool:Starting new HTTP connection (1): localhost:8000\n"
     ]
    },
    {
     "name": "stdout",
     "output_type": "stream",
     "text": [
      "Error comparing queries: 500: Unexpected error: 500 Server Error: Internal Server Error for url: http://localhost:8000/query\n"
     ]
    },
    {
     "name": "stderr",
     "output_type": "stream",
     "text": [
      "DEBUG:urllib3.connectionpool:http://localhost:8000 \"POST /query HTTP/11\" 200 347\n",
      "INFO:compare_csv:Executing grouth truth query...\n",
      "DEBUG:chatgpt_api.api:Executing SQL query: WITH LeverageAnalysis AS (\n",
      "    SELECT \n",
      "        F.SERIES_NAME,\n",
      "        CAST(F.BORROWING_PAY_WITHIN_1YR AS FLOAT) +\n",
      "        CAST(F.BORROWING_PAY_AFTER_1YR AS FLOAT) as Total_Borrowing,\n",
      "        CAST(F.TOTAL_ASSETS AS FLOAT) as Total_Assets\n",
      "    FROM \n",
      "        FUND_REPORTED_INFO F\n",
      "    WHERE \n",
      "        F.BORROWING_PAY_WITHIN_1YR IS NOT NULL\n",
      "        AND F.BORROWING_PAY_AFTER_1YR IS NOT NULL\n",
      ")\n",
      "SELECT \n",
      "    SERIES_NAME,\n",
      "    (Total_Borrowing / NULLIF(Total_Assets, 0) * 100) as Leverage_Ratio\n",
      "FROM \n",
      "    LeverageAnalysis\n",
      "WHERE \n",
      "    Total_Assets > 0\n",
      "ORDER BY \n",
      "    Leverage_Ratio DESC\n",
      "LIMIT 10;\n",
      "INFO:chatgpt_api.api:SQL query executed successfully\n",
      "INFO:compare_csv:Executing LLM query\n",
      "DEBUG:urllib3.connectionpool:Starting new HTTP connection (1): localhost:8000\n"
     ]
    },
    {
     "name": "stdout",
     "output_type": "stream",
     "text": [
      "Mismatch found.\n"
     ]
    },
    {
     "name": "stderr",
     "output_type": "stream",
     "text": [
      "DEBUG:urllib3.connectionpool:http://localhost:8000 \"POST /query HTTP/11\" 500 55\n",
      "ERROR:compare_csv:Unexpected error in process_query: 500 Server Error: Internal Server Error for url: http://localhost:8000/query\n",
      "INFO:compare_csv:Executing LLM query\n",
      "DEBUG:urllib3.connectionpool:Starting new HTTP connection (1): localhost:8000\n"
     ]
    },
    {
     "name": "stdout",
     "output_type": "stream",
     "text": [
      "Error comparing queries: 500: Unexpected error: 500 Server Error: Internal Server Error for url: http://localhost:8000/query\n"
     ]
    },
    {
     "name": "stderr",
     "output_type": "stream",
     "text": [
      "DEBUG:urllib3.connectionpool:http://localhost:8000 \"POST /query HTTP/11\" 500 56\n",
      "ERROR:compare_csv:Unexpected error in process_query: 500 Server Error: Internal Server Error for url: http://localhost:8000/query\n",
      "INFO:compare_csv:Executing LLM query\n",
      "DEBUG:urllib3.connectionpool:Starting new HTTP connection (1): localhost:8000\n"
     ]
    },
    {
     "name": "stdout",
     "output_type": "stream",
     "text": [
      "Error comparing queries: 500: Unexpected error: 500 Server Error: Internal Server Error for url: http://localhost:8000/query\n"
     ]
    },
    {
     "name": "stderr",
     "output_type": "stream",
     "text": [
      "DEBUG:urllib3.connectionpool:http://localhost:8000 \"POST /query HTTP/11\" 200 892\n",
      "INFO:compare_csv:Executing grouth truth query...\n",
      "DEBUG:chatgpt_api.api:Executing SQL query: WITH MaturityDiversity AS (\n",
      "    SELECT \n",
      "        F.SERIES_NAME,\n",
      "        COUNT(DISTINCT \n",
      "            CASE \n",
      "                WHEN DS.MATURITY_DATE <= DATE('now', '+1 year') THEN 'SHORT_TERM'\n",
      "                WHEN DS.MATURITY_DATE <= DATE('now', '+5 year') THEN 'MEDIUM_TERM'\n",
      "                ELSE 'LONG_TERM'\n",
      "            END\n",
      "        ) as Maturity_Types,\n",
      "        COUNT(*) as Total_Debt_Securities\n",
      "    FROM \n",
      "        FUND_REPORTED_INFO F\n",
      "        JOIN FUND_REPORTED_HOLDING H \n",
      "            ON F.ACCESSION_NUMBER = H.ACCESSION_NUMBER\n",
      "        JOIN DEBT_SECURITY DS \n",
      "            ON H.HOLDING_ID = DS.HOLDING_ID\n",
      "    WHERE \n",
      "        DS.MATURITY_DATE IS NOT NULL\n",
      "    GROUP BY \n",
      "        F.SERIES_NAME\n",
      ")\n",
      "SELECT \n",
      "    SERIES_NAME,\n",
      "    Maturity_Types,\n",
      "    Total_Debt_Securities,\n",
      "    (Maturity_Types * 100.0 / 3) as Diversity_Score\n",
      "FROM \n",
      "    MaturityDiversity\n",
      "WHERE \n",
      "    Total_Debt_Securities >= 5\n",
      "ORDER BY \n",
      "    Maturity_Types DESC, \n",
      "    Total_Debt_Securities DESC;\n",
      "INFO:chatgpt_api.api:SQL query executed successfully\n",
      "INFO:compare_csv:Executing LLM query\n",
      "DEBUG:urllib3.connectionpool:Starting new HTTP connection (1): localhost:8000\n"
     ]
    },
    {
     "name": "stdout",
     "output_type": "stream",
     "text": [
      "Mismatch found.\n"
     ]
    },
    {
     "name": "stderr",
     "output_type": "stream",
     "text": [
      "DEBUG:urllib3.connectionpool:http://localhost:8000 \"POST /query HTTP/11\" 200 301\n",
      "INFO:compare_csv:Executing grouth truth query...\n",
      "DEBUG:chatgpt_api.api:Executing SQL query: WITH QuarterlySizes AS (\n",
      "    SELECT \n",
      "        QUARTER,\n",
      "        COUNT(DISTINCT SERIES_NAME) as Number_of_Funds,\n",
      "        AVG(CAST(TOTAL_ASSETS AS FLOAT)) as Average_Fund_Size,\n",
      "        SUM(CAST(TOTAL_ASSETS AS FLOAT)) as Total_Industry_Assets\n",
      "    FROM \n",
      "        FUND_REPORTED_INFO\n",
      "    WHERE \n",
      "        TOTAL_ASSETS IS NOT NULL\n",
      "    GROUP BY \n",
      "        QUARTER\n",
      ")\n",
      "SELECT * FROM QuarterlySizes\n",
      "ORDER BY \n",
      "    QUARTER DESC;\n",
      "INFO:chatgpt_api.api:SQL query executed successfully\n",
      "INFO:compare_csv:Executing LLM query\n",
      "DEBUG:urllib3.connectionpool:Starting new HTTP connection (1): localhost:8000\n"
     ]
    },
    {
     "name": "stdout",
     "output_type": "stream",
     "text": [
      "Mismatch found.\n"
     ]
    },
    {
     "name": "stderr",
     "output_type": "stream",
     "text": [
      "DEBUG:urllib3.connectionpool:http://localhost:8000 \"POST /query HTTP/11\" 500 56\n",
      "ERROR:compare_csv:Unexpected error in process_query: 500 Server Error: Internal Server Error for url: http://localhost:8000/query\n",
      "INFO:compare_csv:Executing LLM query\n",
      "DEBUG:urllib3.connectionpool:Starting new HTTP connection (1): localhost:8000\n"
     ]
    },
    {
     "name": "stdout",
     "output_type": "stream",
     "text": [
      "Error comparing queries: 500: Unexpected error: 500 Server Error: Internal Server Error for url: http://localhost:8000/query\n"
     ]
    },
    {
     "name": "stderr",
     "output_type": "stream",
     "text": [
      "DEBUG:urllib3.connectionpool:http://localhost:8000 \"POST /query HTTP/11\" 500 62\n",
      "ERROR:compare_csv:Unexpected error in process_query: 500 Server Error: Internal Server Error for url: http://localhost:8000/query\n",
      "INFO:compare_csv:Executing LLM query\n",
      "DEBUG:urllib3.connectionpool:Starting new HTTP connection (1): localhost:8000\n"
     ]
    },
    {
     "name": "stdout",
     "output_type": "stream",
     "text": [
      "Error comparing queries: 500: Unexpected error: 500 Server Error: Internal Server Error for url: http://localhost:8000/query\n"
     ]
    },
    {
     "name": "stderr",
     "output_type": "stream",
     "text": [
      "DEBUG:urllib3.connectionpool:http://localhost:8000 \"POST /query HTTP/11\" 200 332\n",
      "INFO:compare_csv:Executing grouth truth query...\n",
      "DEBUG:chatgpt_api.api:Executing SQL query: WITH LeverageMetrics AS (\n",
      "    SELECT \n",
      "        QUARTER,\n",
      "        SERIES_NAME,\n",
      "        CAST(BORROWING_PAY_WITHIN_1YR AS FLOAT) + \n",
      "        CAST(BORROWING_PAY_AFTER_1YR AS FLOAT) as Total_Borrowing\n",
      "    FROM \n",
      "        FUND_REPORTED_INFO\n",
      "    WHERE \n",
      "        BORROWING_PAY_WITHIN_1YR IS NOT NULL \n",
      "        OR BORROWING_PAY_AFTER_1YR IS NOT NULL\n",
      ")\n",
      "SELECT \n",
      "    QUARTER,\n",
      "    AVG(Total_Borrowing) as Avg_Total_Borrowing,\n",
      "    COUNT(DISTINCT SERIES_NAME) as Number_of_Funds_With_Borrowing\n",
      "FROM \n",
      "    LeverageMetrics\n",
      "GROUP BY \n",
      "    QUARTER\n",
      "ORDER BY \n",
      "    QUARTER DESC;\n",
      "INFO:chatgpt_api.api:SQL query executed successfully\n",
      "INFO:compare_csv:Executing LLM query\n",
      "DEBUG:urllib3.connectionpool:Starting new HTTP connection (1): localhost:8000\n"
     ]
    },
    {
     "name": "stdout",
     "output_type": "stream",
     "text": [
      "Mismatch found.\n"
     ]
    },
    {
     "name": "stderr",
     "output_type": "stream",
     "text": [
      "DEBUG:urllib3.connectionpool:http://localhost:8000 \"POST /query HTTP/11\" 500 75\n",
      "ERROR:compare_csv:Unexpected error in process_query: 500 Server Error: Internal Server Error for url: http://localhost:8000/query\n",
      "INFO:compare_csv:Executing LLM query\n",
      "DEBUG:urllib3.connectionpool:Starting new HTTP connection (1): localhost:8000\n"
     ]
    },
    {
     "name": "stdout",
     "output_type": "stream",
     "text": [
      "Error comparing queries: 500: Unexpected error: 500 Server Error: Internal Server Error for url: http://localhost:8000/query\n"
     ]
    },
    {
     "name": "stderr",
     "output_type": "stream",
     "text": [
      "DEBUG:urllib3.connectionpool:http://localhost:8000 \"POST /query HTTP/11\" 500 56\n",
      "ERROR:compare_csv:Unexpected error in process_query: 500 Server Error: Internal Server Error for url: http://localhost:8000/query\n",
      "INFO:compare_csv:Executing LLM query\n",
      "DEBUG:urllib3.connectionpool:Starting new HTTP connection (1): localhost:8000\n"
     ]
    },
    {
     "name": "stdout",
     "output_type": "stream",
     "text": [
      "Error comparing queries: 500: Unexpected error: 500 Server Error: Internal Server Error for url: http://localhost:8000/query\n"
     ]
    },
    {
     "name": "stderr",
     "output_type": "stream",
     "text": [
      "DEBUG:urllib3.connectionpool:http://localhost:8000 \"POST /query HTTP/11\" 500 61\n",
      "ERROR:compare_csv:Unexpected error in process_query: 500 Server Error: Internal Server Error for url: http://localhost:8000/query\n",
      "INFO:compare_csv:Executing LLM query\n",
      "DEBUG:urllib3.connectionpool:Starting new HTTP connection (1): localhost:8000\n"
     ]
    },
    {
     "name": "stdout",
     "output_type": "stream",
     "text": [
      "Error comparing queries: 500: Unexpected error: 500 Server Error: Internal Server Error for url: http://localhost:8000/query\n"
     ]
    },
    {
     "name": "stderr",
     "output_type": "stream",
     "text": [
      "DEBUG:urllib3.connectionpool:http://localhost:8000 \"POST /query HTTP/11\" 200 333\n",
      "INFO:compare_csv:Executing grouth truth query...\n",
      "DEBUG:chatgpt_api.api:Executing SQL query: WITH CashPositions AS (\n",
      "    SELECT \n",
      "        QUARTER,\n",
      "        CAST(CASH_NOT_RPTD_IN_C_OR_D AS FLOAT) as Cash_Position\n",
      "    FROM \n",
      "        FUND_REPORTED_INFO\n",
      "    WHERE \n",
      "        CASH_NOT_RPTD_IN_C_OR_D IS NOT NULL\n",
      ")\n",
      "SELECT \n",
      "    QUARTER,\n",
      "    AVG(Cash_Position) as Avg_Cash_Position,\n",
      "    MAX(Cash_Position) as Max_Cash_Position,\n",
      "    MIN(Cash_Position) as Min_Cash_Position\n",
      "FROM \n",
      "    CashPositions\n",
      "GROUP BY \n",
      "    QUARTER\n",
      "ORDER BY \n",
      "    QUARTER DESC;\n",
      "INFO:chatgpt_api.api:SQL query executed successfully\n",
      "INFO:compare_csv:Executing LLM query\n",
      "DEBUG:urllib3.connectionpool:Starting new HTTP connection (1): localhost:8000\n"
     ]
    },
    {
     "name": "stdout",
     "output_type": "stream",
     "text": [
      "Mismatch found.\n"
     ]
    },
    {
     "name": "stderr",
     "output_type": "stream",
     "text": [
      "DEBUG:urllib3.connectionpool:http://localhost:8000 \"POST /query HTTP/11\" 500 54\n",
      "ERROR:compare_csv:Unexpected error in process_query: 500 Server Error: Internal Server Error for url: http://localhost:8000/query\n",
      "INFO:compare_csv:Executing LLM query\n",
      "DEBUG:urllib3.connectionpool:Starting new HTTP connection (1): localhost:8000\n"
     ]
    },
    {
     "name": "stdout",
     "output_type": "stream",
     "text": [
      "Error comparing queries: 500: Unexpected error: 500 Server Error: Internal Server Error for url: http://localhost:8000/query\n"
     ]
    },
    {
     "name": "stderr",
     "output_type": "stream",
     "text": [
      "DEBUG:urllib3.connectionpool:http://localhost:8000 \"POST /query HTTP/11\" 200 475\n",
      "INFO:compare_csv:Executing grouth truth query...\n",
      "DEBUG:chatgpt_api.api:Executing SQL query: WITH RankedFunds AS (\n",
      "    SELECT \n",
      "        QUARTER,\n",
      "        SERIES_NAME,\n",
      "        CAST(TOTAL_ASSETS AS FLOAT) as Assets,\n",
      "        ROW_NUMBER() OVER (PARTITION BY QUARTER ORDER BY CAST(TOTAL_ASSETS AS FLOAT) DESC) as Rank\n",
      "    FROM \n",
      "        FUND_REPORTED_INFO\n",
      "    WHERE \n",
      "        TOTAL_ASSETS IS NOT NULL\n",
      ")\n",
      "SELECT \n",
      "    QUARTER,\n",
      "    SERIES_NAME,\n",
      "    Assets\n",
      "FROM \n",
      "    RankedFunds\n",
      "WHERE \n",
      "    Rank <= 5\n",
      "ORDER BY \n",
      "    QUARTER DESC, \n",
      "    Assets DESC;\n",
      "INFO:chatgpt_api.api:SQL query executed successfully\n",
      "INFO:compare_csv:Executing LLM query\n",
      "DEBUG:urllib3.connectionpool:Starting new HTTP connection (1): localhost:8000\n"
     ]
    },
    {
     "name": "stdout",
     "output_type": "stream",
     "text": [
      "Mismatch found.\n"
     ]
    },
    {
     "name": "stderr",
     "output_type": "stream",
     "text": [
      "DEBUG:urllib3.connectionpool:http://localhost:8000 \"POST /query HTTP/11\" 200 27099\n",
      "INFO:compare_csv:Executing grouth truth query...\n",
      "DEBUG:chatgpt_api.api:Executing SQL query: WITH FundCounts AS (\n",
      "    SELECT \n",
      "        r.REGISTRANT_NAME,\n",
      "        f.SERIES_NAME,\n",
      "        f.SERIES_ID\n",
      "    FROM \n",
      "        REGISTRANT r\n",
      "        JOIN FUND_REPORTED_INFO f ON r.ACCESSION_NUMBER = f.ACCESSION_NUMBER\n",
      ")\n",
      "SELECT \n",
      "    REGISTRANT_NAME,\n",
      "    COUNT(DISTINCT SERIES_NAME) as Number_of_Funds,\n",
      "    COUNT(DISTINCT SERIES_ID) as Unique_Fund_IDs\n",
      "FROM \n",
      "    FundCounts\n",
      "GROUP BY \n",
      "    REGISTRANT_NAME\n",
      "ORDER BY \n",
      "    Number_of_Funds DESC\n",
      "LIMIT 10;\n",
      "INFO:chatgpt_api.api:SQL query executed successfully\n",
      "INFO:compare_csv:Executing LLM query\n",
      "DEBUG:urllib3.connectionpool:Starting new HTTP connection (1): localhost:8000\n"
     ]
    },
    {
     "name": "stdout",
     "output_type": "stream",
     "text": [
      "Mismatch found.\n"
     ]
    },
    {
     "name": "stderr",
     "output_type": "stream",
     "text": [
      "DEBUG:urllib3.connectionpool:http://localhost:8000 \"POST /query HTTP/11\" 200 518\n",
      "INFO:compare_csv:Executing grouth truth query...\n",
      "DEBUG:chatgpt_api.api:Executing SQL query: WITH LargeFunds AS (\n",
      "    SELECT \n",
      "        QUARTER,\n",
      "        COUNT(*) as Total_Funds,\n",
      "        COUNT(CASE WHEN CAST(TOTAL_ASSETS AS FLOAT) > 1000000000 THEN 1 END) as Billion_Plus_Funds\n",
      "    FROM \n",
      "        FUND_REPORTED_INFO\n",
      "    WHERE \n",
      "        TOTAL_ASSETS IS NOT NULL\n",
      "    GROUP BY \n",
      "        QUARTER\n",
      ")\n",
      "SELECT \n",
      "    QUARTER,\n",
      "    Billion_Plus_Funds,\n",
      "    Total_Funds,\n",
      "    (Billion_Plus_Funds * 100.0 / Total_Funds) as Large_Fund_Percentage\n",
      "FROM \n",
      "    LargeFunds\n",
      "ORDER BY \n",
      "    QUARTER DESC;\n",
      "INFO:chatgpt_api.api:SQL query executed successfully\n",
      "INFO:compare_csv:Executing LLM query\n",
      "DEBUG:urllib3.connectionpool:Starting new HTTP connection (1): localhost:8000\n"
     ]
    },
    {
     "name": "stdout",
     "output_type": "stream",
     "text": [
      "Mismatch found.\n"
     ]
    },
    {
     "name": "stderr",
     "output_type": "stream",
     "text": [
      "DEBUG:urllib3.connectionpool:http://localhost:8000 \"POST /query HTTP/11\" 200 2375\n",
      "INFO:compare_csv:Executing grouth truth query...\n",
      "DEBUG:chatgpt_api.api:Executing SQL query: SELECT \n",
      "    F.SERIES_NAME,\n",
      "    CAST(F.TOTAL_LIABILITIES AS FLOAT) / NULLIF(CAST(F.TOTAL_ASSETS AS FLOAT), 0) * 100 as Liability_Percentage,\n",
      "    F.TOTAL_ASSETS,\n",
      "    F.TOTAL_LIABILITIES\n",
      "FROM \n",
      "    FUND_REPORTED_INFO F\n",
      "WHERE \n",
      "    CAST(F.TOTAL_LIABILITIES AS FLOAT) / NULLIF(CAST(F.TOTAL_ASSETS AS FLOAT), 0) > 0.5\n",
      "ORDER BY \n",
      "    Liability_Percentage DESC;\n",
      "INFO:chatgpt_api.api:SQL query executed successfully\n",
      "INFO:compare_csv:Executing LLM query\n",
      "DEBUG:urllib3.connectionpool:Starting new HTTP connection (1): localhost:8000\n"
     ]
    },
    {
     "name": "stdout",
     "output_type": "stream",
     "text": [
      "Mismatch found.\n"
     ]
    },
    {
     "name": "stderr",
     "output_type": "stream",
     "text": [
      "DEBUG:urllib3.connectionpool:http://localhost:8000 \"POST /query HTTP/11\" 200 161610\n",
      "INFO:compare_csv:Executing grouth truth query...\n",
      "DEBUG:chatgpt_api.api:Executing SQL query: WITH HoldingPercentages AS (\n",
      "    SELECT \n",
      "        F.SERIES_NAME,\n",
      "        H.ISSUER_NAME,\n",
      "        H.PERCENTAGE,\n",
      "        ROW_NUMBER() OVER (PARTITION BY F.SERIES_NAME ORDER BY CAST(H.PERCENTAGE AS FLOAT) DESC) as Position_Rank\n",
      "    FROM \n",
      "        FUND_REPORTED_INFO F\n",
      "        JOIN FUND_REPORTED_HOLDING H \n",
      "            ON F.ACCESSION_NUMBER = H.ACCESSION_NUMBER\n",
      "    WHERE \n",
      "        H.PERCENTAGE IS NOT NULL\n",
      ")\n",
      "SELECT \n",
      "    SERIES_NAME,\n",
      "    ISSUER_NAME,\n",
      "    PERCENTAGE\n",
      "FROM \n",
      "    HoldingPercentages\n",
      "WHERE \n",
      "    Position_Rank = 1\n",
      "ORDER BY \n",
      "    CAST(PERCENTAGE AS FLOAT) DESC;\n",
      "INFO:chatgpt_api.api:SQL query executed successfully\n",
      "INFO:compare_csv:Executing LLM query\n",
      "DEBUG:urllib3.connectionpool:Starting new HTTP connection (1): localhost:8000\n"
     ]
    },
    {
     "name": "stdout",
     "output_type": "stream",
     "text": [
      "Mismatch found.\n"
     ]
    },
    {
     "name": "stderr",
     "output_type": "stream",
     "text": [
      "DEBUG:urllib3.connectionpool:http://localhost:8000 \"POST /query HTTP/11\" 200 879\n",
      "INFO:compare_csv:Executing grouth truth query...\n",
      "DEBUG:chatgpt_api.api:Executing SQL query: SELECT \n",
      "    F.SERIES_NAME,\n",
      "    IR.INTRST_RATE_CHANGE_10YR_DV01 as Ten_Year_Risk,\n",
      "    IR.INTRST_RATE_CHANGE_30YR_DV01 as Thirty_Year_Risk,\n",
      "    F.TOTAL_ASSETS\n",
      "FROM \n",
      "    FUND_REPORTED_INFO F\n",
      "    JOIN INTEREST_RATE_RISK IR \n",
      "        ON F.ACCESSION_NUMBER = IR.ACCESSION_NUMBER\n",
      "WHERE \n",
      "    IR.CURRENCY_CODE = 'USD'\n",
      "    AND (\n",
      "        CAST(IR.INTRST_RATE_CHANGE_10YR_DV01 AS FLOAT) > 100000\n",
      "        OR CAST(IR.INTRST_RATE_CHANGE_30YR_DV01 AS FLOAT) > 100000\n",
      "    )\n",
      "ORDER BY \n",
      "    CAST(IR.INTRST_RATE_CHANGE_10YR_DV01 AS FLOAT) DESC;\n",
      "INFO:chatgpt_api.api:SQL query executed successfully\n",
      "INFO:compare_csv:Executing LLM query\n",
      "DEBUG:urllib3.connectionpool:Starting new HTTP connection (1): localhost:8000\n"
     ]
    },
    {
     "name": "stdout",
     "output_type": "stream",
     "text": [
      "Mismatch found.\n"
     ]
    },
    {
     "name": "stderr",
     "output_type": "stream",
     "text": [
      "DEBUG:urllib3.connectionpool:http://localhost:8000 \"POST /query HTTP/11\" 500 62\n",
      "ERROR:compare_csv:Unexpected error in process_query: 500 Server Error: Internal Server Error for url: http://localhost:8000/query\n",
      "INFO:compare_csv:Executing LLM query\n",
      "DEBUG:urllib3.connectionpool:Starting new HTTP connection (1): localhost:8000\n"
     ]
    },
    {
     "name": "stdout",
     "output_type": "stream",
     "text": [
      "Error comparing queries: 500: Unexpected error: 500 Server Error: Internal Server Error for url: http://localhost:8000/query\n"
     ]
    },
    {
     "name": "stderr",
     "output_type": "stream",
     "text": [
      "DEBUG:urllib3.connectionpool:http://localhost:8000 \"POST /query HTTP/11\" 500 75\n",
      "ERROR:compare_csv:Unexpected error in process_query: 500 Server Error: Internal Server Error for url: http://localhost:8000/query\n",
      "INFO:compare_csv:Executing LLM query\n",
      "DEBUG:urllib3.connectionpool:Starting new HTTP connection (1): localhost:8000\n"
     ]
    },
    {
     "name": "stdout",
     "output_type": "stream",
     "text": [
      "Error comparing queries: 500: Unexpected error: 500 Server Error: Internal Server Error for url: http://localhost:8000/query\n"
     ]
    },
    {
     "name": "stderr",
     "output_type": "stream",
     "text": [
      "DEBUG:urllib3.connectionpool:http://localhost:8000 \"POST /query HTTP/11\" 500 55\n",
      "ERROR:compare_csv:Unexpected error in process_query: 500 Server Error: Internal Server Error for url: http://localhost:8000/query\n",
      "INFO:compare_csv:Executing LLM query\n",
      "DEBUG:urllib3.connectionpool:Starting new HTTP connection (1): localhost:8000\n"
     ]
    },
    {
     "name": "stdout",
     "output_type": "stream",
     "text": [
      "Error comparing queries: 500: Unexpected error: 500 Server Error: Internal Server Error for url: http://localhost:8000/query\n"
     ]
    },
    {
     "name": "stderr",
     "output_type": "stream",
     "text": [
      "DEBUG:urllib3.connectionpool:http://localhost:8000 \"POST /query HTTP/11\" 200 1068\n",
      "INFO:compare_csv:Executing grouth truth query...\n",
      "DEBUG:chatgpt_api.api:Executing SQL query: SELECT \n",
      "    R.STATE,\n",
      "    COUNT(DISTINCT R.REGISTRANT_NAME) as Company_Count,\n",
      "    COUNT(DISTINCT F.SERIES_NAME) as Fund_Count,\n",
      "    SUM(CAST(F.NET_ASSETS AS FLOAT)) as Total_Net_Assets\n",
      "FROM \n",
      "    REGISTRANT R\n",
      "    JOIN FUND_REPORTED_INFO F ON R.ACCESSION_NUMBER = F.ACCESSION_NUMBER\n",
      "WHERE \n",
      "    R.STATE IS NOT NULL\n",
      "GROUP BY \n",
      "    R.STATE\n",
      "ORDER BY \n",
      "    Total_Net_Assets DESC;\n",
      "INFO:chatgpt_api.api:SQL query executed successfully\n",
      "INFO:compare_csv:Executing LLM query\n",
      "DEBUG:urllib3.connectionpool:Starting new HTTP connection (1): localhost:8000\n"
     ]
    },
    {
     "name": "stdout",
     "output_type": "stream",
     "text": [
      "Mismatch found.\n"
     ]
    },
    {
     "name": "stderr",
     "output_type": "stream",
     "text": [
      "DEBUG:urllib3.connectionpool:http://localhost:8000 \"POST /query HTTP/11\" 500 56\n",
      "ERROR:compare_csv:Unexpected error in process_query: 500 Server Error: Internal Server Error for url: http://localhost:8000/query\n",
      "INFO:compare_csv:Executing LLM query\n",
      "DEBUG:urllib3.connectionpool:Starting new HTTP connection (1): localhost:8000\n"
     ]
    },
    {
     "name": "stdout",
     "output_type": "stream",
     "text": [
      "Error comparing queries: 500: Unexpected error: 500 Server Error: Internal Server Error for url: http://localhost:8000/query\n"
     ]
    },
    {
     "name": "stderr",
     "output_type": "stream",
     "text": [
      "DEBUG:urllib3.connectionpool:http://localhost:8000 \"POST /query HTTP/11\" 500 54\n",
      "ERROR:compare_csv:Unexpected error in process_query: 500 Server Error: Internal Server Error for url: http://localhost:8000/query\n",
      "INFO:compare_csv:Executing LLM query\n",
      "DEBUG:urllib3.connectionpool:Starting new HTTP connection (1): localhost:8000\n"
     ]
    },
    {
     "name": "stdout",
     "output_type": "stream",
     "text": [
      "Error comparing queries: 500: Unexpected error: 500 Server Error: Internal Server Error for url: http://localhost:8000/query\n"
     ]
    },
    {
     "name": "stderr",
     "output_type": "stream",
     "text": [
      "DEBUG:urllib3.connectionpool:http://localhost:8000 \"POST /query HTTP/11\" 500 59\n",
      "ERROR:compare_csv:Unexpected error in process_query: 500 Server Error: Internal Server Error for url: http://localhost:8000/query\n",
      "INFO:compare_csv:Executing LLM query\n",
      "DEBUG:urllib3.connectionpool:Starting new HTTP connection (1): localhost:8000\n"
     ]
    },
    {
     "name": "stdout",
     "output_type": "stream",
     "text": [
      "Error comparing queries: 500: Unexpected error: 500 Server Error: Internal Server Error for url: http://localhost:8000/query\n"
     ]
    },
    {
     "name": "stderr",
     "output_type": "stream",
     "text": [
      "DEBUG:urllib3.connectionpool:http://localhost:8000 \"POST /query HTTP/11\" 500 64\n",
      "ERROR:compare_csv:Unexpected error in process_query: 500 Server Error: Internal Server Error for url: http://localhost:8000/query\n",
      "INFO:compare_csv:Executing LLM query\n",
      "DEBUG:urllib3.connectionpool:Starting new HTTP connection (1): localhost:8000\n"
     ]
    },
    {
     "name": "stdout",
     "output_type": "stream",
     "text": [
      "Error comparing queries: 500: Unexpected error: 500 Server Error: Internal Server Error for url: http://localhost:8000/query\n"
     ]
    },
    {
     "name": "stderr",
     "output_type": "stream",
     "text": [
      "DEBUG:urllib3.connectionpool:http://localhost:8000 \"POST /query HTTP/11\" 200 2805\n",
      "INFO:compare_csv:Executing grouth truth query...\n",
      "DEBUG:chatgpt_api.api:Executing SQL query: SELECT \n",
      "    SERIES_NAME,\n",
      "    TOTAL_ASSETS,\n",
      "    LIQUIDATION_PREFERENCE,\n",
      "    (CAST(LIQUIDATION_PREFERENCE AS FLOAT) / \n",
      "     NULLIF(CAST(TOTAL_ASSETS AS FLOAT), 0)) * 100 as Preference_Ratio\n",
      "FROM \n",
      "    FUND_REPORTED_INFO\n",
      "WHERE \n",
      "    CAST(LIQUIDATION_PREFERENCE AS FLOAT) > 1000000\n",
      "ORDER BY \n",
      "    Preference_Ratio DESC;\n",
      "INFO:chatgpt_api.api:SQL query executed successfully\n",
      "INFO:compare_csv:Executing LLM query\n",
      "DEBUG:urllib3.connectionpool:Starting new HTTP connection (1): localhost:8000\n"
     ]
    },
    {
     "name": "stdout",
     "output_type": "stream",
     "text": [
      "Mismatch found.\n"
     ]
    },
    {
     "name": "stderr",
     "output_type": "stream",
     "text": [
      "DEBUG:urllib3.connectionpool:http://localhost:8000 \"POST /query HTTP/11\" 200 893\n",
      "INFO:compare_csv:Executing grouth truth query...\n",
      "DEBUG:chatgpt_api.api:Executing SQL query: SELECT \n",
      "    F.SERIES_NAME,\n",
      "    H.ISSUER_NAME,\n",
      "    CSC.CONVERSION_RATIO,\n",
      "    H.CURRENCY_VALUE\n",
      "FROM \n",
      "    FUND_REPORTED_INFO F\n",
      "    JOIN FUND_REPORTED_HOLDING H ON F.ACCESSION_NUMBER = H.ACCESSION_NUMBER\n",
      "    JOIN CONVERTIBLE_SECURITY_CURRENCY CSC ON H.HOLDING_ID = CSC.HOLDING_ID\n",
      "WHERE \n",
      "    CAST(CSC.CONVERSION_RATIO AS FLOAT) > 1\n",
      "ORDER BY \n",
      "    CAST(CSC.CONVERSION_RATIO AS FLOAT) DESC;\n",
      "INFO:chatgpt_api.api:SQL query executed successfully\n",
      "INFO:compare_csv:Executing LLM query\n",
      "DEBUG:urllib3.connectionpool:Starting new HTTP connection (1): localhost:8000\n"
     ]
    },
    {
     "name": "stdout",
     "output_type": "stream",
     "text": [
      "Mismatch found.\n"
     ]
    },
    {
     "name": "stderr",
     "output_type": "stream",
     "text": [
      "DEBUG:urllib3.connectionpool:http://localhost:8000 \"POST /query HTTP/11\" 500 53\n",
      "ERROR:compare_csv:Unexpected error in process_query: 500 Server Error: Internal Server Error for url: http://localhost:8000/query\n",
      "INFO:compare_csv:Executing LLM query\n",
      "DEBUG:urllib3.connectionpool:Starting new HTTP connection (1): localhost:8000\n"
     ]
    },
    {
     "name": "stdout",
     "output_type": "stream",
     "text": [
      "Error comparing queries: 500: Unexpected error: 500 Server Error: Internal Server Error for url: http://localhost:8000/query\n"
     ]
    },
    {
     "name": "stderr",
     "output_type": "stream",
     "text": [
      "DEBUG:urllib3.connectionpool:http://localhost:8000 \"POST /query HTTP/11\" 200 1205\n",
      "INFO:compare_csv:Executing grouth truth query...\n",
      "DEBUG:chatgpt_api.api:Executing SQL query: WITH PIMCOPerformance AS (\n",
      "    SELECT \n",
      "        F.SERIES_NAME,\n",
      "        CASE \n",
      "            WHEN F.SERIES_NAME LIKE '%BOND%' THEN 'Bond'\n",
      "            WHEN F.SERIES_NAME LIKE '%EQUITY%' THEN 'Equity'\n",
      "            ELSE 'Other'\n",
      "        END as Fund_Type,\n",
      "        M.MONTHLY_TOTAL_RETURN1,\n",
      "        F.TOTAL_ASSETS\n",
      "    FROM \n",
      "        FUND_REPORTED_INFO F\n",
      "        JOIN REGISTRANT R ON F.ACCESSION_NUMBER = R.ACCESSION_NUMBER\n",
      "        JOIN MONTHLY_TOTAL_RETURN M ON F.ACCESSION_NUMBER = M.ACCESSION_NUMBER\n",
      "    WHERE \n",
      "        R.REGISTRANT_NAME LIKE '%PIMCO%'\n",
      ")\n",
      "SELECT \n",
      "    Fund_Type,\n",
      "    COUNT(*) as Fund_Count,\n",
      "    AVG(CAST(MONTHLY_TOTAL_RETURN1 AS FLOAT)) as Avg_Monthly_Return,\n",
      "    SUM(CAST(TOTAL_ASSETS AS FLOAT)) as Total_AUM\n",
      "FROM \n",
      "    PIMCOPerformance\n",
      "WHERE \n",
      "    Fund_Type IN ('Bond', 'Equity')\n",
      "GROUP BY \n",
      "    Fund_Type;\n",
      "INFO:chatgpt_api.api:SQL query executed successfully\n",
      "INFO:compare_csv:Executing LLM query\n",
      "DEBUG:urllib3.connectionpool:Starting new HTTP connection (1): localhost:8000\n"
     ]
    },
    {
     "name": "stdout",
     "output_type": "stream",
     "text": [
      "Mismatch found.\n"
     ]
    },
    {
     "name": "stderr",
     "output_type": "stream",
     "text": [
      "DEBUG:urllib3.connectionpool:http://localhost:8000 \"POST /query HTTP/11\" 200 877\n",
      "INFO:compare_csv:Executing grouth truth query...\n",
      "DEBUG:chatgpt_api.api:Executing SQL query: WITH CategoryPerformance AS (\n",
      "    SELECT \n",
      "        H.ASSET_CAT,\n",
      "        AVG(CAST(M.MONTHLY_TOTAL_RETURN1 AS FLOAT)) as Avg_Return,\n",
      "        SUM(CAST(H.CURRENCY_VALUE AS FLOAT)) as Total_Value,\n",
      "        COUNT(DISTINCT F.SERIES_NAME) as Fund_Count\n",
      "    FROM \n",
      "        FUND_REPORTED_HOLDING H\n",
      "        JOIN FUND_REPORTED_INFO F ON H.ACCESSION_NUMBER = F.ACCESSION_NUMBER\n",
      "        JOIN MONTHLY_TOTAL_RETURN M ON F.ACCESSION_NUMBER = M.ACCESSION_NUMBER\n",
      "    WHERE \n",
      "        H.ASSET_CAT IS NOT NULL\n",
      "    GROUP BY \n",
      "        H.ASSET_CAT\n",
      ")\n",
      "SELECT \n",
      "    ASSET_CAT,\n",
      "    Avg_Return,\n",
      "    Total_Value,\n",
      "    Fund_Count\n",
      "FROM \n",
      "    CategoryPerformance\n",
      "ORDER BY \n",
      "    Avg_Return DESC;\n",
      "INFO:chatgpt_api.api:SQL query executed successfully\n",
      "INFO:compare_csv:Executing LLM query\n",
      "DEBUG:urllib3.connectionpool:Starting new HTTP connection (1): localhost:8000\n"
     ]
    },
    {
     "name": "stdout",
     "output_type": "stream",
     "text": [
      "Mismatch found.\n"
     ]
    },
    {
     "name": "stderr",
     "output_type": "stream",
     "text": [
      "DEBUG:urllib3.connectionpool:http://localhost:8000 \"POST /query HTTP/11\" 200 865\n",
      "INFO:compare_csv:Executing grouth truth query...\n",
      "DEBUG:chatgpt_api.api:Executing SQL query: WITH FlowTrends AS (\n",
      "    SELECT \n",
      "        F.SERIES_NAME,\n",
      "        F.SALES_FLOW_MON1,\n",
      "        F.SALES_FLOW_MON2,\n",
      "        ((CAST(F.SALES_FLOW_MON1 AS FLOAT) - CAST(F.SALES_FLOW_MON2 AS FLOAT)) / \n",
      "         NULLIF(CAST(F.SALES_FLOW_MON2 AS FLOAT), 0)) * 100 as Flow_Change_Pct\n",
      "    FROM \n",
      "        FUND_REPORTED_INFO F\n",
      "    WHERE \n",
      "        F.SALES_FLOW_MON1 IS NOT NULL \n",
      "        AND F.SALES_FLOW_MON2 IS NOT NULL\n",
      ")\n",
      "SELECT \n",
      "    SERIES_NAME,\n",
      "    SALES_FLOW_MON1 as Current_Flow,\n",
      "    SALES_FLOW_MON2 as Previous_Flow,\n",
      "    Flow_Change_Pct\n",
      "FROM \n",
      "    FlowTrends\n",
      "WHERE \n",
      "    ABS(Flow_Change_Pct) > 10\n",
      "ORDER BY \n",
      "    ABS(Flow_Change_Pct) DESC;\n",
      "INFO:chatgpt_api.api:SQL query executed successfully\n",
      "INFO:compare_csv:Executing LLM query\n",
      "DEBUG:urllib3.connectionpool:Starting new HTTP connection (1): localhost:8000\n"
     ]
    },
    {
     "name": "stdout",
     "output_type": "stream",
     "text": [
      "Mismatch found.\n"
     ]
    },
    {
     "name": "stderr",
     "output_type": "stream",
     "text": [
      "DEBUG:urllib3.connectionpool:http://localhost:8000 \"POST /query HTTP/11\" 500 64\n",
      "ERROR:compare_csv:Unexpected error in process_query: 500 Server Error: Internal Server Error for url: http://localhost:8000/query\n",
      "INFO:compare_csv:Executing LLM query\n",
      "DEBUG:urllib3.connectionpool:Starting new HTTP connection (1): localhost:8000\n"
     ]
    },
    {
     "name": "stdout",
     "output_type": "stream",
     "text": [
      "Error comparing queries: 500: Unexpected error: 500 Server Error: Internal Server Error for url: http://localhost:8000/query\n"
     ]
    },
    {
     "name": "stderr",
     "output_type": "stream",
     "text": [
      "DEBUG:urllib3.connectionpool:http://localhost:8000 \"POST /query HTTP/11\" 500 58\n",
      "ERROR:compare_csv:Unexpected error in process_query: 500 Server Error: Internal Server Error for url: http://localhost:8000/query\n",
      "INFO:compare_csv:Executing LLM query\n",
      "DEBUG:urllib3.connectionpool:Starting new HTTP connection (1): localhost:8000\n"
     ]
    },
    {
     "name": "stdout",
     "output_type": "stream",
     "text": [
      "Error comparing queries: 500: Unexpected error: 500 Server Error: Internal Server Error for url: http://localhost:8000/query\n"
     ]
    },
    {
     "name": "stderr",
     "output_type": "stream",
     "text": [
      "DEBUG:urllib3.connectionpool:http://localhost:8000 \"POST /query HTTP/11\" 500 65\n",
      "ERROR:compare_csv:Unexpected error in process_query: 500 Server Error: Internal Server Error for url: http://localhost:8000/query\n",
      "INFO:compare_csv:Executing LLM query\n",
      "DEBUG:urllib3.connectionpool:Starting new HTTP connection (1): localhost:8000\n"
     ]
    },
    {
     "name": "stdout",
     "output_type": "stream",
     "text": [
      "Error comparing queries: 500: Unexpected error: 500 Server Error: Internal Server Error for url: http://localhost:8000/query\n"
     ]
    },
    {
     "name": "stderr",
     "output_type": "stream",
     "text": [
      "DEBUG:urllib3.connectionpool:http://localhost:8000 \"POST /query HTTP/11\" 200 385\n",
      "INFO:compare_csv:Executing grouth truth query...\n",
      "DEBUG:chatgpt_api.api:Executing SQL query: SELECT \n",
      "    H.INVESTMENT_COUNTRY,\n",
      "    COUNT(DISTINCT F.SERIES_NAME) as Fund_Count,\n",
      "    SUM(CAST(H.CURRENCY_VALUE AS FLOAT)) as Total_Value,\n",
      "    SUM(CAST(H.CURRENCY_VALUE AS FLOAT)) / \n",
      "    SUM(SUM(CAST(H.CURRENCY_VALUE AS FLOAT))) OVER () * 100 as Percentage\n",
      "FROM \n",
      "    FUND_REPORTED_HOLDING H\n",
      "    JOIN FUND_REPORTED_INFO F ON H.ACCESSION_NUMBER = F.ACCESSION_NUMBER\n",
      "WHERE \n",
      "    H.INVESTMENT_COUNTRY IS NOT NULL\n",
      "    AND H.INVESTMENT_COUNTRY != 'US'\n",
      "GROUP BY \n",
      "    H.INVESTMENT_COUNTRY\n",
      "ORDER BY \n",
      "    Total_Value DESC;\n",
      "INFO:chatgpt_api.api:SQL query executed successfully\n",
      "INFO:compare_csv:Executing LLM query\n",
      "DEBUG:urllib3.connectionpool:Starting new HTTP connection (1): localhost:8000\n"
     ]
    },
    {
     "name": "stdout",
     "output_type": "stream",
     "text": [
      "Mismatch found.\n"
     ]
    },
    {
     "name": "stderr",
     "output_type": "stream",
     "text": [
      "DEBUG:urllib3.connectionpool:http://localhost:8000 \"POST /query HTTP/11\" 500 54\n",
      "ERROR:compare_csv:Unexpected error in process_query: 500 Server Error: Internal Server Error for url: http://localhost:8000/query\n",
      "INFO:compare_csv:Executing LLM query\n",
      "DEBUG:urllib3.connectionpool:Starting new HTTP connection (1): localhost:8000\n"
     ]
    },
    {
     "name": "stdout",
     "output_type": "stream",
     "text": [
      "Error comparing queries: 500: Unexpected error: 500 Server Error: Internal Server Error for url: http://localhost:8000/query\n"
     ]
    },
    {
     "name": "stderr",
     "output_type": "stream",
     "text": [
      "DEBUG:urllib3.connectionpool:http://localhost:8000 \"POST /query HTTP/11\" 500 66\n",
      "ERROR:compare_csv:Unexpected error in process_query: 500 Server Error: Internal Server Error for url: http://localhost:8000/query\n",
      "INFO:compare_csv:Executing LLM query\n",
      "DEBUG:urllib3.connectionpool:Starting new HTTP connection (1): localhost:8000\n"
     ]
    },
    {
     "name": "stdout",
     "output_type": "stream",
     "text": [
      "Error comparing queries: 500: Unexpected error: 500 Server Error: Internal Server Error for url: http://localhost:8000/query\n"
     ]
    },
    {
     "name": "stderr",
     "output_type": "stream",
     "text": [
      "DEBUG:urllib3.connectionpool:http://localhost:8000 \"POST /query HTTP/11\" 500 64\n",
      "ERROR:compare_csv:Unexpected error in process_query: 500 Server Error: Internal Server Error for url: http://localhost:8000/query\n",
      "INFO:compare_csv:Executing LLM query\n",
      "DEBUG:urllib3.connectionpool:Starting new HTTP connection (1): localhost:8000\n"
     ]
    },
    {
     "name": "stdout",
     "output_type": "stream",
     "text": [
      "Error comparing queries: 500: Unexpected error: 500 Server Error: Internal Server Error for url: http://localhost:8000/query\n"
     ]
    },
    {
     "name": "stderr",
     "output_type": "stream",
     "text": [
      "DEBUG:urllib3.connectionpool:http://localhost:8000 \"POST /query HTTP/11\" 500 59\n",
      "ERROR:compare_csv:Unexpected error in process_query: 500 Server Error: Internal Server Error for url: http://localhost:8000/query\n",
      "INFO:compare_csv:Executing LLM query\n",
      "DEBUG:urllib3.connectionpool:Starting new HTTP connection (1): localhost:8000\n"
     ]
    },
    {
     "name": "stdout",
     "output_type": "stream",
     "text": [
      "Error comparing queries: 500: Unexpected error: 500 Server Error: Internal Server Error for url: http://localhost:8000/query\n"
     ]
    },
    {
     "name": "stderr",
     "output_type": "stream",
     "text": [
      "DEBUG:urllib3.connectionpool:http://localhost:8000 \"POST /query HTTP/11\" 500 68\n",
      "ERROR:compare_csv:Unexpected error in process_query: 500 Server Error: Internal Server Error for url: http://localhost:8000/query\n",
      "INFO:compare_csv:Executing LLM query\n",
      "DEBUG:urllib3.connectionpool:Starting new HTTP connection (1): localhost:8000\n"
     ]
    },
    {
     "name": "stdout",
     "output_type": "stream",
     "text": [
      "Error comparing queries: 500: Unexpected error: 500 Server Error: Internal Server Error for url: http://localhost:8000/query\n"
     ]
    },
    {
     "name": "stderr",
     "output_type": "stream",
     "text": [
      "DEBUG:urllib3.connectionpool:http://localhost:8000 \"POST /query HTTP/11\" 200 866\n",
      "INFO:compare_csv:Executing grouth truth query...\n",
      "DEBUG:chatgpt_api.api:Executing SQL query: WITH CashPositions AS (\n",
      "    SELECT \n",
      "        f.QUARTER,\n",
      "        r.REGISTRANT_NAME,\n",
      "        f.SERIES_NAME,\n",
      "        CAST(f.CASH_NOT_RPTD_IN_C_OR_D AS FLOAT) as Cash_Position,\n",
      "        CAST(f.TOTAL_ASSETS AS FLOAT) as Total_Assets\n",
      "    FROM \n",
      "        FUND_REPORTED_INFO f\n",
      "        JOIN REGISTRANT r ON f.ACCESSION_NUMBER = r.ACCESSION_NUMBER\n",
      "    WHERE \n",
      "        f.CASH_NOT_RPTD_IN_C_OR_D IS NOT NULL\n",
      "),\n",
      "CompanyCashMetrics AS (\n",
      "    SELECT \n",
      "        QUARTER,\n",
      "        REGISTRANT_NAME,\n",
      "        AVG(Cash_Position / NULLIF(Total_Assets, 0) * 100) as Avg_Cash_Percentage,\n",
      "        COUNT(DISTINCT SERIES_NAME) as Number_of_Funds\n",
      "    FROM \n",
      "        CashPositions\n",
      "    GROUP BY \n",
      "        QUARTER,\n",
      "        REGISTRANT_NAME\n",
      "    HAVING \n",
      "        Number_of_Funds >= 5\n",
      ")\n",
      "SELECT \n",
      "    p.QUARTER,\n",
      "    p.Avg_Cash_Percentage as PIMCO_Cash_Percentage,\n",
      "    i.Industry_Cash_Percentage,\n",
      "    p.Number_of_Funds as PIMCO_Funds,\n",
      "    p.Avg_Cash_Percentage - i.Industry_Cash_Percentage as Cash_Differential\n",
      "FROM \n",
      "    CompanyCashMetrics p\n",
      "    CROSS JOIN (\n",
      "        SELECT \n",
      "            QUARTER,\n",
      "            AVG(Avg_Cash_Percentage) as Industry_Cash_Percentage\n",
      "        FROM \n",
      "            CompanyCashMetrics\n",
      "        WHERE \n",
      "            REGISTRANT_NAME NOT LIKE '%PIMCO%'\n",
      "        GROUP BY \n",
      "            QUARTER\n",
      "    ) i\n",
      "WHERE \n",
      "    p.QUARTER = i.QUARTER\n",
      "    AND p.REGISTRANT_NAME LIKE '%PIMCO%'\n",
      "ORDER BY \n",
      "    p.QUARTER DESC;\n",
      "INFO:chatgpt_api.api:SQL query executed successfully\n",
      "INFO:compare_csv:Executing LLM query\n",
      "DEBUG:urllib3.connectionpool:Starting new HTTP connection (1): localhost:8000\n"
     ]
    },
    {
     "name": "stdout",
     "output_type": "stream",
     "text": [
      "Mismatch found.\n"
     ]
    },
    {
     "name": "stderr",
     "output_type": "stream",
     "text": [
      "DEBUG:urllib3.connectionpool:http://localhost:8000 \"POST /query HTTP/11\" 500 64\n",
      "ERROR:compare_csv:Unexpected error in process_query: 500 Server Error: Internal Server Error for url: http://localhost:8000/query\n",
      "INFO:compare_csv:Executing LLM query\n",
      "DEBUG:urllib3.connectionpool:Starting new HTTP connection (1): localhost:8000\n"
     ]
    },
    {
     "name": "stdout",
     "output_type": "stream",
     "text": [
      "Error comparing queries: 500: Unexpected error: 500 Server Error: Internal Server Error for url: http://localhost:8000/query\n"
     ]
    },
    {
     "name": "stderr",
     "output_type": "stream",
     "text": [
      "DEBUG:urllib3.connectionpool:http://localhost:8000 \"POST /query HTTP/11\" 200 917\n",
      "INFO:compare_csv:Executing grouth truth query...\n",
      "DEBUG:chatgpt_api.api:Executing SQL query: WITH AssetCategories AS (\n",
      "    SELECT \n",
      "        h.QUARTER,\n",
      "        r.REGISTRANT_NAME,\n",
      "        h.ASSET_CAT,\n",
      "        SUM(CAST(h.CURRENCY_VALUE AS FLOAT)) as Category_Value\n",
      "    FROM \n",
      "        FUND_REPORTED_HOLDING h\n",
      "        JOIN FUND_REPORTED_INFO f ON h.ACCESSION_NUMBER = f.ACCESSION_NUMBER\n",
      "        JOIN REGISTRANT r ON f.ACCESSION_NUMBER = r.ACCESSION_NUMBER\n",
      "    WHERE \n",
      "        h.ASSET_CAT IS NOT NULL\n",
      "    GROUP BY \n",
      "        h.QUARTER,\n",
      "        r.REGISTRANT_NAME,\n",
      "        h.ASSET_CAT\n",
      "),\n",
      "MarketShares AS (\n",
      "    SELECT \n",
      "        p.QUARTER,\n",
      "        p.ASSET_CAT,\n",
      "        p.Category_Value as PIMCO_Value,\n",
      "        t.Total_Category_Value,\n",
      "        (p.Category_Value * 100.0 / NULLIF(t.Total_Category_Value, 0)) as Market_Share\n",
      "    FROM \n",
      "        AssetCategories p\n",
      "        JOIN (\n",
      "            SELECT \n",
      "                QUARTER,\n",
      "                ASSET_CAT,\n",
      "                SUM(Category_Value) as Total_Category_Value\n",
      "            FROM \n",
      "                AssetCategories\n",
      "            GROUP BY \n",
      "                QUARTER,\n",
      "                ASSET_CAT\n",
      "        ) t ON p.QUARTER = t.QUARTER AND p.ASSET_CAT = t.ASSET_CAT\n",
      "    WHERE \n",
      "        p.REGISTRANT_NAME LIKE '%PIMCO%'\n",
      ")\n",
      "SELECT \n",
      "    QUARTER,\n",
      "    ASSET_CAT,\n",
      "    ROUND(PIMCO_Value / 1000000, 2) as PIMCO_Value_Millions,\n",
      "    ROUND(Total_Category_Value / 1000000, 2) as Total_Market_Millions,\n",
      "    ROUND(Market_Share, 2) as Market_Share_Percentage,\n",
      "    ROW_NUMBER() OVER (PARTITION BY QUARTER ORDER BY Market_Share DESC) as Category_Rank\n",
      "FROM \n",
      "    MarketShares\n",
      "ORDER BY \n",
      "    QUARTER DESC,\n",
      "    Market_Share DESC;\n",
      "INFO:chatgpt_api.api:SQL query executed successfully\n",
      "INFO:compare_csv:Executing LLM query\n",
      "DEBUG:urllib3.connectionpool:Starting new HTTP connection (1): localhost:8000\n"
     ]
    },
    {
     "name": "stdout",
     "output_type": "stream",
     "text": [
      "Mismatch found.\n"
     ]
    },
    {
     "name": "stderr",
     "output_type": "stream",
     "text": [
      "DEBUG:urllib3.connectionpool:http://localhost:8000 \"POST /query HTTP/11\" 500 56\n",
      "ERROR:compare_csv:Unexpected error in process_query: 500 Server Error: Internal Server Error for url: http://localhost:8000/query\n",
      "INFO:compare_csv:Executing LLM query\n",
      "DEBUG:urllib3.connectionpool:Starting new HTTP connection (1): localhost:8000\n"
     ]
    },
    {
     "name": "stdout",
     "output_type": "stream",
     "text": [
      "Error comparing queries: 500: Unexpected error: 500 Server Error: Internal Server Error for url: http://localhost:8000/query\n"
     ]
    },
    {
     "name": "stderr",
     "output_type": "stream",
     "text": [
      "DEBUG:urllib3.connectionpool:http://localhost:8000 \"POST /query HTTP/11\" 500 53\n",
      "ERROR:compare_csv:Unexpected error in process_query: 500 Server Error: Internal Server Error for url: http://localhost:8000/query\n",
      "INFO:compare_csv:Executing LLM query\n",
      "DEBUG:urllib3.connectionpool:Starting new HTTP connection (1): localhost:8000\n"
     ]
    },
    {
     "name": "stdout",
     "output_type": "stream",
     "text": [
      "Error comparing queries: 500: Unexpected error: 500 Server Error: Internal Server Error for url: http://localhost:8000/query\n"
     ]
    },
    {
     "name": "stderr",
     "output_type": "stream",
     "text": [
      "DEBUG:urllib3.connectionpool:http://localhost:8000 \"POST /query HTTP/11\" 500 61\n",
      "ERROR:compare_csv:Unexpected error in process_query: 500 Server Error: Internal Server Error for url: http://localhost:8000/query\n",
      "INFO:compare_csv:Executing LLM query\n",
      "DEBUG:urllib3.connectionpool:Starting new HTTP connection (1): localhost:8000\n"
     ]
    },
    {
     "name": "stdout",
     "output_type": "stream",
     "text": [
      "Error comparing queries: 500: Unexpected error: 500 Server Error: Internal Server Error for url: http://localhost:8000/query\n"
     ]
    },
    {
     "name": "stderr",
     "output_type": "stream",
     "text": [
      "DEBUG:urllib3.connectionpool:http://localhost:8000 \"POST /query HTTP/11\" 500 49\n",
      "ERROR:compare_csv:Unexpected error in process_query: 500 Server Error: Internal Server Error for url: http://localhost:8000/query\n",
      "INFO:compare_csv:Executing LLM query\n",
      "DEBUG:urllib3.connectionpool:Starting new HTTP connection (1): localhost:8000\n"
     ]
    },
    {
     "name": "stdout",
     "output_type": "stream",
     "text": [
      "Error comparing queries: 500: Unexpected error: 500 Server Error: Internal Server Error for url: http://localhost:8000/query\n"
     ]
    },
    {
     "name": "stderr",
     "output_type": "stream",
     "text": [
      "DEBUG:urllib3.connectionpool:http://localhost:8000 \"POST /query HTTP/11\" 500 53\n",
      "ERROR:compare_csv:Unexpected error in process_query: 500 Server Error: Internal Server Error for url: http://localhost:8000/query\n",
      "INFO:compare_csv:Executing LLM query\n",
      "DEBUG:urllib3.connectionpool:Starting new HTTP connection (1): localhost:8000\n"
     ]
    },
    {
     "name": "stdout",
     "output_type": "stream",
     "text": [
      "Error comparing queries: 500: Unexpected error: 500 Server Error: Internal Server Error for url: http://localhost:8000/query\n"
     ]
    },
    {
     "name": "stderr",
     "output_type": "stream",
     "text": [
      "DEBUG:urllib3.connectionpool:http://localhost:8000 \"POST /query HTTP/11\" 500 58\n",
      "ERROR:compare_csv:Unexpected error in process_query: 500 Server Error: Internal Server Error for url: http://localhost:8000/query\n",
      "INFO:compare_csv:Executing LLM query\n",
      "DEBUG:urllib3.connectionpool:Starting new HTTP connection (1): localhost:8000\n"
     ]
    },
    {
     "name": "stdout",
     "output_type": "stream",
     "text": [
      "Error comparing queries: 500: Unexpected error: 500 Server Error: Internal Server Error for url: http://localhost:8000/query\n"
     ]
    },
    {
     "name": "stderr",
     "output_type": "stream",
     "text": [
      "DEBUG:urllib3.connectionpool:http://localhost:8000 \"POST /query HTTP/11\" 500 49\n",
      "ERROR:compare_csv:Unexpected error in process_query: 500 Server Error: Internal Server Error for url: http://localhost:8000/query\n",
      "INFO:compare_csv:Executing LLM query\n",
      "DEBUG:urllib3.connectionpool:Starting new HTTP connection (1): localhost:8000\n"
     ]
    },
    {
     "name": "stdout",
     "output_type": "stream",
     "text": [
      "Error comparing queries: 500: Unexpected error: 500 Server Error: Internal Server Error for url: http://localhost:8000/query\n"
     ]
    },
    {
     "name": "stderr",
     "output_type": "stream",
     "text": [
      "DEBUG:urllib3.connectionpool:http://localhost:8000 \"POST /query HTTP/11\" 500 59\n",
      "ERROR:compare_csv:Unexpected error in process_query: 500 Server Error: Internal Server Error for url: http://localhost:8000/query\n",
      "INFO:compare_csv:Executing LLM query\n",
      "DEBUG:urllib3.connectionpool:Starting new HTTP connection (1): localhost:8000\n"
     ]
    },
    {
     "name": "stdout",
     "output_type": "stream",
     "text": [
      "Error comparing queries: 500: Unexpected error: 500 Server Error: Internal Server Error for url: http://localhost:8000/query\n"
     ]
    },
    {
     "name": "stderr",
     "output_type": "stream",
     "text": [
      "DEBUG:urllib3.connectionpool:http://localhost:8000 \"POST /query HTTP/11\" 200 152292\n",
      "INFO:compare_csv:Executing grouth truth query...\n",
      "DEBUG:chatgpt_api.api:Executing SQL query: WITH LiquidityMetrics AS (\n",
      "    SELECT \n",
      "        f.QUARTER,\n",
      "        f.SERIES_NAME,\n",
      "        CAST(f.CASH_NOT_RPTD_IN_C_OR_D AS FLOAT) as Cash,\n",
      "        CAST(f.BORROWING_PAY_WITHIN_1YR AS FLOAT) as Short_Term_Obligations,\n",
      "        CAST(f.TOTAL_ASSETS AS FLOAT) as Total_Assets\n",
      "    FROM \n",
      "        FUND_REPORTED_INFO f\n",
      "    WHERE \n",
      "        f.CASH_NOT_RPTD_IN_C_OR_D IS NOT NULL\n",
      "        AND f.TOTAL_ASSETS > 0\n",
      ")\n",
      "SELECT \n",
      "    QUARTER,\n",
      "    SERIES_NAME,\n",
      "    ROUND(Cash / 1000000, 2) as Cash_Millions,\n",
      "    ROUND(Cash * 100.0 / Total_Assets, 2) as Cash_Percentage,\n",
      "    ROUND(Cash / NULLIF(Short_Term_Obligations, 0), 2) as Cash_Coverage_Ratio\n",
      "FROM \n",
      "    LiquidityMetrics\n",
      "ORDER BY \n",
      "    QUARTER DESC,\n",
      "    Cash_Percentage DESC;\n",
      "INFO:chatgpt_api.api:SQL query executed successfully\n",
      "INFO:compare_csv:Executing LLM query\n",
      "DEBUG:urllib3.connectionpool:Starting new HTTP connection (1): localhost:8000\n"
     ]
    },
    {
     "name": "stdout",
     "output_type": "stream",
     "text": [
      "Mismatch found.\n"
     ]
    },
    {
     "name": "stderr",
     "output_type": "stream",
     "text": [
      "DEBUG:urllib3.connectionpool:http://localhost:8000 \"POST /query HTTP/11\" 500 60\n",
      "ERROR:compare_csv:Unexpected error in process_query: 500 Server Error: Internal Server Error for url: http://localhost:8000/query\n",
      "INFO:compare_csv:Executing LLM query\n",
      "DEBUG:urllib3.connectionpool:Starting new HTTP connection (1): localhost:8000\n"
     ]
    },
    {
     "name": "stdout",
     "output_type": "stream",
     "text": [
      "Error comparing queries: 500: Unexpected error: 500 Server Error: Internal Server Error for url: http://localhost:8000/query\n"
     ]
    },
    {
     "name": "stderr",
     "output_type": "stream",
     "text": [
      "DEBUG:urllib3.connectionpool:http://localhost:8000 \"POST /query HTTP/11\" 200 541\n",
      "INFO:compare_csv:Executing grouth truth query...\n",
      "DEBUG:chatgpt_api.api:Executing SQL query: WITH LeverageMetrics AS (\n",
      "    SELECT \n",
      "        QUARTER,\n",
      "        COUNT(DISTINCT SERIES_NAME) as Total_Funds,\n",
      "        AVG(CAST(BORROWING_PAY_WITHIN_1YR AS FLOAT) + \n",
      "            CAST(BORROWING_PAY_AFTER_1YR AS FLOAT)) as Avg_Borrowing,\n",
      "        MAX(CAST(BORROWING_PAY_WITHIN_1YR AS FLOAT) + \n",
      "            CAST(BORROWING_PAY_AFTER_1YR AS FLOAT)) as Max_Borrowing,\n",
      "        AVG(CAST(TOTAL_ASSETS AS FLOAT)) as Avg_Assets\n",
      "    FROM \n",
      "        FUND_REPORTED_INFO\n",
      "    WHERE \n",
      "        BORROWING_PAY_WITHIN_1YR IS NOT NULL\n",
      "        AND BORROWING_PAY_AFTER_1YR IS NOT NULL\n",
      "    GROUP BY \n",
      "        QUARTER\n",
      ")\n",
      "SELECT \n",
      "    QUARTER,\n",
      "    Total_Funds,\n",
      "    ROUND(Avg_Borrowing / 1000000, 2) as Avg_Borrowing_Millions,\n",
      "    ROUND(Max_Borrowing / 1000000, 2) as Max_Borrowing_Millions,\n",
      "    ROUND((Avg_Borrowing / Avg_Assets * 100), 2) as Avg_Leverage_Percentage\n",
      "FROM \n",
      "    LeverageMetrics\n",
      "ORDER BY \n",
      "    QUARTER DESC;\n",
      "INFO:chatgpt_api.api:SQL query executed successfully\n"
     ]
    },
    {
     "name": "stdout",
     "output_type": "stream",
     "text": [
      "Mismatch found.\n"
     ]
    }
   ],
   "source": [
    "input_file = \"query_summary.csv\"\n",
    "temp_file = \"temp_queries.json\"  # Temporary file to store remaining queries\n",
    "output_file = \"original_accuracy.csv\"\n",
    "\n",
    "process_queries(input_file, temp_file, output_file)"
   ]
  }
 ],
 "metadata": {
  "kernelspec": {
   "display_name": "base",
   "language": "python",
   "name": "python3"
  },
  "language_info": {
   "codemirror_mode": {
    "name": "ipython",
    "version": 3
   },
   "file_extension": ".py",
   "mimetype": "text/x-python",
   "name": "python",
   "nbconvert_exporter": "python",
   "pygments_lexer": "ipython3",
   "version": "3.11.5"
  }
 },
 "nbformat": 4,
 "nbformat_minor": 2
}
