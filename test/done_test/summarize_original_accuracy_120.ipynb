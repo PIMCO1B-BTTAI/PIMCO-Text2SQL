{
 "cells": [
  {
   "cell_type": "code",
   "execution_count": 1,
   "metadata": {},
   "outputs": [],
   "source": [
    "import csv\n",
    "import os\n",
    "\n",
    "os.chdir(\"..\")\n",
    "def analyze_output_file(output_file):\n",
    "    # Initialize counters\n",
    "    total_rows = 0\n",
    "    true_count = 0\n",
    "    false_count = 0\n",
    "    error_count = 0\n",
    "\n",
    "    # Read and process the output file\n",
    "    with open(output_file, 'r', newline='', encoding='utf-8') as csvfile:\n",
    "        reader = csv.reader(csvfile)\n",
    "        next(reader)  # Skip the header row\n",
    "        for row in reader:\n",
    "            total_rows += 1\n",
    "            test_result = row[2].strip()  # Test result is in the 3rd column\n",
    "            if test_result == \"True\":\n",
    "                true_count += 1\n",
    "            elif test_result == \"False\":\n",
    "                false_count += 1\n",
    "            elif test_result == \"Error\":\n",
    "                error_count += 1\n",
    "\n",
    "    # Calculate statistics\n",
    "    true_percentage = (true_count / total_rows) * 100 if total_rows > 0 else 0\n",
    "    false_percentage = (false_count / total_rows) * 100 if total_rows > 0 else 0\n",
    "    error_percentage = (error_count / total_rows) * 100 if total_rows > 0 else 0\n",
    "\n",
    "    # Print results\n",
    "    print(f\"Total Rows: {total_rows}\")\n",
    "    print(f\"True Results: {true_count} ({true_percentage:.2f}%)\")\n",
    "    print(f\"False Results: {false_count} ({false_percentage:.2f}%)\")\n",
    "    print(f\"Error Results: {error_count} ({error_percentage:.2f}%)\")\n",
    "\n"
   ]
  },
  {
   "cell_type": "code",
   "execution_count": 9,
   "metadata": {},
   "outputs": [
    {
     "name": "stdout",
     "output_type": "stream",
     "text": [
      "Total Rows: 120\n",
      "True Results: 30 (25.00%)\n",
      "False Results: 34 (28.33%)\n",
      "Error Results: 56 (46.67%)\n"
     ]
    }
   ],
   "source": [
    "output_file = \"original_accuracy_120.csv\"\n",
    "analyze_output_file(output_file)\n"
   ]
  }
 ],
 "metadata": {
  "kernelspec": {
   "display_name": "base",
   "language": "python",
   "name": "python3"
  },
  "language_info": {
   "codemirror_mode": {
    "name": "ipython",
    "version": 3
   },
   "file_extension": ".py",
   "mimetype": "text/x-python",
   "name": "python",
   "nbconvert_exporter": "python",
   "pygments_lexer": "ipython3",
   "version": "3.11.5"
  }
 },
 "nbformat": 4,
 "nbformat_minor": 2
}
