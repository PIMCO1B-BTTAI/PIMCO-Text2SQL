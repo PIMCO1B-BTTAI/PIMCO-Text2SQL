{
 "cells": [
  {
   "cell_type": "code",
   "execution_count": null,
   "metadata": {
    "vscode": {
     "languageId": "plaintext"
    }
   },
   "outputs": [],
   "source": [
    ".format(\n",
    "       schema_info=schema_info,\n",
    "       table_columns=schema_dict[\"table_columns\"],\n",
    "       primary_keys=schema_dict[\"primary_keys\"],\n",
    "       foreign_keys=schema_dict[\"foreign_keys\"],\n",
    "       schema_links=schema_dict[\"schema_links\"]\n",
    "   )"
   ]
  },
  {
   "cell_type": "code",
   "execution_count": null,
   "metadata": {
    "vscode": {
     "languageId": "plaintext"
    }
   },
   "outputs": [],
   "source": [
    "Relevant Columns:\n",
    "{table_columns}\n",
    "\n",
    "Relevant Primary Keys:\n",
    "{primary_keys}\n",
    "\n",
    "Relevant Foreign Keys:\n",
    "{foreign_keys}\n",
    "\n",
    "Schema Links:\n",
    "{schema_links}"
   ]
  }
 ],
 "metadata": {
  "language_info": {
   "name": "python"
  }
 },
 "nbformat": 4,
 "nbformat_minor": 2
}
