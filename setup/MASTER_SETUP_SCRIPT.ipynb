{
 "cells": [
  {
   "cell_type": "markdown",
   "metadata": {},
   "source": [
    "#### This note book cannot be run with `Run All` because there are intermediate notebooks we have to switch to before proceeding"
   ]
  },
  {
   "cell_type": "code",
   "execution_count": 1,
   "metadata": {},
   "outputs": [
    {
     "name": "stdout",
     "output_type": "stream",
     "text": [
      "Requirement already satisfied: altair==5.4.1 in /Users/ritawu/miniforge3/lib/python3.10/site-packages (from -r requirements.txt (line 1)) (5.4.1)\n",
      "Requirement already satisfied: annotated-types==0.7.0 in /Users/ritawu/miniforge3/lib/python3.10/site-packages (from -r requirements.txt (line 2)) (0.7.0)\n",
      "Requirement already satisfied: anyio==4.6.2.post1 in /Users/ritawu/miniforge3/lib/python3.10/site-packages (from -r requirements.txt (line 3)) (4.6.2.post1)\n",
      "Requirement already satisfied: attrs==24.2.0 in /Users/ritawu/miniforge3/lib/python3.10/site-packages (from -r requirements.txt (line 4)) (24.2.0)\n",
      "Requirement already satisfied: blinker==1.8.2 in /Users/ritawu/miniforge3/lib/python3.10/site-packages (from -r requirements.txt (line 5)) (1.8.2)\n",
      "Requirement already satisfied: cachetools==5.5.0 in /Users/ritawu/miniforge3/lib/python3.10/site-packages (from -r requirements.txt (line 6)) (5.5.0)\n",
      "Requirement already satisfied: certifi==2024.8.30 in /Users/ritawu/miniforge3/lib/python3.10/site-packages (from -r requirements.txt (line 7)) (2024.8.30)\n",
      "Requirement already satisfied: charset-normalizer==3.4.0 in /Users/ritawu/miniforge3/lib/python3.10/site-packages (from -r requirements.txt (line 8)) (3.4.0)\n",
      "Requirement already satisfied: click==8.1.7 in /Users/ritawu/miniforge3/lib/python3.10/site-packages (from -r requirements.txt (line 9)) (8.1.7)\n",
      "Requirement already satisfied: distro==1.9.0 in /Users/ritawu/miniforge3/lib/python3.10/site-packages (from -r requirements.txt (line 10)) (1.9.0)\n",
      "Requirement already satisfied: fastapi==0.115.3 in /Users/ritawu/miniforge3/lib/python3.10/site-packages (from -r requirements.txt (line 11)) (0.115.3)\n",
      "Requirement already satisfied: gitdb==4.0.11 in /Users/ritawu/miniforge3/lib/python3.10/site-packages (from -r requirements.txt (line 12)) (4.0.11)\n",
      "Requirement already satisfied: GitPython==3.1.43 in /Users/ritawu/miniforge3/lib/python3.10/site-packages (from -r requirements.txt (line 13)) (3.1.43)\n",
      "Requirement already satisfied: h11==0.14.0 in /Users/ritawu/miniforge3/lib/python3.10/site-packages (from -r requirements.txt (line 14)) (0.14.0)\n",
      "Requirement already satisfied: httpcore==1.0.6 in /Users/ritawu/miniforge3/lib/python3.10/site-packages (from -r requirements.txt (line 15)) (1.0.6)\n",
      "Requirement already satisfied: httpx==0.27.2 in /Users/ritawu/miniforge3/lib/python3.10/site-packages (from -r requirements.txt (line 16)) (0.27.2)\n",
      "Requirement already satisfied: idna==3.10 in /Users/ritawu/miniforge3/lib/python3.10/site-packages (from -r requirements.txt (line 17)) (3.10)\n",
      "Requirement already satisfied: Jinja2==3.1.4 in /Users/ritawu/miniforge3/lib/python3.10/site-packages (from -r requirements.txt (line 18)) (3.1.4)\n",
      "Requirement already satisfied: jiter==0.6.1 in /Users/ritawu/miniforge3/lib/python3.10/site-packages (from -r requirements.txt (line 19)) (0.6.1)\n",
      "Requirement already satisfied: jsonschema==4.23.0 in /Users/ritawu/miniforge3/lib/python3.10/site-packages (from -r requirements.txt (line 20)) (4.23.0)\n",
      "Requirement already satisfied: jsonschema-specifications==2024.10.1 in /Users/ritawu/miniforge3/lib/python3.10/site-packages (from -r requirements.txt (line 21)) (2024.10.1)\n",
      "Requirement already satisfied: markdown-it-py==3.0.0 in /Users/ritawu/miniforge3/lib/python3.10/site-packages (from -r requirements.txt (line 22)) (3.0.0)\n",
      "Requirement already satisfied: MarkupSafe==3.0.2 in /Users/ritawu/miniforge3/lib/python3.10/site-packages (from -r requirements.txt (line 23)) (3.0.2)\n",
      "Requirement already satisfied: mdurl==0.1.2 in /Users/ritawu/miniforge3/lib/python3.10/site-packages (from -r requirements.txt (line 24)) (0.1.2)\n",
      "Requirement already satisfied: narwhals==1.10.0 in /Users/ritawu/miniforge3/lib/python3.10/site-packages (from -r requirements.txt (line 25)) (1.10.0)\n",
      "Requirement already satisfied: numpy==1.26.0 in /Users/ritawu/miniforge3/lib/python3.10/site-packages (from -r requirements.txt (line 26)) (1.26.0)\n",
      "Requirement already satisfied: openai==1.52.1 in /Users/ritawu/miniforge3/lib/python3.10/site-packages (from -r requirements.txt (line 27)) (1.52.1)\n",
      "Requirement already satisfied: packaging==24.1 in /Users/ritawu/miniforge3/lib/python3.10/site-packages (from -r requirements.txt (line 28)) (24.1)\n",
      "Requirement already satisfied: pandas==2.2.3 in /Users/ritawu/miniforge3/lib/python3.10/site-packages (from -r requirements.txt (line 29)) (2.2.3)\n",
      "Requirement already satisfied: pillow==10.4.0 in /Users/ritawu/miniforge3/lib/python3.10/site-packages (from -r requirements.txt (line 30)) (10.4.0)\n",
      "Requirement already satisfied: protobuf==5.28.3 in /Users/ritawu/miniforge3/lib/python3.10/site-packages (from -r requirements.txt (line 31)) (5.28.3)\n",
      "Requirement already satisfied: pyarrow==17.0.0 in /Users/ritawu/miniforge3/lib/python3.10/site-packages (from -r requirements.txt (line 32)) (17.0.0)\n",
      "Requirement already satisfied: pydantic==2.9.2 in /Users/ritawu/miniforge3/lib/python3.10/site-packages (from -r requirements.txt (line 33)) (2.9.2)\n",
      "Requirement already satisfied: pydantic_core==2.23.4 in /Users/ritawu/miniforge3/lib/python3.10/site-packages (from -r requirements.txt (line 34)) (2.23.4)\n",
      "Requirement already satisfied: pydeck==0.9.1 in /Users/ritawu/miniforge3/lib/python3.10/site-packages (from -r requirements.txt (line 35)) (0.9.1)\n",
      "Requirement already satisfied: Pygments==2.18.0 in /Users/ritawu/miniforge3/lib/python3.10/site-packages (from -r requirements.txt (line 36)) (2.18.0)\n",
      "Requirement already satisfied: python-dateutil==2.9.0.post0 in /Users/ritawu/miniforge3/lib/python3.10/site-packages (from -r requirements.txt (line 37)) (2.9.0.post0)\n",
      "Requirement already satisfied: python-dotenv==1.0.1 in /Users/ritawu/miniforge3/lib/python3.10/site-packages (from -r requirements.txt (line 38)) (1.0.1)\n",
      "Requirement already satisfied: pytz==2024.2 in /Users/ritawu/miniforge3/lib/python3.10/site-packages (from -r requirements.txt (line 39)) (2024.2)\n",
      "Requirement already satisfied: referencing==0.35.1 in /Users/ritawu/miniforge3/lib/python3.10/site-packages (from -r requirements.txt (line 40)) (0.35.1)\n",
      "Requirement already satisfied: requests==2.32.3 in /Users/ritawu/miniforge3/lib/python3.10/site-packages (from -r requirements.txt (line 41)) (2.32.3)\n",
      "Requirement already satisfied: rich==13.9.3 in /Users/ritawu/miniforge3/lib/python3.10/site-packages (from -r requirements.txt (line 42)) (13.9.3)\n",
      "Requirement already satisfied: rpds-py==0.20.0 in /Users/ritawu/miniforge3/lib/python3.10/site-packages (from -r requirements.txt (line 43)) (0.20.0)\n",
      "Requirement already satisfied: six==1.16.0 in /Users/ritawu/miniforge3/lib/python3.10/site-packages (from -r requirements.txt (line 44)) (1.16.0)\n",
      "Requirement already satisfied: smmap==5.0.1 in /Users/ritawu/miniforge3/lib/python3.10/site-packages (from -r requirements.txt (line 45)) (5.0.1)\n",
      "Requirement already satisfied: sniffio==1.3.1 in /Users/ritawu/miniforge3/lib/python3.10/site-packages (from -r requirements.txt (line 46)) (1.3.1)\n",
      "Requirement already satisfied: starlette==0.41.0 in /Users/ritawu/miniforge3/lib/python3.10/site-packages (from -r requirements.txt (line 47)) (0.41.0)\n",
      "Requirement already satisfied: streamlit==1.39.0 in /Users/ritawu/miniforge3/lib/python3.10/site-packages (from -r requirements.txt (line 48)) (1.39.0)\n",
      "Requirement already satisfied: streamlit-chat==0.1.1 in /Users/ritawu/miniforge3/lib/python3.10/site-packages (from -r requirements.txt (line 49)) (0.1.1)\n",
      "Requirement already satisfied: tenacity==9.0.0 in /Users/ritawu/miniforge3/lib/python3.10/site-packages (from -r requirements.txt (line 50)) (9.0.0)\n",
      "Requirement already satisfied: toml==0.10.2 in /Users/ritawu/miniforge3/lib/python3.10/site-packages (from -r requirements.txt (line 51)) (0.10.2)\n",
      "Requirement already satisfied: tornado==6.4.1 in /Users/ritawu/miniforge3/lib/python3.10/site-packages (from -r requirements.txt (line 52)) (6.4.1)\n",
      "Requirement already satisfied: tqdm==4.66.5 in /Users/ritawu/miniforge3/lib/python3.10/site-packages (from -r requirements.txt (line 53)) (4.66.5)\n",
      "Requirement already satisfied: typing_extensions==4.12.2 in /Users/ritawu/miniforge3/lib/python3.10/site-packages (from -r requirements.txt (line 54)) (4.12.2)\n",
      "Requirement already satisfied: tzdata==2024.2 in /Users/ritawu/miniforge3/lib/python3.10/site-packages (from -r requirements.txt (line 55)) (2024.2)\n",
      "Requirement already satisfied: urllib3==2.2.3 in /Users/ritawu/miniforge3/lib/python3.10/site-packages (from -r requirements.txt (line 56)) (2.2.3)\n",
      "Requirement already satisfied: uvicorn==0.32.0 in /Users/ritawu/miniforge3/lib/python3.10/site-packages (from -r requirements.txt (line 57)) (0.32.0)\n",
      "Requirement already satisfied: Levenshtein in /Users/ritawu/miniforge3/lib/python3.10/site-packages (from -r requirements.txt (line 58)) (0.26.1)\n",
      "Requirement already satisfied: datasketch in /Users/ritawu/miniforge3/lib/python3.10/site-packages (from -r requirements.txt (line 59)) (1.6.5)\n",
      "Requirement already satisfied: exceptiongroup>=1.0.2 in /Users/ritawu/miniforge3/lib/python3.10/site-packages (from anyio==4.6.2.post1->-r requirements.txt (line 3)) (1.2.0)\n",
      "Requirement already satisfied: rapidfuzz<4.0.0,>=3.9.0 in /Users/ritawu/miniforge3/lib/python3.10/site-packages (from Levenshtein->-r requirements.txt (line 58)) (3.10.1)\n",
      "Requirement already satisfied: scipy>=1.0.0 in /Users/ritawu/miniforge3/lib/python3.10/site-packages (from datasketch->-r requirements.txt (line 59)) (1.14.1)\n"
     ]
    }
   ],
   "source": [
    "# make sure the notebook kernel uses the same python environment as your virtual environment in your terminal\n",
    "!pip install -r requirements.txt"
   ]
  },
  {
   "cell_type": "code",
   "execution_count": 1,
   "metadata": {},
   "outputs": [],
   "source": [
    "import os\n",
    "os.chdir(\"..\")"
   ]
  },
  {
   "cell_type": "markdown",
   "metadata": {},
   "source": [
    "#### 1. Set up database before running app:\n",
    "Download all quarters' NPORT dataset (.zip files) and drop them into data/ folder in your local directory"
   ]
  },
  {
   "cell_type": "markdown",
   "metadata": {},
   "source": [
    "#### 2. Run the following code to extract the datazip file"
   ]
  },
  {
   "cell_type": "code",
   "execution_count": 2,
   "metadata": {},
   "outputs": [
    {
     "name": "stdout",
     "output_type": "stream",
     "text": [
      "/Users/ritawu/Desktop/BTTAI/PIMCO-Text2SQL\n",
      "Processing '2022q1_nport.zip'...\n",
      "Extracted '2022q1_nport.zip' to '/Users/ritawu/Desktop/BTTAI/PIMCO-Text2SQL/data/2022q1_nport'\n",
      "Processing '2020q2_nport.zip'...\n",
      "Extracted '2020q2_nport.zip' to '/Users/ritawu/Desktop/BTTAI/PIMCO-Text2SQL/data/2020q2_nport'\n",
      "Processing '2020q4_nport.zip'...\n",
      "Extracted '2020q4_nport.zip' to '/Users/ritawu/Desktop/BTTAI/PIMCO-Text2SQL/data/2020q4_nport'\n",
      "Processing '2023q3_nport.zip'...\n",
      "Extracted '2023q3_nport.zip' to '/Users/ritawu/Desktop/BTTAI/PIMCO-Text2SQL/data/2023q3_nport'\n",
      "Processing '2020q3_nport.zip'...\n",
      "Extracted '2020q3_nport.zip' to '/Users/ritawu/Desktop/BTTAI/PIMCO-Text2SQL/data/2020q3_nport'\n",
      "Processing '2024q1_nport.zip'...\n",
      "Extracted '2024q1_nport.zip' to '/Users/ritawu/Desktop/BTTAI/PIMCO-Text2SQL/data/2024q1_nport'\n",
      "Processing '2023q4_nport.zip'...\n",
      "Extracted '2023q4_nport.zip' to '/Users/ritawu/Desktop/BTTAI/PIMCO-Text2SQL/data/2023q4_nport'\n",
      "Processing '2023q2_nport.zip'...\n",
      "Extracted '2023q2_nport.zip' to '/Users/ritawu/Desktop/BTTAI/PIMCO-Text2SQL/data/2023q2_nport'\n",
      "Processing '2021q1_nport.zip'...\n",
      "Extracted '2021q1_nport.zip' to '/Users/ritawu/Desktop/BTTAI/PIMCO-Text2SQL/data/2021q1_nport'\n",
      "Processing '2024q2_nport.zip'...\n",
      "Extracted '2024q2_nport.zip' to '/Users/ritawu/Desktop/BTTAI/PIMCO-Text2SQL/data/2024q2_nport'\n",
      "Processing '2022q3_nport.zip'...\n",
      "Extracted '2022q3_nport.zip' to '/Users/ritawu/Desktop/BTTAI/PIMCO-Text2SQL/data/2022q3_nport'\n",
      "Processing '2021q4_nport.zip'...\n",
      "Extracted '2021q4_nport.zip' to '/Users/ritawu/Desktop/BTTAI/PIMCO-Text2SQL/data/2021q4_nport'\n",
      "Processing '2021q2_nport.zip'...\n",
      "Extracted '2021q2_nport.zip' to '/Users/ritawu/Desktop/BTTAI/PIMCO-Text2SQL/data/2021q2_nport'\n",
      "Processing '2023q1_nport.zip'...\n",
      "Extracted '2023q1_nport.zip' to '/Users/ritawu/Desktop/BTTAI/PIMCO-Text2SQL/data/2023q1_nport'\n",
      "Processing '2020q1_nport.zip'...\n",
      "Extracted '2020q1_nport.zip' to '/Users/ritawu/Desktop/BTTAI/PIMCO-Text2SQL/data/2020q1_nport'\n",
      "Processing '2024q3_nport.zip'...\n",
      "Extracted '2024q3_nport.zip' to '/Users/ritawu/Desktop/BTTAI/PIMCO-Text2SQL/data/2024q3_nport'\n",
      "Processing '2022q2_nport.zip'...\n",
      "Extracted '2022q2_nport.zip' to '/Users/ritawu/Desktop/BTTAI/PIMCO-Text2SQL/data/2022q2_nport'\n",
      "Processing '2022q4_nport.zip'...\n",
      "Extracted '2022q4_nport.zip' to '/Users/ritawu/Desktop/BTTAI/PIMCO-Text2SQL/data/2022q4_nport'\n",
      "Processing '2021q3_nport.zip'...\n",
      "Extracted '2021q3_nport.zip' to '/Users/ritawu/Desktop/BTTAI/PIMCO-Text2SQL/data/2021q3_nport'\n",
      "Processing '2019q4_nport.zip'...\n",
      "Extracted '2019q4_nport.zip' to '/Users/ritawu/Desktop/BTTAI/PIMCO-Text2SQL/data/2019q4_nport'\n"
     ]
    }
   ],
   "source": [
    "print(os.getcwd())\n",
    "os.chdir(\"data\")\n",
    "!python extract_data_zips.py \n",
    "os.chdir(\"..\")"
   ]
  },
  {
   "cell_type": "markdown",
   "metadata": {},
   "source": [
    "#### 3. Run all code in another file, PIMCO1B_Database_2.ipynb\n",
    "`PIMCO1B_Database_2.ipynb` should be in PIMCO-TEXT2SQL master folder, this should create a nport.db in your `sqlite/` folder. "
   ]
  },
  {
   "cell_type": "markdown",
   "metadata": {},
   "source": [
    "#### 4. Proceed to test_din.ipynb to test out individual cases"
   ]
  },
  {
   "cell_type": "markdown",
   "metadata": {},
   "source": [
    "Alternatively, here is raw data in shared drive for manual download of datafiles without unzipping of above\n",
    "https://drive.google.com/drive/folders/1WNs1B1QG9CMdU9TFGq5vCxWwnaaGN83n?usp=drive_link\n"
   ]
  }
 ],
 "metadata": {
  "kernelspec": {
   "display_name": "Python 3",
   "language": "python",
   "name": "python3"
  },
  "language_info": {
   "codemirror_mode": {
    "name": "ipython",
    "version": 3
   },
   "file_extension": ".py",
   "mimetype": "text/x-python",
   "name": "python",
   "nbconvert_exporter": "python",
   "pygments_lexer": "ipython3",
   "version": "3.12.3"
  }
 },
 "nbformat": 4,
 "nbformat_minor": 2
}
