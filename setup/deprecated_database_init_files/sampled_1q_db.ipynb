{
 "cells": [
  {
   "cell_type": "markdown",
   "metadata": {},
   "source": [
    "## Objective: Create an sampled database via 1000 unique CUSIPS for one NPORT quarter (2024q3)"
   ]
  },
  {
   "cell_type": "code",
   "execution_count": 1,
   "metadata": {},
   "outputs": [],
   "source": [
    "import os\n",
    "import sqlite3\n",
    "import csv"
   ]
  },
  {
   "cell_type": "markdown",
   "metadata": {},
   "source": [
    "### Set up directory"
   ]
  },
  {
   "cell_type": "code",
   "execution_count": 2,
   "metadata": {},
   "outputs": [
    {
     "name": "stdout",
     "output_type": "stream",
     "text": [
      "d:\\GithubRepos\\PIMCO-Text2SQL\\setup\n",
      "d:\\GithubRepos\\PIMCO-Text2SQL\n"
     ]
    }
   ],
   "source": [
    "# Get current directory\n",
    "curr_dir = os.getcwd()\n",
    "print(curr_dir)\n",
    "\n",
    "# Get parent directory\n",
    "os.chdir(\"..\")\n",
    "parent_dir = os.getcwd()\n",
    "print(parent_dir)"
   ]
  },
  {
   "cell_type": "markdown",
   "metadata": {},
   "source": [
    "### Establish connection to db file"
   ]
  },
  {
   "cell_type": "code",
   "execution_count": 3,
   "metadata": {},
   "outputs": [],
   "source": [
    "# Set up connection\n",
    "conn = sqlite3.connect(parent_dir + '/sqlite/nport.db')\n",
    "cursor = conn.cursor()"
   ]
  },
  {
   "cell_type": "markdown",
   "metadata": {},
   "source": [
    "### Get raw data folder"
   ]
  },
  {
   "cell_type": "code",
   "execution_count": 4,
   "metadata": {},
   "outputs": [
    {
     "name": "stdout",
     "output_type": "stream",
     "text": [
      "d:\\GithubRepos\\PIMCO-Text2SQL/data/2024q3_nport\n"
     ]
    }
   ],
   "source": [
    "raw_data_folder = parent_dir + '/data/2024q3_nport'\n",
    "print(raw_data_folder)"
   ]
  },
  {
   "cell_type": "markdown",
   "metadata": {},
   "source": [
    "### Sampling methodology:\n",
    "- FUND_REPORTED_HOLDING contains ISSUER_CUSIP\n",
    "- DEBT_SECURITY_REF_INSTRUMENT, DESC_REF_INDEX_COMPONENT, and DESC_REF_OTHER all contain CUSIP\n",
    "- We retrieved the unique cusip values for each table to see which had the broadest range that we could sample from.\n",
    "\n",
    "---\n",
    "\n",
    "*   Unique cusip count from FUND_REPORTED_HOLDING:  356276\n",
    "*   Unique cusip count from DEBT_SECURITY_REF_INSTRUMENT:  552\n",
    "*   Unique cusip count from DESC_REF_INDEX_COMPONENT:  2890\n",
    "*   Unique cusip count from DESC_REF_OTHER:  3307\n",
    "\n",
    "We have chosen to sample from FUND_REPORTED_HOLDING."
   ]
  },
  {
   "cell_type": "markdown",
   "metadata": {},
   "source": [
    "### Create Complete Fund Reported Holdings Table"
   ]
  },
  {
   "cell_type": "code",
   "execution_count": null,
   "metadata": {},
   "outputs": [],
   "source": [
    "# Create Fund Reported Holdings Table\n",
    "\n",
    "file_path = raw_data_folder +'/'+ 'FUND_REPORTED_HOLDING.tsv'\n",
    "\n",
    "with open(file_path, 'r', newline='') as file:\n",
    "    reader = csv.reader(file, delimiter='\\t')\n",
    "    column_names = next(reader)  # Get the first row as column names\n",
    "\n",
    "    create_table_query = f\"CREATE TABLE IF NOT EXISTS {'FUND_REPORTED_HOLDING_RAW'} ({', '.join([f'{col} TEXT' for col in column_names])});\"\n",
    "    cursor.execute(create_table_query)\n",
    "\n",
    "    # Insert data into the table\n",
    "    for row in reader:\n",
    "        insert_query = f\"INSERT INTO {'FUND_REPORTED_HOLDING_RAW'} ({', '.join(column_names)}) VALUES ({', '.join(['?'] * len(column_names))});\"\n",
    "        cursor.execute(insert_query, row)"
   ]
  },
  {
   "cell_type": "code",
   "execution_count": 6,
   "metadata": {},
   "outputs": [
    {
     "name": "stdout",
     "output_type": "stream",
     "text": [
      "['ACCESSION_NUMBER', 'HOLDING_ID', 'ISSUER_NAME', 'ISSUER_LEI', 'ISSUER_TITLE', 'ISSUER_CUSIP', 'BALANCE', 'UNIT', 'OTHER_UNIT_DESC', 'CURRENCY_CODE', 'CURRENCY_VALUE', 'EXCHANGE_RATE', 'PERCENTAGE', 'PAYOFF_PROFILE', 'ASSET_CAT', 'OTHER_ASSET', 'ISSUER_TYPE', 'OTHER_ISSUER', 'INVESTMENT_COUNTRY', 'IS_RESTRICTED_SECURITY', 'FAIR_VALUE_LEVEL', 'DERIVATIVE_CAT']\n",
      "('0001752724-24-224070', '128653995', 'LAM RESEARCH CORPORATION', '549300I4GMO6D34U1T02', 'LAM RESEARCH CORP COMMON STOCK', '512807108', '74668', 'NS', '', 'USD', '68787148.32', '', '.836025601461', 'Long', 'EC', '', 'OTHER', 'N/A', 'US', 'N', '1', '')\n",
      "('0001752724-24-224070', '128654030', 'GLOBALFOUNDRIES INC.', '549300BA76VK784VMX48', 'GLOBALFOUNDRIES INC COMMON STOCK', 'G39387108', '307204', 'NS', '', 'USD', '15670476.04', '', '.190455913299', 'Long', 'EC', '', 'OTHER', 'N/A', 'US', 'N', '1', '')\n",
      "('0001752724-24-224070', '128654068', 'AMAZON.COM, INC.', 'ZXTILKJKG63JELOEG630', 'AMAZON.COM INC COMMON STOCK', '023135106', '2288105', 'NS', '', 'USD', '427829872.9', '', '5.199760937179', 'Long', 'EC', '', 'OTHER', 'N/A', 'US', 'N', '1', '')\n",
      "('0001752724-24-224070', '128654051', 'IDEXX LABORATORIES, INC.', 'OGMTXK0LUU1HKV2P0J84', 'IDEXX LABORATORIES INC COMMON STOCK', '45168D104', '45899', 'NS', '', 'USD', '21853431.88', '', '.265602354185', 'Long', 'EC', '', 'OTHER', 'N/A', 'US', 'N', '1', '')\n",
      "('0001752724-24-224070', '128654038', 'NXP Semiconductors N.V.', '724500M9BY5293JDF951', 'NXP SEMICONDUCTORS NV COMMON STOCK', 'N6596X109', '146572', 'NS', '', 'USD', '38571887.52', '', '.468795207403', 'Long', 'EC', '', 'OTHER', 'N/A', 'US', 'N', '1', '')\n",
      "('0001752724-24-224070', '128654083', 'THE TRADE DESK, INC.', '549300GXPD31VT3E0P46', 'TRADE DESK INC/THE -CLASS A COMMON STOCK', '88339J105', '248249', 'NS', '', 'USD', '22312620.12', '', '.271183238607', 'Long', 'EC', '', 'OTHER', 'N/A', 'US', 'N', '1', '')\n",
      "('0001752724-24-224070', '128654088', 'AIRBNB, INC.', '549300HMUDNO0RY56D37', 'AIRBNB INC-CLASS A COMMON STOCK', '009066101', '246774', 'NS', '', 'USD', '34439779.44', '', '.418574370703', 'Long', 'EC', '', 'OTHER', 'N/A', 'US', 'N', '1', '')\n",
      "('0001752724-24-224070', '128654091', 'META PLATFORMS, INC.', 'BQ4BKCS1HXDV9HN80Z93', 'META PLATFORMS INC COMMON STOCK', '30303M102', '766606', 'NS', '', 'USD', '364007526.98', '', '4.424076576981', 'Long', 'EC', '', 'OTHER', 'N/A', 'US', 'N', '1', '')\n",
      "('0001752724-24-224070', '128653994', 'DOLLAR TREE, INC.', '549300PMSTQITB1WHR43', 'DOLLAR TREE INC COMMON STOCK', '256746108', '119637', 'NS', '', 'USD', '12482924.58', '', '.151715033765', 'Long', 'EC', '', 'OTHER', 'N/A', 'US', 'N', '1', '')\n",
      "('0001752724-24-224070', '128654034', 'APPLIED MATERIALS, INC.', '41BNNE1AFPNAZELZ6K07', 'APPLIED MATERIALS INC COMMON STOCK', '038222105', '471678', 'NS', '', 'USD', '100090071.6', '', '1.216475233431', 'Long', 'EC', '', 'OTHER', 'N/A', 'US', 'N', '1', '')\n"
     ]
    }
   ],
   "source": [
    "# View first 10 rows of Fund Reported Holdings Table\n",
    "cursor.execute(\"SELECT * FROM FUND_REPORTED_HOLDING_RAW LIMIT 10\")\n",
    "\n",
    "# Retrieve column names\n",
    "column_names = [description[0] for description in cursor.description]\n",
    "print(column_names)\n",
    "\n",
    "# Retrieve table data\n",
    "data = cursor.fetchall()\n",
    "for inst in data:\n",
    "    print(inst)"
   ]
  },
  {
   "cell_type": "markdown",
   "metadata": {},
   "source": [
    "### Randomly sample 1000 CUSIPS"
   ]
  },
  {
   "cell_type": "code",
   "execution_count": 7,
   "metadata": {},
   "outputs": [
    {
     "data": {
      "text/plain": [
       "<sqlite3.Cursor at 0x2538a29edc0>"
      ]
     },
     "execution_count": 7,
     "metadata": {},
     "output_type": "execute_result"
    }
   ],
   "source": [
    "# Randomly sample 1000 distinct CUSIPS as table SAMPLED_CUSIPS\n",
    "cursor.execute('''CREATE TABLE SAMPLED_CUSIPS AS\n",
    "                SELECT DISTINCT ISSUER_CUSIP\n",
    "                FROM FUND_REPORTED_HOLDING_RAW\n",
    "                WHERE ISSUER_CUSIP != 'N/A'\n",
    "                ORDER BY RANDOM()\n",
    "                LIMIT 1000;''')"
   ]
  },
  {
   "cell_type": "code",
   "execution_count": 8,
   "metadata": {},
   "outputs": [
    {
     "name": "stdout",
     "output_type": "stream",
     "text": [
      "Sampled CUSIPS: \n",
      "('812643UZ5',)\n",
      "('139365GD6',)\n",
      "('ACI0HH5S3',)\n",
      "('64831TAE7',)\n",
      "('100853UX6',)\n",
      "('3137AAYH0',)\n",
      "('13051AGJ1',)\n",
      "('41151PAP0',)\n",
      "('066878ML0',)\n",
      "('702528LF5',)\n",
      "Number of CUSIPS:  1000\n"
     ]
    }
   ],
   "source": [
    "## View first 10 sampled cusips\n",
    "cursor.execute(\"select * from SAMPLED_CUSIPS\")\n",
    "\n",
    "data = cursor.fetchall()\n",
    "print(\"Sampled CUSIPS: \")\n",
    "for inst in data[:10]:\n",
    "    print(inst)\n",
    "\n",
    "# Print number of sampled cusips\n",
    "cursor.execute(\"select count(*) from SAMPLED_CUSIPS\")\n",
    "print(\"Number of CUSIPS: \", cursor.fetchone()[0])"
   ]
  },
  {
   "cell_type": "markdown",
   "metadata": {},
   "source": [
    "### Create filtered table FUND_REPORTED_HOLDING"
   ]
  },
  {
   "cell_type": "code",
   "execution_count": 9,
   "metadata": {},
   "outputs": [
    {
     "data": {
      "text/plain": [
       "<sqlite3.Cursor at 0x2538a29edc0>"
      ]
     },
     "execution_count": 9,
     "metadata": {},
     "output_type": "execute_result"
    }
   ],
   "source": [
    "cursor.execute('''\n",
    "                CREATE TABLE FUND_REPORTED_HOLDING AS\n",
    "                SELECT *\n",
    "                FROM FUND_REPORTED_HOLDING_RAW frhr\n",
    "                JOIN SAMPLED_CUSIPS s ON frhr.ISSUER_CUSIP = s.ISSUER_CUSIP\n",
    "''')"
   ]
  },
  {
   "cell_type": "code",
   "execution_count": 10,
   "metadata": {},
   "outputs": [
    {
     "name": "stdout",
     "output_type": "stream",
     "text": [
      "['ACCESSION_NUMBER', 'HOLDING_ID', 'ISSUER_NAME', 'ISSUER_LEI', 'ISSUER_TITLE', 'ISSUER_CUSIP', 'BALANCE', 'UNIT', 'OTHER_UNIT_DESC', 'CURRENCY_CODE', 'CURRENCY_VALUE', 'EXCHANGE_RATE', 'PERCENTAGE', 'PAYOFF_PROFILE', 'ASSET_CAT', 'OTHER_ASSET', 'ISSUER_TYPE', 'OTHER_ISSUER', 'INVESTMENT_COUNTRY', 'IS_RESTRICTED_SECURITY', 'FAIR_VALUE_LEVEL', 'DERIVATIVE_CAT', 'ISSUER_CUSIP:1']\n",
      "('0001752724-24-223537', '128640724', 'Indiana (State of) Finance Authority (United States Steel Corp.)', '549300PS0PAS7NDSSI20', 'Indiana (State of) Finance Authority (United States Steel Corp.), Series 2021 A, Ref. RB', '455054BE5', '500000', 'PA', '', 'USD', '502242.2', '', '1.634062931123', 'Long', 'DBT', '', 'MUN', '', 'US', 'N', '2', '', '455054BE5')\n",
      "('0001145549-24-062678', '128666648', 'Matterhorn Re Ltd.', '549300QRZ77PO1BYWT39', 'Matterhorn Re Argon 2022-1 Class A', '577092AR0', '1000000', 'PA', '', 'USD', '997927.07', '', '.0324112951', 'Long', 'DBT', '', 'CORP', '', 'BM', 'Y', '2', '', '577092AR0')\n",
      "('0001752724-24-223863', '128648692', 'UnitedHealth Group, Inc.', '549300GHBMY8T5GXDE41', 'UnitedHealth Group, Inc.', '91324PFC1', '20000', 'PA', '', 'USD', '19846.36', '', '.047774981559', 'Long', 'DBT', '', 'CORP', '', 'US', 'N', '2', '', '91324PFC1')\n",
      "('0001752724-24-223859', '128650943', 'United States of America', '254900HROIFWPRGM1V77', 'U.S. Treasury Bills', '912797GW1', '35000', 'PA', '', 'USD', '34682.62', '', '.026651476777', 'Long', 'STIV', '', 'UST', '', 'US', 'N', '2', '', '912797GW1')\n",
      "('0001752724-24-223550', '128673600', 'Shake Shack Inc.', '529900J74GJAHYP80N79', 'Shake Shack Inc., Class A', '819047101', '10609', 'NS', '', 'USD', '929560.58', '', '.036355105313', 'Long', 'EC', '', 'CORP', '', 'US', 'N', '1', '', '819047101')\n",
      "('0001752724-24-223567', '128678613', 'KKR & Co Inc', '54930013V5I303TF9571', 'KKR & Co Inc', '48251W104', '-900', 'NS', '', 'USD', '-111105', '', '-.21291129571', 'Short', 'EC', '', 'CORP', '', 'US', 'N', '1', '', '48251W104')\n",
      "('0001752724-24-223863', '128648315', 'Lear Corp.', '549300UPNBTXA1SYTQ33', 'Lear Corp.', '521865AZ8', '25000', 'PA', '', 'USD', '22739.24', '', '.05473884237', 'Long', 'DBT', '', 'CORP', '', 'US', 'N', '2', '', '521865AZ8')\n",
      "('0001752724-24-223547', '128670285', 'Allstate Corp. (The)', 'OBT0W1ED8G0NWVOLOJ77', 'Allstate Corp. (The)', '020002101', '1354', 'NS', '', 'USD', '231696.48', '', '.141379657695', 'Long', 'EC', '', 'CORP', '', 'US', 'N', '1', '', '020002101')\n",
      "('0001752724-24-224072', '128709797', 'KKR & CO. INC.', '54930013V5I303TF9571', 'KKR & CO INC COMMON STOCK', '48251W104', '41418', 'NS', '', 'USD', '5113052.1', '', '.177224063874', 'Long', 'EC', '', 'OTHER', 'N/A', 'US', 'N', '1', '', '48251W104')\n",
      "('0001752724-24-224041', '128704642', 'NUCOR CORPORATION', '549300GGJCRSI2TIEJ46', 'NUCOR CORP COMMON STOCK', '670346105', '11', 'NS', '', 'USD', '1792.34', '', '.082552637312', 'Long', 'EC', '', 'OTHER', 'N/A', 'US', 'N', '1', '', '670346105')\n",
      "Number of Rows:  9740\n"
     ]
    }
   ],
   "source": [
    "# View first 10 rows of filtered Fund Reported Holdings Table\n",
    "cursor.execute(\"SELECT * FROM FUND_REPORTED_HOLDING LIMIT 10\")\n",
    "\n",
    "# Retrieve column names\n",
    "column_names = [description[0] for description in cursor.description]\n",
    "print(column_names)\n",
    "\n",
    "# Retrieve table data\n",
    "data = cursor.fetchall()\n",
    "for inst in data:\n",
    "    print(inst)\n",
    "\n",
    "# Print number of rows\n",
    "cursor.execute(\"select count(*) from FUND_REPORTED_HOLDING\")\n",
    "print(\"Number of Rows: \", cursor.fetchone()[0])"
   ]
  },
  {
   "cell_type": "markdown",
   "metadata": {},
   "source": [
    "### Create all other filtered tables"
   ]
  },
  {
   "cell_type": "code",
   "execution_count": 11,
   "metadata": {},
   "outputs": [],
   "source": [
    "def create_sampled_table(filename, primary_key):\n",
    "    if filename.endswith('.tsv'): \n",
    "        table_name = os.path.splitext(filename)[0]\n",
    "        file_path = raw_data_folder + '/' + filename\n",
    "\n",
    "        if not os.path.isfile(file_path):\n",
    "            return f\"Exiting early because '{filename}'.tsv does not exist in '{raw_data_folder}\"\n",
    "        \n",
    "        # Retrieve primary keys from FUND_REPORTED_HOLDING table\n",
    "        primary_key_query = f\"SELECT {primary_key} FROM FUND_REPORTED_HOLDING;\"\n",
    "        cursor.execute(primary_key_query)\n",
    "        primary_keys = {row[0] for row in cursor.fetchall()}\n",
    "        \n",
    "        with open(file_path, 'r', newline='') as file:\n",
    "            reader = csv.reader(file, delimiter='\\t')\n",
    "            column_names = next(reader)  # Get the first row as column names\n",
    "\n",
    "            create_table_query = f\"CREATE TABLE IF NOT EXISTS {table_name} ({', '.join([f'{col} TEXT' for col in column_names])});\"\n",
    "            cursor.execute(create_table_query)\n",
    "\n",
    "            # Insert only rows that match the primary keys\n",
    "            for row in reader:\n",
    "                # Retrieve primary key value from the current row\n",
    "                row_primary_key = row[column_names.index(primary_key)]\n",
    "\n",
    "                # Check if the row's primary key exists in the fetched primary keys\n",
    "                if row_primary_key in primary_keys:\n",
    "                    insert_query = f\"INSERT INTO {table_name} ({', '.join(column_names)}) VALUES ({', '.join(['?'] * len(column_names))});\"\n",
    "                    cursor.execute(insert_query, row)"
   ]
  },
  {
   "cell_type": "code",
   "execution_count": 12,
   "metadata": {},
   "outputs": [
    {
     "name": "stdout",
     "output_type": "stream",
     "text": [
      "Created sampled table using ACCESSION_NUMBER for SUBMISSION.tsv\n",
      "Created sampled table using ACCESSION_NUMBER for REGISTRANT.tsv\n",
      "Created sampled table using ACCESSION_NUMBER for FUND_REPORTED_INFO.tsv\n",
      "Created sampled table using ACCESSION_NUMBER for INTEREST_RATE_RISK.tsv\n",
      "Created sampled table using ACCESSION_NUMBER for BORROWER.tsv\n",
      "Created sampled table using ACCESSION_NUMBER for BORROW_AGGREGATE.tsv\n",
      "Created sampled table using ACCESSION_NUMBER for MONTHLY_TOTAL_RETURN.tsv\n",
      "Created sampled table using ACCESSION_NUMBER for MONTHLY_RETURN_CAT_INSTRUMENT.tsv\n",
      "Created sampled table using ACCESSION_NUMBER for FUND_VAR_INFO.tsv\n",
      "Created sampled table using ACCESSION_NUMBER for EXPLANATORY_NOTE.tsv\n",
      "Created sampled table using HOLDING_ID for IDENTIFIERS.tsv\n",
      "Created sampled table using HOLDING_ID for DEBT_SECURITY.tsv\n",
      "Created sampled table using HOLDING_ID for DEBT_SECURITY_REF_INSTRUMENT.tsv\n",
      "Created sampled table using HOLDING_ID for CONVERTIBLE_SECURITY_CURRENCY.tsv\n",
      "Created sampled table using HOLDING_ID for REPURCHASE_AGREEMENT.tsv\n",
      "Created sampled table using HOLDING_ID for REPURCHASE_COUNTERPARTY.tsv\n",
      "Created sampled table using HOLDING_ID for REPURCHASE_COLLATERAL.tsv\n",
      "Created sampled table using HOLDING_ID for DERIVATIVE_COUNTERPARTY.tsv\n",
      "Created sampled table using HOLDING_ID for SWAPTION_OPTION_WARNT_DERIV.tsv\n",
      "Created sampled table using HOLDING_ID for DESC_REF_INDEX_BASKET.tsv\n",
      "Created sampled table using HOLDING_ID for DESC_REF_INDEX_COMPONENT.tsv\n",
      "Created sampled table using HOLDING_ID for DESC_REF_OTHER.tsv\n",
      "Created sampled table using HOLDING_ID for FUT_FWD_NONFOREIGNCUR_CONTRACT.tsv\n",
      "Created sampled table using HOLDING_ID for FWD_FOREIGNCUR_CONTRACT_SWAP.tsv\n",
      "Created sampled table using HOLDING_ID for NONFOREIGN_EXCHANGE_SWAP.tsv\n",
      "Created sampled table using HOLDING_ID for FLOATING_RATE_RESET_TENOR.tsv\n",
      "Created sampled table using HOLDING_ID for OTHER_DERIV.tsv\n",
      "Created sampled table using HOLDING_ID for OTHER_DERIV_NOTIONAL_AMOUNT.tsv\n",
      "Created sampled table using HOLDING_ID for SECURITIES_LENDING.tsv\n"
     ]
    }
   ],
   "source": [
    "ac_tables = [\n",
    "    \"SUBMISSION\",\n",
    "    \"REGISTRANT\",\n",
    "    \"FUND_REPORTED_INFO\",\n",
    "    \"INTEREST_RATE_RISK\",\n",
    "    \"BORROWER\",\n",
    "    \"BORROW_AGGREGATE\",\n",
    "    \"MONTHLY_TOTAL_RETURN\",\n",
    "    \"MONTHLY_RETURN_CAT_INSTRUMENT\",\n",
    "    \"FUND_VAR_INFO\",\n",
    "    \"EXPLANATORY_NOTE\"\n",
    "]\n",
    "\n",
    "hid_tables = [\n",
    "    \"IDENTIFIERS\",\n",
    "    \"DEBT_SECURITY\",\n",
    "    \"DEBT_SECURITY_REF_INSTRUMENT\",\n",
    "    \"CONVERTIBLE_SECURITY_CURRENCY\",\n",
    "    \"REPURCHASE_AGREEMENT\",\n",
    "    \"REPURCHASE_COUNTERPARTY\",\n",
    "    \"REPURCHASE_COLLATERAL\",\n",
    "    \"DERIVATIVE_COUNTERPARTY\",\n",
    "    \"SWAPTION_OPTION_WARNT_DERIV\",\n",
    "    \"DESC_REF_INDEX_BASKET\",\n",
    "    \"DESC_REF_INDEX_COMPONENT\",\n",
    "    \"DESC_REF_OTHER\",\n",
    "    \"FUT_FWD_NONFOREIGNCUR_CONTRACT\",\n",
    "    \"FWD_FOREIGNCUR_CONTRACT_SWAP\",\n",
    "    \"NONFOREIGN_EXCHANGE_SWAP\",\n",
    "    \"FLOATING_RATE_RESET_TENOR\",\n",
    "    \"OTHER_DERIV\",\n",
    "    \"OTHER_DERIV_NOTIONAL_AMOUNT\",\n",
    "    \"SECURITIES_LENDING\",\n",
    "]\n",
    "\n",
    "for table in ac_tables:\n",
    "    filename = f\"{table}.tsv\"\n",
    "    create_sampled_table(filename, \"ACCESSION_NUMBER\")\n",
    "    print(\"Created sampled table using ACCESSION_NUMBER for\", filename)\n",
    "\n",
    "for table in hid_tables:\n",
    "    filename = f\"{table}.tsv\"\n",
    "    create_sampled_table(filename, \"HOLDING_ID\")\n",
    "    print(\"Created sampled table using HOLDING_ID for\", filename)\n"
   ]
  },
  {
   "cell_type": "code",
   "execution_count": 13,
   "metadata": {},
   "outputs": [
    {
     "name": "stdout",
     "output_type": "stream",
     "text": [
      "Number of Rows in SUBMISSION: 4084\n",
      "Number of Rows in REGISTRANT: 4084\n",
      "Number of Rows in FUND_REPORTED_INFO: 4084\n",
      "Number of Rows in INTEREST_RATE_RISK: 5294\n",
      "Number of Rows in BORROWER: 16952\n",
      "Number of Rows in BORROW_AGGREGATE: 583\n",
      "Number of Rows in MONTHLY_TOTAL_RETURN: 10476\n",
      "Number of Rows in MONTHLY_RETURN_CAT_INSTRUMENT: 93702\n",
      "Number of Rows in FUND_VAR_INFO: 1771\n",
      "Number of Rows in EXPLANATORY_NOTE: 4506\n",
      "Number of Rows in IDENTIFIERS: 12312\n",
      "Number of Rows in DEBT_SECURITY: 5421\n",
      "Number of Rows in DEBT_SECURITY_REF_INSTRUMENT: 0\n",
      "Number of Rows in CONVERTIBLE_SECURITY_CURRENCY: 0\n",
      "Number of Rows in REPURCHASE_AGREEMENT: 0\n",
      "Number of Rows in REPURCHASE_COUNTERPARTY: 0\n",
      "Number of Rows in REPURCHASE_COLLATERAL: 0\n",
      "Number of Rows in DERIVATIVE_COUNTERPARTY: 27\n",
      "Number of Rows in SWAPTION_OPTION_WARNT_DERIV: 3\n",
      "Number of Rows in DESC_REF_INDEX_BASKET: 0\n",
      "Number of Rows in DESC_REF_INDEX_COMPONENT: 0\n",
      "Number of Rows in DESC_REF_OTHER: 3\n",
      "Number of Rows in FUT_FWD_NONFOREIGNCUR_CONTRACT: 0\n",
      "Number of Rows in FWD_FOREIGNCUR_CONTRACT_SWAP: 3\n",
      "Number of Rows in NONFOREIGN_EXCHANGE_SWAP: 21\n",
      "Number of Rows in FLOATING_RATE_RESET_TENOR: 40\n",
      "Number of Rows in OTHER_DERIV: 0\n",
      "Number of Rows in OTHER_DERIV_NOTIONAL_AMOUNT: 0\n",
      "Number of Rows in SECURITIES_LENDING: 9740\n"
     ]
    }
   ],
   "source": [
    "# Print number of rows for each table\n",
    "\n",
    "for table in ac_tables:\n",
    "    cursor.execute(f\"SELECT COUNT(*) FROM {table}\")\n",
    "    print(f\"Number of Rows in {table}:\", cursor.fetchone()[0])\n",
    "\n",
    "for table in hid_tables:\n",
    "    cursor.execute(f\"SELECT COUNT(*) FROM {table}\")\n",
    "    print(f\"Number of Rows in {table}:\", cursor.fetchone()[0])"
   ]
  },
  {
   "cell_type": "code",
   "execution_count": 14,
   "metadata": {},
   "outputs": [
    {
     "name": "stdout",
     "output_type": "stream",
     "text": [
      "Number of Tables: 32\n",
      "['FUND_REPORTED_HOLDING_RAW', 'SAMPLED_CUSIPS', 'FUND_REPORTED_HOLDING', 'SUBMISSION', 'REGISTRANT', 'FUND_REPORTED_INFO', 'INTEREST_RATE_RISK', 'BORROWER', 'BORROW_AGGREGATE', 'MONTHLY_TOTAL_RETURN', 'MONTHLY_RETURN_CAT_INSTRUMENT', 'FUND_VAR_INFO', 'EXPLANATORY_NOTE', 'IDENTIFIERS', 'DEBT_SECURITY', 'DEBT_SECURITY_REF_INSTRUMENT', 'CONVERTIBLE_SECURITY_CURRENCY', 'REPURCHASE_AGREEMENT', 'REPURCHASE_COUNTERPARTY', 'REPURCHASE_COLLATERAL', 'DERIVATIVE_COUNTERPARTY', 'SWAPTION_OPTION_WARNT_DERIV', 'DESC_REF_INDEX_BASKET', 'DESC_REF_INDEX_COMPONENT', 'DESC_REF_OTHER', 'FUT_FWD_NONFOREIGNCUR_CONTRACT', 'FWD_FOREIGNCUR_CONTRACT_SWAP', 'NONFOREIGN_EXCHANGE_SWAP', 'FLOATING_RATE_RESET_TENOR', 'OTHER_DERIV', 'OTHER_DERIV_NOTIONAL_AMOUNT', 'SECURITIES_LENDING']\n"
     ]
    }
   ],
   "source": [
    "# View tables currently in database\n",
    "\n",
    "cursor.execute(\"SELECT name FROM sqlite_master WHERE type='table';\")\n",
    "tables = cursor.fetchall()\n",
    "tables = [table[0] for table in tables]\n",
    "print(\"Number of Tables:\", len(tables))\n",
    "print(tables)"
   ]
  },
  {
   "cell_type": "markdown",
   "metadata": {},
   "source": [
    "### Drop Unnecessary Tables from Database"
   ]
  },
  {
   "cell_type": "code",
   "execution_count": 15,
   "metadata": {},
   "outputs": [
    {
     "data": {
      "text/plain": [
       "<sqlite3.Cursor at 0x2538a29edc0>"
      ]
     },
     "execution_count": 15,
     "metadata": {},
     "output_type": "execute_result"
    }
   ],
   "source": [
    "# Drop irrelevant tables\n",
    "cursor.execute(\"DROP TABLE FUND_REPORTED_HOLDING_RAW;\")\n",
    "cursor.execute(\"DROP TABLE SAMPLED_CUSIPS;\")"
   ]
  },
  {
   "cell_type": "markdown",
   "metadata": {},
   "source": [
    "### Drop Columns Missing more than 85% of Values"
   ]
  },
  {
   "cell_type": "code",
   "execution_count": 16,
   "metadata": {},
   "outputs": [],
   "source": [
    "def drop_columns(table_name):\n",
    "    temp_cursor= conn.cursor()\n",
    "\n",
    "    temp_cursor.execute(\"SELECT name FROM sqlite_master WHERE type='table' AND name=?\", (table_name,))\n",
    "    result = temp_cursor.fetchone()\n",
    "\n",
    "    # Check if the result is not None\n",
    "    if not result:\n",
    "        return(\"There are currently no tables in the database.\")\n",
    "\n",
    "    temp_cursor.execute(f\"SELECT COUNT(*) FROM {table_name}\")\n",
    "    total_rows = temp_cursor.fetchone()[0]\n",
    "\n",
    "    temp_cursor.execute(f\"PRAGMA table_info({table_name})\")\n",
    "    columns = temp_cursor.fetchall()\n",
    "\n",
    "    columns_to_drop = []\n",
    "    columns_to_keep = []\n",
    "\n",
    "\n",
    "    for column in columns:\n",
    "        column_name = column[1]\n",
    "\n",
    "        # Skip columns that end with ':1'\n",
    "        if column_name.endswith(':1'):\n",
    "            print(f\"Skipping column {column_name} in table {table_name}\")\n",
    "            continue\n",
    "\n",
    "        temp_cursor.execute(f\"SELECT COUNT({column_name}) FROM {table_name} WHERE {column_name} = ''\")\n",
    "        null_count = temp_cursor.fetchone()[0]\n",
    "\n",
    "        if null_count > 0.85 * total_rows:\n",
    "            columns_to_drop.append(column_name)\n",
    "        else:\n",
    "            columns_to_keep.append(column_name)\n",
    "\n",
    "    if columns_to_drop:\n",
    "        # Create new table with remaining columns\n",
    "        new_table_name = f\"{table_name}_new\"\n",
    "        columns_definition = ', '.join(columns_to_keep)\n",
    "        temp_cursor.execute(f\"CREATE TABLE {new_table_name} ({columns_definition})\")\n",
    "\n",
    "        # Copy columns to new table\n",
    "        temp_cursor.execute(f\"INSERT INTO {new_table_name} ({columns_definition}) SELECT {columns_definition} FROM {table_name}\")\n",
    "\n",
    "        # Drop old table\n",
    "        temp_cursor.execute(f\"DROP TABLE {table_name}\")\n",
    "\n",
    "        # Rename new table to original table name\n",
    "        temp_cursor.execute(f\"ALTER TABLE {new_table_name} RENAME TO {table_name}\")\n",
    "\n",
    "        print(f\"Dropped columns {', '.join(columns_to_drop)} from table {table_name}\")\n",
    "    else:\n",
    "        print(f\"No columns to drop from table {table_name}\")\n",
    "    \n",
    "    temp_cursor.close()\n",
    "    return columns_to_drop, columns_to_keep"
   ]
  },
  {
   "cell_type": "code",
   "execution_count": 17,
   "metadata": {},
   "outputs": [
    {
     "name": "stdout",
     "output_type": "stream",
     "text": [
      "Skipping column ISSUER_CUSIP:1 in table FUND_REPORTED_HOLDING\n",
      "Dropped columns OTHER_UNIT_DESC, EXCHANGE_RATE, OTHER_ASSET, OTHER_ISSUER, DERIVATIVE_CAT from table FUND_REPORTED_HOLDING\n",
      "No columns to drop from table REGISTRANT\n",
      "Dropped columns FILE_NUM from table SUBMISSION\n",
      "No columns to drop from table FUND_REPORTED_INFO\n",
      "No columns to drop from table INTEREST_RATE_RISK\n",
      "No columns to drop from table BORROWER\n",
      "Dropped columns OTHER_DESC from table BORROW_AGGREGATE\n",
      "No columns to drop from table MONTHLY_TOTAL_RETURN\n",
      "No columns to drop from table MONTHLY_RETURN_CAT_INSTRUMENT\n",
      "No columns to drop from table FUND_VAR_INFO\n",
      "No columns to drop from table EXPLANATORY_NOTE\n",
      "Dropped columns IDENTIFIER_TICKER, OTHER_IDENTIFIER, OTHER_IDENTIFIER_DESC from table IDENTIFIERS\n",
      "No columns to drop from table DEBT_SECURITY_REF_INSTRUMENT\n",
      "No columns to drop from table CONVERTIBLE_SECURITY_CURRENCY\n",
      "No columns to drop from table REPURCHASE_AGREEMENT\n",
      "No columns to drop from table REPURCHASE_COUNTERPARTY\n",
      "No columns to drop from table REPURCHASE_COLLATERAL\n",
      "No columns to drop from table DERIVATIVE_COUNTERPARTY\n",
      "Dropped columns PRINCIPAL_AMOUNT, CURRENCY_CODE from table SWAPTION_OPTION_WARNT_DERIV\n",
      "No columns to drop from table DESC_REF_INDEX_BASKET\n",
      "No columns to drop from table DESC_REF_INDEX_COMPONENT\n",
      "Dropped columns ISIN, TICKER, OTHER_IDENTIFIER, OTHER_DESC from table DESC_REF_OTHER\n",
      "No columns to drop from table FUT_FWD_NONFOREIGNCUR_CONTRACT\n",
      "No columns to drop from table FWD_FOREIGNCUR_CONTRACT_SWAP\n",
      "Dropped columns FIXED_RATE_RECEIPT, FIXED_RATE_PAYMENT from table NONFOREIGN_EXCHANGE_SWAP\n",
      "No columns to drop from table FLOATING_RATE_RESET_TENOR\n",
      "No columns to drop from table OTHER_DERIV\n",
      "No columns to drop from table OTHER_DERIV_NOTIONAL_AMOUNT\n",
      "Dropped columns CASH_COLLATERAL_AMOUNT, NON_CASH_COLLATERAL_VALUE, LOAN_VALUE from table SECURITIES_LENDING\n",
      "Kept columns:  {'FUND_REPORTED_HOLDING': ['OTHER_UNIT_DESC', 'EXCHANGE_RATE', 'OTHER_ASSET', 'OTHER_ISSUER', 'DERIVATIVE_CAT'], 'REGISTRANT': [], 'SUBMISSION': ['FILE_NUM'], 'FUND_REPORTED_INFO': [], 'INTEREST_RATE_RISK': [], 'BORROWER': [], 'BORROW_AGGREGATE': ['OTHER_DESC'], 'MONTHLY_TOTAL_RETURN': [], 'MONTHLY_RETURN_CAT_INSTRUMENT': [], 'FUND_VAR_INFO': [], 'EXPLANATORY_NOTE': [], 'IDENTIFIERS': ['IDENTIFIER_TICKER', 'OTHER_IDENTIFIER', 'OTHER_IDENTIFIER_DESC'], 'DEBT_SECURITY_REF_INSTRUMENT': [], 'CONVERTIBLE_SECURITY_CURRENCY': [], 'REPURCHASE_AGREEMENT': [], 'REPURCHASE_COUNTERPARTY': [], 'REPURCHASE_COLLATERAL': [], 'DERIVATIVE_COUNTERPARTY': [], 'SWAPTION_OPTION_WARNT_DERIV': ['PRINCIPAL_AMOUNT', 'CURRENCY_CODE'], 'DESC_REF_INDEX_BASKET': [], 'DESC_REF_INDEX_COMPONENT': [], 'DESC_REF_OTHER': ['ISIN', 'TICKER', 'OTHER_IDENTIFIER', 'OTHER_DESC'], 'FUT_FWD_NONFOREIGNCUR_CONTRACT': [], 'FWD_FOREIGNCUR_CONTRACT_SWAP': [], 'NONFOREIGN_EXCHANGE_SWAP': ['FIXED_RATE_RECEIPT', 'FIXED_RATE_PAYMENT'], 'FLOATING_RATE_RESET_TENOR': [], 'OTHER_DERIV': [], 'OTHER_DERIV_NOTIONAL_AMOUNT': [], 'SECURITIES_LENDING': ['CASH_COLLATERAL_AMOUNT', 'NON_CASH_COLLATERAL_VALUE', 'LOAN_VALUE']}\n",
      "Dropped columns:  {'FUND_REPORTED_HOLDING': ['ACCESSION_NUMBER', 'HOLDING_ID', 'ISSUER_NAME', 'ISSUER_LEI', 'ISSUER_TITLE', 'ISSUER_CUSIP', 'BALANCE', 'UNIT', 'CURRENCY_CODE', 'CURRENCY_VALUE', 'PERCENTAGE', 'PAYOFF_PROFILE', 'ASSET_CAT', 'ISSUER_TYPE', 'INVESTMENT_COUNTRY', 'IS_RESTRICTED_SECURITY', 'FAIR_VALUE_LEVEL'], 'REGISTRANT': ['ACCESSION_NUMBER', 'CIK', 'REGISTRANT_NAME', 'FILE_NUM', 'LEI', 'ADDRESS1', 'ADDRESS2', 'CITY', 'STATE', 'COUNTRY', 'ZIP', 'PHONE'], 'SUBMISSION': ['ACCESSION_NUMBER', 'FILING_DATE', 'SUB_TYPE', 'REPORT_ENDING_PERIOD', 'REPORT_DATE', 'IS_LAST_FILING'], 'FUND_REPORTED_INFO': ['ACCESSION_NUMBER', 'SERIES_NAME', 'SERIES_ID', 'SERIES_LEI', 'TOTAL_ASSETS', 'TOTAL_LIABILITIES', 'NET_ASSETS', 'ASSETS_ATTRBT_TO_MISC_SECURITY', 'ASSETS_INVESTED', 'BORROWING_PAY_WITHIN_1YR', 'CTRLD_COMPANIES_PAY_WITHIN_1YR', 'OTHER_AFFILIA_PAY_WITHIN_1YR', 'OTHER_PAY_WITHIN_1YR', 'BORROWING_PAY_AFTER_1YR', 'CTRLD_COMPANIES_PAY_AFTER_1YR', 'OTHER_AFFILIA_PAY_AFTER_1YR', 'OTHER_PAY_AFTER_1YR', 'DELAYED_DELIVERY', 'STANDBY_COMMITMENT', 'LIQUIDATION_PREFERENCE', 'CASH_NOT_RPTD_IN_C_OR_D', 'CREDIT_SPREAD_3MON_INVEST', 'CREDIT_SPREAD_1YR_INVEST', 'CREDIT_SPREAD_5YR_INVEST', 'CREDIT_SPREAD_10YR_INVEST', 'CREDIT_SPREAD_30YR_INVEST', 'CREDIT_SPREAD_3MON_NONINVEST', 'CREDIT_SPREAD_1YR_NONINVEST', 'CREDIT_SPREAD_5YR_NONINVEST', 'CREDIT_SPREAD_10YR_NONINVEST', 'CREDIT_SPREAD_30YR_NONINVEST', 'IS_NON_CASH_COLLATERAL', 'NET_REALIZE_GAIN_NONDERIV_MON1', 'NET_UNREALIZE_AP_NONDERIV_MON1', 'NET_REALIZE_GAIN_NONDERIV_MON2', 'NET_UNREALIZE_AP_NONDERIV_MON2', 'NET_REALIZE_GAIN_NONDERIV_MON3', 'NET_UNREALIZE_AP_NONDERIV_MON3', 'SALES_FLOW_MON1', 'REINVESTMENT_FLOW_MON1', 'REDEMPTION_FLOW_MON1', 'SALES_FLOW_MON2', 'REINVESTMENT_FLOW_MON2', 'REDEMPTION_FLOW_MON2', 'SALES_FLOW_MON3', 'REINVESTMENT_FLOW_MON3', 'REDEMPTION_FLOW_MON3'], 'INTEREST_RATE_RISK': ['ACCESSION_NUMBER', 'INTEREST_RATE_RISK_ID', 'CURRENCY_CODE', 'INTRST_RATE_CHANGE_3MON_DV01', 'INTRST_RATE_CHANGE_1YR_DV01', 'INTRST_RATE_CHANGE_5YR_DV01', 'INTRST_RATE_CHANGE_10YR_DV01', 'INTRST_RATE_CHANGE_30YR_DV01', 'INTRST_RATE_CHANGE_3MON_DV100', 'INTRST_RATE_CHANGE_1YR_DV100', 'INTRST_RATE_CHANGE_5YR_DV100', 'INTRST_RATE_CHANGE_10YR_DV100', 'INTRST_RATE_CHANGE_30YR_DV100'], 'BORROWER': ['ACCESSION_NUMBER', 'BORROWER_ID', 'NAME', 'LEI', 'AGGREGATE_VALUE'], 'BORROW_AGGREGATE': ['ACCESSION_NUMBER', 'BORROW_AGGREGATE_ID', 'AMOUNT', 'COLLATERAL', 'INVESTMENT_CAT'], 'MONTHLY_TOTAL_RETURN': ['ACCESSION_NUMBER', 'MONTHLY_TOTAL_RETURN_ID', 'CLASS_ID', 'MONTHLY_TOTAL_RETURN1', 'MONTHLY_TOTAL_RETURN2', 'MONTHLY_TOTAL_RETURN3'], 'MONTHLY_RETURN_CAT_INSTRUMENT': ['ACCESSION_NUMBER', 'ASSET_CAT', 'INSTRUMENT_KIND', 'NET_REALIZED_GAIN_MON1', 'NET_UNREALIZED_AP_MON1', 'NET_REALIZED_GAIN_MON2', 'NET_UNREALIZED_AP_MON2', 'NET_REALIZED_GAIN_MON3', 'NET_UNREALIZED_AP_MON3'], 'FUND_VAR_INFO': ['ACCESSION_NUMBER', 'DESIGNATED_INDEX_NAME', 'DESIGNATED_INDEX_IDENTIFIER'], 'EXPLANATORY_NOTE': ['ACCESSION_NUMBER', 'EXPLANATORY_NOTE_ID', 'ITEM_NO', 'EXPLANATORY_NOTE'], 'IDENTIFIERS': ['HOLDING_ID', 'IDENTIFIERS_ID', 'IDENTIFIER_ISIN'], 'DEBT_SECURITY_REF_INSTRUMENT': ['HOLDING_ID', 'DEBT_SECURITY_REF_ID', 'ISSUER_NAME', 'ISSUE_TITLE', 'CURRENCY_CODE', 'CUSIP', 'ISIN', 'TICKER', 'OTHER_IDENTIFIER', 'OTHER_DESC'], 'CONVERTIBLE_SECURITY_CURRENCY': ['HOLDING_ID', 'CONVERTIBLE_SECURITY_ID', 'CONVERSION_RATIO', 'CURRENCY_CODE'], 'REPURCHASE_AGREEMENT': ['HOLDING_ID', 'TRANSACTION_TYPE', 'IS_CLEARED', 'CENTRAL_COUNTER_PARTY', 'IS_TRIPARTY', 'REPURCHASE_RATE', 'MATURITY_DATE'], 'REPURCHASE_COUNTERPARTY': ['HOLDING_ID', 'REPURCHASE_COUNTERPARTY_ID', 'NAME', 'LEI'], 'REPURCHASE_COLLATERAL': ['HOLDING_ID', 'REPURCHASE_COLLATERAL_ID', 'PRINCIPAL_AMOUNT', 'PRINCIPAL_CURRENCY_CODE', 'COLLATERAL_AMOUNT', 'COLLATERAL_CURRENCY_CODE', 'INVESTMENT_CAT', 'OTHER_INTRUMENT_DESC'], 'DERIVATIVE_COUNTERPARTY': ['HOLDING_ID', 'DERIVATIVE_COUNTERPARTY_ID', 'DERIVATIVE_COUNTERPARTY_NAME', 'DERIVATIVE_COUNTERPARTY_LEI'], 'SWAPTION_OPTION_WARNT_DERIV': ['HOLDING_ID', 'PUT_OR_CALL', 'WRITTEN_OR_PURCHASED', 'SHARES_CNT', 'EXERCISE_PRICE', 'EXPIRATION_DATE', 'UNREALIZED_APPRECIATION'], 'DESC_REF_INDEX_BASKET': ['HOLDING_ID', 'INDEX_NAME', 'INDEX_IDENTIFIER', 'NARRATIVE_DESC'], 'DESC_REF_INDEX_COMPONENT': ['HOLDING_ID', 'DESC_REF_INDEX_COMPONENT_ID', 'NAME', 'CUSIP', 'ISIN', 'TICKER', 'OTHER_IDENTIFIER', 'OTHER_DESC', 'NOTIONAL_AMOUNT', 'CURRENCY_CODE', 'VALUE', 'ISSUER_CURRENCY_CODE'], 'DESC_REF_OTHER': ['HOLDING_ID', 'DESC_REF_OTHER_ID', 'ISSUER_NAME', 'ISSUE_TITLE', 'CUSIP'], 'FUT_FWD_NONFOREIGNCUR_CONTRACT': ['HOLDING_ID', 'PAYOFF_PROFILE', 'EXPIRATION_DATE', 'NOTIONAL_AMOUNT', 'CURRENCY_CODE', 'UNREALIZED_APPRECIATION'], 'FWD_FOREIGNCUR_CONTRACT_SWAP': ['HOLDING_ID', 'CURRENCY_SOLD_AMOUNT', 'DESC_CURRENCY_SOLD', 'CURRENCY_PURCHASED_AMOUNT', 'DESC_CURRENCY_PURCHASED', 'SETTLEMENT_DATE', 'UNREALIZED_APPRECIATION'], 'NONFOREIGN_EXCHANGE_SWAP': ['HOLDING_ID', 'SWAP_FLAG', 'TERMINATION_DATE', 'UPFRONT_PAYMENT', 'PMNT_CURRENCY_CODE', 'UPFRONT_RECEIPT', 'RCPT_CURRENCY_CODE', 'NOTIONAL_AMOUNT', 'CURRENCY_CODE', 'UNREALIZED_APPRECIATION', 'FIXED_OR_FLOATING_RECEIPT', 'FLOATING_RATE_INDEX_RECEIPT', 'FLOATING_RATE_SPREAD_RECEIPT', 'CURRENCY_CODE_RECEIPT', 'AMOUNT_RECEIPT', 'FIXED_OR_FLOATING_PAYMENT', 'FLOATING_RATE_INDEX_PAYMENT', 'FLOATING_RATE_SPREAD_PAYMENT', 'CURRENCY_CODE_PAYMENT', 'AMOUNT_PAYMENT'], 'FLOATING_RATE_RESET_TENOR': ['HOLDING_ID', 'RATE_RESET_TENOR_ID', 'RECEIPT_OR_PAYMENT', 'RESET_DATE', 'RESET_DATE_UNIT', 'RATE_TENOR', 'RATE_TENOR_UNIT'], 'OTHER_DERIV': ['HOLDING_ID', 'OTHER_DESC', 'TERMINATION_DATE', 'UNREALIZED_APPRECIATION'], 'OTHER_DERIV_NOTIONAL_AMOUNT': ['HOLDING_ID', 'OTHER_DERIV_NOTIONAL_AMOUNT_ID', 'NOTIONAL_AMOUNT', 'CURRENCY_CODE'], 'SECURITIES_LENDING': ['HOLDING_ID', 'IS_CASH_COLLATERAL', 'IS_NON_CASH_COLLATERAL', 'IS_LOAN_BY_FUND']}\n"
     ]
    }
   ],
   "source": [
    "tables = ['FUND_REPORTED_HOLDING','REGISTRANT', 'SUBMISSION', 'FUND_REPORTED_INFO', 'INTEREST_RATE_RISK', 'BORROWER', 'BORROW_AGGREGATE', 'MONTHLY_TOTAL_RETURN', 'MONTHLY_RETURN_CAT_INSTRUMENT', 'FUND_VAR_INFO', 'EXPLANATORY_NOTE', 'IDENTIFIERS', 'DEBT_SECURITY_REF_INSTRUMENT', 'CONVERTIBLE_SECURITY_CURRENCY', 'REPURCHASE_AGREEMENT', 'REPURCHASE_COUNTERPARTY', 'REPURCHASE_COLLATERAL', 'DERIVATIVE_COUNTERPARTY', 'SWAPTION_OPTION_WARNT_DERIV', 'DESC_REF_INDEX_BASKET', 'DESC_REF_INDEX_COMPONENT', 'DESC_REF_OTHER', 'FUT_FWD_NONFOREIGNCUR_CONTRACT', 'FWD_FOREIGNCUR_CONTRACT_SWAP', 'NONFOREIGN_EXCHANGE_SWAP', 'FLOATING_RATE_RESET_TENOR', 'OTHER_DERIV', 'OTHER_DERIV_NOTIONAL_AMOUNT', 'SECURITIES_LENDING']\n",
    "columns_to_drop = {}\n",
    "columns_to_keep = {}\n",
    "for table in tables:\n",
    "    columns_to_drop[table],columns_to_keep[table] = drop_columns(table)\n",
    "print(\"Kept columns: \", columns_to_drop)\n",
    "print(\"Dropped columns: \", columns_to_keep)"
   ]
  },
  {
   "cell_type": "code",
   "execution_count": 18,
   "metadata": {},
   "outputs": [
    {
     "name": "stdout",
     "output_type": "stream",
     "text": [
      "Number of Tables: 30\n",
      "['REGISTRANT', 'FUND_REPORTED_INFO', 'INTEREST_RATE_RISK', 'BORROWER', 'MONTHLY_TOTAL_RETURN', 'MONTHLY_RETURN_CAT_INSTRUMENT', 'FUND_VAR_INFO', 'EXPLANATORY_NOTE', 'DEBT_SECURITY', 'DEBT_SECURITY_REF_INSTRUMENT', 'CONVERTIBLE_SECURITY_CURRENCY', 'REPURCHASE_AGREEMENT', 'REPURCHASE_COUNTERPARTY', 'REPURCHASE_COLLATERAL', 'DERIVATIVE_COUNTERPARTY', 'DESC_REF_INDEX_BASKET', 'DESC_REF_INDEX_COMPONENT', 'FUT_FWD_NONFOREIGNCUR_CONTRACT', 'FWD_FOREIGNCUR_CONTRACT_SWAP', 'FLOATING_RATE_RESET_TENOR', 'OTHER_DERIV', 'OTHER_DERIV_NOTIONAL_AMOUNT', 'FUND_REPORTED_HOLDING', 'SUBMISSION', 'BORROW_AGGREGATE', 'IDENTIFIERS', 'SWAPTION_OPTION_WARNT_DERIV', 'DESC_REF_OTHER', 'NONFOREIGN_EXCHANGE_SWAP', 'SECURITIES_LENDING']\n",
      "Number of Rows in REGISTRANT: 4084\n",
      "Number of Rows in FUND_REPORTED_INFO: 4084\n",
      "Number of Rows in INTEREST_RATE_RISK: 5294\n",
      "Number of Rows in BORROWER: 16952\n",
      "Number of Rows in MONTHLY_TOTAL_RETURN: 10476\n",
      "Number of Rows in MONTHLY_RETURN_CAT_INSTRUMENT: 93702\n",
      "Number of Rows in FUND_VAR_INFO: 1771\n",
      "Number of Rows in EXPLANATORY_NOTE: 4506\n",
      "Number of Rows in DEBT_SECURITY: 5421\n",
      "Number of Rows in DEBT_SECURITY_REF_INSTRUMENT: 0\n",
      "Number of Rows in CONVERTIBLE_SECURITY_CURRENCY: 0\n",
      "Number of Rows in REPURCHASE_AGREEMENT: 0\n",
      "Number of Rows in REPURCHASE_COUNTERPARTY: 0\n",
      "Number of Rows in REPURCHASE_COLLATERAL: 0\n",
      "Number of Rows in DERIVATIVE_COUNTERPARTY: 27\n",
      "Number of Rows in DESC_REF_INDEX_BASKET: 0\n",
      "Number of Rows in DESC_REF_INDEX_COMPONENT: 0\n",
      "Number of Rows in FUT_FWD_NONFOREIGNCUR_CONTRACT: 0\n",
      "Number of Rows in FWD_FOREIGNCUR_CONTRACT_SWAP: 3\n",
      "Number of Rows in FLOATING_RATE_RESET_TENOR: 40\n",
      "Number of Rows in OTHER_DERIV: 0\n",
      "Number of Rows in OTHER_DERIV_NOTIONAL_AMOUNT: 0\n",
      "Number of Rows in FUND_REPORTED_HOLDING: 9740\n",
      "Number of Rows in SUBMISSION: 4084\n",
      "Number of Rows in BORROW_AGGREGATE: 583\n",
      "Number of Rows in IDENTIFIERS: 12312\n",
      "Number of Rows in SWAPTION_OPTION_WARNT_DERIV: 3\n",
      "Number of Rows in DESC_REF_OTHER: 3\n",
      "Number of Rows in NONFOREIGN_EXCHANGE_SWAP: 21\n",
      "Number of Rows in SECURITIES_LENDING: 9740\n"
     ]
    }
   ],
   "source": [
    "# View tables currently in database\n",
    "\n",
    "cursor.execute(\"SELECT name FROM sqlite_master WHERE type='table';\")\n",
    "tables = cursor.fetchall()\n",
    "tables = [table[0] for table in tables]\n",
    "print(\"Number of Tables:\", len(tables))\n",
    "print(tables)\n",
    "\n",
    "for table in tables:\n",
    "    cursor.execute(f\"SELECT COUNT(*) FROM {table}\")\n",
    "    print(f\"Number of Rows in {table}:\", cursor.fetchone()[0])"
   ]
  },
  {
   "cell_type": "code",
   "execution_count": 19,
   "metadata": {},
   "outputs": [],
   "source": [
    "cursor.close()\n",
    "conn.commit()\n",
    "conn.close()"
   ]
  }
 ],
 "metadata": {
  "kernelspec": {
   "display_name": "base",
   "language": "python",
   "name": "python3"
  },
  "language_info": {
   "codemirror_mode": {
    "name": "ipython",
    "version": 3
   },
   "file_extension": ".py",
   "mimetype": "text/x-python",
   "name": "python",
   "nbconvert_exporter": "python",
   "pygments_lexer": "ipython3",
   "version": "3.11.5"
  }
 },
 "nbformat": 4,
 "nbformat_minor": 2
}
