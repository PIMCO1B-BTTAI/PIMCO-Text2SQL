{
 "cells": [
  {
   "cell_type": "markdown",
   "metadata": {},
   "source": [
    "## Objective: Create a full database for one NPORT quarter (2024q3)"
   ]
  },
  {
   "cell_type": "code",
   "execution_count": 1,
   "metadata": {},
   "outputs": [],
   "source": [
    "import os\n",
    "import sqlite3\n",
    "import csv"
   ]
  },
  {
   "cell_type": "markdown",
   "metadata": {},
   "source": [
    "### Set up directory"
   ]
  },
  {
   "cell_type": "code",
   "execution_count": 2,
   "metadata": {},
   "outputs": [
    {
     "name": "stdout",
     "output_type": "stream",
     "text": [
      "d:\\GithubRepos\\PIMCO-Text2SQL\\setup\n",
      "d:\\GithubRepos\\PIMCO-Text2SQL\n"
     ]
    }
   ],
   "source": [
    "# Get current directory\n",
    "curr_dir = os.getcwd()\n",
    "print(curr_dir)\n",
    "\n",
    "# Get parent directory\n",
    "os.chdir(\"..\")\n",
    "parent_dir = os.getcwd()\n",
    "print(parent_dir)"
   ]
  },
  {
   "cell_type": "markdown",
   "metadata": {},
   "source": [
    "### Establish connection to db file"
   ]
  },
  {
   "cell_type": "code",
   "execution_count": 3,
   "metadata": {},
   "outputs": [],
   "source": [
    "# Set up connection\n",
    "conn = sqlite3.connect(parent_dir + '/sqlite/nport.db')\n",
    "cursor = conn.cursor()"
   ]
  },
  {
   "cell_type": "markdown",
   "metadata": {},
   "source": [
    "### Get raw data folder"
   ]
  },
  {
   "cell_type": "code",
   "execution_count": 4,
   "metadata": {},
   "outputs": [
    {
     "name": "stdout",
     "output_type": "stream",
     "text": [
      "d:\\GithubRepos\\PIMCO-Text2SQL/data/2024q3_nport\n"
     ]
    }
   ],
   "source": [
    "raw_data_folder = parent_dir + '/data/2024q3_nport'\n",
    "print(raw_data_folder)"
   ]
  },
  {
   "cell_type": "markdown",
   "metadata": {},
   "source": [
    "### Create Tables"
   ]
  },
  {
   "cell_type": "code",
   "execution_count": 5,
   "metadata": {},
   "outputs": [],
   "source": [
    "# Create table from .tsv file\n",
    "def create_table(filename):\n",
    "    if filename.endswith('.tsv'):\n",
    "        table_name = os.path.splitext(filename)[0]\n",
    "        file_path = raw_data_folder +'/'+ filename\n",
    "        print(f\"Starting initialization of {table_name}\")\n",
    "        with open(file_path, 'r', newline='') as file:\n",
    "            reader = csv.reader(file, delimiter='\\t')\n",
    "            column_names = next(reader)  # Get the first row as column names\n",
    "\n",
    "            create_table_query = f\"CREATE TABLE IF NOT EXISTS {table_name} ({', '.join([f'{col} TEXT' for col in column_names])});\"\n",
    "            cursor.execute(create_table_query)\n",
    "\n",
    "            # Insert data into the table\n",
    "            for row in reader:\n",
    "                insert_query = f\"INSERT INTO {table_name} ({', '.join(column_names)}) VALUES ({', '.join(['?'] * len(column_names))});\"\n",
    "                cursor.execute(insert_query, row)\n",
    "\n",
    "        print(f\"Finished creating table {table_name}\")"
   ]
  },
  {
   "cell_type": "code",
   "execution_count": 6,
   "metadata": {},
   "outputs": [
    {
     "name": "stdout",
     "output_type": "stream",
     "text": [
      "Starting initialization of BORROWER\n",
      "Finished creating table BORROWER\n",
      "Starting initialization of BORROW_AGGREGATE\n",
      "Finished creating table BORROW_AGGREGATE\n",
      "Starting initialization of CONVERTIBLE_SECURITY_CURRENCY\n",
      "Finished creating table CONVERTIBLE_SECURITY_CURRENCY\n",
      "Starting initialization of DEBT_SECURITY\n",
      "Finished creating table DEBT_SECURITY\n",
      "Starting initialization of DEBT_SECURITY_REF_INSTRUMENT\n",
      "Finished creating table DEBT_SECURITY_REF_INSTRUMENT\n",
      "Starting initialization of DERIVATIVE_COUNTERPARTY\n",
      "Finished creating table DERIVATIVE_COUNTERPARTY\n",
      "Starting initialization of DESC_REF_INDEX_BASKET\n",
      "Finished creating table DESC_REF_INDEX_BASKET\n",
      "Starting initialization of DESC_REF_INDEX_COMPONENT\n",
      "Finished creating table DESC_REF_INDEX_COMPONENT\n",
      "Starting initialization of DESC_REF_OTHER\n",
      "Finished creating table DESC_REF_OTHER\n",
      "Starting initialization of EXPLANATORY_NOTE\n",
      "Finished creating table EXPLANATORY_NOTE\n",
      "Starting initialization of FLOATING_RATE_RESET_TENOR\n",
      "Finished creating table FLOATING_RATE_RESET_TENOR\n",
      "Starting initialization of FUND_REPORTED_HOLDING\n",
      "Finished creating table FUND_REPORTED_HOLDING\n",
      "Starting initialization of FUND_REPORTED_INFO\n",
      "Finished creating table FUND_REPORTED_INFO\n",
      "Starting initialization of FUND_VAR_INFO\n",
      "Finished creating table FUND_VAR_INFO\n",
      "Starting initialization of FUT_FWD_NONFOREIGNCUR_CONTRACT\n",
      "Finished creating table FUT_FWD_NONFOREIGNCUR_CONTRACT\n",
      "Starting initialization of FWD_FOREIGNCUR_CONTRACT_SWAP\n",
      "Finished creating table FWD_FOREIGNCUR_CONTRACT_SWAP\n",
      "Starting initialization of IDENTIFIERS\n",
      "Finished creating table IDENTIFIERS\n",
      "Starting initialization of INTEREST_RATE_RISK\n",
      "Finished creating table INTEREST_RATE_RISK\n",
      "Starting initialization of MONTHLY_RETURN_CAT_INSTRUMENT\n",
      "Finished creating table MONTHLY_RETURN_CAT_INSTRUMENT\n",
      "Starting initialization of MONTHLY_TOTAL_RETURN\n",
      "Finished creating table MONTHLY_TOTAL_RETURN\n",
      "Starting initialization of NONFOREIGN_EXCHANGE_SWAP\n",
      "Finished creating table NONFOREIGN_EXCHANGE_SWAP\n",
      "Starting initialization of OTHER_DERIV\n",
      "Finished creating table OTHER_DERIV\n",
      "Starting initialization of OTHER_DERIV_NOTIONAL_AMOUNT\n",
      "Finished creating table OTHER_DERIV_NOTIONAL_AMOUNT\n",
      "Starting initialization of REGISTRANT\n",
      "Finished creating table REGISTRANT\n",
      "Starting initialization of REPURCHASE_AGREEMENT\n",
      "Finished creating table REPURCHASE_AGREEMENT\n",
      "Starting initialization of REPURCHASE_COLLATERAL\n",
      "Finished creating table REPURCHASE_COLLATERAL\n",
      "Starting initialization of REPURCHASE_COUNTERPARTY\n",
      "Finished creating table REPURCHASE_COUNTERPARTY\n",
      "Starting initialization of SECURITIES_LENDING\n",
      "Finished creating table SECURITIES_LENDING\n",
      "Starting initialization of SUBMISSION\n",
      "Finished creating table SUBMISSION\n",
      "Starting initialization of SWAPTION_OPTION_WARNT_DERIV\n",
      "Finished creating table SWAPTION_OPTION_WARNT_DERIV\n"
     ]
    }
   ],
   "source": [
    "for filename in os.listdir(raw_data_folder):\n",
    "    create_table(filename)"
   ]
  },
  {
   "cell_type": "markdown",
   "metadata": {},
   "source": [
    "### Drop Columns Missing more than 85% of Values"
   ]
  },
  {
   "cell_type": "code",
   "execution_count": 7,
   "metadata": {},
   "outputs": [],
   "source": [
    "def drop_columns(table_name):\n",
    "    temp_cursor= conn.cursor()\n",
    "\n",
    "    temp_cursor.execute(\"SELECT name FROM sqlite_master WHERE type='table' AND name=?\", (table_name,))\n",
    "    result = temp_cursor.fetchone()\n",
    "\n",
    "    # Check if the result is not None\n",
    "    if not result:\n",
    "        return(\"There are currently no tables in the database.\")\n",
    "\n",
    "    temp_cursor.execute(f\"SELECT COUNT(*) FROM {table_name}\")\n",
    "    total_rows = temp_cursor.fetchone()[0]\n",
    "\n",
    "    temp_cursor.execute(f\"PRAGMA table_info({table_name})\")\n",
    "    columns = temp_cursor.fetchall()\n",
    "\n",
    "    columns_to_drop = []\n",
    "    columns_to_keep = []\n",
    "\n",
    "\n",
    "    for column in columns:\n",
    "        column_name = column[1]\n",
    "\n",
    "        # Skip columns that end with ':1'\n",
    "        if column_name.endswith(':1'):\n",
    "            print(f\"Skipping column {column_name} in table {table_name}\")\n",
    "            continue\n",
    "\n",
    "        temp_cursor.execute(f\"SELECT COUNT({column_name}) FROM {table_name} WHERE {column_name} = ''\")\n",
    "        null_count = temp_cursor.fetchone()[0]\n",
    "\n",
    "        if null_count > 0.85 * total_rows:\n",
    "            columns_to_drop.append(column_name)\n",
    "        else:\n",
    "            columns_to_keep.append(column_name)\n",
    "\n",
    "    if columns_to_drop:\n",
    "        # Create new table with remaining columns\n",
    "        new_table_name = f\"{table_name}_new\"\n",
    "        columns_definition = ', '.join(columns_to_keep)\n",
    "        temp_cursor.execute(f\"CREATE TABLE {new_table_name} ({columns_definition})\")\n",
    "\n",
    "        # Copy columns to new table\n",
    "        temp_cursor.execute(f\"INSERT INTO {new_table_name} ({columns_definition}) SELECT {columns_definition} FROM {table_name}\")\n",
    "\n",
    "        # Drop old table\n",
    "        temp_cursor.execute(f\"DROP TABLE {table_name}\")\n",
    "\n",
    "        # Rename new table to original table name\n",
    "        temp_cursor.execute(f\"ALTER TABLE {new_table_name} RENAME TO {table_name}\")\n",
    "\n",
    "        print(f\"Dropped columns {', '.join(columns_to_drop)} from table {table_name}\")\n",
    "    else:\n",
    "        print(f\"No columns to drop from table {table_name}\")\n",
    "    \n",
    "    temp_cursor.close()\n",
    "    return columns_to_drop, columns_to_keep"
   ]
  },
  {
   "cell_type": "code",
   "execution_count": 8,
   "metadata": {},
   "outputs": [
    {
     "ename": "NameError",
     "evalue": "name 'tables' is not defined",
     "output_type": "error",
     "traceback": [
      "\u001b[1;31m---------------------------------------------------------------------------\u001b[0m",
      "\u001b[1;31mNameError\u001b[0m                                 Traceback (most recent call last)",
      "Cell \u001b[1;32mIn[8], line 3\u001b[0m\n\u001b[0;32m      1\u001b[0m columns_to_drop \u001b[38;5;241m=\u001b[39m {}\n\u001b[0;32m      2\u001b[0m columns_to_keep \u001b[38;5;241m=\u001b[39m {}\n\u001b[1;32m----> 3\u001b[0m \u001b[38;5;28;01mfor\u001b[39;00m table \u001b[38;5;129;01min\u001b[39;00m tables:\n\u001b[0;32m      4\u001b[0m     columns_to_drop[table],columns_to_keep[table] \u001b[38;5;241m=\u001b[39m drop_columns(table)\n\u001b[0;32m      5\u001b[0m \u001b[38;5;28mprint\u001b[39m(\u001b[38;5;124m\"\u001b[39m\u001b[38;5;124mKept columns: \u001b[39m\u001b[38;5;124m\"\u001b[39m, columns_to_keep)\n",
      "\u001b[1;31mNameError\u001b[0m: name 'tables' is not defined"
     ]
    }
   ],
   "source": [
    "columns_to_drop = {}\n",
    "columns_to_keep = {}\n",
    "for table in tables:\n",
    "    columns_to_drop[table],columns_to_keep[table] = drop_columns(table)\n",
    "print(\"Kept columns: \", columns_to_keep)\n",
    "print(\"Dropped columns: \", columns_to_drop)"
   ]
  },
  {
   "cell_type": "code",
   "execution_count": null,
   "metadata": {},
   "outputs": [],
   "source": [
    "empty_count = 0\n",
    "\n",
    "for table, kept_columns in columns_to_keep.items():\n",
    "    if not kept_columns:  # Checks if the list is empty\n",
    "        print(f\"Table '{table}' is empty.\")\n",
    "        empty_count += 1\n",
    "    else:\n",
    "        print(f\"Table '{table}' has kept columns: {kept_columns}\")\n",
    "\n",
    "print(\"Empty Tables:\", empty_count)"
   ]
  },
  {
   "cell_type": "code",
   "execution_count": null,
   "metadata": {},
   "outputs": [],
   "source": [
    "# View tables currently in database\n",
    "\n",
    "cursor.execute(\"SELECT name FROM sqlite_master WHERE type='table';\")\n",
    "tables = cursor.fetchall()\n",
    "tables = [table[0] for table in tables]\n",
    "print(\"Number of Tables:\", len(tables))\n",
    "print(\"Tables:\", tables)\n",
    "\n",
    "empty_count = 0\n",
    "\n",
    "for table in tables:\n",
    "    cursor.execute(f\"SELECT COUNT(*) FROM {table}\")\n",
    "    count = cursor.fetchone()[0]\n",
    "    print(f\"Number of Rows in {table}:\", count)\n",
    "\n",
    "    if count == 0:\n",
    "        empty_count += 1\n",
    "\n",
    "print(\"Number of Empty Tables:\", empty_count)\n"
   ]
  }
 ],
 "metadata": {
  "kernelspec": {
   "display_name": "base",
   "language": "python",
   "name": "python3"
  },
  "language_info": {
   "codemirror_mode": {
    "name": "ipython",
    "version": 3
   },
   "file_extension": ".py",
   "mimetype": "text/x-python",
   "name": "python",
   "nbconvert_exporter": "python",
   "pygments_lexer": "ipython3",
   "version": "3.11.5"
  }
 },
 "nbformat": 4,
 "nbformat_minor": 2
}
