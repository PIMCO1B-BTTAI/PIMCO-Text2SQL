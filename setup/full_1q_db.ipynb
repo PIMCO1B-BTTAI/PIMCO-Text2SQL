{
 "cells": [
  {
   "cell_type": "markdown",
   "metadata": {},
   "source": [
    "## Objective: Create a full database for one NPORT quarter (2024q3)"
   ]
  },
  {
   "cell_type": "code",
   "execution_count": 1,
   "metadata": {},
   "outputs": [],
   "source": [
    "import os\n",
    "import sqlite3\n",
    "import csv"
   ]
  },
  {
   "cell_type": "markdown",
   "metadata": {},
   "source": [
    "### Set up directory"
   ]
  },
  {
   "cell_type": "code",
   "execution_count": 2,
   "metadata": {},
   "outputs": [
    {
     "name": "stdout",
     "output_type": "stream",
     "text": [
      "/Users/hannahzhang/Desktop/PIMCO 1B/PIMCO-Text2SQL/setup\n",
      "/Users/hannahzhang/Desktop/PIMCO 1B/PIMCO-Text2SQL\n"
     ]
    }
   ],
   "source": [
    "# Get current directory\n",
    "curr_dir = os.getcwd()\n",
    "print(curr_dir)\n",
    "\n",
    "# Get parent directory\n",
    "os.chdir(\"..\")\n",
    "parent_dir = os.getcwd()\n",
    "print(parent_dir)"
   ]
  },
  {
   "cell_type": "markdown",
   "metadata": {},
   "source": [
    "### Establish connection to db file"
   ]
  },
  {
   "cell_type": "code",
   "execution_count": 3,
   "metadata": {},
   "outputs": [],
   "source": [
    "# Set up connection\n",
    "conn = sqlite3.connect(parent_dir + '/sqlite/nport.db')\n",
    "cursor = conn.cursor()"
   ]
  },
  {
   "cell_type": "markdown",
   "metadata": {},
   "source": [
    "### Get raw data folder"
   ]
  },
  {
   "cell_type": "code",
   "execution_count": 4,
   "metadata": {},
   "outputs": [
    {
     "name": "stdout",
     "output_type": "stream",
     "text": [
      "/Users/hannahzhang/Desktop/PIMCO 1B/PIMCO-Text2SQL/raw_data/2024q3_nport\n"
     ]
    }
   ],
   "source": [
    "raw_data_folder = parent_dir + '/raw_data/2024q3_nport'\n",
    "print(raw_data_folder)"
   ]
  },
  {
   "cell_type": "markdown",
   "metadata": {},
   "source": [
    "### Create Tables"
   ]
  },
  {
   "cell_type": "code",
   "execution_count": 5,
   "metadata": {},
   "outputs": [],
   "source": [
    "# Create table from .tsv file\n",
    "def create_table(filename):\n",
    "    if filename.endswith('.tsv'):\n",
    "        table_name = os.path.splitext(filename)[0]\n",
    "        file_path = raw_data_folder +'/'+ filename\n",
    "\n",
    "        with open(file_path, 'r', newline='') as file:\n",
    "            reader = csv.reader(file, delimiter='\\t')\n",
    "            column_names = next(reader)  # Get the first row as column names\n",
    "\n",
    "            create_table_query = f\"CREATE TABLE IF NOT EXISTS {table_name} ({', '.join([f'{col} TEXT' for col in column_names])});\"\n",
    "            cursor.execute(create_table_query)\n",
    "\n",
    "            # Insert data into the table\n",
    "            for row in reader:\n",
    "                insert_query = f\"INSERT INTO {table_name} ({', '.join(column_names)}) VALUES ({', '.join(['?'] * len(column_names))});\"\n",
    "                cursor.execute(insert_query, row)\n",
    "\n",
    "        print(f\"Finished creating table {table_name}\")"
   ]
  },
  {
   "cell_type": "code",
   "execution_count": 6,
   "metadata": {},
   "outputs": [
    {
     "name": "stdout",
     "output_type": "stream",
     "text": [
      "Finished creating table INTEREST_RATE_RISK\n",
      "Finished creating table DESC_REF_INDEX_COMPONENT\n",
      "Finished creating table REPURCHASE_AGREEMENT\n",
      "Finished creating table FLOATING_RATE_RESET_TENOR\n",
      "Finished creating table SWAPTION_OPTION_WARNT_DERIV\n",
      "Finished creating table FUT_FWD_NONFOREIGNCUR_CONTRACT\n",
      "Finished creating table OTHER_DERIV_NOTIONAL_AMOUNT\n",
      "Finished creating table DERIVATIVE_COUNTERPARTY\n",
      "Finished creating table DEBT_SECURITY_REF_INSTRUMENT\n",
      "Finished creating table REPURCHASE_COLLATERAL\n",
      "Finished creating table OTHER_DERIV\n",
      "Finished creating table SECURITIES_LENDING\n",
      "Finished creating table BORROWER\n",
      "Finished creating table DESC_REF_OTHER\n",
      "Finished creating table DESC_REF_INDEX_BASKET\n",
      "Finished creating table FUND_VAR_INFO\n",
      "Finished creating table FWD_FOREIGNCUR_CONTRACT_SWAP\n",
      "Finished creating table REPURCHASE_COUNTERPARTY\n",
      "Finished creating table CONVERTIBLE_SECURITY_CURRENCY\n",
      "Finished creating table MONTHLY_RETURN_CAT_INSTRUMENT\n",
      "Finished creating table DEBT_SECURITY\n",
      "Finished creating table REGISTRANT\n",
      "Finished creating table MONTHLY_TOTAL_RETURN\n",
      "Finished creating table SUBMISSION\n",
      "Finished creating table BORROW_AGGREGATE\n",
      "Finished creating table EXPLANATORY_NOTE\n",
      "Finished creating table NONFOREIGN_EXCHANGE_SWAP\n",
      "Finished creating table FUND_REPORTED_HOLDING\n",
      "Finished creating table IDENTIFIERS\n",
      "Finished creating table FUND_REPORTED_INFO\n"
     ]
    }
   ],
   "source": [
    "for filename in os.listdir(raw_data_folder):\n",
    "    create_table(filename)"
   ]
  },
  {
   "cell_type": "code",
   "execution_count": null,
   "metadata": {},
   "outputs": [],
   "source": [
    "cursor.execute(\"SELECT name FROM sqlite_master WHERE type='table';\")\n",
    "tables = cursor.fetchall()\n",
    "tables = [table[0] for table in tables]\n",
    "print(\"Number of Tables:\", len(tables))\n",
    "print(\"Tables:\", tables)"
   ]
  },
  {
   "cell_type": "markdown",
   "metadata": {},
   "source": [
    "### Drop Columns Missing more than 85% of Values"
   ]
  },
  {
   "cell_type": "code",
   "execution_count": 9,
   "metadata": {},
   "outputs": [],
   "source": [
    "def drop_columns(table_name):\n",
    "    temp_cursor= conn.cursor()\n",
    "\n",
    "    temp_cursor.execute(\"SELECT name FROM sqlite_master WHERE type='table' AND name=?\", (table_name,))\n",
    "    result = temp_cursor.fetchone()\n",
    "\n",
    "    # Check if the result is not None\n",
    "    if not result:\n",
    "        return(\"There are currently no tables in the database.\")\n",
    "\n",
    "    temp_cursor.execute(f\"SELECT COUNT(*) FROM {table_name}\")\n",
    "    total_rows = temp_cursor.fetchone()[0]\n",
    "\n",
    "    temp_cursor.execute(f\"PRAGMA table_info({table_name})\")\n",
    "    columns = temp_cursor.fetchall()\n",
    "\n",
    "    columns_to_drop = []\n",
    "    columns_to_keep = []\n",
    "\n",
    "\n",
    "    for column in columns:\n",
    "        column_name = column[1]\n",
    "\n",
    "        # Skip columns that end with ':1'\n",
    "        if column_name.endswith(':1'):\n",
    "            print(f\"Skipping column {column_name} in table {table_name}\")\n",
    "            continue\n",
    "\n",
    "        temp_cursor.execute(f\"SELECT COUNT({column_name}) FROM {table_name} WHERE {column_name} = ''\")\n",
    "        null_count = temp_cursor.fetchone()[0]\n",
    "\n",
    "        if null_count > 0.85 * total_rows:\n",
    "            columns_to_drop.append(column_name)\n",
    "        else:\n",
    "            columns_to_keep.append(column_name)\n",
    "\n",
    "    if columns_to_drop:\n",
    "        # Create new table with remaining columns\n",
    "        new_table_name = f\"{table_name}_new\"\n",
    "        columns_definition = ', '.join(columns_to_keep)\n",
    "        temp_cursor.execute(f\"CREATE TABLE {new_table_name} ({columns_definition})\")\n",
    "\n",
    "        # Copy columns to new table\n",
    "        temp_cursor.execute(f\"INSERT INTO {new_table_name} ({columns_definition}) SELECT {columns_definition} FROM {table_name}\")\n",
    "\n",
    "        # Drop old table\n",
    "        temp_cursor.execute(f\"DROP TABLE {table_name}\")\n",
    "\n",
    "        # Rename new table to original table name\n",
    "        temp_cursor.execute(f\"ALTER TABLE {new_table_name} RENAME TO {table_name}\")\n",
    "\n",
    "        print(f\"Dropped columns {', '.join(columns_to_drop)} from table {table_name}\")\n",
    "    else:\n",
    "        print(f\"No columns to drop from table {table_name}\")\n",
    "    \n",
    "    temp_cursor.close()\n",
    "    return columns_to_drop, columns_to_keep"
   ]
  },
  {
   "cell_type": "code",
   "execution_count": null,
   "metadata": {},
   "outputs": [
    {
     "name": "stdout",
     "output_type": "stream",
     "text": [
      "No columns to drop from table INTEREST_RATE_RISK\n",
      "Dropped columns TICKER, OTHER_IDENTIFIER, OTHER_DESC from table DESC_REF_INDEX_COMPONENT\n",
      "Dropped columns CENTRAL_COUNTER_PARTY from table REPURCHASE_AGREEMENT\n",
      "No columns to drop from table FLOATING_RATE_RESET_TENOR\n",
      "Dropped columns PRINCIPAL_AMOUNT, CURRENCY_CODE from table SWAPTION_OPTION_WARNT_DERIV\n",
      "No columns to drop from table FUT_FWD_NONFOREIGNCUR_CONTRACT\n",
      "No columns to drop from table OTHER_DERIV_NOTIONAL_AMOUNT\n",
      "No columns to drop from table DERIVATIVE_COUNTERPARTY\n",
      "Dropped columns TICKER, OTHER_IDENTIFIER, OTHER_DESC from table DEBT_SECURITY_REF_INSTRUMENT\n",
      "Dropped columns OTHER_INTRUMENT_DESC from table REPURCHASE_COLLATERAL\n",
      "No columns to drop from table OTHER_DERIV\n",
      "Dropped columns CASH_COLLATERAL_AMOUNT, NON_CASH_COLLATERAL_VALUE, LOAN_VALUE from table SECURITIES_LENDING\n",
      "No columns to drop from table BORROWER\n",
      "No columns to drop from table DESC_REF_OTHER\n",
      "No columns to drop from table DESC_REF_INDEX_BASKET\n",
      "No columns to drop from table FUND_VAR_INFO\n",
      "No columns to drop from table FWD_FOREIGNCUR_CONTRACT_SWAP\n",
      "No columns to drop from table REPURCHASE_COUNTERPARTY\n",
      "No columns to drop from table CONVERTIBLE_SECURITY_CURRENCY\n",
      "No columns to drop from table MONTHLY_RETURN_CAT_INSTRUMENT\n",
      "Dropped columns IS_CONVTIBLE_MANDATORY, IS_CONVTIBLE_CONTINGENT from table DEBT_SECURITY\n",
      "No columns to drop from table REGISTRANT\n",
      "No columns to drop from table MONTHLY_TOTAL_RETURN\n",
      "Dropped columns FILE_NUM from table SUBMISSION\n",
      "Dropped columns OTHER_DESC from table BORROW_AGGREGATE\n",
      "No columns to drop from table EXPLANATORY_NOTE\n",
      "No columns to drop from table NONFOREIGN_EXCHANGE_SWAP\n",
      "Dropped columns OTHER_UNIT_DESC, EXCHANGE_RATE, OTHER_ASSET, DERIVATIVE_CAT from table FUND_REPORTED_HOLDING\n",
      "Dropped columns IDENTIFIER_TICKER from table IDENTIFIERS\n",
      "No columns to drop from table FUND_REPORTED_INFO\n",
      "Kept columns:  {'INTEREST_RATE_RISK': ['ACCESSION_NUMBER', 'INTEREST_RATE_RISK_ID', 'CURRENCY_CODE', 'INTRST_RATE_CHANGE_3MON_DV01', 'INTRST_RATE_CHANGE_1YR_DV01', 'INTRST_RATE_CHANGE_5YR_DV01', 'INTRST_RATE_CHANGE_10YR_DV01', 'INTRST_RATE_CHANGE_30YR_DV01', 'INTRST_RATE_CHANGE_3MON_DV100', 'INTRST_RATE_CHANGE_1YR_DV100', 'INTRST_RATE_CHANGE_5YR_DV100', 'INTRST_RATE_CHANGE_10YR_DV100', 'INTRST_RATE_CHANGE_30YR_DV100'], 'DESC_REF_INDEX_COMPONENT': ['HOLDING_ID', 'DESC_REF_INDEX_COMPONENT_ID', 'NAME', 'CUSIP', 'ISIN', 'NOTIONAL_AMOUNT', 'CURRENCY_CODE', 'VALUE', 'ISSUER_CURRENCY_CODE'], 'REPURCHASE_AGREEMENT': ['HOLDING_ID', 'TRANSACTION_TYPE', 'IS_CLEARED', 'IS_TRIPARTY', 'REPURCHASE_RATE', 'MATURITY_DATE'], 'FLOATING_RATE_RESET_TENOR': ['HOLDING_ID', 'RATE_RESET_TENOR_ID', 'RECEIPT_OR_PAYMENT', 'RESET_DATE', 'RESET_DATE_UNIT', 'RATE_TENOR', 'RATE_TENOR_UNIT'], 'SWAPTION_OPTION_WARNT_DERIV': ['HOLDING_ID', 'PUT_OR_CALL', 'WRITTEN_OR_PURCHASED', 'SHARES_CNT', 'EXERCISE_PRICE', 'EXPIRATION_DATE', 'UNREALIZED_APPRECIATION'], 'FUT_FWD_NONFOREIGNCUR_CONTRACT': ['HOLDING_ID', 'PAYOFF_PROFILE', 'EXPIRATION_DATE', 'NOTIONAL_AMOUNT', 'CURRENCY_CODE', 'UNREALIZED_APPRECIATION'], 'OTHER_DERIV_NOTIONAL_AMOUNT': ['HOLDING_ID', 'OTHER_DERIV_NOTIONAL_AMOUNT_ID', 'NOTIONAL_AMOUNT', 'CURRENCY_CODE'], 'DERIVATIVE_COUNTERPARTY': ['HOLDING_ID', 'DERIVATIVE_COUNTERPARTY_ID', 'DERIVATIVE_COUNTERPARTY_NAME', 'DERIVATIVE_COUNTERPARTY_LEI'], 'DEBT_SECURITY_REF_INSTRUMENT': ['HOLDING_ID', 'DEBT_SECURITY_REF_ID', 'ISSUER_NAME', 'ISSUE_TITLE', 'CURRENCY_CODE', 'CUSIP', 'ISIN'], 'REPURCHASE_COLLATERAL': ['HOLDING_ID', 'REPURCHASE_COLLATERAL_ID', 'PRINCIPAL_AMOUNT', 'PRINCIPAL_CURRENCY_CODE', 'COLLATERAL_AMOUNT', 'COLLATERAL_CURRENCY_CODE', 'INVESTMENT_CAT'], 'OTHER_DERIV': ['HOLDING_ID', 'OTHER_DESC', 'TERMINATION_DATE', 'UNREALIZED_APPRECIATION'], 'SECURITIES_LENDING': ['HOLDING_ID', 'IS_CASH_COLLATERAL', 'IS_NON_CASH_COLLATERAL', 'IS_LOAN_BY_FUND'], 'BORROWER': ['ACCESSION_NUMBER', 'BORROWER_ID', 'NAME', 'LEI', 'AGGREGATE_VALUE'], 'DESC_REF_OTHER': ['HOLDING_ID', 'DESC_REF_OTHER_ID', 'ISSUER_NAME', 'ISSUE_TITLE', 'CUSIP', 'ISIN', 'TICKER', 'OTHER_IDENTIFIER', 'OTHER_DESC'], 'DESC_REF_INDEX_BASKET': ['HOLDING_ID', 'INDEX_NAME', 'INDEX_IDENTIFIER', 'NARRATIVE_DESC'], 'FUND_VAR_INFO': ['ACCESSION_NUMBER', 'DESIGNATED_INDEX_NAME', 'DESIGNATED_INDEX_IDENTIFIER'], 'FWD_FOREIGNCUR_CONTRACT_SWAP': ['HOLDING_ID', 'CURRENCY_SOLD_AMOUNT', 'DESC_CURRENCY_SOLD', 'CURRENCY_PURCHASED_AMOUNT', 'DESC_CURRENCY_PURCHASED', 'SETTLEMENT_DATE', 'UNREALIZED_APPRECIATION'], 'REPURCHASE_COUNTERPARTY': ['HOLDING_ID', 'REPURCHASE_COUNTERPARTY_ID', 'NAME', 'LEI'], 'CONVERTIBLE_SECURITY_CURRENCY': ['HOLDING_ID', 'CONVERTIBLE_SECURITY_ID', 'CONVERSION_RATIO', 'CURRENCY_CODE'], 'MONTHLY_RETURN_CAT_INSTRUMENT': ['ACCESSION_NUMBER', 'ASSET_CAT', 'INSTRUMENT_KIND', 'NET_REALIZED_GAIN_MON1', 'NET_UNREALIZED_AP_MON1', 'NET_REALIZED_GAIN_MON2', 'NET_UNREALIZED_AP_MON2', 'NET_REALIZED_GAIN_MON3', 'NET_UNREALIZED_AP_MON3'], 'DEBT_SECURITY': ['HOLDING_ID', 'MATURITY_DATE', 'COUPON_TYPE', 'ANNUALIZED_RATE', 'IS_DEFAULT', 'ARE_ANY_INTEREST_PAYMENT', 'IS_ANY_PORTION_INTEREST_PAID'], 'REGISTRANT': ['ACCESSION_NUMBER', 'CIK', 'REGISTRANT_NAME', 'FILE_NUM', 'LEI', 'ADDRESS1', 'ADDRESS2', 'CITY', 'STATE', 'COUNTRY', 'ZIP', 'PHONE'], 'MONTHLY_TOTAL_RETURN': ['ACCESSION_NUMBER', 'MONTHLY_TOTAL_RETURN_ID', 'CLASS_ID', 'MONTHLY_TOTAL_RETURN1', 'MONTHLY_TOTAL_RETURN2', 'MONTHLY_TOTAL_RETURN3'], 'SUBMISSION': ['ACCESSION_NUMBER', 'FILING_DATE', 'SUB_TYPE', 'REPORT_ENDING_PERIOD', 'REPORT_DATE', 'IS_LAST_FILING'], 'BORROW_AGGREGATE': ['ACCESSION_NUMBER', 'BORROW_AGGREGATE_ID', 'AMOUNT', 'COLLATERAL', 'INVESTMENT_CAT'], 'EXPLANATORY_NOTE': ['ACCESSION_NUMBER', 'EXPLANATORY_NOTE_ID', 'ITEM_NO', 'EXPLANATORY_NOTE'], 'NONFOREIGN_EXCHANGE_SWAP': ['HOLDING_ID', 'SWAP_FLAG', 'TERMINATION_DATE', 'UPFRONT_PAYMENT', 'PMNT_CURRENCY_CODE', 'UPFRONT_RECEIPT', 'RCPT_CURRENCY_CODE', 'NOTIONAL_AMOUNT', 'CURRENCY_CODE', 'UNREALIZED_APPRECIATION', 'FIXED_OR_FLOATING_RECEIPT', 'FIXED_RATE_RECEIPT', 'FLOATING_RATE_INDEX_RECEIPT', 'FLOATING_RATE_SPREAD_RECEIPT', 'CURRENCY_CODE_RECEIPT', 'AMOUNT_RECEIPT', 'FIXED_OR_FLOATING_PAYMENT', 'FIXED_RATE_PAYMENT', 'FLOATING_RATE_INDEX_PAYMENT', 'FLOATING_RATE_SPREAD_PAYMENT', 'CURRENCY_CODE_PAYMENT', 'AMOUNT_PAYMENT'], 'FUND_REPORTED_HOLDING': ['ACCESSION_NUMBER', 'HOLDING_ID', 'ISSUER_NAME', 'ISSUER_LEI', 'ISSUER_TITLE', 'ISSUER_CUSIP', 'BALANCE', 'UNIT', 'CURRENCY_CODE', 'CURRENCY_VALUE', 'PERCENTAGE', 'PAYOFF_PROFILE', 'ASSET_CAT', 'ISSUER_TYPE', 'OTHER_ISSUER', 'INVESTMENT_COUNTRY', 'IS_RESTRICTED_SECURITY', 'FAIR_VALUE_LEVEL'], 'IDENTIFIERS': ['HOLDING_ID', 'IDENTIFIERS_ID', 'IDENTIFIER_ISIN', 'OTHER_IDENTIFIER', 'OTHER_IDENTIFIER_DESC'], 'FUND_REPORTED_INFO': ['ACCESSION_NUMBER', 'SERIES_NAME', 'SERIES_ID', 'SERIES_LEI', 'TOTAL_ASSETS', 'TOTAL_LIABILITIES', 'NET_ASSETS', 'ASSETS_ATTRBT_TO_MISC_SECURITY', 'ASSETS_INVESTED', 'BORROWING_PAY_WITHIN_1YR', 'CTRLD_COMPANIES_PAY_WITHIN_1YR', 'OTHER_AFFILIA_PAY_WITHIN_1YR', 'OTHER_PAY_WITHIN_1YR', 'BORROWING_PAY_AFTER_1YR', 'CTRLD_COMPANIES_PAY_AFTER_1YR', 'OTHER_AFFILIA_PAY_AFTER_1YR', 'OTHER_PAY_AFTER_1YR', 'DELAYED_DELIVERY', 'STANDBY_COMMITMENT', 'LIQUIDATION_PREFERENCE', 'CASH_NOT_RPTD_IN_C_OR_D', 'CREDIT_SPREAD_3MON_INVEST', 'CREDIT_SPREAD_1YR_INVEST', 'CREDIT_SPREAD_5YR_INVEST', 'CREDIT_SPREAD_10YR_INVEST', 'CREDIT_SPREAD_30YR_INVEST', 'CREDIT_SPREAD_3MON_NONINVEST', 'CREDIT_SPREAD_1YR_NONINVEST', 'CREDIT_SPREAD_5YR_NONINVEST', 'CREDIT_SPREAD_10YR_NONINVEST', 'CREDIT_SPREAD_30YR_NONINVEST', 'IS_NON_CASH_COLLATERAL', 'NET_REALIZE_GAIN_NONDERIV_MON1', 'NET_UNREALIZE_AP_NONDERIV_MON1', 'NET_REALIZE_GAIN_NONDERIV_MON2', 'NET_UNREALIZE_AP_NONDERIV_MON2', 'NET_REALIZE_GAIN_NONDERIV_MON3', 'NET_UNREALIZE_AP_NONDERIV_MON3', 'SALES_FLOW_MON1', 'REINVESTMENT_FLOW_MON1', 'REDEMPTION_FLOW_MON1', 'SALES_FLOW_MON2', 'REINVESTMENT_FLOW_MON2', 'REDEMPTION_FLOW_MON2', 'SALES_FLOW_MON3', 'REINVESTMENT_FLOW_MON3', 'REDEMPTION_FLOW_MON3']}\n",
      "Dropped columns:  {'INTEREST_RATE_RISK': [], 'DESC_REF_INDEX_COMPONENT': ['TICKER', 'OTHER_IDENTIFIER', 'OTHER_DESC'], 'REPURCHASE_AGREEMENT': ['CENTRAL_COUNTER_PARTY'], 'FLOATING_RATE_RESET_TENOR': [], 'SWAPTION_OPTION_WARNT_DERIV': ['PRINCIPAL_AMOUNT', 'CURRENCY_CODE'], 'FUT_FWD_NONFOREIGNCUR_CONTRACT': [], 'OTHER_DERIV_NOTIONAL_AMOUNT': [], 'DERIVATIVE_COUNTERPARTY': [], 'DEBT_SECURITY_REF_INSTRUMENT': ['TICKER', 'OTHER_IDENTIFIER', 'OTHER_DESC'], 'REPURCHASE_COLLATERAL': ['OTHER_INTRUMENT_DESC'], 'OTHER_DERIV': [], 'SECURITIES_LENDING': ['CASH_COLLATERAL_AMOUNT', 'NON_CASH_COLLATERAL_VALUE', 'LOAN_VALUE'], 'BORROWER': [], 'DESC_REF_OTHER': [], 'DESC_REF_INDEX_BASKET': [], 'FUND_VAR_INFO': [], 'FWD_FOREIGNCUR_CONTRACT_SWAP': [], 'REPURCHASE_COUNTERPARTY': [], 'CONVERTIBLE_SECURITY_CURRENCY': [], 'MONTHLY_RETURN_CAT_INSTRUMENT': [], 'DEBT_SECURITY': ['IS_CONVTIBLE_MANDATORY', 'IS_CONVTIBLE_CONTINGENT'], 'REGISTRANT': [], 'MONTHLY_TOTAL_RETURN': [], 'SUBMISSION': ['FILE_NUM'], 'BORROW_AGGREGATE': ['OTHER_DESC'], 'EXPLANATORY_NOTE': [], 'NONFOREIGN_EXCHANGE_SWAP': [], 'FUND_REPORTED_HOLDING': ['OTHER_UNIT_DESC', 'EXCHANGE_RATE', 'OTHER_ASSET', 'DERIVATIVE_CAT'], 'IDENTIFIERS': ['IDENTIFIER_TICKER'], 'FUND_REPORTED_INFO': []}\n"
     ]
    }
   ],
   "source": [
    "columns_to_drop = {}\n",
    "columns_to_keep = {}\n",
    "for table in tables:\n",
    "    columns_to_drop[table],columns_to_keep[table] = drop_columns(table)\n",
    "print(\"Kept columns: \", columns_to_keep)\n",
    "print(\"Dropped columns: \", columns_to_drop)"
   ]
  },
  {
   "cell_type": "code",
   "execution_count": null,
   "metadata": {},
   "outputs": [
    {
     "name": "stdout",
     "output_type": "stream",
     "text": [
      "Table 'INTEREST_RATE_RISK' has kept columns: ['ACCESSION_NUMBER', 'INTEREST_RATE_RISK_ID', 'CURRENCY_CODE', 'INTRST_RATE_CHANGE_3MON_DV01', 'INTRST_RATE_CHANGE_1YR_DV01', 'INTRST_RATE_CHANGE_5YR_DV01', 'INTRST_RATE_CHANGE_10YR_DV01', 'INTRST_RATE_CHANGE_30YR_DV01', 'INTRST_RATE_CHANGE_3MON_DV100', 'INTRST_RATE_CHANGE_1YR_DV100', 'INTRST_RATE_CHANGE_5YR_DV100', 'INTRST_RATE_CHANGE_10YR_DV100', 'INTRST_RATE_CHANGE_30YR_DV100']\n",
      "Table 'DESC_REF_INDEX_COMPONENT' has kept columns: ['HOLDING_ID', 'DESC_REF_INDEX_COMPONENT_ID', 'NAME', 'CUSIP', 'ISIN', 'NOTIONAL_AMOUNT', 'CURRENCY_CODE', 'VALUE', 'ISSUER_CURRENCY_CODE']\n",
      "Table 'REPURCHASE_AGREEMENT' has kept columns: ['HOLDING_ID', 'TRANSACTION_TYPE', 'IS_CLEARED', 'IS_TRIPARTY', 'REPURCHASE_RATE', 'MATURITY_DATE']\n",
      "Table 'FLOATING_RATE_RESET_TENOR' has kept columns: ['HOLDING_ID', 'RATE_RESET_TENOR_ID', 'RECEIPT_OR_PAYMENT', 'RESET_DATE', 'RESET_DATE_UNIT', 'RATE_TENOR', 'RATE_TENOR_UNIT']\n",
      "Table 'SWAPTION_OPTION_WARNT_DERIV' has kept columns: ['HOLDING_ID', 'PUT_OR_CALL', 'WRITTEN_OR_PURCHASED', 'SHARES_CNT', 'EXERCISE_PRICE', 'EXPIRATION_DATE', 'UNREALIZED_APPRECIATION']\n",
      "Table 'FUT_FWD_NONFOREIGNCUR_CONTRACT' has kept columns: ['HOLDING_ID', 'PAYOFF_PROFILE', 'EXPIRATION_DATE', 'NOTIONAL_AMOUNT', 'CURRENCY_CODE', 'UNREALIZED_APPRECIATION']\n",
      "Table 'OTHER_DERIV_NOTIONAL_AMOUNT' has kept columns: ['HOLDING_ID', 'OTHER_DERIV_NOTIONAL_AMOUNT_ID', 'NOTIONAL_AMOUNT', 'CURRENCY_CODE']\n",
      "Table 'DERIVATIVE_COUNTERPARTY' has kept columns: ['HOLDING_ID', 'DERIVATIVE_COUNTERPARTY_ID', 'DERIVATIVE_COUNTERPARTY_NAME', 'DERIVATIVE_COUNTERPARTY_LEI']\n",
      "Table 'DEBT_SECURITY_REF_INSTRUMENT' has kept columns: ['HOLDING_ID', 'DEBT_SECURITY_REF_ID', 'ISSUER_NAME', 'ISSUE_TITLE', 'CURRENCY_CODE', 'CUSIP', 'ISIN']\n",
      "Table 'REPURCHASE_COLLATERAL' has kept columns: ['HOLDING_ID', 'REPURCHASE_COLLATERAL_ID', 'PRINCIPAL_AMOUNT', 'PRINCIPAL_CURRENCY_CODE', 'COLLATERAL_AMOUNT', 'COLLATERAL_CURRENCY_CODE', 'INVESTMENT_CAT']\n",
      "Table 'OTHER_DERIV' has kept columns: ['HOLDING_ID', 'OTHER_DESC', 'TERMINATION_DATE', 'UNREALIZED_APPRECIATION']\n",
      "Table 'SECURITIES_LENDING' has kept columns: ['HOLDING_ID', 'IS_CASH_COLLATERAL', 'IS_NON_CASH_COLLATERAL', 'IS_LOAN_BY_FUND']\n",
      "Table 'BORROWER' has kept columns: ['ACCESSION_NUMBER', 'BORROWER_ID', 'NAME', 'LEI', 'AGGREGATE_VALUE']\n",
      "Table 'DESC_REF_OTHER' has kept columns: ['HOLDING_ID', 'DESC_REF_OTHER_ID', 'ISSUER_NAME', 'ISSUE_TITLE', 'CUSIP', 'ISIN', 'TICKER', 'OTHER_IDENTIFIER', 'OTHER_DESC']\n",
      "Table 'DESC_REF_INDEX_BASKET' has kept columns: ['HOLDING_ID', 'INDEX_NAME', 'INDEX_IDENTIFIER', 'NARRATIVE_DESC']\n",
      "Table 'FUND_VAR_INFO' has kept columns: ['ACCESSION_NUMBER', 'DESIGNATED_INDEX_NAME', 'DESIGNATED_INDEX_IDENTIFIER']\n",
      "Table 'FWD_FOREIGNCUR_CONTRACT_SWAP' has kept columns: ['HOLDING_ID', 'CURRENCY_SOLD_AMOUNT', 'DESC_CURRENCY_SOLD', 'CURRENCY_PURCHASED_AMOUNT', 'DESC_CURRENCY_PURCHASED', 'SETTLEMENT_DATE', 'UNREALIZED_APPRECIATION']\n",
      "Table 'REPURCHASE_COUNTERPARTY' has kept columns: ['HOLDING_ID', 'REPURCHASE_COUNTERPARTY_ID', 'NAME', 'LEI']\n",
      "Table 'CONVERTIBLE_SECURITY_CURRENCY' has kept columns: ['HOLDING_ID', 'CONVERTIBLE_SECURITY_ID', 'CONVERSION_RATIO', 'CURRENCY_CODE']\n",
      "Table 'MONTHLY_RETURN_CAT_INSTRUMENT' has kept columns: ['ACCESSION_NUMBER', 'ASSET_CAT', 'INSTRUMENT_KIND', 'NET_REALIZED_GAIN_MON1', 'NET_UNREALIZED_AP_MON1', 'NET_REALIZED_GAIN_MON2', 'NET_UNREALIZED_AP_MON2', 'NET_REALIZED_GAIN_MON3', 'NET_UNREALIZED_AP_MON3']\n",
      "Table 'DEBT_SECURITY' has kept columns: ['HOLDING_ID', 'MATURITY_DATE', 'COUPON_TYPE', 'ANNUALIZED_RATE', 'IS_DEFAULT', 'ARE_ANY_INTEREST_PAYMENT', 'IS_ANY_PORTION_INTEREST_PAID']\n",
      "Table 'REGISTRANT' has kept columns: ['ACCESSION_NUMBER', 'CIK', 'REGISTRANT_NAME', 'FILE_NUM', 'LEI', 'ADDRESS1', 'ADDRESS2', 'CITY', 'STATE', 'COUNTRY', 'ZIP', 'PHONE']\n",
      "Table 'MONTHLY_TOTAL_RETURN' has kept columns: ['ACCESSION_NUMBER', 'MONTHLY_TOTAL_RETURN_ID', 'CLASS_ID', 'MONTHLY_TOTAL_RETURN1', 'MONTHLY_TOTAL_RETURN2', 'MONTHLY_TOTAL_RETURN3']\n",
      "Table 'SUBMISSION' has kept columns: ['ACCESSION_NUMBER', 'FILING_DATE', 'SUB_TYPE', 'REPORT_ENDING_PERIOD', 'REPORT_DATE', 'IS_LAST_FILING']\n",
      "Table 'BORROW_AGGREGATE' has kept columns: ['ACCESSION_NUMBER', 'BORROW_AGGREGATE_ID', 'AMOUNT', 'COLLATERAL', 'INVESTMENT_CAT']\n",
      "Table 'EXPLANATORY_NOTE' has kept columns: ['ACCESSION_NUMBER', 'EXPLANATORY_NOTE_ID', 'ITEM_NO', 'EXPLANATORY_NOTE']\n",
      "Table 'NONFOREIGN_EXCHANGE_SWAP' has kept columns: ['HOLDING_ID', 'SWAP_FLAG', 'TERMINATION_DATE', 'UPFRONT_PAYMENT', 'PMNT_CURRENCY_CODE', 'UPFRONT_RECEIPT', 'RCPT_CURRENCY_CODE', 'NOTIONAL_AMOUNT', 'CURRENCY_CODE', 'UNREALIZED_APPRECIATION', 'FIXED_OR_FLOATING_RECEIPT', 'FIXED_RATE_RECEIPT', 'FLOATING_RATE_INDEX_RECEIPT', 'FLOATING_RATE_SPREAD_RECEIPT', 'CURRENCY_CODE_RECEIPT', 'AMOUNT_RECEIPT', 'FIXED_OR_FLOATING_PAYMENT', 'FIXED_RATE_PAYMENT', 'FLOATING_RATE_INDEX_PAYMENT', 'FLOATING_RATE_SPREAD_PAYMENT', 'CURRENCY_CODE_PAYMENT', 'AMOUNT_PAYMENT']\n",
      "Table 'FUND_REPORTED_HOLDING' has kept columns: ['ACCESSION_NUMBER', 'HOLDING_ID', 'ISSUER_NAME', 'ISSUER_LEI', 'ISSUER_TITLE', 'ISSUER_CUSIP', 'BALANCE', 'UNIT', 'CURRENCY_CODE', 'CURRENCY_VALUE', 'PERCENTAGE', 'PAYOFF_PROFILE', 'ASSET_CAT', 'ISSUER_TYPE', 'OTHER_ISSUER', 'INVESTMENT_COUNTRY', 'IS_RESTRICTED_SECURITY', 'FAIR_VALUE_LEVEL']\n",
      "Table 'IDENTIFIERS' has kept columns: ['HOLDING_ID', 'IDENTIFIERS_ID', 'IDENTIFIER_ISIN', 'OTHER_IDENTIFIER', 'OTHER_IDENTIFIER_DESC']\n",
      "Table 'FUND_REPORTED_INFO' has kept columns: ['ACCESSION_NUMBER', 'SERIES_NAME', 'SERIES_ID', 'SERIES_LEI', 'TOTAL_ASSETS', 'TOTAL_LIABILITIES', 'NET_ASSETS', 'ASSETS_ATTRBT_TO_MISC_SECURITY', 'ASSETS_INVESTED', 'BORROWING_PAY_WITHIN_1YR', 'CTRLD_COMPANIES_PAY_WITHIN_1YR', 'OTHER_AFFILIA_PAY_WITHIN_1YR', 'OTHER_PAY_WITHIN_1YR', 'BORROWING_PAY_AFTER_1YR', 'CTRLD_COMPANIES_PAY_AFTER_1YR', 'OTHER_AFFILIA_PAY_AFTER_1YR', 'OTHER_PAY_AFTER_1YR', 'DELAYED_DELIVERY', 'STANDBY_COMMITMENT', 'LIQUIDATION_PREFERENCE', 'CASH_NOT_RPTD_IN_C_OR_D', 'CREDIT_SPREAD_3MON_INVEST', 'CREDIT_SPREAD_1YR_INVEST', 'CREDIT_SPREAD_5YR_INVEST', 'CREDIT_SPREAD_10YR_INVEST', 'CREDIT_SPREAD_30YR_INVEST', 'CREDIT_SPREAD_3MON_NONINVEST', 'CREDIT_SPREAD_1YR_NONINVEST', 'CREDIT_SPREAD_5YR_NONINVEST', 'CREDIT_SPREAD_10YR_NONINVEST', 'CREDIT_SPREAD_30YR_NONINVEST', 'IS_NON_CASH_COLLATERAL', 'NET_REALIZE_GAIN_NONDERIV_MON1', 'NET_UNREALIZE_AP_NONDERIV_MON1', 'NET_REALIZE_GAIN_NONDERIV_MON2', 'NET_UNREALIZE_AP_NONDERIV_MON2', 'NET_REALIZE_GAIN_NONDERIV_MON3', 'NET_UNREALIZE_AP_NONDERIV_MON3', 'SALES_FLOW_MON1', 'REINVESTMENT_FLOW_MON1', 'REDEMPTION_FLOW_MON1', 'SALES_FLOW_MON2', 'REINVESTMENT_FLOW_MON2', 'REDEMPTION_FLOW_MON2', 'SALES_FLOW_MON3', 'REINVESTMENT_FLOW_MON3', 'REDEMPTION_FLOW_MON3']\n",
      "Empty Tables: 0\n"
     ]
    }
   ],
   "source": [
    "empty_count = 0\n",
    "\n",
    "for table, kept_columns in columns_to_keep.items():\n",
    "    if not kept_columns:  # Checks if the list is empty\n",
    "        print(f\"Table '{table}' is empty.\")\n",
    "        empty_count += 1\n",
    "    else:\n",
    "        print(f\"Table '{table}' has kept columns: {kept_columns}\")\n",
    "\n",
    "print(\"Empty Tables:\", empty_count)"
   ]
  }
 ],
 "metadata": {
  "kernelspec": {
   "display_name": "3.10.13",
   "language": "python",
   "name": "python3"
  },
  "language_info": {
   "codemirror_mode": {
    "name": "ipython",
    "version": 3
   },
   "file_extension": ".py",
   "mimetype": "text/x-python",
   "name": "python",
   "nbconvert_exporter": "python",
   "pygments_lexer": "ipython3",
   "version": "3.10.13"
  }
 },
 "nbformat": 4,
 "nbformat_minor": 2
}
