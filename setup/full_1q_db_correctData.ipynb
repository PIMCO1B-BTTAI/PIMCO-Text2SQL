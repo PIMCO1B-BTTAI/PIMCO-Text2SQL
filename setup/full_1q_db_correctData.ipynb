{
 "cells": [
  {
   "cell_type": "markdown",
   "metadata": {},
   "source": [
    "## Objective: Create a full database for one NPORT quarter (2024q3)"
   ]
  },
  {
   "cell_type": "code",
   "execution_count": 1,
   "metadata": {},
   "outputs": [],
   "source": [
    "import os\n",
    "import sqlite3\n",
    "import csv"
   ]
  },
  {
   "cell_type": "markdown",
   "metadata": {},
   "source": [
    "### Set up directory"
   ]
  },
  {
   "cell_type": "code",
   "execution_count": 2,
   "metadata": {},
   "outputs": [
    {
     "name": "stdout",
     "output_type": "stream",
     "text": [
      "/Users/ritawu/Desktop/BTTAI/PIMCO-Text2SQL/setup\n",
      "/Users/ritawu/Desktop/BTTAI/PIMCO-Text2SQL\n"
     ]
    }
   ],
   "source": [
    "# Get current directory\n",
    "curr_dir = os.getcwd()\n",
    "print(curr_dir)\n",
    "\n",
    "# Get parent directory\n",
    "os.chdir(\"..\")\n",
    "parent_dir = os.getcwd()\n",
    "print(parent_dir)"
   ]
  },
  {
   "cell_type": "markdown",
   "metadata": {},
   "source": [
    "### Establish connection to db file"
   ]
  },
  {
   "cell_type": "code",
   "execution_count": 3,
   "metadata": {},
   "outputs": [],
   "source": [
    "# Set up connection\n",
    "conn = sqlite3.connect(parent_dir + '/sqlite/nport.db')\n",
    "cursor = conn.cursor()"
   ]
  },
  {
   "cell_type": "markdown",
   "metadata": {},
   "source": [
    "### Get raw data folder"
   ]
  },
  {
   "cell_type": "code",
   "execution_count": 4,
   "metadata": {},
   "outputs": [
    {
     "name": "stdout",
     "output_type": "stream",
     "text": [
      "/Users/ritawu/Desktop/BTTAI/PIMCO-Text2SQL/data/2024q3_nport\n"
     ]
    }
   ],
   "source": [
    "raw_data_folder = parent_dir + '/data/2024q3_nport'\n",
    "print(raw_data_folder)"
   ]
  },
  {
   "cell_type": "markdown",
   "metadata": {},
   "source": [
    "### Create Tables"
   ]
  },
  {
   "cell_type": "code",
   "execution_count": 5,
   "metadata": {},
   "outputs": [],
   "source": [
    "def infer_sqlite_types(rows, column_count):\n",
    "    \"\"\"\n",
    "    Infer SQLite-compatible data types for columns, categorizing only as NUMBER or TEXT.\n",
    "    \"\"\"\n",
    "    inferred_types = []\n",
    "    for x in range(column_count):\n",
    "        inferred_types.append(\"\")  \n",
    "\n",
    "    for row in rows:\n",
    "        if all(field.strip() != \"\" for field in inferred_types):\n",
    "            break\n",
    "        for i, value in enumerate(row):\n",
    "            if inferred_types[i] == \"\":  \n",
    "                # Skip null or empty values\n",
    "                if value.strip() == \"\":\n",
    "                    continue\n",
    "                try:\n",
    "                    # Attempt to classify as NUMBER (covers both int and float cases)\n",
    "                    float(value)  # Successful conversion implies it's a NUMBER\n",
    "                    inferred_types[i] = \"NUMBER\"\n",
    "                except ValueError:\n",
    "                    inferred_types[i] = \"TEXT\"\n",
    "    return inferred_types\n",
    "\n",
    "def filter_columns(column_names, sample_rows, null_threshold):\n",
    "    \"\"\"\n",
    "    Filters columns based on the null threshold. Removes columns where >85% of rows are empty.\n",
    "    \n",
    "    Args:\n",
    "        column_names (list): List of column names.\n",
    "        sample_rows (list): List of data rows.\n",
    "        null_threshold (float): Threshold for null percentage (default 85%).\n",
    "\n",
    "    Returns:\n",
    "        list: List of column names to keep.\n",
    "        list: List of column indices to keep.\n",
    "    \"\"\"\n",
    "    total_rows = len(sample_rows)\n",
    "    columns_to_keep = []\n",
    "    indices_to_keep = []\n",
    "\n",
    "    for i, col in enumerate(column_names):\n",
    "        null_count = sum(1 for row in sample_rows if row[i].strip() == \"\")\n",
    "        if null_count / total_rows <= null_threshold:\n",
    "            columns_to_keep.append(col)\n",
    "            indices_to_keep.append(i)\n",
    "\n",
    "    return columns_to_keep, indices_to_keep\n",
    "\n",
    "\n",
    "# Create table from .tsv file\n",
    "def create_table(filename):\n",
    "    if filename.endswith('.tsv'):\n",
    "        table_name = os.path.splitext(filename)[0]\n",
    "        file_path = raw_data_folder +'/'+ filename\n",
    "\n",
    "        with open(file_path, 'r', newline='') as file:\n",
    "            reader = csv.reader(file, delimiter='\\t')\n",
    "            column_names = next(reader)  # Get the first row as column names\n",
    "            sample_rows = list(reader)\n",
    "\n",
    "            filtered_column_names, filtered_indices = filter_columns(column_names, sample_rows, 0.85)\n",
    "            filtered_rows = [[row[i] for i in filtered_indices] for row in sample_rows]\n",
    "\n",
    "            inferred_types = infer_sqlite_types(filtered_rows, len(filtered_column_names))\n",
    "            create_table_query = f\"CREATE TABLE IF NOT EXISTS {table_name} (\" + \\\n",
    "                                \", \".join([f\"{col} {dtype}\" for col, dtype in zip(filtered_column_names, inferred_types)]) + \");\"\n",
    "            cursor.execute(create_table_query)\n",
    "\n",
    "            # Insert data into the table\n",
    "            insert_query = f\"INSERT INTO {table_name} ({', '.join(filtered_column_names)}) VALUES ({', '.join(['?'] * len(filtered_column_names))});\"\n",
    "            for row in filtered_rows:\n",
    "                cursor.execute(insert_query, row)\n",
    "\n",
    "        print(f\"Finished creating table {table_name}\")\n"
   ]
  },
  {
   "cell_type": "code",
   "execution_count": 6,
   "metadata": {},
   "outputs": [
    {
     "name": "stdout",
     "output_type": "stream",
     "text": [
      "Finished creating table INTEREST_RATE_RISK\n",
      "Finished creating table DESC_REF_INDEX_COMPONENT\n",
      "Finished creating table REPURCHASE_AGREEMENT\n",
      "Finished creating table FLOATING_RATE_RESET_TENOR\n",
      "Finished creating table SWAPTION_OPTION_WARNT_DERIV\n",
      "Finished creating table FUT_FWD_NONFOREIGNCUR_CONTRACT\n",
      "Finished creating table OTHER_DERIV_NOTIONAL_AMOUNT\n",
      "Finished creating table DERIVATIVE_COUNTERPARTY\n",
      "Finished creating table DEBT_SECURITY_REF_INSTRUMENT\n",
      "Finished creating table REPURCHASE_COLLATERAL\n",
      "Finished creating table OTHER_DERIV\n",
      "Finished creating table SECURITIES_LENDING\n",
      "Finished creating table BORROWER\n",
      "Finished creating table DESC_REF_OTHER\n",
      "Finished creating table DESC_REF_INDEX_BASKET\n",
      "Finished creating table FUND_VAR_INFO\n",
      "Finished creating table FWD_FOREIGNCUR_CONTRACT_SWAP\n",
      "Finished creating table REPURCHASE_COUNTERPARTY\n",
      "Finished creating table CONVERTIBLE_SECURITY_CURRENCY\n",
      "Finished creating table MONTHLY_RETURN_CAT_INSTRUMENT\n",
      "Finished creating table DEBT_SECURITY\n",
      "Finished creating table REGISTRANT\n",
      "Finished creating table MONTHLY_TOTAL_RETURN\n",
      "Finished creating table SUBMISSION\n",
      "Finished creating table BORROW_AGGREGATE\n",
      "Finished creating table EXPLANATORY_NOTE\n",
      "Finished creating table NONFOREIGN_EXCHANGE_SWAP\n",
      "Finished creating table FUND_REPORTED_HOLDING\n",
      "Finished creating table IDENTIFIERS\n",
      "Finished creating table FUND_REPORTED_INFO\n"
     ]
    }
   ],
   "source": [
    "for filename in os.listdir(raw_data_folder):\n",
    "    create_table(filename)"
   ]
  },
  {
   "cell_type": "code",
   "execution_count": 7,
   "metadata": {},
   "outputs": [
    {
     "name": "stdout",
     "output_type": "stream",
     "text": [
      "Number of Tables: 30\n",
      "Tables: ['INTEREST_RATE_RISK', 'DESC_REF_INDEX_COMPONENT', 'REPURCHASE_AGREEMENT', 'FLOATING_RATE_RESET_TENOR', 'SWAPTION_OPTION_WARNT_DERIV', 'FUT_FWD_NONFOREIGNCUR_CONTRACT', 'OTHER_DERIV_NOTIONAL_AMOUNT', 'DERIVATIVE_COUNTERPARTY', 'DEBT_SECURITY_REF_INSTRUMENT', 'REPURCHASE_COLLATERAL', 'OTHER_DERIV', 'SECURITIES_LENDING', 'BORROWER', 'DESC_REF_OTHER', 'DESC_REF_INDEX_BASKET', 'FUND_VAR_INFO', 'FWD_FOREIGNCUR_CONTRACT_SWAP', 'REPURCHASE_COUNTERPARTY', 'CONVERTIBLE_SECURITY_CURRENCY', 'MONTHLY_RETURN_CAT_INSTRUMENT', 'DEBT_SECURITY', 'REGISTRANT', 'MONTHLY_TOTAL_RETURN', 'SUBMISSION', 'BORROW_AGGREGATE', 'EXPLANATORY_NOTE', 'NONFOREIGN_EXCHANGE_SWAP', 'FUND_REPORTED_HOLDING', 'IDENTIFIERS', 'FUND_REPORTED_INFO']\n"
     ]
    }
   ],
   "source": [
    "cursor.execute(\"SELECT name FROM sqlite_master WHERE type='table';\")\n",
    "tables = cursor.fetchall()\n",
    "tables = [table[0] for table in tables]\n",
    "print(\"Number of Tables:\", len(tables))\n",
    "print(\"Tables:\", tables)"
   ]
  },
  {
   "cell_type": "code",
   "execution_count": 8,
   "metadata": {},
   "outputs": [],
   "source": [
    "conn.commit()\n",
    "conn.close()"
   ]
  },
  {
   "cell_type": "code",
   "execution_count": 9,
   "metadata": {},
   "outputs": [
    {
     "name": "stdout",
     "output_type": "stream",
     "text": [
      "Number of Rows in INTEREST_RATE_RISK: 10128\n",
      "Number of Rows in DESC_REF_INDEX_COMPONENT: 55996\n",
      "Number of Rows in REPURCHASE_AGREEMENT: 9354\n",
      "Number of Rows in FLOATING_RATE_RESET_TENOR: 60630\n",
      "Number of Rows in SWAPTION_OPTION_WARNT_DERIV: 28203\n",
      "Number of Rows in FUT_FWD_NONFOREIGNCUR_CONTRACT: 28549\n",
      "Number of Rows in OTHER_DERIV_NOTIONAL_AMOUNT: 616\n",
      "Number of Rows in DERIVATIVE_COUNTERPARTY: 218037\n",
      "Number of Rows in DEBT_SECURITY_REF_INSTRUMENT: 25200\n",
      "Number of Rows in REPURCHASE_COLLATERAL: 9955\n",
      "Number of Rows in OTHER_DERIV: 616\n",
      "Number of Rows in SECURITIES_LENDING: 6097928\n",
      "Number of Rows in BORROWER: 32135\n",
      "Number of Rows in DESC_REF_OTHER: 123379\n",
      "Number of Rows in DESC_REF_INDEX_BASKET: 23317\n",
      "Number of Rows in FUND_VAR_INFO: 4731\n",
      "Number of Rows in FWD_FOREIGNCUR_CONTRACT_SWAP: 96073\n",
      "Number of Rows in REPURCHASE_COUNTERPARTY: 8510\n",
      "Number of Rows in CONVERTIBLE_SECURITY_CURRENCY: 14568\n",
      "Number of Rows in MONTHLY_RETURN_CAT_INSTRUMENT: 265708\n",
      "Number of Rows in DEBT_SECURITY: 3980194\n",
      "Number of Rows in REGISTRANT: 13191\n",
      "Number of Rows in MONTHLY_TOTAL_RETURN: 31996\n",
      "Number of Rows in SUBMISSION: 13191\n",
      "Number of Rows in BORROW_AGGREGATE: 1428\n",
      "Number of Rows in EXPLANATORY_NOTE: 12682\n",
      "Number of Rows in NONFOREIGN_EXCHANGE_SWAP: 62881\n",
      "Number of Rows in FUND_REPORTED_HOLDING: 6107336\n",
      "Number of Rows in IDENTIFIERS: 7251109\n",
      "Number of Rows in FUND_REPORTED_INFO: 13191\n",
      "================================================================================\n",
      "INTEREST_RATE_RISK: {'ACCESSION_NUMBER': 'TEXT', 'INTEREST_RATE_RISK_ID': 'NUMBER', 'CURRENCY_CODE': 'TEXT', 'INTRST_RATE_CHANGE_3MON_DV01': 'NUMBER', 'INTRST_RATE_CHANGE_1YR_DV01': 'NUMBER', 'INTRST_RATE_CHANGE_5YR_DV01': 'NUMBER', 'INTRST_RATE_CHANGE_10YR_DV01': 'NUMBER', 'INTRST_RATE_CHANGE_30YR_DV01': 'NUMBER', 'INTRST_RATE_CHANGE_3MON_DV100': 'NUMBER', 'INTRST_RATE_CHANGE_1YR_DV100': 'NUMBER', 'INTRST_RATE_CHANGE_5YR_DV100': 'NUMBER', 'INTRST_RATE_CHANGE_10YR_DV100': 'NUMBER', 'INTRST_RATE_CHANGE_30YR_DV100': 'NUMBER'}\n",
      "DESC_REF_INDEX_COMPONENT: {'HOLDING_ID': 'NUMBER', 'DESC_REF_INDEX_COMPONENT_ID': 'NUMBER', 'NAME': 'TEXT', 'CUSIP': 'TEXT', 'ISIN': 'TEXT', 'NOTIONAL_AMOUNT': 'NUMBER', 'CURRENCY_CODE': 'TEXT', 'VALUE': 'NUMBER', 'ISSUER_CURRENCY_CODE': 'TEXT'}\n",
      "REPURCHASE_AGREEMENT: {'HOLDING_ID': 'NUMBER', 'TRANSACTION_TYPE': 'TEXT', 'IS_CLEARED': 'TEXT', 'IS_TRIPARTY': 'TEXT', 'REPURCHASE_RATE': 'NUMBER', 'MATURITY_DATE': 'TEXT'}\n",
      "FLOATING_RATE_RESET_TENOR: {'HOLDING_ID': 'NUMBER', 'RATE_RESET_TENOR_ID': 'NUMBER', 'RECEIPT_OR_PAYMENT': 'TEXT', 'RESET_DATE': 'TEXT', 'RESET_DATE_UNIT': 'NUMBER', 'RATE_TENOR': 'TEXT', 'RATE_TENOR_UNIT': 'NUMBER'}\n",
      "SWAPTION_OPTION_WARNT_DERIV: {'HOLDING_ID': 'NUMBER', 'PUT_OR_CALL': 'TEXT', 'WRITTEN_OR_PURCHASED': 'TEXT', 'SHARES_CNT': 'NUMBER', 'EXERCISE_PRICE': 'NUMBER', 'EXPIRATION_DATE': 'TEXT', 'UNREALIZED_APPRECIATION': 'NUMBER'}\n",
      "FUT_FWD_NONFOREIGNCUR_CONTRACT: {'HOLDING_ID': 'NUMBER', 'PAYOFF_PROFILE': 'TEXT', 'EXPIRATION_DATE': 'TEXT', 'NOTIONAL_AMOUNT': 'NUMBER', 'CURRENCY_CODE': 'TEXT', 'UNREALIZED_APPRECIATION': 'NUMBER'}\n",
      "OTHER_DERIV_NOTIONAL_AMOUNT: {'HOLDING_ID': 'NUMBER', 'OTHER_DERIV_NOTIONAL_AMOUNT_ID': 'NUMBER', 'NOTIONAL_AMOUNT': 'NUMBER', 'CURRENCY_CODE': 'TEXT'}\n",
      "DERIVATIVE_COUNTERPARTY: {'HOLDING_ID': 'NUMBER', 'DERIVATIVE_COUNTERPARTY_ID': 'NUMBER', 'DERIVATIVE_COUNTERPARTY_NAME': 'TEXT', 'DERIVATIVE_COUNTERPARTY_LEI': 'TEXT'}\n",
      "DEBT_SECURITY_REF_INSTRUMENT: {'HOLDING_ID': 'NUMBER', 'DEBT_SECURITY_REF_ID': 'NUMBER', 'ISSUER_NAME': 'TEXT', 'ISSUE_TITLE': 'TEXT', 'CURRENCY_CODE': 'TEXT', 'CUSIP': 'NUMBER', 'ISIN': 'TEXT'}\n",
      "REPURCHASE_COLLATERAL: {'HOLDING_ID': 'NUMBER', 'REPURCHASE_COLLATERAL_ID': 'NUMBER', 'PRINCIPAL_AMOUNT': 'NUMBER', 'PRINCIPAL_CURRENCY_CODE': 'TEXT', 'COLLATERAL_AMOUNT': 'NUMBER', 'COLLATERAL_CURRENCY_CODE': 'TEXT', 'INVESTMENT_CAT': 'TEXT'}\n",
      "OTHER_DERIV: {'HOLDING_ID': 'NUMBER', 'OTHER_DESC': 'TEXT', 'TERMINATION_DATE': 'TEXT', 'UNREALIZED_APPRECIATION': 'NUMBER'}\n",
      "SECURITIES_LENDING: {'HOLDING_ID': 'NUMBER', 'IS_CASH_COLLATERAL': 'TEXT', 'IS_NON_CASH_COLLATERAL': 'TEXT', 'IS_LOAN_BY_FUND': 'TEXT'}\n",
      "BORROWER: {'ACCESSION_NUMBER': 'TEXT', 'BORROWER_ID': 'NUMBER', 'NAME': 'TEXT', 'LEI': 'TEXT', 'AGGREGATE_VALUE': 'NUMBER'}\n",
      "DESC_REF_OTHER: {'HOLDING_ID': 'NUMBER', 'DESC_REF_OTHER_ID': 'NUMBER', 'ISSUER_NAME': 'TEXT', 'ISSUE_TITLE': 'TEXT', 'CUSIP': 'NUMBER', 'ISIN': 'TEXT', 'TICKER': 'TEXT', 'OTHER_IDENTIFIER': 'NUMBER', 'OTHER_DESC': 'TEXT'}\n",
      "DESC_REF_INDEX_BASKET: {'HOLDING_ID': 'NUMBER', 'INDEX_NAME': 'TEXT', 'INDEX_IDENTIFIER': 'TEXT', 'NARRATIVE_DESC': 'TEXT'}\n",
      "FUND_VAR_INFO: {'ACCESSION_NUMBER': 'TEXT', 'DESIGNATED_INDEX_NAME': 'TEXT', 'DESIGNATED_INDEX_IDENTIFIER': 'NUMBER'}\n",
      "FWD_FOREIGNCUR_CONTRACT_SWAP: {'HOLDING_ID': 'NUMBER', 'CURRENCY_SOLD_AMOUNT': 'NUMBER', 'DESC_CURRENCY_SOLD': 'TEXT', 'CURRENCY_PURCHASED_AMOUNT': 'NUMBER', 'DESC_CURRENCY_PURCHASED': 'TEXT', 'SETTLEMENT_DATE': 'TEXT', 'UNREALIZED_APPRECIATION': 'NUMBER'}\n",
      "REPURCHASE_COUNTERPARTY: {'HOLDING_ID': 'NUMBER', 'REPURCHASE_COUNTERPARTY_ID': 'NUMBER', 'NAME': 'TEXT', 'LEI': 'TEXT'}\n",
      "CONVERTIBLE_SECURITY_CURRENCY: {'HOLDING_ID': 'NUMBER', 'CONVERTIBLE_SECURITY_ID': 'NUMBER', 'CONVERSION_RATIO': 'NUMBER', 'CURRENCY_CODE': 'TEXT'}\n",
      "MONTHLY_RETURN_CAT_INSTRUMENT: {'ACCESSION_NUMBER': 'TEXT', 'ASSET_CAT': 'TEXT', 'INSTRUMENT_KIND': 'TEXT', 'NET_REALIZED_GAIN_MON1': 'NUMBER', 'NET_UNREALIZED_AP_MON1': 'NUMBER', 'NET_REALIZED_GAIN_MON2': 'NUMBER', 'NET_UNREALIZED_AP_MON2': 'NUMBER', 'NET_REALIZED_GAIN_MON3': 'NUMBER', 'NET_UNREALIZED_AP_MON3': 'NUMBER'}\n",
      "DEBT_SECURITY: {'HOLDING_ID': 'NUMBER', 'MATURITY_DATE': 'TEXT', 'COUPON_TYPE': 'TEXT', 'ANNUALIZED_RATE': 'NUMBER', 'IS_DEFAULT': 'TEXT', 'ARE_ANY_INTEREST_PAYMENT': 'TEXT', 'IS_ANY_PORTION_INTEREST_PAID': 'TEXT'}\n",
      "REGISTRANT: {'ACCESSION_NUMBER': 'TEXT', 'CIK': 'NUMBER', 'REGISTRANT_NAME': 'TEXT', 'FILE_NUM': 'TEXT', 'LEI': 'TEXT', 'ADDRESS1': 'TEXT', 'ADDRESS2': 'TEXT', 'CITY': 'TEXT', 'STATE': 'TEXT', 'COUNTRY': 'TEXT', 'ZIP': 'NUMBER', 'PHONE': 'TEXT'}\n",
      "MONTHLY_TOTAL_RETURN: {'ACCESSION_NUMBER': 'TEXT', 'MONTHLY_TOTAL_RETURN_ID': 'NUMBER', 'CLASS_ID': 'TEXT', 'MONTHLY_TOTAL_RETURN1': 'NUMBER', 'MONTHLY_TOTAL_RETURN2': 'NUMBER', 'MONTHLY_TOTAL_RETURN3': 'NUMBER'}\n",
      "SUBMISSION: {'ACCESSION_NUMBER': 'TEXT', 'FILING_DATE': 'TEXT', 'SUB_TYPE': 'TEXT', 'REPORT_ENDING_PERIOD': 'TEXT', 'REPORT_DATE': 'TEXT', 'IS_LAST_FILING': 'TEXT'}\n",
      "BORROW_AGGREGATE: {'ACCESSION_NUMBER': 'TEXT', 'BORROW_AGGREGATE_ID': 'NUMBER', 'AMOUNT': 'NUMBER', 'COLLATERAL': 'NUMBER', 'INVESTMENT_CAT': 'TEXT'}\n",
      "EXPLANATORY_NOTE: {'ACCESSION_NUMBER': 'TEXT', 'EXPLANATORY_NOTE_ID': 'NUMBER', 'ITEM_NO': 'TEXT', 'EXPLANATORY_NOTE': 'TEXT'}\n",
      "NONFOREIGN_EXCHANGE_SWAP: {'HOLDING_ID': 'NUMBER', 'SWAP_FLAG': 'TEXT', 'TERMINATION_DATE': 'TEXT', 'UPFRONT_PAYMENT': 'NUMBER', 'PMNT_CURRENCY_CODE': 'TEXT', 'UPFRONT_RECEIPT': 'NUMBER', 'RCPT_CURRENCY_CODE': 'TEXT', 'NOTIONAL_AMOUNT': 'NUMBER', 'CURRENCY_CODE': 'TEXT', 'UNREALIZED_APPRECIATION': 'NUMBER', 'FIXED_OR_FLOATING_RECEIPT': 'TEXT', 'FIXED_RATE_RECEIPT': 'NUMBER', 'FLOATING_RATE_INDEX_RECEIPT': 'TEXT', 'FLOATING_RATE_SPREAD_RECEIPT': 'NUMBER', 'CURRENCY_CODE_RECEIPT': 'TEXT', 'AMOUNT_RECEIPT': 'NUMBER', 'FIXED_OR_FLOATING_PAYMENT': 'TEXT', 'FIXED_RATE_PAYMENT': 'NUMBER', 'FLOATING_RATE_INDEX_PAYMENT': 'TEXT', 'FLOATING_RATE_SPREAD_PAYMENT': 'NUMBER', 'CURRENCY_CODE_PAYMENT': 'TEXT', 'AMOUNT_PAYMENT': 'NUMBER'}\n",
      "FUND_REPORTED_HOLDING: {'ACCESSION_NUMBER': 'TEXT', 'HOLDING_ID': 'NUMBER', 'ISSUER_NAME': 'TEXT', 'ISSUER_LEI': 'TEXT', 'ISSUER_TITLE': 'TEXT', 'ISSUER_CUSIP': 'NUMBER', 'BALANCE': 'NUMBER', 'UNIT': 'TEXT', 'CURRENCY_CODE': 'TEXT', 'CURRENCY_VALUE': 'NUMBER', 'PERCENTAGE': 'NUMBER', 'PAYOFF_PROFILE': 'TEXT', 'ASSET_CAT': 'TEXT', 'ISSUER_TYPE': 'TEXT', 'OTHER_ISSUER': 'TEXT', 'INVESTMENT_COUNTRY': 'TEXT', 'IS_RESTRICTED_SECURITY': 'TEXT', 'FAIR_VALUE_LEVEL': 'NUMBER'}\n",
      "IDENTIFIERS: {'HOLDING_ID': 'NUMBER', 'IDENTIFIERS_ID': 'NUMBER', 'IDENTIFIER_ISIN': 'TEXT', 'OTHER_IDENTIFIER': 'TEXT', 'OTHER_IDENTIFIER_DESC': 'TEXT'}\n",
      "FUND_REPORTED_INFO: {'ACCESSION_NUMBER': 'TEXT', 'SERIES_NAME': 'TEXT', 'SERIES_ID': 'TEXT', 'SERIES_LEI': 'TEXT', 'TOTAL_ASSETS': 'NUMBER', 'TOTAL_LIABILITIES': 'NUMBER', 'NET_ASSETS': 'NUMBER', 'ASSETS_ATTRBT_TO_MISC_SECURITY': 'NUMBER', 'ASSETS_INVESTED': 'NUMBER', 'BORROWING_PAY_WITHIN_1YR': 'NUMBER', 'CTRLD_COMPANIES_PAY_WITHIN_1YR': 'NUMBER', 'OTHER_AFFILIA_PAY_WITHIN_1YR': 'NUMBER', 'OTHER_PAY_WITHIN_1YR': 'NUMBER', 'BORROWING_PAY_AFTER_1YR': 'NUMBER', 'CTRLD_COMPANIES_PAY_AFTER_1YR': 'NUMBER', 'OTHER_AFFILIA_PAY_AFTER_1YR': 'NUMBER', 'OTHER_PAY_AFTER_1YR': 'NUMBER', 'DELAYED_DELIVERY': 'NUMBER', 'STANDBY_COMMITMENT': 'NUMBER', 'LIQUIDATION_PREFERENCE': 'NUMBER', 'CASH_NOT_RPTD_IN_C_OR_D': 'NUMBER', 'CREDIT_SPREAD_3MON_INVEST': 'NUMBER', 'CREDIT_SPREAD_1YR_INVEST': 'NUMBER', 'CREDIT_SPREAD_5YR_INVEST': 'NUMBER', 'CREDIT_SPREAD_10YR_INVEST': 'NUMBER', 'CREDIT_SPREAD_30YR_INVEST': 'NUMBER', 'CREDIT_SPREAD_3MON_NONINVEST': 'NUMBER', 'CREDIT_SPREAD_1YR_NONINVEST': 'NUMBER', 'CREDIT_SPREAD_5YR_NONINVEST': 'NUMBER', 'CREDIT_SPREAD_10YR_NONINVEST': 'NUMBER', 'CREDIT_SPREAD_30YR_NONINVEST': 'NUMBER', 'IS_NON_CASH_COLLATERAL': 'TEXT', 'NET_REALIZE_GAIN_NONDERIV_MON1': 'NUMBER', 'NET_UNREALIZE_AP_NONDERIV_MON1': 'NUMBER', 'NET_REALIZE_GAIN_NONDERIV_MON2': 'NUMBER', 'NET_UNREALIZE_AP_NONDERIV_MON2': 'NUMBER', 'NET_REALIZE_GAIN_NONDERIV_MON3': 'NUMBER', 'NET_UNREALIZE_AP_NONDERIV_MON3': 'NUMBER', 'SALES_FLOW_MON1': 'NUMBER', 'REINVESTMENT_FLOW_MON1': 'NUMBER', 'REDEMPTION_FLOW_MON1': 'NUMBER', 'SALES_FLOW_MON2': 'NUMBER', 'REINVESTMENT_FLOW_MON2': 'NUMBER', 'REDEMPTION_FLOW_MON2': 'NUMBER', 'SALES_FLOW_MON3': 'NUMBER', 'REINVESTMENT_FLOW_MON3': 'NUMBER', 'REDEMPTION_FLOW_MON3': 'NUMBER'}\n"
     ]
    }
   ],
   "source": [
    "temp_conn = sqlite3.connect(parent_dir + '/sqlite/nport.db')\n",
    "temp_cursor = temp_conn.cursor()\n",
    "for table in tables:\n",
    "    temp_cursor.execute(f\"SELECT COUNT(*) FROM {table}\")\n",
    "    print(f\"Number of Rows in {table}:\", temp_cursor.fetchone()[0])\n",
    "\n",
    "print('=='*40)\n",
    "for table in tables:\n",
    "    table_name = table\n",
    "\n",
    "    query = f\"PRAGMA table_info({table_name});\"\n",
    "    temp_cursor.execute(query)\n",
    "    columns = temp_cursor.fetchall()\n",
    "    print(f\"{table_name}: \"+str({col[1]: col[2] for col in columns}))  # col[1]: column name, col[2]: data type\n",
    "temp_cursor.close()\n",
    "temp_conn.close()"
   ]
  },
  {
   "cell_type": "markdown",
   "metadata": {},
   "source": [
    "### Deprecated: Drop Columns Missing more than 85% of Values "
   ]
  },
  {
   "cell_type": "markdown",
   "metadata": {},
   "source": [
    "def drop_columns(table_name):\n",
    "    temp_cursor= conn.cursor()\n",
    "\n",
    "    temp_cursor.execute(\"SELECT name FROM sqlite_master WHERE type='table' AND name=?\", (table_name,))\n",
    "    result = temp_cursor.fetchone()\n",
    "\n",
    "    # Check if the result is not None\n",
    "    if not result:\n",
    "        return(\"There are currently no tables in the database.\")\n",
    "\n",
    "    temp_cursor.execute(f\"SELECT COUNT(*) FROM {table_name}\")\n",
    "    total_rows = temp_cursor.fetchone()[0]\n",
    "\n",
    "    temp_cursor.execute(f\"PRAGMA table_info({table_name})\")\n",
    "    columns = temp_cursor.fetchall()\n",
    "\n",
    "    columns_to_drop = []\n",
    "    columns_to_keep = []\n",
    "\n",
    "\n",
    "    for column in columns:\n",
    "        column_name = column[1]\n",
    "\n",
    "        # Skip columns that end with ':1'\n",
    "        if column_name.endswith(':1'):\n",
    "            print(f\"Skipping column {column_name} in table {table_name}\")\n",
    "            continue\n",
    "\n",
    "        temp_cursor.execute(f\"SELECT COUNT({column_name}) FROM {table_name} WHERE {column_name} = ''\")\n",
    "        null_count = temp_cursor.fetchone()[0]\n",
    "\n",
    "        if null_count > 0.85 * total_rows:\n",
    "            columns_to_drop.append(column_name)\n",
    "        else:\n",
    "            columns_to_keep.append(column_name)\n",
    "\n",
    "    if columns_to_drop:\n",
    "        # Create new table with remaining columns\n",
    "        new_table_name = f\"{table_name}_new\"\n",
    "        columns_definition = ', '.join(columns_to_keep)\n",
    "        temp_cursor.execute(f\"CREATE TABLE {new_table_name} ({columns_definition})\")\n",
    "\n",
    "        # Copy columns to new table\n",
    "        temp_cursor.execute(f\"INSERT INTO {new_table_name} ({columns_definition}) SELECT {columns_definition} FROM {table_name}\")\n",
    "\n",
    "        # Drop old table\n",
    "        temp_cursor.execute(f\"DROP TABLE {table_name}\")\n",
    "\n",
    "        # Rename new table to original table name\n",
    "        temp_cursor.execute(f\"ALTER TABLE {new_table_name} RENAME TO {table_name}\")\n",
    "\n",
    "        print(f\"Dropped columns {', '.join(columns_to_drop)} from table {table_name}\")\n",
    "    else:\n",
    "        print(f\"No columns to drop from table {table_name}\")\n",
    "    \n",
    "    temp_cursor.close()\n",
    "    return columns_to_drop, columns_to_keep"
   ]
  },
  {
   "cell_type": "markdown",
   "metadata": {},
   "source": [
    "columns_to_drop = {}\n",
    "columns_to_keep = {}\n",
    "for table in tables:\n",
    "    columns_to_drop[table],columns_to_keep[table] = drop_columns(table)\n",
    "print(\"Kept columns: \", columns_to_keep)\n",
    "print(\"Dropped columns: \", columns_to_drop)"
   ]
  },
  {
   "cell_type": "markdown",
   "metadata": {},
   "source": [
    "empty_count = 0\n",
    "\n",
    "for table, kept_columns in columns_to_keep.items():\n",
    "    if not kept_columns:  # Checks if the list is empty\n",
    "        print(f\"Table '{table}' is empty.\")\n",
    "        empty_count += 1\n",
    "    else:\n",
    "        print(f\"Table '{table}' has kept columns: {kept_columns}\")\n",
    "\n",
    "print(\"Empty Tables:\", empty_count)"
   ]
  },
  {
   "cell_type": "markdown",
   "metadata": {},
   "source": [
    "temp_conn = sqlite3.connect(parent_dir + '/sqlite/nport.db')\n",
    "temp_cursor = temp_conn.cursor()\n",
    "for table in tables:\n",
    "    temp_cursor.execute(f\"SELECT COUNT(*) FROM {table}\")\n",
    "    print(f\"Number of Rows in {table}:\", temp_cursor.fetchone()[0])\n",
    "\n",
    "print('=='*40)\n",
    "for table in tables:\n",
    "    table_name = table\n",
    "\n",
    "    query = f\"PRAGMA table_info({table_name});\"\n",
    "    temp_cursor.execute(query)\n",
    "    columns = temp_cursor.fetchall()\n",
    "    print(f\"{table_name}: \"+str({col[1]: col[2] for col in columns}))  # col[1]: column name, col[2]: data type\n",
    "temp_cursor.close()\n",
    "temp_conn.close()"
   ]
  }
 ],
 "metadata": {
  "kernelspec": {
   "display_name": "Python 3",
   "language": "python",
   "name": "python3"
  },
  "language_info": {
   "codemirror_mode": {
    "name": "ipython",
    "version": 3
   },
   "file_extension": ".py",
   "mimetype": "text/x-python",
   "name": "python",
   "nbconvert_exporter": "python",
   "pygments_lexer": "ipython3",
   "version": "3.12.3"
  }
 },
 "nbformat": 4,
 "nbformat_minor": 2
}
