{
 "cells": [
  {
   "cell_type": "markdown",
   "metadata": {},
   "source": [
    "#### This note book cannot be run with `Run All` because there are intermediate notebooks we have to switch to before proceeding"
   ]
  },
  {
   "cell_type": "code",
   "execution_count": 8,
   "metadata": {},
   "outputs": [
    {
     "name": "stdout",
     "output_type": "stream",
     "text": [
      "Requirement already satisfied: altair==5.4.1 in c:\\users\\user\\anaconda3\\lib\\site-packages (from -r requirements.txt (line 1)) (5.4.1)\n",
      "Collecting annotated-types==0.7.0 (from -r requirements.txt (line 2))\n",
      "  Obtaining dependency information for annotated-types==0.7.0 from https://files.pythonhosted.org/packages/78/b6/6307fbef88d9b5ee7421e68d78a9f162e0da4900bc5f5793f6d3d0e34fb8/annotated_types-0.7.0-py3-none-any.whl.metadata\n",
      "  Using cached annotated_types-0.7.0-py3-none-any.whl.metadata (15 kB)\n",
      "Collecting anyio==4.6.2.post1 (from -r requirements.txt (line 3))\n",
      "  Obtaining dependency information for anyio==4.6.2.post1 from https://files.pythonhosted.org/packages/e4/f5/f2b75d2fc6f1a260f340f0e7c6a060f4dd2961cc16884ed851b0d18da06a/anyio-4.6.2.post1-py3-none-any.whl.metadata\n",
      "  Using cached anyio-4.6.2.post1-py3-none-any.whl.metadata (4.7 kB)\n",
      "Collecting attrs==24.2.0 (from -r requirements.txt (line 4))\n",
      "  Obtaining dependency information for attrs==24.2.0 from https://files.pythonhosted.org/packages/6a/21/5b6702a7f963e95456c0de2d495f67bf5fd62840ac655dc451586d23d39a/attrs-24.2.0-py3-none-any.whl.metadata\n",
      "  Using cached attrs-24.2.0-py3-none-any.whl.metadata (11 kB)\n",
      "Requirement already satisfied: blinker==1.8.2 in c:\\users\\user\\anaconda3\\lib\\site-packages (from -r requirements.txt (line 5)) (1.8.2)\n",
      "Requirement already satisfied: cachetools==5.5.0 in c:\\users\\user\\anaconda3\\lib\\site-packages (from -r requirements.txt (line 6)) (5.5.0)\n",
      "Requirement already satisfied: certifi==2024.8.30 in c:\\users\\user\\anaconda3\\lib\\site-packages (from -r requirements.txt (line 7)) (2024.8.30)\n",
      "Collecting charset-normalizer==3.4.0 (from -r requirements.txt (line 8))\n",
      "  Obtaining dependency information for charset-normalizer==3.4.0 from https://files.pythonhosted.org/packages/0b/6e/b13bd47fa9023b3699e94abf565b5a2f0b0be6e9ddac9812182596ee62e4/charset_normalizer-3.4.0-cp311-cp311-win_amd64.whl.metadata\n",
      "  Using cached charset_normalizer-3.4.0-cp311-cp311-win_amd64.whl.metadata (34 kB)\n",
      "Collecting click==8.1.7 (from -r requirements.txt (line 9))\n",
      "  Obtaining dependency information for click==8.1.7 from https://files.pythonhosted.org/packages/00/2e/d53fa4befbf2cfa713304affc7ca780ce4fc1fd8710527771b58311a3229/click-8.1.7-py3-none-any.whl.metadata\n",
      "  Using cached click-8.1.7-py3-none-any.whl.metadata (3.0 kB)\n",
      "Requirement already satisfied: distro==1.9.0 in c:\\users\\user\\anaconda3\\lib\\site-packages (from -r requirements.txt (line 10)) (1.9.0)\n",
      "Collecting fastapi==0.115.3 (from -r requirements.txt (line 11))\n",
      "  Obtaining dependency information for fastapi==0.115.3 from https://files.pythonhosted.org/packages/57/95/4c5b79e7ca1f7b372d16a32cad7c9cc6c3c899200bed8f45739f4415cfae/fastapi-0.115.3-py3-none-any.whl.metadata\n",
      "  Using cached fastapi-0.115.3-py3-none-any.whl.metadata (27 kB)\n",
      "Requirement already satisfied: gitdb==4.0.11 in c:\\users\\user\\anaconda3\\lib\\site-packages (from -r requirements.txt (line 12)) (4.0.11)\n",
      "Requirement already satisfied: GitPython==3.1.43 in c:\\users\\user\\anaconda3\\lib\\site-packages (from -r requirements.txt (line 13)) (3.1.43)\n",
      "Requirement already satisfied: h11==0.14.0 in c:\\users\\user\\anaconda3\\lib\\site-packages (from -r requirements.txt (line 14)) (0.14.0)\n",
      "Requirement already satisfied: httpcore==1.0.6 in c:\\users\\user\\anaconda3\\lib\\site-packages (from -r requirements.txt (line 15)) (1.0.6)\n",
      "Requirement already satisfied: httpx==0.27.2 in c:\\users\\user\\anaconda3\\lib\\site-packages (from -r requirements.txt (line 16)) (0.27.2)\n",
      "Collecting idna==3.10 (from -r requirements.txt (line 17))\n",
      "  Obtaining dependency information for idna==3.10 from https://files.pythonhosted.org/packages/76/c6/c88e154df9c4e1a2a66ccf0005a88dfb2650c1dffb6f5ce603dfbd452ce3/idna-3.10-py3-none-any.whl.metadata\n",
      "  Using cached idna-3.10-py3-none-any.whl.metadata (10 kB)\n",
      "Collecting Jinja2==3.1.4 (from -r requirements.txt (line 18))\n",
      "  Obtaining dependency information for Jinja2==3.1.4 from https://files.pythonhosted.org/packages/31/80/3a54838c3fb461f6fec263ebf3a3a41771bd05190238de3486aae8540c36/jinja2-3.1.4-py3-none-any.whl.metadata\n",
      "  Using cached jinja2-3.1.4-py3-none-any.whl.metadata (2.6 kB)\n",
      "Requirement already satisfied: jiter==0.6.1 in c:\\users\\user\\anaconda3\\lib\\site-packages (from -r requirements.txt (line 19)) (0.6.1)\n",
      "Collecting jsonschema==4.23.0 (from -r requirements.txt (line 20))\n",
      "  Obtaining dependency information for jsonschema==4.23.0 from https://files.pythonhosted.org/packages/69/4a/4f9dbeb84e8850557c02365a0eee0649abe5eb1d84af92a25731c6c0f922/jsonschema-4.23.0-py3-none-any.whl.metadata\n",
      "  Using cached jsonschema-4.23.0-py3-none-any.whl.metadata (7.9 kB)\n",
      "Collecting jsonschema-specifications==2024.10.1 (from -r requirements.txt (line 21))\n",
      "  Obtaining dependency information for jsonschema-specifications==2024.10.1 from https://files.pythonhosted.org/packages/d1/0f/8910b19ac0670a0f80ce1008e5e751c4a57e14d2c4c13a482aa6079fa9d6/jsonschema_specifications-2024.10.1-py3-none-any.whl.metadata\n",
      "  Using cached jsonschema_specifications-2024.10.1-py3-none-any.whl.metadata (3.0 kB)\n",
      "Collecting markdown-it-py==3.0.0 (from -r requirements.txt (line 22))\n",
      "  Obtaining dependency information for markdown-it-py==3.0.0 from https://files.pythonhosted.org/packages/42/d7/1ec15b46af6af88f19b8e5ffea08fa375d433c998b8a7639e76935c14f1f/markdown_it_py-3.0.0-py3-none-any.whl.metadata\n",
      "  Using cached markdown_it_py-3.0.0-py3-none-any.whl.metadata (6.9 kB)\n",
      "Collecting MarkupSafe==3.0.2 (from -r requirements.txt (line 23))\n",
      "  Obtaining dependency information for MarkupSafe==3.0.2 from https://files.pythonhosted.org/packages/da/b8/3a3bd761922d416f3dc5d00bfbed11f66b1ab89a0c2b6e887240a30b0f6b/MarkupSafe-3.0.2-cp311-cp311-win_amd64.whl.metadata\n",
      "  Using cached MarkupSafe-3.0.2-cp311-cp311-win_amd64.whl.metadata (4.1 kB)\n",
      "Collecting mdurl==0.1.2 (from -r requirements.txt (line 24))\n",
      "  Obtaining dependency information for mdurl==0.1.2 from https://files.pythonhosted.org/packages/b3/38/89ba8ad64ae25be8de66a6d463314cf1eb366222074cfda9ee839c56a4b4/mdurl-0.1.2-py3-none-any.whl.metadata\n",
      "  Using cached mdurl-0.1.2-py3-none-any.whl.metadata (1.6 kB)\n",
      "Collecting narwhals==1.10.0 (from -r requirements.txt (line 25))\n",
      "  Obtaining dependency information for narwhals==1.10.0 from https://files.pythonhosted.org/packages/82/45/6bb08a5e5ac2d9a95f4116567d0aafb1e5f86c4bbcf982e209e5ae872b3d/narwhals-1.10.0-py3-none-any.whl.metadata\n",
      "  Using cached narwhals-1.10.0-py3-none-any.whl.metadata (7.0 kB)\n",
      "Requirement already satisfied: numpy==2.1.2 in c:\\users\\user\\anaconda3\\lib\\site-packages (from -r requirements.txt (line 26)) (2.1.2)\n",
      "Collecting openai==1.52.1 (from -r requirements.txt (line 27))\n",
      "  Obtaining dependency information for openai==1.52.1 from https://files.pythonhosted.org/packages/ad/31/28a83e124e9f9dd04c83b5aeb6f8b1770f45addde4dd3d34d9a9091590ad/openai-1.52.1-py3-none-any.whl.metadata\n",
      "  Using cached openai-1.52.1-py3-none-any.whl.metadata (24 kB)\n",
      "Requirement already satisfied: packaging==24.1 in c:\\users\\user\\anaconda3\\lib\\site-packages (from -r requirements.txt (line 28)) (24.1)\n",
      "Collecting pandas==2.2.3 (from -r requirements.txt (line 29))\n",
      "  Obtaining dependency information for pandas==2.2.3 from https://files.pythonhosted.org/packages/ed/8c/87ddf1fcb55d11f9f847e3c69bb1c6f8e46e2f40ab1a2d2abadb2401b007/pandas-2.2.3-cp311-cp311-win_amd64.whl.metadata\n",
      "  Using cached pandas-2.2.3-cp311-cp311-win_amd64.whl.metadata (19 kB)\n",
      "Requirement already satisfied: pillow==10.4.0 in c:\\users\\user\\anaconda3\\lib\\site-packages (from -r requirements.txt (line 30)) (10.4.0)\n",
      "Requirement already satisfied: protobuf==5.28.3 in c:\\users\\user\\anaconda3\\lib\\site-packages (from -r requirements.txt (line 31)) (5.28.3)\n",
      "Collecting pyarrow==17.0.0 (from -r requirements.txt (line 32))\n",
      "  Obtaining dependency information for pyarrow==17.0.0 from https://files.pythonhosted.org/packages/30/d1/63a7c248432c71c7d3ee803e706590a0b81ce1a8d2b2ae49677774b813bb/pyarrow-17.0.0-cp311-cp311-win_amd64.whl.metadata\n",
      "  Using cached pyarrow-17.0.0-cp311-cp311-win_amd64.whl.metadata (3.4 kB)\n",
      "Collecting pydantic==2.9.2 (from -r requirements.txt (line 33))\n",
      "  Obtaining dependency information for pydantic==2.9.2 from https://files.pythonhosted.org/packages/df/e4/ba44652d562cbf0bf320e0f3810206149c8a4e99cdbf66da82e97ab53a15/pydantic-2.9.2-py3-none-any.whl.metadata\n",
      "  Using cached pydantic-2.9.2-py3-none-any.whl.metadata (149 kB)\n",
      "Requirement already satisfied: pydantic_core==2.23.4 in c:\\users\\user\\anaconda3\\lib\\site-packages (from -r requirements.txt (line 34)) (2.23.4)\n",
      "Requirement already satisfied: pydeck==0.9.1 in c:\\users\\user\\anaconda3\\lib\\site-packages (from -r requirements.txt (line 35)) (0.9.1)\n",
      "Requirement already satisfied: Pygments==2.18.0 in c:\\users\\user\\anaconda3\\lib\\site-packages (from -r requirements.txt (line 36)) (2.18.0)\n",
      "Requirement already satisfied: python-dateutil==2.9.0.post0 in c:\\users\\user\\anaconda3\\lib\\site-packages (from -r requirements.txt (line 37)) (2.9.0.post0)\n",
      "Requirement already satisfied: python-dotenv==1.0.1 in c:\\users\\user\\anaconda3\\lib\\site-packages (from -r requirements.txt (line 38)) (1.0.1)\n",
      "Requirement already satisfied: pytz==2024.2 in c:\\users\\user\\anaconda3\\lib\\site-packages (from -r requirements.txt (line 39)) (2024.2)\n",
      "Collecting referencing==0.35.1 (from -r requirements.txt (line 40))\n",
      "  Obtaining dependency information for referencing==0.35.1 from https://files.pythonhosted.org/packages/b7/59/2056f61236782a2c86b33906c025d4f4a0b17be0161b63b70fd9e8775d36/referencing-0.35.1-py3-none-any.whl.metadata\n",
      "  Using cached referencing-0.35.1-py3-none-any.whl.metadata (2.8 kB)\n",
      "Collecting requests==2.32.3 (from -r requirements.txt (line 41))\n",
      "  Obtaining dependency information for requests==2.32.3 from https://files.pythonhosted.org/packages/f9/9b/335f9764261e915ed497fcdeb11df5dfd6f7bf257d4a6a2a686d80da4d54/requests-2.32.3-py3-none-any.whl.metadata\n",
      "  Using cached requests-2.32.3-py3-none-any.whl.metadata (4.6 kB)\n",
      "Collecting rich==13.9.3 (from -r requirements.txt (line 42))\n",
      "  Obtaining dependency information for rich==13.9.3 from https://files.pythonhosted.org/packages/9a/e2/10e9819cf4a20bd8ea2f5dabafc2e6bf4a78d6a0965daeb60a4b34d1c11f/rich-13.9.3-py3-none-any.whl.metadata\n",
      "  Using cached rich-13.9.3-py3-none-any.whl.metadata (18 kB)\n",
      "Requirement already satisfied: rpds-py==0.20.0 in c:\\users\\user\\anaconda3\\lib\\site-packages (from -r requirements.txt (line 43)) (0.20.0)\n",
      "Requirement already satisfied: six==1.16.0 in c:\\users\\user\\anaconda3\\lib\\site-packages (from -r requirements.txt (line 44)) (1.16.0)\n",
      "Requirement already satisfied: smmap==5.0.1 in c:\\users\\user\\anaconda3\\lib\\site-packages (from -r requirements.txt (line 45)) (5.0.1)\n",
      "Requirement already satisfied: sniffio==1.3.1 in c:\\users\\user\\anaconda3\\lib\\site-packages (from -r requirements.txt (line 46)) (1.3.1)\n",
      "Collecting starlette==0.41.0 (from -r requirements.txt (line 47))\n",
      "  Obtaining dependency information for starlette==0.41.0 from https://files.pythonhosted.org/packages/35/c6/a4443bfabf5629129512ca0e07866c4c3c094079ba4e9b2551006927253c/starlette-0.41.0-py3-none-any.whl.metadata\n",
      "  Using cached starlette-0.41.0-py3-none-any.whl.metadata (6.0 kB)\n",
      "Collecting streamlit==1.39.0 (from -r requirements.txt (line 48))\n",
      "  Obtaining dependency information for streamlit==1.39.0 from https://files.pythonhosted.org/packages/ef/e1/f9c479f9dbe0bb702ea5ca6608f10e91a708b438f7fb4572a2642718c6e3/streamlit-1.39.0-py2.py3-none-any.whl.metadata\n",
      "  Using cached streamlit-1.39.0-py2.py3-none-any.whl.metadata (8.5 kB)\n",
      "Requirement already satisfied: streamlit-chat==0.1.1 in c:\\users\\user\\anaconda3\\lib\\site-packages (from -r requirements.txt (line 49)) (0.1.1)\n",
      "Requirement already satisfied: tenacity==9.0.0 in c:\\users\\user\\anaconda3\\lib\\site-packages (from -r requirements.txt (line 50)) (9.0.0)\n",
      "Requirement already satisfied: toml==0.10.2 in c:\\users\\user\\anaconda3\\lib\\site-packages (from -r requirements.txt (line 51)) (0.10.2)\n",
      "Requirement already satisfied: tornado==6.4.1 in c:\\users\\user\\anaconda3\\lib\\site-packages (from -r requirements.txt (line 52)) (6.4.1)\n",
      "Requirement already satisfied: tqdm==4.66.5 in c:\\users\\user\\anaconda3\\lib\\site-packages (from -r requirements.txt (line 53)) (4.66.5)\n",
      "Requirement already satisfied: typing_extensions==4.12.2 in c:\\users\\user\\anaconda3\\lib\\site-packages (from -r requirements.txt (line 54)) (4.12.2)\n",
      "Requirement already satisfied: tzdata==2024.2 in c:\\users\\user\\anaconda3\\lib\\site-packages (from -r requirements.txt (line 55)) (2024.2)\n",
      "Requirement already satisfied: urllib3==2.2.3 in c:\\users\\user\\anaconda3\\lib\\site-packages (from -r requirements.txt (line 56)) (2.2.3)\n",
      "Collecting uvicorn==0.32.0 (from -r requirements.txt (line 57))\n",
      "  Obtaining dependency information for uvicorn==0.32.0 from https://files.pythonhosted.org/packages/eb/14/78bd0e95dd2444b6caacbca2b730671d4295ccb628ef58b81bee903629df/uvicorn-0.32.0-py3-none-any.whl.metadata\n",
      "  Using cached uvicorn-0.32.0-py3-none-any.whl.metadata (6.6 kB)\n",
      "Requirement already satisfied: Levenshtein in c:\\users\\user\\anaconda3\\lib\\site-packages (from -r requirements.txt (line 58)) (0.26.1)\n",
      "Requirement already satisfied: datasketch in c:\\users\\user\\anaconda3\\lib\\site-packages (from -r requirements.txt (line 59)) (1.6.5)\n",
      "Requirement already satisfied: colorama in c:\\users\\user\\anaconda3\\lib\\site-packages (from click==8.1.7->-r requirements.txt (line 9)) (0.4.6)\n",
      "Requirement already satisfied: watchdog<6,>=2.1.5 in c:\\users\\user\\anaconda3\\lib\\site-packages (from streamlit==1.39.0->-r requirements.txt (line 48)) (2.1.6)\n",
      "Requirement already satisfied: rapidfuzz<4.0.0,>=3.9.0 in c:\\users\\user\\anaconda3\\lib\\site-packages (from Levenshtein->-r requirements.txt (line 58)) (3.10.1)\n",
      "Requirement already satisfied: scipy>=1.0.0 in c:\\users\\user\\anaconda3\\lib\\site-packages (from datasketch->-r requirements.txt (line 59)) (1.11.1)\n",
      "INFO: pip is looking at multiple versions of scipy to determine which version is compatible with other requirements. This could take a while.\n",
      "Collecting scipy>=1.0.0 (from datasketch->-r requirements.txt (line 59))\n",
      "  Obtaining dependency information for scipy>=1.0.0 from https://files.pythonhosted.org/packages/ea/c2/5ecadc5fcccefaece775feadcd795060adf5c3b29a883bff0e678cfe89af/scipy-1.14.1-cp311-cp311-win_amd64.whl.metadata\n",
      "  Using cached scipy-1.14.1-cp311-cp311-win_amd64.whl.metadata (60 kB)\n",
      "Using cached annotated_types-0.7.0-py3-none-any.whl (13 kB)\n",
      "Using cached anyio-4.6.2.post1-py3-none-any.whl (90 kB)\n",
      "Using cached attrs-24.2.0-py3-none-any.whl (63 kB)\n",
      "Using cached charset_normalizer-3.4.0-cp311-cp311-win_amd64.whl (101 kB)\n",
      "Using cached click-8.1.7-py3-none-any.whl (97 kB)\n",
      "Using cached fastapi-0.115.3-py3-none-any.whl (94 kB)\n",
      "Using cached idna-3.10-py3-none-any.whl (70 kB)\n",
      "Using cached jinja2-3.1.4-py3-none-any.whl (133 kB)\n",
      "Using cached jsonschema-4.23.0-py3-none-any.whl (88 kB)\n",
      "Using cached jsonschema_specifications-2024.10.1-py3-none-any.whl (18 kB)\n",
      "Using cached markdown_it_py-3.0.0-py3-none-any.whl (87 kB)\n",
      "Using cached MarkupSafe-3.0.2-cp311-cp311-win_amd64.whl (15 kB)\n",
      "Using cached mdurl-0.1.2-py3-none-any.whl (10.0 kB)\n",
      "Using cached narwhals-1.10.0-py3-none-any.whl (193 kB)\n",
      "Using cached openai-1.52.1-py3-none-any.whl (386 kB)\n",
      "Using cached pandas-2.2.3-cp311-cp311-win_amd64.whl (11.6 MB)\n",
      "Using cached pyarrow-17.0.0-cp311-cp311-win_amd64.whl (25.2 MB)\n",
      "Using cached pydantic-2.9.2-py3-none-any.whl (434 kB)\n",
      "Using cached referencing-0.35.1-py3-none-any.whl (26 kB)\n",
      "Using cached requests-2.32.3-py3-none-any.whl (64 kB)\n",
      "Using cached rich-13.9.3-py3-none-any.whl (242 kB)\n",
      "Using cached starlette-0.41.0-py3-none-any.whl (73 kB)\n",
      "Using cached streamlit-1.39.0-py2.py3-none-any.whl (8.7 MB)\n",
      "Using cached uvicorn-0.32.0-py3-none-any.whl (63 kB)\n",
      "Using cached scipy-1.14.1-cp311-cp311-win_amd64.whl (44.8 MB)\n",
      "Installing collected packages: scipy, pyarrow, narwhals, mdurl, MarkupSafe, idna, click, charset-normalizer, attrs, annotated-types, uvicorn, requests, referencing, pydantic, pandas, markdown-it-py, Jinja2, anyio, starlette, rich, jsonschema-specifications, openai, jsonschema, fastapi, streamlit\n",
      "  Attempting uninstall: scipy\n",
      "    Found existing installation: scipy 1.11.1\n",
      "    Uninstalling scipy-1.11.1:\n",
      "      Successfully uninstalled scipy-1.11.1\n"
     ]
    },
    {
     "name": "stderr",
     "output_type": "stream",
     "text": [
      "ERROR: Could not install packages due to an OSError: [WinError 5] Access is denied: 'C:\\\\Users\\\\User\\\\anaconda3\\\\Lib\\\\site-packages\\\\~cipy\\\\integrate\\\\_dop.cp311-win_amd64.pyd'\n",
      "Consider using the `--user` option or check the permissions.\n",
      "\n"
     ]
    }
   ],
   "source": [
    "# make sure the notebook kernel uses the same python environment as your virtual environment in your terminal\n",
    "!pip install -r requirements.txt"
   ]
  },
  {
   "cell_type": "markdown",
   "metadata": {},
   "source": [
    "#### 1. Set up database before running app:\n",
    "Download all quarters' NPORT dataset (.zip files) and drop them into data/ folder in your local directory"
   ]
  },
  {
   "cell_type": "markdown",
   "metadata": {},
   "source": [
    "#### 2. Run the following code to extract the datazip file"
   ]
  },
  {
   "cell_type": "code",
   "execution_count": 9,
   "metadata": {},
   "outputs": [
    {
     "name": "stdout",
     "output_type": "stream",
     "text": [
      "d:\\GithubRepos\\PIMCO-Text2SQL\n",
      "Processing '2019q4_nport.zip'...\n",
      "Processing '2020q1_nport.zip'...\n",
      "Processing '2020q2_nport.zip'...\n",
      "Processing '2020q3_nport.zip'...\n",
      "Processing '2020q4_nport.zip'...\n",
      "Processing '2021q1_nport.zip'...\n",
      "Processing '2021q2_nport.zip'...\n",
      "Processing '2021q3_nport.zip'...\n",
      "Processing '2021q4_nport.zip'...\n",
      "Processing '2022q1_nport.zip'...\n",
      "Processing '2022q2_nport.zip'...\n",
      "Processing '2022q3_nport.zip'...\n",
      "Processing '2022q4_nport.zip'...\n",
      "Processing '2023q1_nport.zip'...\n",
      "Processing '2023q2_nport.zip'...\n",
      "Processing '2023q3_nport.zip'...\n",
      "Processing '2023q4_nport.zip'...\n",
      "Processing '2024q1_nport.zip'...\n",
      "Processing '2024q2_nport.zip'...\n",
      "Processing '2024q3_nport.zip'...\n"
     ]
    }
   ],
   "source": [
    "import os\n",
    "print(os.getcwd())\n",
    "os.chdir(\"data\")\n",
    "!python extract_data_zips.py \n",
    "os.chdir(\"..\")"
   ]
  },
  {
   "cell_type": "markdown",
   "metadata": {},
   "source": [
    "#### 3. Run all code in another file, PIMCO1B_Database_2.ipynb\n",
    "`PIMCO1B_Database_2.ipynb` should be in PIMCO-TEXT2SQL master folder, this should create a nport.db in your `sqlite/` folder. "
   ]
  },
  {
   "cell_type": "markdown",
   "metadata": {},
   "source": [
    "#### 4. Proceed to test_din.ipynb to test out individual cases"
   ]
  },
  {
   "cell_type": "markdown",
   "metadata": {},
   "source": [
    "Alternatively, here is raw data in shared drive for manual download of datafiles without unzipping of above\n",
    "https://drive.google.com/drive/folders/1WNs1B1QG9CMdU9TFGq5vCxWwnaaGN83n?usp=drive_link\n"
   ]
  }
 ],
 "metadata": {
  "kernelspec": {
   "display_name": "base",
   "language": "python",
   "name": "python3"
  },
  "language_info": {
   "codemirror_mode": {
    "name": "ipython",
    "version": 3
   },
   "file_extension": ".py",
   "mimetype": "text/x-python",
   "name": "python",
   "nbconvert_exporter": "python",
   "pygments_lexer": "ipython3",
   "version": "3.11.5"
  }
 },
 "nbformat": 4,
 "nbformat_minor": 2
}
