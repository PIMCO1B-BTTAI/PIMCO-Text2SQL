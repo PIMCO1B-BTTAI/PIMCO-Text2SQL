{
 "cells": [
  {
   "cell_type": "code",
   "execution_count": 7,
   "metadata": {},
   "outputs": [
    {
     "name": "stdout",
     "output_type": "stream",
     "text": [
      "d:\\GithubRepos\\PIMCO-Text2SQL\n"
     ]
    }
   ],
   "source": [
    "import os\n",
    "print(os.getcwd())"
   ]
  },
  {
   "cell_type": "code",
   "execution_count": 8,
   "metadata": {},
   "outputs": [],
   "source": [
    "import sys\n",
    "import os\n",
    "\n",
    "import re\n",
    "import compare_csv"
   ]
  },
  {
   "cell_type": "code",
   "execution_count": 9,
   "metadata": {},
   "outputs": [],
   "source": [
    "text = \"\"\"\n",
    "1. \"List the top 5 registrants by total net assets, including their CIK and country.\"\n",
    "   SQL: \n",
    "   WITH FundAssets AS (\n",
    "       SELECT R.CIK, R.REGISTRANT_NAME, R.COUNTRY, F.NET_ASSETS\n",
    "       FROM REGISTRANT R\n",
    "       JOIN FUND_REPORTED_INFO F ON R.ACCESSION_NUMBER = F.ACCESSION_NUMBER\n",
    "   )\n",
    "   SELECT CIK, REGISTRANT_NAME, COUNTRY, NET_ASSETS\n",
    "   FROM FundAssets\n",
    "   ORDER BY NET_ASSETS DESC\n",
    "   LIMIT 5;\n",
    "\n",
    "2. \"Find all holdings with a fair value level of Level 1 and their corresponding fund names.\"\n",
    "   SQL: \n",
    "   WITH HoldingsCTE AS (\n",
    "       SELECT H.HOLDING_ID, H.ISSUER_NAME, H.FAIR_VALUE_LEVEL, F.SERIES_NAME\n",
    "       FROM FUND_REPORTED_HOLDING H\n",
    "       JOIN FUND_REPORTED_INFO F ON H.ACCESSION_NUMBER = F.ACCESSION_NUMBER\n",
    "       WHERE H.FAIR_VALUE_LEVEL = 'Level 1'\n",
    "   )\n",
    "   SELECT HOLDING_ID, ISSUER_NAME, SERIES_NAME\n",
    "   FROM HoldingsCTE;\n",
    "\n",
    "3. \"Calculate the total collateral amount for repurchase agreements grouped by counterparty.\"\n",
    "   SQL: \n",
    "   WITH CollateralCTE AS (\n",
    "    SELECT RCP.NAME AS Counterparty_Name, SUM(RC.COLLATERAL_AMOUNT) AS Total_Collateral\n",
    "    FROM REPURCHASE_COLLATERAL RC\n",
    "    JOIN REPURCHASE_COUNTERPARTY RCP ON RC.HOLDING_ID = RCP.HOLDING_ID\n",
    "    GROUP BY RCP.NAME\n",
    "   )\n",
    "   SELECT Counterparty_Name, Total_Collateral\n",
    "   FROM CollateralCTE\n",
    "   ORDER BY Total_Collateral DESC;\n",
    "\n",
    "4. \"Locate funds that have both securities lending activities and repurchase agreements.\"\n",
    "   SQL: \n",
    "   WITH SecuritiesLending AS (\n",
    "       SELECT ACCESSION_NUMBER\n",
    "       FROM SECURITIES_LENDING\n",
    "       WHERE IS_LOAN_BY_FUND = 'Y'\n",
    "   ),\n",
    "   RepurchaseAgreements AS (\n",
    "       SELECT ACCESSION_NUMBER\n",
    "       FROM REPURCHASE_AGREEMENT\n",
    "   )\n",
    "   SELECT F.SERIES_NAME\n",
    "   FROM FUND_REPORTED_INFO F\n",
    "   WHERE F.ACCESSION_NUMBER IN (SELECT ACCESSION_NUMBER FROM SecuritiesLending)\n",
    "     AND F.ACCESSION_NUMBER IN (SELECT ACCESSION_NUMBER FROM RepurchaseAgreements);\n",
    "\n",
    "5. \"Find borrowers who have borrowed more than $5,000,000, including their names and LEIs.\"\n",
    "   SQL: \n",
    "   WITH BorrowedAmounts AS (\n",
    "       SELECT BORROWER_ID, SUM(AGGREGATE_VALUE) AS Total_Borrowed\n",
    "       FROM BORROWER\n",
    "       GROUP BY BORROWER_ID\n",
    "       HAVING SUM(AGGREGATE_VALUE) > 5000000\n",
    "   )\n",
    "   SELECT B.NAME, B.LEI, BA.Total_Borrowed\n",
    "   FROM BORROWER B\n",
    "   JOIN BorrowedAmounts BA ON B.BORROWER_ID = BA.BORROWER_ID;\n",
    "\n",
    "6. \"List all derivative counterparties along with the number of derivative instruments they are involved in.\"\n",
    "   SQL: \n",
    "   WITH CounterpartyCounts AS (\n",
    "       SELECT DC.DERIVATIVE_COUNTERPARTY_NAME, COUNT(*) AS Instrument_Count\n",
    "       FROM DERIVATIVE_COUNTERPARTY DC\n",
    "       JOIN FUND_REPORTED_HOLDING H ON DC.HOLDING_ID = H.HOLDING_ID\n",
    "       JOIN DEBT_SECURITY D ON H.HOLDING_ID = D.HOLDING_ID\n",
    "       GROUP BY DC.DERIVATIVE_COUNTERPARTY_NAME\n",
    "   )\n",
    "   SELECT DERIVATIVE_COUNTERPARTY_NAME, Instrument_Count\n",
    "   FROM CounterpartyCounts\n",
    "   ORDER BY Instrument_Count DESC;\n",
    "\n",
    "7. \"Compute the average annualized rate for debt securities grouped by coupon type.\"\n",
    "   SQL: \n",
    "   WITH RateAverages AS (\n",
    "       SELECT DS.COUPON_TYPE, AVG(DS.ANNUALIZED_RATE) AS Avg_Annualized_Rate\n",
    "       FROM DEBT_SECURITY DS\n",
    "       WHERE DS.ANNUALIZED_RATE IS NOT NULL\n",
    "       GROUP BY DS.COUPON_TYPE\n",
    "   )\n",
    "   SELECT COUPON_TYPE, Avg_Annualized_Rate\n",
    "   FROM RateAverages\n",
    "   ORDER BY Avg_Annualized_Rate DESC;\n",
    "\n",
    "8. \"Get funds that have experienced a net decrease in assets over the last three reporting periods.\"\n",
    "   SQL: \n",
    "   WITH AssetChanges AS (\n",
    "       SELECT F.ACCESSION_NUMBER, F.SERIES_NAME, S.REPORT_DATE, F.NET_ASSETS,\n",
    "              LAG(F.NET_ASSETS, 1) OVER (PARTITION BY F.SERIES_NAME ORDER BY S.REPORT_DATE) AS Previous_Period_Assets\n",
    "       FROM FUND_REPORTED_INFO F\n",
    "       JOIN SUBMISSION S ON F.ACCESSION_NUMBER = S.ACCESSION_NUMBER\n",
    "   )\n",
    "   SELECT DISTINCT AC.SERIES_NAME\n",
    "   FROM AssetChanges AC\n",
    "   WHERE AC.NET_ASSETS < AC.Previous_Period_Assets\n",
    "     AND AC.Previous_Period_Assets IS NOT NULL;\n",
    "\n",
    "9. \"Identify issuers with more than three different securities holdings, including their names and CUSIPs.\"\n",
    "   SQL: \n",
    "   WITH IssuerHoldings AS (\n",
    "       SELECT H.ISSUER_NAME, H.ISSUER_CUSIP, COUNT(DISTINCT H.HOLDING_ID) AS Holding_Count\n",
    "       FROM FUND_REPORTED_HOLDING H\n",
    "       GROUP BY H.ISSUER_NAME, H.ISSUER_CUSIP\n",
    "       HAVING COUNT(DISTINCT H.HOLDING_ID) > 3\n",
    "   )\n",
    "   SELECT ISSUER_NAME, ISSUER_CUSIP, Holding_Count\n",
    "   FROM IssuerHoldings\n",
    "   ORDER BY Holding_Count DESC;\n",
    "\n",
    "10. \"Calculate the total notional amount of derivatives per currency and identify the top 3 currencies by notional amount.\"\n",
    "    SQL: \n",
    "    WITH NotionalSums AS (\n",
    "        SELECT ODNA.CURRENCY_CODE, SUM(ODNA.NOTIONAL_AMOUNT) AS Total_Notional\n",
    "        FROM OTHER_DERIV_NOTIONAL_AMOUNT ODNA\n",
    "        GROUP BY ODNA.CURRENCY_CODE\n",
    "    )\n",
    "    SELECT CURRENCY_CODE, Total_Notional\n",
    "    FROM NotionalSums\n",
    "    ORDER BY Total_Notional DESC\n",
    "    LIMIT 3;\n",
    "\n",
    "11. \"List funds with liquidation preferences exceeding their net assets.\"\n",
    "    SQL: \n",
    "    WITH FundPreferences AS (\n",
    "        SELECT F.SERIES_NAME, F.LIQUIDATION_PREFERENCE, F.NET_ASSETS\n",
    "        FROM FUND_REPORTED_INFO F\n",
    "    )\n",
    "    SELECT SERIES_NAME, LIQUIDATION_PREFERENCE, NET_ASSETS\n",
    "    FROM FundPreferences\n",
    "    WHERE LIQUIDATION_PREFERENCE > NET_ASSETS;\n",
    "\n",
    "12. \"Find all convertible securities that are contingent and have a conversion ratio above 1.5.\"\n",
    "    SQL: \n",
    "    WITH ConvertibleCTE AS (\n",
    "        SELECT DS.HOLDING_ID, CSC.CONVERSION_RATIO\n",
    "        FROM DEBT_SECURITY DS\n",
    "        JOIN CONVERTIBLE_SECURITY_CURRENCY CSC ON DS.HOLDING_ID = CSC.HOLDING_ID\n",
    "        WHERE DS.IS_CONVTIBLE_CONTINGENT = 'Y' AND CSC.CONVERSION_RATIO > 1.5\n",
    "    )\n",
    "    SELECT HOLDING_ID, CONVERSION_RATIO\n",
    "    FROM ConvertibleCTE;\n",
    "\n",
    "13. \"Analyze the distribution of asset categories within the top 10 largest funds by total assets.\"\n",
    "    SQL: \n",
    "    WITH TopFunds AS (\n",
    "        SELECT SERIES_NAME, ACCESSION_NUMBER\n",
    "        FROM FUND_REPORTED_INFO\n",
    "        ORDER BY TOTAL_ASSETS DESC\n",
    "        LIMIT 10\n",
    "    ),\n",
    "    AssetDistribution AS (\n",
    "        SELECT H.ASSET_CAT, COUNT(*) AS Category_Count\n",
    "        FROM FUND_REPORTED_HOLDING H\n",
    "        JOIN TopFunds T ON H.ACCESSION_NUMBER = T.ACCESSION_NUMBER\n",
    "        GROUP BY H.ASSET_CAT\n",
    "    )\n",
    "    SELECT ASSET_CAT, Category_Count\n",
    "    FROM AssetDistribution\n",
    "    ORDER BY Category_Count DESC;\n",
    "    \n",
    "14. \"Find the top 10 funds with the highest average monthly returns in the past quarter.\"\n",
    "   SQL: \n",
    "   WITH AvgMonthlyReturn AS (\n",
    "       SELECT ACCESSION_NUMBER, \n",
    "              (MONTHLY_TOTAL_RETURN1 + MONTHLY_TOTAL_RETURN2 + MONTHLY_TOTAL_RETURN3) / 3.0 AS Avg_Return\n",
    "       FROM MONTHLY_TOTAL_RETURN\n",
    "   )\n",
    "   SELECT F.SERIES_NAME, A.ACCESSION_NUMBER, A.Avg_Return\n",
    "   FROM AvgMonthlyReturn A\n",
    "   JOIN FUND_REPORTED_INFO F ON A.ACCESSION_NUMBER = F.ACCESSION_NUMBER\n",
    "   ORDER BY A.Avg_Return DESC\n",
    "   LIMIT 10;\n",
    "\n",
    "15. \"Compare the latest net asset values of the top 5 performing funds.\"\n",
    "    SQL: \n",
    "    WITH TopPerformingFunds AS (\n",
    "        SELECT \n",
    "            ACCESSION_NUMBER, \n",
    "            (MONTHLY_TOTAL_RETURN1 + MONTHLY_TOTAL_RETURN2 + MONTHLY_TOTAL_RETURN3) / 3.0 AS Avg_Return\n",
    "        FROM \n",
    "            MONTHLY_TOTAL_RETURN\n",
    "        ORDER BY \n",
    "            Avg_Return DESC\n",
    "        LIMIT 5\n",
    "    )\n",
    "    SELECT \n",
    "        FR.SERIES_NAME, \n",
    "        FR.NET_ASSETS, \n",
    "        TP.Avg_Return\n",
    "    FROM \n",
    "        TopPerformingFunds TP\n",
    "    JOIN \n",
    "        FUND_REPORTED_INFO FR ON TP.ACCESSION_NUMBER = FR.ACCESSION_NUMBER;\n",
    "\n",
    "16. \"Calculate the overall average return across all funds for the most recent month.\"\n",
    "    SQL: \n",
    "    WITH LatestReturns AS (\n",
    "        SELECT \n",
    "            M.ACCESSION_NUMBER, \n",
    "            M.MONTHLY_TOTAL_RETURN1\n",
    "        FROM \n",
    "            MONTHLY_TOTAL_RETURN M\n",
    "        JOIN \n",
    "            SUBMISSION S ON M.ACCESSION_NUMBER = S.ACCESSION_NUMBER\n",
    "        WHERE \n",
    "            S.REPORT_DATE = (SELECT MAX(REPORT_DATE) FROM SUBMISSION)\n",
    "    )\n",
    "    SELECT \n",
    "        AVG(MONTHLY_TOTAL_RETURN1) AS Average_Return\n",
    "    FROM \n",
    "        LatestReturns;\n",
    "\n",
    "17. \"Find the interest rate risk for each fund and identify those with the highest risk scores.\"\n",
    "    SQL: \n",
    "    WITH InterestRiskScores AS (\n",
    "        SELECT \n",
    "            IR.ACCESSION_NUMBER, \n",
    "            -- Calculating composite risk score by summing absolute values of DV01 and DV100 columns\n",
    "            (ABS(CAST(IR.INTRST_RATE_CHANGE_3MON_DV01 AS FLOAT)) +\n",
    "            ABS(CAST(IR.INTRST_RATE_CHANGE_1YR_DV01 AS FLOAT)) +\n",
    "            ABS(CAST(IR.INTRST_RATE_CHANGE_5YR_DV01 AS FLOAT)) +\n",
    "            ABS(CAST(IR.INTRST_RATE_CHANGE_10YR_DV01 AS FLOAT)) +\n",
    "            ABS(CAST(IR.INTRST_RATE_CHANGE_30YR_DV01 AS FLOAT)) +\n",
    "            ABS(CAST(IR.INTRST_RATE_CHANGE_3MON_DV100 AS FLOAT)) +\n",
    "            ABS(CAST(IR.INTRST_RATE_CHANGE_1YR_DV100 AS FLOAT)) +\n",
    "            ABS(CAST(IR.INTRST_RATE_CHANGE_5YR_DV100 AS FLOAT)) +\n",
    "            ABS(CAST(IR.INTRST_RATE_CHANGE_10YR_DV100 AS FLOAT)) +\n",
    "            ABS(CAST(IR.INTRST_RATE_CHANGE_30YR_DV100 AS FLOAT))\n",
    "            ) AS Composite_Risk_Score\n",
    "        FROM \n",
    "            INTEREST_RATE_RISK IR\n",
    "    )\n",
    "    SELECT \n",
    "        FR.SERIES_NAME, \n",
    "        FR.ACCESSION_NUMBER, \n",
    "        IRS.Composite_Risk_Score\n",
    "    FROM \n",
    "        InterestRiskScores IRS\n",
    "    JOIN \n",
    "        FUND_REPORTED_INFO FR ON IRS.ACCESSION_NUMBER = FR.ACCESSION_NUMBER\n",
    "    ORDER BY \n",
    "        IRS.Composite_Risk_Score DESC\n",
    "    LIMIT 5;\n",
    "\n",
    "18. \"Analyze the composition of fund portfolios by categorizing assets and their total values.\"\n",
    "    SQL: \n",
    "    WITH PortfolioComposition AS (\n",
    "    SELECT \n",
    "        ACCESSION_NUMBER, \n",
    "        ASSET_CAT, \n",
    "        SUM(CAST(CURRENCY_VALUE AS FLOAT)) AS Total_Value\n",
    "    FROM \n",
    "        FUND_REPORTED_HOLDING\n",
    "    GROUP BY \n",
    "        ACCESSION_NUMBER, \n",
    "        ASSET_CAT\n",
    "    )\n",
    "    SELECT \n",
    "        F.SERIES_NAME, \n",
    "        PC.ASSET_CAT, \n",
    "        PC.Total_Value\n",
    "    FROM \n",
    "        PortfolioComposition PC\n",
    "    JOIN \n",
    "        FUND_REPORTED_INFO F ON PC.ACCESSION_NUMBER = F.ACCESSION_NUMBER\n",
    "    ORDER BY \n",
    "        F.SERIES_NAME, \n",
    "        PC.Total_Value DESC;\n",
    "\n",
    "19. \"Identify the most common asset categories across all fund portfolios.\"\n",
    "    SQL: \n",
    "    WITH AssetCounts AS (\n",
    "        SELECT ASSET_CAT, COUNT(*) AS Count\n",
    "        FROM FUND_REPORTED_HOLDING\n",
    "        GROUP BY ASSET_CAT\n",
    "    )\n",
    "    SELECT ASSET_CAT, Count\n",
    "    FROM AssetCounts\n",
    "    ORDER BY Count DESC\n",
    "    LIMIT 5;\n",
    "\n",
    "20. \"Retrieve funds that have experienced a net decrease in assets over the last three reporting periods.\"\n",
    "   SQL: \n",
    "   WITH AssetChanges AS (\n",
    "       SELECT F.ACCESSION_NUMBER, F.SERIES_NAME, S.REPORT_DATE, F.NET_ASSETS,\n",
    "              LAG(F.NET_ASSETS, 1) OVER (PARTITION BY F.SERIES_NAME ORDER BY S.REPORT_DATE) AS Previous_Period_Assets\n",
    "       FROM FUND_REPORTED_INFO F\n",
    "       JOIN SUBMISSION S ON F.ACCESSION_NUMBER = S.ACCESSION_NUMBER\n",
    "   )\n",
    "   SELECT DISTINCT AC.SERIES_NAME\n",
    "   FROM AssetChanges AC\n",
    "   WHERE AC.NET_ASSETS < AC.Previous_Period_Assets\n",
    "     AND AC.Previous_Period_Assets IS NOT NULL;\"\"\"\n",
    "\n"
   ]
  },
  {
   "cell_type": "code",
   "execution_count": 10,
   "metadata": {},
   "outputs": [],
   "source": [
    "pattern = r'\"\\s*(.*?)\\s*\"\\s*SQL:\\s*(WITH.*?;)(?=\\n\\s*\\d+|$)'\n",
    "matches = re.findall(pattern, text, re.DOTALL)\n"
   ]
  },
  {
   "cell_type": "code",
   "execution_count": 11,
   "metadata": {},
   "outputs": [
    {
     "name": "stdout",
     "output_type": "stream",
     "text": [
      "Queries: ['WITH FundAssets AS (\\n       SELECT R.CIK, R.REGISTRANT_NAME, R.COUNTRY, F.NET_ASSETS\\n       FROM REGISTRANT R\\n       JOIN FUND_REPORTED_INFO F ON R.ACCESSION_NUMBER = F.ACCESSION_NUMBER\\n   )\\n   SELECT CIK, REGISTRANT_NAME, COUNTRY, NET_ASSETS\\n   FROM FundAssets\\n   ORDER BY NET_ASSETS DESC\\n   LIMIT 5;', \"WITH HoldingsCTE AS (\\n       SELECT H.HOLDING_ID, H.ISSUER_NAME, H.FAIR_VALUE_LEVEL, F.SERIES_NAME\\n       FROM FUND_REPORTED_HOLDING H\\n       JOIN FUND_REPORTED_INFO F ON H.ACCESSION_NUMBER = F.ACCESSION_NUMBER\\n       WHERE H.FAIR_VALUE_LEVEL = 'Level 1'\\n   )\\n   SELECT HOLDING_ID, ISSUER_NAME, SERIES_NAME\\n   FROM HoldingsCTE;\", 'WITH CollateralCTE AS (\\n    SELECT RCP.NAME AS Counterparty_Name, SUM(RC.COLLATERAL_AMOUNT) AS Total_Collateral\\n    FROM REPURCHASE_COLLATERAL RC\\n    JOIN REPURCHASE_COUNTERPARTY RCP ON RC.HOLDING_ID = RCP.HOLDING_ID\\n    GROUP BY RCP.NAME\\n   )\\n   SELECT Counterparty_Name, Total_Collateral\\n   FROM CollateralCTE\\n   ORDER BY Total_Collateral DESC;', \"WITH SecuritiesLending AS (\\n       SELECT ACCESSION_NUMBER\\n       FROM SECURITIES_LENDING\\n       WHERE IS_LOAN_BY_FUND = 'Y'\\n   ),\\n   RepurchaseAgreements AS (\\n       SELECT ACCESSION_NUMBER\\n       FROM REPURCHASE_AGREEMENT\\n   )\\n   SELECT F.SERIES_NAME\\n   FROM FUND_REPORTED_INFO F\\n   WHERE F.ACCESSION_NUMBER IN (SELECT ACCESSION_NUMBER FROM SecuritiesLending)\\n     AND F.ACCESSION_NUMBER IN (SELECT ACCESSION_NUMBER FROM RepurchaseAgreements);\", 'WITH BorrowedAmounts AS (\\n       SELECT BORROWER_ID, SUM(AGGREGATE_VALUE) AS Total_Borrowed\\n       FROM BORROWER\\n       GROUP BY BORROWER_ID\\n       HAVING SUM(AGGREGATE_VALUE) > 5000000\\n   )\\n   SELECT B.NAME, B.LEI, BA.Total_Borrowed\\n   FROM BORROWER B\\n   JOIN BorrowedAmounts BA ON B.BORROWER_ID = BA.BORROWER_ID;', 'WITH CounterpartyCounts AS (\\n       SELECT DC.DERIVATIVE_COUNTERPARTY_NAME, COUNT(*) AS Instrument_Count\\n       FROM DERIVATIVE_COUNTERPARTY DC\\n       JOIN FUND_REPORTED_HOLDING H ON DC.HOLDING_ID = H.HOLDING_ID\\n       JOIN DEBT_SECURITY D ON H.HOLDING_ID = D.HOLDING_ID\\n       GROUP BY DC.DERIVATIVE_COUNTERPARTY_NAME\\n   )\\n   SELECT DERIVATIVE_COUNTERPARTY_NAME, Instrument_Count\\n   FROM CounterpartyCounts\\n   ORDER BY Instrument_Count DESC;', 'WITH RateAverages AS (\\n       SELECT DS.COUPON_TYPE, AVG(DS.ANNUALIZED_RATE) AS Avg_Annualized_Rate\\n       FROM DEBT_SECURITY DS\\n       WHERE DS.ANNUALIZED_RATE IS NOT NULL\\n       GROUP BY DS.COUPON_TYPE\\n   )\\n   SELECT COUPON_TYPE, Avg_Annualized_Rate\\n   FROM RateAverages\\n   ORDER BY Avg_Annualized_Rate DESC;', 'WITH AssetChanges AS (\\n       SELECT F.ACCESSION_NUMBER, F.SERIES_NAME, S.REPORT_DATE, F.NET_ASSETS,\\n              LAG(F.NET_ASSETS, 1) OVER (PARTITION BY F.SERIES_NAME ORDER BY S.REPORT_DATE) AS Previous_Period_Assets\\n       FROM FUND_REPORTED_INFO F\\n       JOIN SUBMISSION S ON F.ACCESSION_NUMBER = S.ACCESSION_NUMBER\\n   )\\n   SELECT DISTINCT AC.SERIES_NAME\\n   FROM AssetChanges AC\\n   WHERE AC.NET_ASSETS < AC.Previous_Period_Assets\\n     AND AC.Previous_Period_Assets IS NOT NULL;', 'WITH IssuerHoldings AS (\\n       SELECT H.ISSUER_NAME, H.ISSUER_CUSIP, COUNT(DISTINCT H.HOLDING_ID) AS Holding_Count\\n       FROM FUND_REPORTED_HOLDING H\\n       GROUP BY H.ISSUER_NAME, H.ISSUER_CUSIP\\n       HAVING COUNT(DISTINCT H.HOLDING_ID) > 3\\n   )\\n   SELECT ISSUER_NAME, ISSUER_CUSIP, Holding_Count\\n   FROM IssuerHoldings\\n   ORDER BY Holding_Count DESC;', 'WITH NotionalSums AS (\\n        SELECT ODNA.CURRENCY_CODE, SUM(ODNA.NOTIONAL_AMOUNT) AS Total_Notional\\n        FROM OTHER_DERIV_NOTIONAL_AMOUNT ODNA\\n        GROUP BY ODNA.CURRENCY_CODE\\n    )\\n    SELECT CURRENCY_CODE, Total_Notional\\n    FROM NotionalSums\\n    ORDER BY Total_Notional DESC\\n    LIMIT 3;', 'WITH FundPreferences AS (\\n        SELECT F.SERIES_NAME, F.LIQUIDATION_PREFERENCE, F.NET_ASSETS\\n        FROM FUND_REPORTED_INFO F\\n    )\\n    SELECT SERIES_NAME, LIQUIDATION_PREFERENCE, NET_ASSETS\\n    FROM FundPreferences\\n    WHERE LIQUIDATION_PREFERENCE > NET_ASSETS;', \"WITH ConvertibleCTE AS (\\n        SELECT DS.HOLDING_ID, CSC.CONVERSION_RATIO\\n        FROM DEBT_SECURITY DS\\n        JOIN CONVERTIBLE_SECURITY_CURRENCY CSC ON DS.HOLDING_ID = CSC.HOLDING_ID\\n        WHERE DS.IS_CONVTIBLE_CONTINGENT = 'Y' AND CSC.CONVERSION_RATIO > 1.5\\n    )\\n    SELECT HOLDING_ID, CONVERSION_RATIO\\n    FROM ConvertibleCTE;\", 'WITH TopFunds AS (\\n        SELECT SERIES_NAME, ACCESSION_NUMBER\\n        FROM FUND_REPORTED_INFO\\n        ORDER BY TOTAL_ASSETS DESC\\n        LIMIT 10\\n    ),\\n    AssetDistribution AS (\\n        SELECT H.ASSET_CAT, COUNT(*) AS Category_Count\\n        FROM FUND_REPORTED_HOLDING H\\n        JOIN TopFunds T ON H.ACCESSION_NUMBER = T.ACCESSION_NUMBER\\n        GROUP BY H.ASSET_CAT\\n    )\\n    SELECT ASSET_CAT, Category_Count\\n    FROM AssetDistribution\\n    ORDER BY Category_Count DESC;', 'WITH AvgMonthlyReturn AS (\\n       SELECT ACCESSION_NUMBER, \\n              (MONTHLY_TOTAL_RETURN1 + MONTHLY_TOTAL_RETURN2 + MONTHLY_TOTAL_RETURN3) / 3.0 AS Avg_Return\\n       FROM MONTHLY_TOTAL_RETURN\\n   )\\n   SELECT F.SERIES_NAME, A.ACCESSION_NUMBER, A.Avg_Return\\n   FROM AvgMonthlyReturn A\\n   JOIN FUND_REPORTED_INFO F ON A.ACCESSION_NUMBER = F.ACCESSION_NUMBER\\n   ORDER BY A.Avg_Return DESC\\n   LIMIT 10;', 'WITH TopPerformingFunds AS (\\n        SELECT \\n            ACCESSION_NUMBER, \\n            (MONTHLY_TOTAL_RETURN1 + MONTHLY_TOTAL_RETURN2 + MONTHLY_TOTAL_RETURN3) / 3.0 AS Avg_Return\\n        FROM \\n            MONTHLY_TOTAL_RETURN\\n        ORDER BY \\n            Avg_Return DESC\\n        LIMIT 5\\n    )\\n    SELECT \\n        FR.SERIES_NAME, \\n        FR.NET_ASSETS, \\n        TP.Avg_Return\\n    FROM \\n        TopPerformingFunds TP\\n    JOIN \\n        FUND_REPORTED_INFO FR ON TP.ACCESSION_NUMBER = FR.ACCESSION_NUMBER;', 'WITH LatestReturns AS (\\n        SELECT \\n            M.ACCESSION_NUMBER, \\n            M.MONTHLY_TOTAL_RETURN1\\n        FROM \\n            MONTHLY_TOTAL_RETURN M\\n        JOIN \\n            SUBMISSION S ON M.ACCESSION_NUMBER = S.ACCESSION_NUMBER\\n        WHERE \\n            S.REPORT_DATE = (SELECT MAX(REPORT_DATE) FROM SUBMISSION)\\n    )\\n    SELECT \\n        AVG(MONTHLY_TOTAL_RETURN1) AS Average_Return\\n    FROM \\n        LatestReturns;', 'WITH InterestRiskScores AS (\\n        SELECT \\n            IR.ACCESSION_NUMBER, \\n            -- Calculating composite risk score by summing absolute values of DV01 and DV100 columns\\n            (ABS(CAST(IR.INTRST_RATE_CHANGE_3MON_DV01 AS FLOAT)) +\\n            ABS(CAST(IR.INTRST_RATE_CHANGE_1YR_DV01 AS FLOAT)) +\\n            ABS(CAST(IR.INTRST_RATE_CHANGE_5YR_DV01 AS FLOAT)) +\\n            ABS(CAST(IR.INTRST_RATE_CHANGE_10YR_DV01 AS FLOAT)) +\\n            ABS(CAST(IR.INTRST_RATE_CHANGE_30YR_DV01 AS FLOAT)) +\\n            ABS(CAST(IR.INTRST_RATE_CHANGE_3MON_DV100 AS FLOAT)) +\\n            ABS(CAST(IR.INTRST_RATE_CHANGE_1YR_DV100 AS FLOAT)) +\\n            ABS(CAST(IR.INTRST_RATE_CHANGE_5YR_DV100 AS FLOAT)) +\\n            ABS(CAST(IR.INTRST_RATE_CHANGE_10YR_DV100 AS FLOAT)) +\\n            ABS(CAST(IR.INTRST_RATE_CHANGE_30YR_DV100 AS FLOAT))\\n            ) AS Composite_Risk_Score\\n        FROM \\n            INTEREST_RATE_RISK IR\\n    )\\n    SELECT \\n        FR.SERIES_NAME, \\n        FR.ACCESSION_NUMBER, \\n        IRS.Composite_Risk_Score\\n    FROM \\n        InterestRiskScores IRS\\n    JOIN \\n        FUND_REPORTED_INFO FR ON IRS.ACCESSION_NUMBER = FR.ACCESSION_NUMBER\\n    ORDER BY \\n        IRS.Composite_Risk_Score DESC\\n    LIMIT 5;', 'WITH PortfolioComposition AS (\\n    SELECT \\n        ACCESSION_NUMBER, \\n        ASSET_CAT, \\n        SUM(CAST(CURRENCY_VALUE AS FLOAT)) AS Total_Value\\n    FROM \\n        FUND_REPORTED_HOLDING\\n    GROUP BY \\n        ACCESSION_NUMBER, \\n        ASSET_CAT\\n    )\\n    SELECT \\n        F.SERIES_NAME, \\n        PC.ASSET_CAT, \\n        PC.Total_Value\\n    FROM \\n        PortfolioComposition PC\\n    JOIN \\n        FUND_REPORTED_INFO F ON PC.ACCESSION_NUMBER = F.ACCESSION_NUMBER\\n    ORDER BY \\n        F.SERIES_NAME, \\n        PC.Total_Value DESC;', 'WITH AssetCounts AS (\\n        SELECT ASSET_CAT, COUNT(*) AS Count\\n        FROM FUND_REPORTED_HOLDING\\n        GROUP BY ASSET_CAT\\n    )\\n    SELECT ASSET_CAT, Count\\n    FROM AssetCounts\\n    ORDER BY Count DESC\\n    LIMIT 5;', 'WITH AssetChanges AS (\\n       SELECT F.ACCESSION_NUMBER, F.SERIES_NAME, S.REPORT_DATE, F.NET_ASSETS,\\n              LAG(F.NET_ASSETS, 1) OVER (PARTITION BY F.SERIES_NAME ORDER BY S.REPORT_DATE) AS Previous_Period_Assets\\n       FROM FUND_REPORTED_INFO F\\n       JOIN SUBMISSION S ON F.ACCESSION_NUMBER = S.ACCESSION_NUMBER\\n   )\\n   SELECT DISTINCT AC.SERIES_NAME\\n   FROM AssetChanges AC\\n   WHERE AC.NET_ASSETS < AC.Previous_Period_Assets\\n     AND AC.Previous_Period_Assets IS NOT NULL;']\n",
      "SQL Statements: ['List the top 5 registrants by total net assets, including their CIK and country.', 'Find all holdings with a fair value level of Level 1 and their corresponding fund names.', 'Calculate the total collateral amount for repurchase agreements grouped by counterparty.', 'Locate funds that have both securities lending activities and repurchase agreements.', 'Find borrowers who have borrowed more than $5,000,000, including their names and LEIs.', 'List all derivative counterparties along with the number of derivative instruments they are involved in.', 'Compute the average annualized rate for debt securities grouped by coupon type.', 'Get funds that have experienced a net decrease in assets over the last three reporting periods.', 'Identify issuers with more than three different securities holdings, including their names and CUSIPs.', 'Calculate the total notional amount of derivatives per currency and identify the top 3 currencies by notional amount.', 'List funds with liquidation preferences exceeding their net assets.', 'Find all convertible securities that are contingent and have a conversion ratio above 1.5.', 'Analyze the distribution of asset categories within the top 10 largest funds by total assets.', 'Find the top 10 funds with the highest average monthly returns in the past quarter.', 'Compare the latest net asset values of the top 5 performing funds.', 'Calculate the overall average return across all funds for the most recent month.', 'Find the interest rate risk for each fund and identify those with the highest risk scores.', 'Analyze the composition of fund portfolios by categorizing assets and their total values.', 'Identify the most common asset categories across all fund portfolios.', 'Retrieve funds that have experienced a net decrease in assets over the last three reporting periods.']\n"
     ]
    }
   ],
   "source": [
    "ground_truth_query = [match[1] for match in matches]\n",
    "llm_query = [match[0] for match in matches]\n",
    "print(\"Queries:\", ground_truth_query)\n",
    "print(\"SQL Statements:\", llm_query)"
   ]
  },
  {
   "cell_type": "code",
   "execution_count": 12,
   "metadata": {},
   "outputs": [
    {
     "name": "stdout",
     "output_type": "stream",
     "text": [
      "20\n",
      "20\n",
      "Are the following queries the same?\n",
      "i =  0\n"
     ]
    }
   ],
   "source": [
    "results = []\n",
    "while len(results) < 20:\n",
    "    results.append(None)\n",
    "print(len(results))\n",
    "print(len(llm_query))\n",
    "\n",
    "print(\"Are the following queries the same?\")\n",
    "i=0\n",
    "print(\"i = \", i)\n"
   ]
  },
  {
   "cell_type": "code",
   "execution_count": 13,
   "metadata": {},
   "outputs": [],
   "source": [
    "#for i in range(len(llm_query)):\n",
    "    #results[i]=(str(i)+'. '+ str(compare_csv.compare_csv(ground_truth_query[i],llm_query[i])))"
   ]
  },
  {
   "cell_type": "code",
   "execution_count": 14,
   "metadata": {},
   "outputs": [
    {
     "name": "stderr",
     "output_type": "stream",
     "text": [
      "2024-11-05 10:57:16,390 - compare_csv - INFO - Executing LLM query\n",
      "2024-11-05 10:57:16,393 - urllib3.connectionpool - DEBUG - Starting new HTTP connection (1): localhost:8000\n",
      "2024-11-05 10:57:20,129 - urllib3.connectionpool - DEBUG - http://localhost:8000 \"POST /query HTTP/11\" 200 721\n",
      "2024-11-05 10:57:20,130 - compare_csv - INFO - Executing grouth truth query...\n",
      "2024-11-05 10:57:20,130 - chatgpt_api.api - DEBUG - Executing SQL query: WITH FundAssets AS (\n",
      "       SELECT R.CIK, R.REGISTRANT_NAME, R.COUNTRY, F.NET_ASSETS\n",
      "       FROM REGISTRANT R\n",
      "       JOIN FUND_REPORTED_INFO F ON R.ACCESSION_NUMBER = F.ACCESSION_NUMBER\n",
      "   )\n",
      "   SELECT CIK, REGISTRANT_NAME, COUNTRY, NET_ASSETS\n",
      "   FROM FundAssets\n",
      "   ORDER BY NET_ASSETS DESC\n",
      "   LIMIT 5;\n",
      "2024-11-05 10:57:20,143 - chatgpt_api.api - INFO - SQL query executed successfully\n"
     ]
    },
    {
     "name": "stdout",
     "output_type": "stream",
     "text": [
      "CSV outputs match perfectly.\n",
      "i =  1\n"
     ]
    }
   ],
   "source": [
    "if i<len(llm_query):\n",
    "    results[i]=(str(i)+'. '+ str(compare_csv.compare_csv(ground_truth_query[i],llm_query[i])))\n",
    "i+=1 #1\n",
    "print(\"i = \", i)\n"
   ]
  },
  {
   "cell_type": "code",
   "execution_count": 15,
   "metadata": {},
   "outputs": [
    {
     "name": "stderr",
     "output_type": "stream",
     "text": [
      "2024-11-05 10:57:20,152 - compare_csv - INFO - Executing LLM query\n",
      "2024-11-05 10:57:20,154 - urllib3.connectionpool - DEBUG - Starting new HTTP connection (1): localhost:8000\n",
      "2024-11-05 10:57:23,384 - urllib3.connectionpool - DEBUG - http://localhost:8000 \"POST /query HTTP/11\" 200 307\n",
      "2024-11-05 10:57:23,385 - compare_csv - INFO - Executing grouth truth query...\n",
      "2024-11-05 10:57:23,385 - chatgpt_api.api - DEBUG - Executing SQL query: WITH HoldingsCTE AS (\n",
      "       SELECT H.HOLDING_ID, H.ISSUER_NAME, H.FAIR_VALUE_LEVEL, F.SERIES_NAME\n",
      "       FROM FUND_REPORTED_HOLDING H\n",
      "       JOIN FUND_REPORTED_INFO F ON H.ACCESSION_NUMBER = F.ACCESSION_NUMBER\n",
      "       WHERE H.FAIR_VALUE_LEVEL = 'Level 1'\n",
      "   )\n",
      "   SELECT HOLDING_ID, ISSUER_NAME, SERIES_NAME\n",
      "   FROM HoldingsCTE;\n",
      "2024-11-05 10:57:23,390 - chatgpt_api.api - INFO - SQL query executed successfully\n"
     ]
    },
    {
     "name": "stdout",
     "output_type": "stream",
     "text": [
      "Mismatch found.\n",
      "i =  2\n"
     ]
    }
   ],
   "source": [
    "if i<len(llm_query):\n",
    "    results[i]=(str(i)+'. '+ str(compare_csv.compare_csv(ground_truth_query[i],llm_query[i])))\n",
    "i+=1 #2\n",
    "print(\"i = \", i)\n"
   ]
  },
  {
   "cell_type": "code",
   "execution_count": 16,
   "metadata": {},
   "outputs": [
    {
     "name": "stderr",
     "output_type": "stream",
     "text": [
      "2024-11-05 10:57:23,404 - compare_csv - INFO - Executing LLM query\n",
      "2024-11-05 10:57:23,407 - urllib3.connectionpool - DEBUG - Starting new HTTP connection (1): localhost:8000\n",
      "2024-11-05 10:57:27,211 - urllib3.connectionpool - DEBUG - http://localhost:8000 \"POST /query HTTP/11\" 200 588\n",
      "2024-11-05 10:57:27,212 - compare_csv - INFO - Executing grouth truth query...\n",
      "2024-11-05 10:57:27,212 - chatgpt_api.api - DEBUG - Executing SQL query: WITH CollateralCTE AS (\n",
      "    SELECT RCP.NAME AS Counterparty_Name, SUM(RC.COLLATERAL_AMOUNT) AS Total_Collateral\n",
      "    FROM REPURCHASE_COLLATERAL RC\n",
      "    JOIN REPURCHASE_COUNTERPARTY RCP ON RC.HOLDING_ID = RCP.HOLDING_ID\n",
      "    GROUP BY RCP.NAME\n",
      "   )\n",
      "   SELECT Counterparty_Name, Total_Collateral\n",
      "   FROM CollateralCTE\n",
      "   ORDER BY Total_Collateral DESC;\n",
      "2024-11-05 10:57:27,213 - chatgpt_api.api - INFO - SQL query executed successfully\n"
     ]
    },
    {
     "name": "stdout",
     "output_type": "stream",
     "text": [
      "CSV outputs match perfectly.\n",
      "i =  3\n"
     ]
    }
   ],
   "source": [
    "if i<len(llm_query):\n",
    "    results[i]=(str(i)+'. '+ str(compare_csv.compare_csv(ground_truth_query[i],llm_query[i])))\n",
    "i+=1 #3\n",
    "print(\"i = \", i)"
   ]
  },
  {
   "cell_type": "code",
   "execution_count": 17,
   "metadata": {},
   "outputs": [
    {
     "name": "stderr",
     "output_type": "stream",
     "text": [
      "2024-11-05 10:57:27,221 - compare_csv - INFO - Executing LLM query\n",
      "2024-11-05 10:57:27,223 - urllib3.connectionpool - DEBUG - Starting new HTTP connection (1): localhost:8000\n",
      "2024-11-05 10:57:32,560 - urllib3.connectionpool - DEBUG - http://localhost:8000 \"POST /query HTTP/11\" 200 109526\n",
      "2024-11-05 10:57:32,562 - compare_csv - INFO - Executing grouth truth query...\n",
      "2024-11-05 10:57:32,562 - chatgpt_api.api - DEBUG - Executing SQL query: WITH SecuritiesLending AS (\n",
      "       SELECT ACCESSION_NUMBER\n",
      "       FROM SECURITIES_LENDING\n",
      "       WHERE IS_LOAN_BY_FUND = 'Y'\n",
      "   ),\n",
      "   RepurchaseAgreements AS (\n",
      "       SELECT ACCESSION_NUMBER\n",
      "       FROM REPURCHASE_AGREEMENT\n",
      "   )\n",
      "   SELECT F.SERIES_NAME\n",
      "   FROM FUND_REPORTED_INFO F\n",
      "   WHERE F.ACCESSION_NUMBER IN (SELECT ACCESSION_NUMBER FROM SecuritiesLending)\n",
      "     AND F.ACCESSION_NUMBER IN (SELECT ACCESSION_NUMBER FROM RepurchaseAgreements);\n",
      "2024-11-05 10:57:34,399 - chatgpt_api.api - INFO - SQL query executed successfully\n"
     ]
    },
    {
     "name": "stdout",
     "output_type": "stream",
     "text": [
      "CSV outputs match perfectly.\n",
      "i =  4\n"
     ]
    }
   ],
   "source": [
    "if i<len(llm_query):\n",
    "    results[i]=(str(i)+'. '+ str(compare_csv.compare_csv(ground_truth_query[i],llm_query[i])))\n",
    "i+=1 #4\n",
    "print(\"i = \", i)"
   ]
  },
  {
   "cell_type": "code",
   "execution_count": 18,
   "metadata": {},
   "outputs": [
    {
     "name": "stderr",
     "output_type": "stream",
     "text": [
      "2024-11-05 10:57:34,411 - compare_csv - INFO - Executing LLM query\n",
      "2024-11-05 10:57:34,414 - urllib3.connectionpool - DEBUG - Starting new HTTP connection (1): localhost:8000\n",
      "2024-11-05 10:57:40,002 - urllib3.connectionpool - DEBUG - http://localhost:8000 \"POST /query HTTP/11\" 200 168711\n",
      "2024-11-05 10:57:40,004 - compare_csv - INFO - Executing grouth truth query...\n",
      "2024-11-05 10:57:40,004 - chatgpt_api.api - DEBUG - Executing SQL query: WITH BorrowedAmounts AS (\n",
      "       SELECT BORROWER_ID, SUM(AGGREGATE_VALUE) AS Total_Borrowed\n",
      "       FROM BORROWER\n",
      "       GROUP BY BORROWER_ID\n",
      "       HAVING SUM(AGGREGATE_VALUE) > 5000000\n",
      "   )\n",
      "   SELECT B.NAME, B.LEI, BA.Total_Borrowed\n",
      "   FROM BORROWER B\n",
      "   JOIN BorrowedAmounts BA ON B.BORROWER_ID = BA.BORROWER_ID;\n",
      "2024-11-05 10:57:40,045 - chatgpt_api.api - INFO - SQL query executed successfully\n"
     ]
    },
    {
     "name": "stdout",
     "output_type": "stream",
     "text": [
      "CSV outputs match perfectly.\n",
      "i =  5\n"
     ]
    }
   ],
   "source": [
    "if i<len(llm_query):\n",
    "    results[i]=(str(i)+'. '+ str(compare_csv.compare_csv(ground_truth_query[i],llm_query[i])))\n",
    "i+=1 #5\n",
    "print(\"i = \", i)"
   ]
  },
  {
   "cell_type": "code",
   "execution_count": 19,
   "metadata": {},
   "outputs": [
    {
     "name": "stderr",
     "output_type": "stream",
     "text": [
      "2024-11-05 10:57:40,059 - compare_csv - INFO - Executing LLM query\n",
      "2024-11-05 10:57:40,062 - urllib3.connectionpool - DEBUG - Starting new HTTP connection (1): localhost:8000\n",
      "2024-11-05 10:57:44,666 - urllib3.connectionpool - DEBUG - http://localhost:8000 \"POST /query HTTP/11\" 200 2511\n",
      "2024-11-05 10:57:44,667 - compare_csv - INFO - Executing grouth truth query...\n",
      "2024-11-05 10:57:44,667 - chatgpt_api.api - DEBUG - Executing SQL query: WITH CounterpartyCounts AS (\n",
      "       SELECT DC.DERIVATIVE_COUNTERPARTY_NAME, COUNT(*) AS Instrument_Count\n",
      "       FROM DERIVATIVE_COUNTERPARTY DC\n",
      "       JOIN FUND_REPORTED_HOLDING H ON DC.HOLDING_ID = H.HOLDING_ID\n",
      "       JOIN DEBT_SECURITY D ON H.HOLDING_ID = D.HOLDING_ID\n",
      "       GROUP BY DC.DERIVATIVE_COUNTERPARTY_NAME\n",
      "   )\n",
      "   SELECT DERIVATIVE_COUNTERPARTY_NAME, Instrument_Count\n",
      "   FROM CounterpartyCounts\n",
      "   ORDER BY Instrument_Count DESC;\n",
      "2024-11-05 10:57:44,681 - chatgpt_api.api - INFO - SQL query executed successfully\n"
     ]
    },
    {
     "name": "stdout",
     "output_type": "stream",
     "text": [
      "Mismatch found.\n",
      "i =  6\n"
     ]
    }
   ],
   "source": [
    "if i<len(llm_query):\n",
    "    results[i]=(str(i)+'. '+ str(compare_csv.compare_csv(ground_truth_query[i],llm_query[i])))\n",
    "i+=1 #6\n",
    "print(\"i = \", i)"
   ]
  },
  {
   "cell_type": "code",
   "execution_count": 20,
   "metadata": {},
   "outputs": [
    {
     "name": "stderr",
     "output_type": "stream",
     "text": [
      "2024-11-05 10:57:44,690 - compare_csv - INFO - Executing LLM query\n",
      "2024-11-05 10:57:44,691 - urllib3.connectionpool - DEBUG - Starting new HTTP connection (1): localhost:8000\n",
      "2024-11-05 10:57:49,158 - urllib3.connectionpool - DEBUG - http://localhost:8000 \"POST /query HTTP/11\" 200 553\n",
      "2024-11-05 10:57:49,159 - compare_csv - INFO - Executing grouth truth query...\n",
      "2024-11-05 10:57:49,159 - chatgpt_api.api - DEBUG - Executing SQL query: WITH RateAverages AS (\n",
      "       SELECT DS.COUPON_TYPE, AVG(DS.ANNUALIZED_RATE) AS Avg_Annualized_Rate\n",
      "       FROM DEBT_SECURITY DS\n",
      "       WHERE DS.ANNUALIZED_RATE IS NOT NULL\n",
      "       GROUP BY DS.COUPON_TYPE\n",
      "   )\n",
      "   SELECT COUPON_TYPE, Avg_Annualized_Rate\n",
      "   FROM RateAverages\n",
      "   ORDER BY Avg_Annualized_Rate DESC;\n",
      "2024-11-05 10:57:49,163 - chatgpt_api.api - INFO - SQL query executed successfully\n"
     ]
    },
    {
     "name": "stdout",
     "output_type": "stream",
     "text": [
      "CSV outputs match perfectly.\n",
      "i =  7\n"
     ]
    }
   ],
   "source": [
    "if i<len(llm_query):\n",
    "    results[i]=(str(i)+'. '+ str(compare_csv.compare_csv(ground_truth_query[i],llm_query[i])))\n",
    "i+=1 #7\n",
    "print(\"i = \", i)"
   ]
  },
  {
   "cell_type": "code",
   "execution_count": 21,
   "metadata": {},
   "outputs": [
    {
     "name": "stderr",
     "output_type": "stream",
     "text": [
      "2024-11-05 10:57:49,172 - compare_csv - INFO - Executing LLM query\n",
      "2024-11-05 10:57:49,175 - urllib3.connectionpool - DEBUG - Starting new HTTP connection (1): localhost:8000\n",
      "2024-11-05 10:58:01,823 - urllib3.connectionpool - DEBUG - http://localhost:8000 \"POST /query HTTP/11\" 200 1069\n",
      "2024-11-05 10:58:01,823 - compare_csv - INFO - Executing grouth truth query...\n",
      "2024-11-05 10:58:01,824 - chatgpt_api.api - DEBUG - Executing SQL query: WITH AssetChanges AS (\n",
      "       SELECT F.ACCESSION_NUMBER, F.SERIES_NAME, S.REPORT_DATE, F.NET_ASSETS,\n",
      "              LAG(F.NET_ASSETS, 1) OVER (PARTITION BY F.SERIES_NAME ORDER BY S.REPORT_DATE) AS Previous_Period_Assets\n",
      "       FROM FUND_REPORTED_INFO F\n",
      "       JOIN SUBMISSION S ON F.ACCESSION_NUMBER = S.ACCESSION_NUMBER\n",
      "   )\n",
      "   SELECT DISTINCT AC.SERIES_NAME\n",
      "   FROM AssetChanges AC\n",
      "   WHERE AC.NET_ASSETS < AC.Previous_Period_Assets\n",
      "     AND AC.Previous_Period_Assets IS NOT NULL;\n",
      "2024-11-05 10:58:01,841 - chatgpt_api.api - INFO - SQL query executed successfully\n"
     ]
    },
    {
     "name": "stdout",
     "output_type": "stream",
     "text": [
      "CSV outputs match perfectly.\n",
      "i =  8\n"
     ]
    }
   ],
   "source": [
    "if i<len(llm_query):\n",
    "    results[i]=(str(i)+'. '+ str(compare_csv.compare_csv(ground_truth_query[i],llm_query[i])))\n",
    "i+=1 #8\n",
    "print(\"i = \", i)"
   ]
  },
  {
   "cell_type": "code",
   "execution_count": 22,
   "metadata": {},
   "outputs": [
    {
     "name": "stderr",
     "output_type": "stream",
     "text": [
      "2024-11-05 10:58:01,852 - compare_csv - INFO - Executing LLM query\n",
      "2024-11-05 10:58:01,854 - urllib3.connectionpool - DEBUG - Starting new HTTP connection (1): localhost:8000\n",
      "2024-11-05 10:58:14,565 - urllib3.connectionpool - DEBUG - http://localhost:8000 \"POST /query HTTP/11\" 200 13077\n",
      "2024-11-05 10:58:14,566 - compare_csv - INFO - Executing grouth truth query...\n",
      "2024-11-05 10:58:14,567 - chatgpt_api.api - DEBUG - Executing SQL query: WITH IssuerHoldings AS (\n",
      "       SELECT H.ISSUER_NAME, H.ISSUER_CUSIP, COUNT(DISTINCT H.HOLDING_ID) AS Holding_Count\n",
      "       FROM FUND_REPORTED_HOLDING H\n",
      "       GROUP BY H.ISSUER_NAME, H.ISSUER_CUSIP\n",
      "       HAVING COUNT(DISTINCT H.HOLDING_ID) > 3\n",
      "   )\n",
      "   SELECT ISSUER_NAME, ISSUER_CUSIP, Holding_Count\n",
      "   FROM IssuerHoldings\n",
      "   ORDER BY Holding_Count DESC;\n",
      "2024-11-05 10:58:14,578 - chatgpt_api.api - INFO - SQL query executed successfully\n"
     ]
    },
    {
     "name": "stdout",
     "output_type": "stream",
     "text": [
      "CSV outputs match perfectly.\n",
      "i =  9\n"
     ]
    }
   ],
   "source": [
    "if i<len(llm_query):\n",
    "    results[i]=(str(i)+'. '+ str(compare_csv.compare_csv(ground_truth_query[i],llm_query[i])))\n",
    "i+=1 #9\n",
    "print(\"i = \", i)"
   ]
  },
  {
   "cell_type": "code",
   "execution_count": 23,
   "metadata": {},
   "outputs": [
    {
     "name": "stderr",
     "output_type": "stream",
     "text": [
      "2024-11-05 10:58:14,587 - compare_csv - INFO - Executing LLM query\n",
      "2024-11-05 10:58:14,589 - urllib3.connectionpool - DEBUG - Starting new HTTP connection (1): localhost:8000\n",
      "2024-11-05 10:58:26,627 - urllib3.connectionpool - DEBUG - http://localhost:8000 \"POST /query HTTP/11\" 200 403\n",
      "2024-11-05 10:58:26,628 - compare_csv - INFO - Executing grouth truth query...\n",
      "2024-11-05 10:58:26,628 - chatgpt_api.api - DEBUG - Executing SQL query: WITH NotionalSums AS (\n",
      "        SELECT ODNA.CURRENCY_CODE, SUM(ODNA.NOTIONAL_AMOUNT) AS Total_Notional\n",
      "        FROM OTHER_DERIV_NOTIONAL_AMOUNT ODNA\n",
      "        GROUP BY ODNA.CURRENCY_CODE\n",
      "    )\n",
      "    SELECT CURRENCY_CODE, Total_Notional\n",
      "    FROM NotionalSums\n",
      "    ORDER BY Total_Notional DESC\n",
      "    LIMIT 3;\n",
      "2024-11-05 10:58:26,629 - chatgpt_api.api - INFO - SQL query executed successfully\n"
     ]
    },
    {
     "name": "stdout",
     "output_type": "stream",
     "text": [
      "CSV outputs match perfectly.\n",
      "i =  10\n"
     ]
    }
   ],
   "source": [
    "if i<len(llm_query):\n",
    "    results[i]=(str(i)+'. '+ str(compare_csv.compare_csv(ground_truth_query[i],llm_query[i])))\n",
    "i+=1 #10\n",
    "print(\"i = \", i)"
   ]
  },
  {
   "cell_type": "code",
   "execution_count": 24,
   "metadata": {},
   "outputs": [
    {
     "name": "stderr",
     "output_type": "stream",
     "text": [
      "2024-11-05 10:58:26,638 - compare_csv - INFO - Executing LLM query\n",
      "2024-11-05 10:58:26,642 - urllib3.connectionpool - DEBUG - Starting new HTTP connection (1): localhost:8000\n",
      "2024-11-05 10:58:39,978 - urllib3.connectionpool - DEBUG - http://localhost:8000 \"POST /query HTTP/11\" 200 1562\n",
      "2024-11-05 10:58:39,979 - compare_csv - INFO - Executing grouth truth query...\n",
      "2024-11-05 10:58:39,979 - chatgpt_api.api - DEBUG - Executing SQL query: WITH FundPreferences AS (\n",
      "        SELECT F.SERIES_NAME, F.LIQUIDATION_PREFERENCE, F.NET_ASSETS\n",
      "        FROM FUND_REPORTED_INFO F\n",
      "    )\n",
      "    SELECT SERIES_NAME, LIQUIDATION_PREFERENCE, NET_ASSETS\n",
      "    FROM FundPreferences\n",
      "    WHERE LIQUIDATION_PREFERENCE > NET_ASSETS;\n",
      "2024-11-05 10:58:39,983 - chatgpt_api.api - INFO - SQL query executed successfully\n"
     ]
    },
    {
     "name": "stdout",
     "output_type": "stream",
     "text": [
      "CSV outputs match perfectly.\n",
      "i =  11\n"
     ]
    }
   ],
   "source": [
    "if i<len(llm_query):\n",
    "    results[i]=(str(i)+'. '+ str(compare_csv.compare_csv(ground_truth_query[i],llm_query[i])))\n",
    "i+=1 #11\n",
    "print(\"i = \", i)"
   ]
  },
  {
   "cell_type": "code",
   "execution_count": 25,
   "metadata": {},
   "outputs": [
    {
     "name": "stderr",
     "output_type": "stream",
     "text": [
      "2024-11-05 10:58:39,992 - compare_csv - INFO - Executing LLM query\n",
      "2024-11-05 10:58:39,994 - urllib3.connectionpool - DEBUG - Starting new HTTP connection (1): localhost:8000\n",
      "2024-11-05 10:58:52,741 - urllib3.connectionpool - DEBUG - http://localhost:8000 \"POST /query HTTP/11\" 200 746\n",
      "2024-11-05 10:58:52,742 - compare_csv - INFO - Executing grouth truth query...\n",
      "2024-11-05 10:58:52,742 - chatgpt_api.api - DEBUG - Executing SQL query: WITH ConvertibleCTE AS (\n",
      "        SELECT DS.HOLDING_ID, CSC.CONVERSION_RATIO\n",
      "        FROM DEBT_SECURITY DS\n",
      "        JOIN CONVERTIBLE_SECURITY_CURRENCY CSC ON DS.HOLDING_ID = CSC.HOLDING_ID\n",
      "        WHERE DS.IS_CONVTIBLE_CONTINGENT = 'Y' AND CSC.CONVERSION_RATIO > 1.5\n",
      "    )\n",
      "    SELECT HOLDING_ID, CONVERSION_RATIO\n",
      "    FROM ConvertibleCTE;\n",
      "2024-11-05 10:58:52,744 - chatgpt_api.api - INFO - SQL query executed successfully\n"
     ]
    },
    {
     "name": "stdout",
     "output_type": "stream",
     "text": [
      "CSV outputs match perfectly.\n",
      "i =  12\n"
     ]
    }
   ],
   "source": [
    "if i<len(llm_query):\n",
    "    results[i]=(str(i)+'. '+ str(compare_csv.compare_csv(ground_truth_query[i],llm_query[i])))\n",
    "i+=1 #12\n",
    "print(\"i = \", i)"
   ]
  },
  {
   "cell_type": "code",
   "execution_count": 26,
   "metadata": {},
   "outputs": [
    {
     "name": "stderr",
     "output_type": "stream",
     "text": [
      "2024-11-05 10:58:52,753 - compare_csv - INFO - Executing LLM query\n",
      "2024-11-05 10:58:52,755 - urllib3.connectionpool - DEBUG - Starting new HTTP connection (1): localhost:8000\n",
      "2024-11-05 10:59:07,554 - urllib3.connectionpool - DEBUG - http://localhost:8000 \"POST /query HTTP/11\" 200 623\n",
      "2024-11-05 10:59:07,555 - compare_csv - INFO - Executing grouth truth query...\n",
      "2024-11-05 10:59:07,555 - chatgpt_api.api - DEBUG - Executing SQL query: WITH TopFunds AS (\n",
      "        SELECT SERIES_NAME, ACCESSION_NUMBER\n",
      "        FROM FUND_REPORTED_INFO\n",
      "        ORDER BY TOTAL_ASSETS DESC\n",
      "        LIMIT 10\n",
      "    ),\n",
      "    AssetDistribution AS (\n",
      "        SELECT H.ASSET_CAT, COUNT(*) AS Category_Count\n",
      "        FROM FUND_REPORTED_HOLDING H\n",
      "        JOIN TopFunds T ON H.ACCESSION_NUMBER = T.ACCESSION_NUMBER\n",
      "        GROUP BY H.ASSET_CAT\n",
      "    )\n",
      "    SELECT ASSET_CAT, Category_Count\n",
      "    FROM AssetDistribution\n",
      "    ORDER BY Category_Count DESC;\n",
      "2024-11-05 10:59:07,571 - chatgpt_api.api - INFO - SQL query executed successfully\n"
     ]
    },
    {
     "name": "stdout",
     "output_type": "stream",
     "text": [
      "CSV outputs match perfectly.\n",
      "i =  13\n"
     ]
    }
   ],
   "source": [
    "if i<len(llm_query):\n",
    "    results[i]=(str(i)+'. '+ str(compare_csv.compare_csv(ground_truth_query[i],llm_query[i])))\n",
    "i+=1 #13\n",
    "print(\"i = \", i)"
   ]
  },
  {
   "cell_type": "code",
   "execution_count": 27,
   "metadata": {},
   "outputs": [
    {
     "name": "stderr",
     "output_type": "stream",
     "text": [
      "2024-11-05 10:59:07,580 - compare_csv - INFO - Executing LLM query\n",
      "2024-11-05 10:59:07,584 - urllib3.connectionpool - DEBUG - Starting new HTTP connection (1): localhost:8000\n",
      "2024-11-05 10:59:19,599 - urllib3.connectionpool - DEBUG - http://localhost:8000 \"POST /query HTTP/11\" 200 1272\n",
      "2024-11-05 10:59:19,600 - compare_csv - INFO - Executing grouth truth query...\n",
      "2024-11-05 10:59:19,600 - chatgpt_api.api - DEBUG - Executing SQL query: WITH AvgMonthlyReturn AS (\n",
      "       SELECT ACCESSION_NUMBER, \n",
      "              (MONTHLY_TOTAL_RETURN1 + MONTHLY_TOTAL_RETURN2 + MONTHLY_TOTAL_RETURN3) / 3.0 AS Avg_Return\n",
      "       FROM MONTHLY_TOTAL_RETURN\n",
      "   )\n",
      "   SELECT F.SERIES_NAME, A.ACCESSION_NUMBER, A.Avg_Return\n",
      "   FROM AvgMonthlyReturn A\n",
      "   JOIN FUND_REPORTED_INFO F ON A.ACCESSION_NUMBER = F.ACCESSION_NUMBER\n",
      "   ORDER BY A.Avg_Return DESC\n",
      "   LIMIT 10;\n",
      "2024-11-05 10:59:19,619 - chatgpt_api.api - INFO - SQL query executed successfully\n"
     ]
    },
    {
     "name": "stdout",
     "output_type": "stream",
     "text": [
      "CSV outputs match perfectly.\n",
      "i =  14\n"
     ]
    }
   ],
   "source": [
    "if i<len(llm_query):\n",
    "    results[i]=(str(i)+'. '+ str(compare_csv.compare_csv(ground_truth_query[i],llm_query[i])))\n",
    "i+=1 #14\n",
    "print(\"i = \", i)"
   ]
  },
  {
   "cell_type": "code",
   "execution_count": 28,
   "metadata": {},
   "outputs": [
    {
     "name": "stderr",
     "output_type": "stream",
     "text": [
      "2024-11-05 10:59:19,629 - compare_csv - INFO - Executing LLM query\n",
      "2024-11-05 10:59:19,632 - urllib3.connectionpool - DEBUG - Starting new HTTP connection (1): localhost:8000\n",
      "2024-11-05 10:59:31,160 - urllib3.connectionpool - DEBUG - http://localhost:8000 \"POST /query HTTP/11\" 200 831\n",
      "2024-11-05 10:59:31,162 - compare_csv - INFO - Executing grouth truth query...\n",
      "2024-11-05 10:59:31,162 - chatgpt_api.api - DEBUG - Executing SQL query: WITH TopPerformingFunds AS (\n",
      "        SELECT \n",
      "            ACCESSION_NUMBER, \n",
      "            (MONTHLY_TOTAL_RETURN1 + MONTHLY_TOTAL_RETURN2 + MONTHLY_TOTAL_RETURN3) / 3.0 AS Avg_Return\n",
      "        FROM \n",
      "            MONTHLY_TOTAL_RETURN\n",
      "        ORDER BY \n",
      "            Avg_Return DESC\n",
      "        LIMIT 5\n",
      "    )\n",
      "    SELECT \n",
      "        FR.SERIES_NAME, \n",
      "        FR.NET_ASSETS, \n",
      "        TP.Avg_Return\n",
      "    FROM \n",
      "        TopPerformingFunds TP\n",
      "    JOIN \n",
      "        FUND_REPORTED_INFO FR ON TP.ACCESSION_NUMBER = FR.ACCESSION_NUMBER;\n",
      "2024-11-05 10:59:31,173 - chatgpt_api.api - INFO - SQL query executed successfully\n"
     ]
    },
    {
     "name": "stdout",
     "output_type": "stream",
     "text": [
      "CSV outputs match perfectly.\n",
      "i =  15\n"
     ]
    }
   ],
   "source": [
    "if i<len(llm_query):\n",
    "    results[i]=(str(i)+'. '+ str(compare_csv.compare_csv(ground_truth_query[i],llm_query[i])))\n",
    "i+=1 #15\n",
    "print(\"i = \", i)"
   ]
  },
  {
   "cell_type": "code",
   "execution_count": 29,
   "metadata": {},
   "outputs": [
    {
     "name": "stderr",
     "output_type": "stream",
     "text": [
      "2024-11-05 10:59:31,183 - compare_csv - INFO - Executing LLM query\n",
      "2024-11-05 10:59:31,186 - urllib3.connectionpool - DEBUG - Starting new HTTP connection (1): localhost:8000\n",
      "2024-11-05 10:59:44,008 - urllib3.connectionpool - DEBUG - http://localhost:8000 \"POST /query HTTP/11\" 200 460\n",
      "2024-11-05 10:59:44,009 - compare_csv - INFO - Executing grouth truth query...\n",
      "2024-11-05 10:59:44,009 - chatgpt_api.api - DEBUG - Executing SQL query: WITH LatestReturns AS (\n",
      "        SELECT \n",
      "            M.ACCESSION_NUMBER, \n",
      "            M.MONTHLY_TOTAL_RETURN1\n",
      "        FROM \n",
      "            MONTHLY_TOTAL_RETURN M\n",
      "        JOIN \n",
      "            SUBMISSION S ON M.ACCESSION_NUMBER = S.ACCESSION_NUMBER\n",
      "        WHERE \n",
      "            S.REPORT_DATE = (SELECT MAX(REPORT_DATE) FROM SUBMISSION)\n",
      "    )\n",
      "    SELECT \n",
      "        AVG(MONTHLY_TOTAL_RETURN1) AS Average_Return\n",
      "    FROM \n",
      "        LatestReturns;\n",
      "2024-11-05 10:59:44,025 - chatgpt_api.api - INFO - SQL query executed successfully\n"
     ]
    },
    {
     "name": "stdout",
     "output_type": "stream",
     "text": [
      "CSV outputs match perfectly.\n",
      "i =  16\n"
     ]
    }
   ],
   "source": [
    "if i<len(llm_query):\n",
    "    results[i]=(str(i)+'. '+ str(compare_csv.compare_csv(ground_truth_query[i],llm_query[i])))\n",
    "i+=1 #16\n",
    "print(\"i = \", i)"
   ]
  },
  {
   "cell_type": "code",
   "execution_count": 30,
   "metadata": {},
   "outputs": [
    {
     "name": "stderr",
     "output_type": "stream",
     "text": [
      "2024-11-05 10:59:44,034 - compare_csv - INFO - Executing LLM query\n",
      "2024-11-05 10:59:44,036 - urllib3.connectionpool - DEBUG - Starting new HTTP connection (1): localhost:8000\n",
      "2024-11-05 10:59:58,788 - urllib3.connectionpool - DEBUG - http://localhost:8000 \"POST /query HTTP/11\" 200 1425\n",
      "2024-11-05 10:59:58,789 - compare_csv - INFO - Executing grouth truth query...\n",
      "2024-11-05 10:59:58,789 - chatgpt_api.api - DEBUG - Executing SQL query: WITH InterestRiskScores AS (\n",
      "        SELECT \n",
      "            IR.ACCESSION_NUMBER, \n",
      "            -- Calculating composite risk score by summing absolute values of DV01 and DV100 columns\n",
      "            (ABS(CAST(IR.INTRST_RATE_CHANGE_3MON_DV01 AS FLOAT)) +\n",
      "            ABS(CAST(IR.INTRST_RATE_CHANGE_1YR_DV01 AS FLOAT)) +\n",
      "            ABS(CAST(IR.INTRST_RATE_CHANGE_5YR_DV01 AS FLOAT)) +\n",
      "            ABS(CAST(IR.INTRST_RATE_CHANGE_10YR_DV01 AS FLOAT)) +\n",
      "            ABS(CAST(IR.INTRST_RATE_CHANGE_30YR_DV01 AS FLOAT)) +\n",
      "            ABS(CAST(IR.INTRST_RATE_CHANGE_3MON_DV100 AS FLOAT)) +\n",
      "            ABS(CAST(IR.INTRST_RATE_CHANGE_1YR_DV100 AS FLOAT)) +\n",
      "            ABS(CAST(IR.INTRST_RATE_CHANGE_5YR_DV100 AS FLOAT)) +\n",
      "            ABS(CAST(IR.INTRST_RATE_CHANGE_10YR_DV100 AS FLOAT)) +\n",
      "            ABS(CAST(IR.INTRST_RATE_CHANGE_30YR_DV100 AS FLOAT))\n",
      "            ) AS Composite_Risk_Score\n",
      "        FROM \n",
      "            INTEREST_RATE_RISK IR\n",
      "    )\n",
      "    SELECT \n",
      "        FR.SERIES_NAME, \n",
      "        FR.ACCESSION_NUMBER, \n",
      "        IRS.Composite_Risk_Score\n",
      "    FROM \n",
      "        InterestRiskScores IRS\n",
      "    JOIN \n",
      "        FUND_REPORTED_INFO FR ON IRS.ACCESSION_NUMBER = FR.ACCESSION_NUMBER\n",
      "    ORDER BY \n",
      "        IRS.Composite_Risk_Score DESC\n",
      "    LIMIT 5;\n",
      "2024-11-05 10:59:58,809 - chatgpt_api.api - INFO - SQL query executed successfully\n"
     ]
    },
    {
     "name": "stdout",
     "output_type": "stream",
     "text": [
      "CSV outputs match perfectly.\n",
      "i =  17\n"
     ]
    }
   ],
   "source": [
    "if i<len(llm_query):\n",
    "    results[i]=(str(i)+'. '+ str(compare_csv.compare_csv(ground_truth_query[i],llm_query[i])))\n",
    "i+=1 #17\n",
    "print(\"i = \", i)"
   ]
  },
  {
   "cell_type": "code",
   "execution_count": 31,
   "metadata": {},
   "outputs": [
    {
     "name": "stderr",
     "output_type": "stream",
     "text": [
      "2024-11-05 10:59:58,818 - compare_csv - INFO - Executing LLM query\n",
      "2024-11-05 10:59:58,821 - urllib3.connectionpool - DEBUG - Starting new HTTP connection (1): localhost:8000\n",
      "2024-11-05 11:00:14,980 - urllib3.connectionpool - DEBUG - http://localhost:8000 \"POST /query HTTP/11\" 200 178661\n",
      "2024-11-05 11:00:14,981 - compare_csv - INFO - Executing grouth truth query...\n",
      "2024-11-05 11:00:14,982 - chatgpt_api.api - DEBUG - Executing SQL query: WITH PortfolioComposition AS (\n",
      "    SELECT \n",
      "        ACCESSION_NUMBER, \n",
      "        ASSET_CAT, \n",
      "        SUM(CAST(CURRENCY_VALUE AS FLOAT)) AS Total_Value\n",
      "    FROM \n",
      "        FUND_REPORTED_HOLDING\n",
      "    GROUP BY \n",
      "        ACCESSION_NUMBER, \n",
      "        ASSET_CAT\n",
      "    )\n",
      "    SELECT \n",
      "        F.SERIES_NAME, \n",
      "        PC.ASSET_CAT, \n",
      "        PC.Total_Value\n",
      "    FROM \n",
      "        PortfolioComposition PC\n",
      "    JOIN \n",
      "        FUND_REPORTED_INFO F ON PC.ACCESSION_NUMBER = F.ACCESSION_NUMBER\n",
      "    ORDER BY \n",
      "        F.SERIES_NAME, \n",
      "        PC.Total_Value DESC;\n",
      "2024-11-05 11:00:15,009 - chatgpt_api.api - INFO - SQL query executed successfully\n"
     ]
    },
    {
     "name": "stdout",
     "output_type": "stream",
     "text": [
      "CSV outputs match perfectly.\n",
      "i =  18\n"
     ]
    }
   ],
   "source": [
    "if i<len(llm_query):\n",
    "    results[i]=(str(i)+'. '+ str(compare_csv.compare_csv(ground_truth_query[i],llm_query[i])))\n",
    "i+=1 #18\n",
    "print(\"i = \", i)"
   ]
  },
  {
   "cell_type": "code",
   "execution_count": 32,
   "metadata": {},
   "outputs": [
    {
     "name": "stderr",
     "output_type": "stream",
     "text": [
      "2024-11-05 11:00:15,029 - compare_csv - INFO - Executing LLM query\n",
      "2024-11-05 11:00:15,031 - urllib3.connectionpool - DEBUG - Starting new HTTP connection (1): localhost:8000\n",
      "2024-11-05 11:00:24,186 - urllib3.connectionpool - DEBUG - http://localhost:8000 \"POST /query HTTP/11\" 200 378\n",
      "2024-11-05 11:00:24,187 - compare_csv - INFO - Executing grouth truth query...\n",
      "2024-11-05 11:00:24,187 - chatgpt_api.api - DEBUG - Executing SQL query: WITH AssetCounts AS (\n",
      "        SELECT ASSET_CAT, COUNT(*) AS Count\n",
      "        FROM FUND_REPORTED_HOLDING\n",
      "        GROUP BY ASSET_CAT\n",
      "    )\n",
      "    SELECT ASSET_CAT, Count\n",
      "    FROM AssetCounts\n",
      "    ORDER BY Count DESC\n",
      "    LIMIT 5;\n",
      "2024-11-05 11:00:24,194 - chatgpt_api.api - INFO - SQL query executed successfully\n"
     ]
    },
    {
     "name": "stdout",
     "output_type": "stream",
     "text": [
      "CSV outputs match perfectly.\n",
      "i =  19\n"
     ]
    }
   ],
   "source": [
    "if i<len(llm_query):\n",
    "    results[i]=(str(i)+'. '+ str(compare_csv.compare_csv(ground_truth_query[i],llm_query[i])))\n",
    "i+=1 #19\n",
    "print(\"i = \", i)"
   ]
  },
  {
   "cell_type": "code",
   "execution_count": 33,
   "metadata": {},
   "outputs": [
    {
     "name": "stderr",
     "output_type": "stream",
     "text": [
      "2024-11-05 11:00:24,202 - compare_csv - INFO - Executing LLM query\n",
      "2024-11-05 11:00:24,205 - urllib3.connectionpool - DEBUG - Starting new HTTP connection (1): localhost:8000\n",
      "2024-11-05 11:00:35,692 - urllib3.connectionpool - DEBUG - http://localhost:8000 \"POST /query HTTP/11\" 200 951\n",
      "2024-11-05 11:00:35,693 - compare_csv - INFO - Executing grouth truth query...\n",
      "2024-11-05 11:00:35,693 - chatgpt_api.api - DEBUG - Executing SQL query: WITH AssetChanges AS (\n",
      "       SELECT F.ACCESSION_NUMBER, F.SERIES_NAME, S.REPORT_DATE, F.NET_ASSETS,\n",
      "              LAG(F.NET_ASSETS, 1) OVER (PARTITION BY F.SERIES_NAME ORDER BY S.REPORT_DATE) AS Previous_Period_Assets\n",
      "       FROM FUND_REPORTED_INFO F\n",
      "       JOIN SUBMISSION S ON F.ACCESSION_NUMBER = S.ACCESSION_NUMBER\n",
      "   )\n",
      "   SELECT DISTINCT AC.SERIES_NAME\n",
      "   FROM AssetChanges AC\n",
      "   WHERE AC.NET_ASSETS < AC.Previous_Period_Assets\n",
      "     AND AC.Previous_Period_Assets IS NOT NULL;\n",
      "2024-11-05 11:00:35,711 - chatgpt_api.api - INFO - SQL query executed successfully\n"
     ]
    },
    {
     "name": "stdout",
     "output_type": "stream",
     "text": [
      "Mismatch found.\n",
      "i =  20\n"
     ]
    }
   ],
   "source": [
    "if i<len(llm_query):\n",
    "    results[i]=(str(i)+'. '+ str(compare_csv.compare_csv(ground_truth_query[i],llm_query[i])))\n",
    "i+=1 #20\n",
    "print(\"i = \", i)"
   ]
  },
  {
   "cell_type": "code",
   "execution_count": 34,
   "metadata": {},
   "outputs": [
    {
     "name": "stdout",
     "output_type": "stream",
     "text": [
      "0. True\n",
      "1. False\n",
      "2. True\n",
      "3. True\n",
      "4. True\n",
      "5. False\n",
      "6. True\n",
      "7. True\n",
      "8. True\n",
      "9. True\n",
      "10. True\n",
      "11. True\n",
      "12. True\n",
      "13. True\n",
      "14. True\n",
      "15. True\n",
      "16. True\n",
      "17. True\n",
      "18. True\n",
      "19. False\n"
     ]
    }
   ],
   "source": [
    "for i in results:\n",
    "    print(i)"
   ]
  }
 ],
 "metadata": {
  "kernelspec": {
   "display_name": "base",
   "language": "python",
   "name": "python3"
  },
  "language_info": {
   "codemirror_mode": {
    "name": "ipython",
    "version": 3
   },
   "file_extension": ".py",
   "mimetype": "text/x-python",
   "name": "python",
   "nbconvert_exporter": "python",
   "pygments_lexer": "ipython3",
   "version": "3.11.5"
  }
 },
 "nbformat": 4,
 "nbformat_minor": 2
}
