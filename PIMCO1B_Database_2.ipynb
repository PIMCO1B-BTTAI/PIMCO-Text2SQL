{
 "cells": [
  {
   "cell_type": "markdown",
   "metadata": {
    "id": "iNl_H5lgmTnR"
   },
   "source": [
    "# Local Machine (Oscar) Specific Setup"
   ]
  },
  {
   "cell_type": "code",
   "execution_count": 1,
   "metadata": {
    "id": "CdbGGv-jj0vs"
   },
   "outputs": [],
   "source": [
    "from pathlib import Path\n",
    "from pprint  import pprint\n",
    "import sqlite3\n",
    "import csv\n",
    "import os\n",
    "import random"
   ]
  },
  {
   "cell_type": "markdown",
   "metadata": {
    "id": "MZm29PVmmkhb"
   },
   "source": [
    "# Set Up Paths for Writing Files"
   ]
  },
  {
   "cell_type": "code",
   "execution_count": 2,
   "metadata": {
    "id": "QrBe7DpRj2aM"
   },
   "outputs": [
    {
     "name": "stdout",
     "output_type": "stream",
     "text": [
      "d:\\GithubRepos\\PIMCO-Text2SQL\n",
      "d:\\GithubRepos\\PIMCO-Text2SQL/data/2019q4_nport\n"
     ]
    }
   ],
   "source": [
    "current_directory = os.getcwd()\n",
    "print(current_directory)\n",
    "conn = sqlite3.connect(current_directory + '/sqlite/nport.db')\n",
    "cursor = conn.cursor()\n",
    "# Set cache size (in pages, where each page is usually 4KB; negative values mean in KB)\n",
    "cursor.execute(\"PRAGMA cache_size = -262144;\")  # Example: limits cache to 1 GB\n",
    "# Set temp storage to use file-based storage rather than RAM\n",
    "cursor.execute(\"PRAGMA temp_store = 1;\")  # 1 = file-based storage, 2 = memory (default)\n",
    "raw_data_folder = os.getcwd()+'/data/2019q4_nport'\n",
    "print(raw_data_folder)"
   ]
  },
  {
   "cell_type": "markdown",
   "metadata": {
    "id": "5tTowEw4mrP9"
   },
   "source": [
    "# Create Table for FUND_REPORTED HOLDING\n",
    "\n",
    "## Note:\n",
    "- FUND_REPORTED_HOLDING contains ISSUER_CUSIP\n",
    "- DEBT_SECURITY_REF_INSTRUMENT, DESC_REF_INDEX_COMPONENT, and DESC_REF_OTHER all contain CUSIP\n",
    "- I retrieved the unique cusip values for each table to see which had the broadest range that I could sample from.\n",
    "\n",
    "\n",
    "---\n",
    "\n",
    "\n",
    "\n",
    "*   Unique cusip count from FUND_REPORTED_HOLDING:  356276\n",
    "*   Unique cusip count from DEBT_SECURITY_REF_INSTRUMENT:  552\n",
    "*   Unique cusip count from DESC_REF_INDEX_COMPONENT:  2890\n",
    "*   Unique cusip count from DESC_REF_OTHER:  3307\n",
    "\n",
    "I have chosen to sample from FUND_REPORTED_HOLDING."
   ]
  },
  {
   "cell_type": "code",
   "execution_count": 3,
   "metadata": {
    "id": "KcQTytj2kDJa"
   },
   "outputs": [],
   "source": [
    "# Create table from .tsv file\n",
    "def create_table(filename):\n",
    "    if filename.endswith('.tsv'):\n",
    "        table_name = 'FUND_REPORTED_HOLDING_RAW'\n",
    "        file_path = raw_data_folder +'/'+ filename\n",
    "\n",
    "        with open(file_path, 'r', newline='') as file:\n",
    "            reader = csv.reader(file, delimiter='\\t')\n",
    "            column_names = next(reader)  # Get the first row as column names\n",
    "\n",
    "            create_table_query = f\"CREATE TABLE IF NOT EXISTS {table_name} ({', '.join([f'{col} TEXT' for col in column_names])});\"\n",
    "            cursor.execute(create_table_query)\n",
    "\n",
    "            # Insert data into the table\n",
    "            for row in reader:\n",
    "                insert_query = f\"INSERT INTO {table_name} ({', '.join(column_names)}) VALUES ({', '.join(['?'] * len(column_names))});\"\n",
    "                cursor.execute(insert_query, row)"
   ]
  },
  {
   "cell_type": "code",
   "execution_count": 4,
   "metadata": {
    "id": "mOLN9msxkHDc"
   },
   "outputs": [],
   "source": [
    "create_table(\"FUND_REPORTED_HOLDING.tsv\")"
   ]
  },
  {
   "cell_type": "markdown",
   "metadata": {
    "id": "r-H-9pHlm60l"
   },
   "source": [
    "# Randomly sample 1000 CUSIPS"
   ]
  },
  {
   "cell_type": "code",
   "execution_count": 5,
   "metadata": {
    "colab": {
     "base_uri": "https://localhost:8080/"
    },
    "id": "l3l61xdJk1At",
    "outputId": "df942b40-5339-47de-89e3-48644ca09c2e"
   },
   "outputs": [
    {
     "data": {
      "text/plain": [
       "<sqlite3.Cursor at 0x2272d3658c0>"
      ]
     },
     "execution_count": 5,
     "metadata": {},
     "output_type": "execute_result"
    }
   ],
   "source": [
    "# Randomly sample 1000 distinct CUSIPS as table SAMPLE_CUSIPS\n",
    "cursor.execute('''CREATE TABLE SAMPLED_CUSIPS AS\n",
    "                SELECT DISTINCT ISSUER_CUSIP\n",
    "                FROM FUND_REPORTED_HOLDING_RAW\n",
    "                WHERE ISSUER_CUSIP != 'N/A'\n",
    "                ORDER BY RANDOM()\n",
    "                LIMIT 1000;''')"
   ]
  },
  {
   "cell_type": "markdown",
   "metadata": {
    "id": "kOCEqoZlm_pw"
   },
   "source": [
    "# Filter FUND_REPORTED_HOLDING with Sampled Cusips"
   ]
  },
  {
   "cell_type": "code",
   "execution_count": 6,
   "metadata": {
    "colab": {
     "base_uri": "https://localhost:8080/"
    },
    "id": "dmN7X7Zgk-qq",
    "outputId": "75d28b79-7406-49ef-e02b-a418f9ed99f0"
   },
   "outputs": [
    {
     "data": {
      "text/plain": [
       "<sqlite3.Cursor at 0x2272d3658c0>"
      ]
     },
     "execution_count": 6,
     "metadata": {},
     "output_type": "execute_result"
    }
   ],
   "source": [
    "cursor.execute('''\n",
    "                CREATE TABLE FUND_REPORTED_HOLDING AS\n",
    "                SELECT *\n",
    "                FROM FUND_REPORTED_HOLDING_RAW frhr\n",
    "                JOIN SAMPLED_CUSIPS s ON frhr.ISSUER_CUSIP = s.ISSUER_CUSIP\n",
    "''')"
   ]
  },
  {
   "cell_type": "markdown",
   "metadata": {
    "id": "-9vfkrD6nVPc"
   },
   "source": [
    "# Create tables only containing rows that align with sampled cusips"
   ]
  },
  {
   "cell_type": "code",
   "execution_count": 7,
   "metadata": {
    "id": "93R4TUs6ls1b"
   },
   "outputs": [],
   "source": [
    "def create_sampled_table(filename, primary_key):\n",
    "    if filename.endswith('.tsv'):\n",
    "        table_name = os.path.splitext(filename)[0]\n",
    "        file_path = raw_data_folder + '/'+filename\n",
    "        if not os.path.isfile(file_path):\n",
    "            return f\"Exiting early because '{filename}'.tsv does not exist in '{raw_data_folder}\"\n",
    "        # Retrieve primary keys from the fund_reported_holdings table\n",
    "        primary_key_query = f\"SELECT {primary_key} FROM FUND_REPORTED_HOLDING;\"\n",
    "        cursor.execute(primary_key_query)\n",
    "        primary_keys = {row[0] for row in cursor.fetchall()}  # Store keys in a set for faster lookup\n",
    "\n",
    "        # After fetching primary keys\n",
    "        # print(\"Primary Keys from DATABASE:\", primary_keys)\n",
    "        # print(\"Number of Primary Keys:\", len(primary_keys))\n",
    "        # unique_primary_keys = set(primary_keys)\n",
    "        # print(\"Number of Unique Primary Keys:\", len(unique_primary_keys))\n",
    "        \n",
    "        with open(file_path, 'r', newline='') as file:\n",
    "            reader = csv.reader(file, delimiter='\\t')\n",
    "            column_names = next(reader)  # Get the first row as column names\n",
    "\n",
    "            create_table_query = f\"CREATE TABLE IF NOT EXISTS {table_name} ({', '.join([f'{col} TEXT' for col in column_names])});\"\n",
    "            cursor.execute(create_table_query)\n",
    "\n",
    "            # Insert only rows that match the primary keys\n",
    "            for row in reader:\n",
    "                # Retrieve primary key value from the current row\n",
    "                row_primary_key = row[column_names.index(primary_key)]\n",
    "\n",
    "                # Check if the row's primary key exists in the fetched primary keys\n",
    "                if row_primary_key in primary_keys:\n",
    "                    insert_query = f\"INSERT INTO {table_name} ({', '.join(column_names)}) VALUES ({', '.join(['?'] * len(column_names))});\"\n",
    "                    cursor.execute(insert_query, row)"
   ]
  },
  {
   "cell_type": "code",
   "execution_count": 8,
   "metadata": {
    "id": "PhRHlfXxniWO"
   },
   "outputs": [],
   "source": [
    "ac_tables = [\n",
    "    \"SUBMISSION\",\n",
    "    \"REGISTRANT\",\n",
    "    \"FUND_REPORTED_INFO\",\n",
    "    \"INTEREST_RATE_RISK\",\n",
    "    \"BORROWER\",\n",
    "    \"BORROW_AGGREGATE\",\n",
    "    \"MONTHLY_TOTAL_RETURN\",\n",
    "    \"MONTHLY_RETURN_CAT_INSTRUMENT\",\n",
    "    \"FUND_VAR_INFO\",\n",
    "    \"EXPLANATORY_NOTE\"\n",
    "]\n",
    "\n",
    "hid_tables = [\n",
    "    \"IDENTIFIERS\",\n",
    "    \"DEBT_SECURITY_REF_INSTRUMENT\",\n",
    "    \"CONVERTIBLE_SECURITY_CURRENCY\",\n",
    "    \"REPURCHASE_AGREEMENT\",\n",
    "    \"REPURCHASE_COUNTERPARTY\",\n",
    "    \"REPURCHASE_COLLATERAL\",\n",
    "    \"DERIVATIVE_COUNTERPARTY\",\n",
    "    \"SWAPTION_OPTION_WARNT_DERIV\",\n",
    "    \"DESC_REF_INDEX_BASKET\",\n",
    "    \"DESC_REF_INDEX_COMPONENT\",\n",
    "    \"DESC_REF_OTHER\",\n",
    "    \"FUT_FWD_NONFOREIGNCUR_CONTRACT\",\n",
    "    \"FWD_FOREIGNCUR_CONTRACT_SWAP\",\n",
    "    \"NONFOREIGN_EXCHANGE_SWAP\",\n",
    "    \"FLOATING_RATE_RESET_TENOR\",\n",
    "    \"OTHER_DERIV\",\n",
    "    \"OTHER_DERIV_NOTIONAL_AMOUNT\",\n",
    "    \"SECURITIES_LENDING\",\n",
    "]\n",
    "\n",
    "for table in ac_tables:\n",
    "    filename = f\"{table}.tsv\"\n",
    "    create_sampled_table(filename, \"ACCESSION_NUMBER\")\n",
    "\n",
    "for table in hid_tables:\n",
    "    filename = f\"{table}.tsv\"\n",
    "    create_sampled_table(filename, \"HOLDING_ID\")"
   ]
  },
  {
   "cell_type": "code",
   "execution_count": 9,
   "metadata": {
    "colab": {
     "base_uri": "https://localhost:8080/"
    },
    "id": "sjSyKUWxP2XU",
    "outputId": "a479361a-3e00-4d14-af32-77143a5d1902"
   },
   "outputs": [
    {
     "data": {
      "text/plain": [
       "<sqlite3.Cursor at 0x2272d3658c0>"
      ]
     },
     "execution_count": 9,
     "metadata": {},
     "output_type": "execute_result"
    }
   ],
   "source": [
    "# Drop irrelevant tables\n",
    "cursor.execute(\"DROP TABLE FUND_REPORTED_HOLDING_RAW;\")\n",
    "cursor.execute(\"DROP TABLE SAMPLED_CUSIPS;\")"
   ]
  },
  {
   "cell_type": "markdown",
   "metadata": {
    "id": "mXjAuJSONWSi"
   },
   "source": [
    "# Drop columns missing more than 85% values"
   ]
  },
  {
   "cell_type": "code",
   "execution_count": 10,
   "metadata": {
    "id": "B6gCd1ivNb4s"
   },
   "outputs": [],
   "source": [
    "def drop_columns(table_name):\n",
    "    cursor.execute(\"SELECT name FROM sqlite_master WHERE type='table' AND name=?\", (table_name,))\n",
    "    result = cursor.fetchone()\n",
    "\n",
    "    # Check if the result is not None\n",
    "    if not result:\n",
    "        return\n",
    "\n",
    "    cursor.execute(f\"SELECT COUNT(*) FROM {table_name}\")\n",
    "    total_rows = cursor.fetchone()[0]\n",
    "\n",
    "    cursor.execute(f\"PRAGMA table_info({table_name})\")\n",
    "    columns = cursor.fetchall()\n",
    "\n",
    "    columns_to_drop = []\n",
    "    columns_to_keep = []\n",
    "\n",
    "    for column in columns:\n",
    "        column_name = column[1]\n",
    "\n",
    "        # Skip columns that end with ':1'\n",
    "        if column_name.endswith(':1'):\n",
    "            print(f\"Skipping column {column_name} in table {table_name}\")\n",
    "            continue\n",
    "\n",
    "        cursor.execute(f\"SELECT COUNT({column_name}) FROM {table_name} WHERE {column_name} = ''\")\n",
    "        null_count = cursor.fetchone()[0]\n",
    "\n",
    "        if null_count > 0.85 * total_rows:\n",
    "            columns_to_drop.append(column_name)\n",
    "        else:\n",
    "            columns_to_keep.append(column_name)\n",
    "\n",
    "    if columns_to_drop:\n",
    "        # Create new table with remaining columns\n",
    "        new_table_name = f\"{table_name}_new\"\n",
    "        columns_definition = ', '.join(columns_to_keep)\n",
    "        cursor.execute(f\"CREATE TABLE {new_table_name} ({columns_definition})\")\n",
    "\n",
    "        # Copy columns to new table\n",
    "        cursor.execute(f\"INSERT INTO {new_table_name} ({columns_definition}) SELECT {columns_definition} FROM {table_name}\")\n",
    "\n",
    "        # Drop old table\n",
    "        cursor.execute(f\"DROP TABLE {table_name}\")\n",
    "\n",
    "        # Rename new table to original table name\n",
    "        cursor.execute(f\"ALTER TABLE {new_table_name} RENAME TO {table_name}\")\n",
    "\n",
    "        print(f\"Dropped columns {', '.join(columns_to_drop)} from table {table_name}\")\n",
    "    else:\n",
    "        print(f\"No columns to drop from table {table_name}\")\n",
    "\n",
    "\n"
   ]
  },
  {
   "cell_type": "code",
   "execution_count": 11,
   "metadata": {
    "colab": {
     "base_uri": "https://localhost:8080/"
    },
    "id": "6NKu_haONf7t",
    "outputId": "1e1171be-f85e-418f-9ba4-6df5405efd7e"
   },
   "outputs": [
    {
     "name": "stdout",
     "output_type": "stream",
     "text": [
      "Skipping column ISSUER_CUSIP:1 in table FUND_REPORTED_HOLDING\n",
      "Dropped columns OTHER_UNIT_DESC, EXCHANGE_RATE, OTHER_ASSET, OTHER_ISSUER, DERIVATIVE_CAT from table FUND_REPORTED_HOLDING\n",
      "No columns to drop from table REGISTRANT\n",
      "Dropped columns FILE_NUM from table SUBMISSION\n",
      "No columns to drop from table FUND_REPORTED_INFO\n",
      "No columns to drop from table INTEREST_RATE_RISK\n",
      "No columns to drop from table BORROWER\n",
      "Dropped columns OTHER_DESC from table BORROW_AGGREGATE\n",
      "No columns to drop from table MONTHLY_TOTAL_RETURN\n",
      "No columns to drop from table MONTHLY_RETURN_CAT_INSTRUMENT\n",
      "No columns to drop from table EXPLANATORY_NOTE\n",
      "Dropped columns OTHER_IDENTIFIER, OTHER_IDENTIFIER_DESC from table IDENTIFIERS\n",
      "No columns to drop from table DEBT_SECURITY_REF_INSTRUMENT\n",
      "No columns to drop from table CONVERTIBLE_SECURITY_CURRENCY\n",
      "No columns to drop from table REPURCHASE_AGREEMENT\n",
      "No columns to drop from table REPURCHASE_COUNTERPARTY\n",
      "No columns to drop from table REPURCHASE_COLLATERAL\n",
      "No columns to drop from table DERIVATIVE_COUNTERPARTY\n",
      "No columns to drop from table SWAPTION_OPTION_WARNT_DERIV\n",
      "No columns to drop from table DESC_REF_INDEX_BASKET\n",
      "No columns to drop from table DESC_REF_INDEX_COMPONENT\n",
      "Dropped columns ISIN from table DESC_REF_OTHER\n",
      "No columns to drop from table FUT_FWD_NONFOREIGNCUR_CONTRACT\n",
      "No columns to drop from table FWD_FOREIGNCUR_CONTRACT_SWAP\n",
      "Dropped columns FIXED_RATE_RECEIPT, FIXED_RATE_PAYMENT from table NONFOREIGN_EXCHANGE_SWAP\n",
      "No columns to drop from table FLOATING_RATE_RESET_TENOR\n",
      "No columns to drop from table OTHER_DERIV\n",
      "No columns to drop from table OTHER_DERIV_NOTIONAL_AMOUNT\n",
      "Dropped columns CASH_COLLATERAL_AMOUNT, NON_CASH_COLLATERAL_VALUE, LOAN_VALUE from table SECURITIES_LENDING\n"
     ]
    }
   ],
   "source": [
    "tables = ['FUND_REPORTED_HOLDING','REGISTRANT', 'SUBMISSION', 'FUND_REPORTED_INFO', 'INTEREST_RATE_RISK', 'BORROWER', 'BORROW_AGGREGATE', 'MONTHLY_TOTAL_RETURN', 'MONTHLY_RETURN_CAT_INSTRUMENT', 'FUND_VAR_INFO', 'EXPLANATORY_NOTE', 'IDENTIFIERS', 'DEBT_SECURITY_REF_INSTRUMENT', 'CONVERTIBLE_SECURITY_CURRENCY', 'REPURCHASE_AGREEMENT', 'REPURCHASE_COUNTERPARTY', 'REPURCHASE_COLLATERAL', 'DERIVATIVE_COUNTERPARTY', 'SWAPTION_OPTION_WARNT_DERIV', 'DESC_REF_INDEX_BASKET', 'DESC_REF_INDEX_COMPONENT', 'DESC_REF_OTHER', 'FUT_FWD_NONFOREIGNCUR_CONTRACT', 'FWD_FOREIGNCUR_CONTRACT_SWAP', 'NONFOREIGN_EXCHANGE_SWAP', 'FLOATING_RATE_RESET_TENOR', 'OTHER_DERIV', 'OTHER_DERIV_NOTIONAL_AMOUNT', 'SECURITIES_LENDING']\n",
    "\n",
    "for table in tables:\n",
    "    drop_columns(table)"
   ]
  },
  {
   "cell_type": "code",
   "execution_count": 12,
   "metadata": {
    "colab": {
     "base_uri": "https://localhost:8080/"
    },
    "id": "3I7G36nFS7Wm",
    "outputId": "56dde532-5de0-4f10-ff4b-df306728938b"
   },
   "outputs": [
    {
     "name": "stdout",
     "output_type": "stream",
     "text": [
      "28\n",
      "['REGISTRANT', 'FUND_REPORTED_INFO', 'INTEREST_RATE_RISK', 'BORROWER', 'MONTHLY_TOTAL_RETURN', 'MONTHLY_RETURN_CAT_INSTRUMENT', 'EXPLANATORY_NOTE', 'DEBT_SECURITY_REF_INSTRUMENT', 'CONVERTIBLE_SECURITY_CURRENCY', 'REPURCHASE_AGREEMENT', 'REPURCHASE_COUNTERPARTY', 'REPURCHASE_COLLATERAL', 'DERIVATIVE_COUNTERPARTY', 'SWAPTION_OPTION_WARNT_DERIV', 'DESC_REF_INDEX_BASKET', 'DESC_REF_INDEX_COMPONENT', 'FUT_FWD_NONFOREIGNCUR_CONTRACT', 'FWD_FOREIGNCUR_CONTRACT_SWAP', 'FLOATING_RATE_RESET_TENOR', 'OTHER_DERIV', 'OTHER_DERIV_NOTIONAL_AMOUNT', 'FUND_REPORTED_HOLDING', 'SUBMISSION', 'BORROW_AGGREGATE', 'IDENTIFIERS', 'DESC_REF_OTHER', 'NONFOREIGN_EXCHANGE_SWAP', 'SECURITIES_LENDING']\n"
     ]
    }
   ],
   "source": [
    "# View tables currently in database\n",
    "cursor.execute(\"SELECT name FROM sqlite_master WHERE type='table';\")\n",
    "tables = cursor.fetchall()\n",
    "tables = [table[0] for table in tables]\n",
    "print(len(tables))\n",
    "print(tables)"
   ]
  },
  {
   "cell_type": "code",
   "execution_count": 13,
   "metadata": {
    "id": "y8WGPnSxWO7R"
   },
   "outputs": [],
   "source": [
    "def add_quarter_column(raw_data_folder, table_name):\n",
    "    # Extract the folder name from the path\n",
    "    \n",
    "    folder_name = raw_data_folder.split('/')[-1].split('_')[0]\n",
    "    cursor.execute(f\"PRAGMA table_info({table_name})\")\n",
    "    columns = [column_info[1] for column_info in cursor.fetchall()]\n",
    "    \n",
    "    if \"QUARTER\" not in columns:\n",
    "\n",
    "        # Add the 'quarter' column to the table\n",
    "        cursor.execute(f'ALTER TABLE \"{table_name}\" ADD COLUMN QUARTER TEXT')\n",
    "\n",
    "    # Update all rows in the new 'quarter' column with the folder name\n",
    "    cursor.execute(f'UPDATE \"{table_name}\" SET QUARTER = ?', (folder_name,))\n",
    "\n",
    "    print(f\"Added column 'QUARTER' to table '{table_name}' with value '{folder_name}' for all rows.\")\n",
    "\n"
   ]
  },
  {
   "cell_type": "code",
   "execution_count": 14,
   "metadata": {
    "colab": {
     "base_uri": "https://localhost:8080/"
    },
    "id": "NXILwSsHXOoQ",
    "outputId": "4d4d5b60-4728-4d59-9a4c-de13d8ac0030"
   },
   "outputs": [
    {
     "name": "stdout",
     "output_type": "stream",
     "text": [
      "Added column 'QUARTER' to table 'REGISTRANT' with value '2019q4' for all rows.\n",
      "Added column 'QUARTER' to table 'FUND_REPORTED_INFO' with value '2019q4' for all rows.\n",
      "Added column 'QUARTER' to table 'INTEREST_RATE_RISK' with value '2019q4' for all rows.\n",
      "Added column 'QUARTER' to table 'BORROWER' with value '2019q4' for all rows.\n",
      "Added column 'QUARTER' to table 'MONTHLY_TOTAL_RETURN' with value '2019q4' for all rows.\n",
      "Added column 'QUARTER' to table 'MONTHLY_RETURN_CAT_INSTRUMENT' with value '2019q4' for all rows.\n",
      "Added column 'QUARTER' to table 'EXPLANATORY_NOTE' with value '2019q4' for all rows.\n",
      "Added column 'QUARTER' to table 'DEBT_SECURITY_REF_INSTRUMENT' with value '2019q4' for all rows.\n",
      "Added column 'QUARTER' to table 'CONVERTIBLE_SECURITY_CURRENCY' with value '2019q4' for all rows.\n",
      "Added column 'QUARTER' to table 'REPURCHASE_AGREEMENT' with value '2019q4' for all rows.\n",
      "Added column 'QUARTER' to table 'REPURCHASE_COUNTERPARTY' with value '2019q4' for all rows.\n",
      "Added column 'QUARTER' to table 'REPURCHASE_COLLATERAL' with value '2019q4' for all rows.\n",
      "Added column 'QUARTER' to table 'DERIVATIVE_COUNTERPARTY' with value '2019q4' for all rows.\n",
      "Added column 'QUARTER' to table 'SWAPTION_OPTION_WARNT_DERIV' with value '2019q4' for all rows.\n",
      "Added column 'QUARTER' to table 'DESC_REF_INDEX_BASKET' with value '2019q4' for all rows.\n",
      "Added column 'QUARTER' to table 'DESC_REF_INDEX_COMPONENT' with value '2019q4' for all rows.\n",
      "Added column 'QUARTER' to table 'FUT_FWD_NONFOREIGNCUR_CONTRACT' with value '2019q4' for all rows.\n",
      "Added column 'QUARTER' to table 'FWD_FOREIGNCUR_CONTRACT_SWAP' with value '2019q4' for all rows.\n",
      "Added column 'QUARTER' to table 'FLOATING_RATE_RESET_TENOR' with value '2019q4' for all rows.\n",
      "Added column 'QUARTER' to table 'OTHER_DERIV' with value '2019q4' for all rows.\n",
      "Added column 'QUARTER' to table 'OTHER_DERIV_NOTIONAL_AMOUNT' with value '2019q4' for all rows.\n",
      "Added column 'QUARTER' to table 'FUND_REPORTED_HOLDING' with value '2019q4' for all rows.\n",
      "Added column 'QUARTER' to table 'SUBMISSION' with value '2019q4' for all rows.\n",
      "Added column 'QUARTER' to table 'BORROW_AGGREGATE' with value '2019q4' for all rows.\n",
      "Added column 'QUARTER' to table 'IDENTIFIERS' with value '2019q4' for all rows.\n",
      "Added column 'QUARTER' to table 'DESC_REF_OTHER' with value '2019q4' for all rows.\n",
      "Added column 'QUARTER' to table 'NONFOREIGN_EXCHANGE_SWAP' with value '2019q4' for all rows.\n",
      "Added column 'QUARTER' to table 'SECURITIES_LENDING' with value '2019q4' for all rows.\n"
     ]
    }
   ],
   "source": [
    "for table in tables:\n",
    "  add_quarter_column(raw_data_folder, table)"
   ]
  },
  {
   "cell_type": "code",
   "execution_count": 15,
   "metadata": {
    "id": "jIzS4VrVfdJS"
   },
   "outputs": [],
   "source": [
    "def create_sampled_table_and_join(filename, raw_data_folder, primary_key):\n",
    "        table_name = os.path.splitext(filename)[0]  # Extract table name without extension\n",
    "        file_path = raw_data_folder +'/'+ filename  # Construct full file path\n",
    "        if not os.path.isfile(file_path):\n",
    "            return f\"Exiting early because '{filename}'.tsv does not exist in '{raw_data_folder}\"\n",
    "        # Retrieve primary keys from the FUND_REPORTED_HOLDING table\n",
    "        primary_key_query = f\"SELECT {primary_key} FROM FUND_REPORTED_HOLDING;\"\n",
    "        cursor.execute(primary_key_query)\n",
    "        primary_keys = {row[0] for row in cursor.fetchall()}  # Store keys in a set for faster lookup\n",
    "\n",
    "        with open(file_path, 'r', newline='') as file:\n",
    "            reader = csv.reader(file, delimiter='\\t')\n",
    "            column_names = next(reader)  # Get the first row as column names\n",
    "\n",
    "            # Create the new table with \"_NEW\" suffix\n",
    "            create_table_query = f\"CREATE TABLE IF NOT EXISTS {table_name}_NEW ({', '.join([f'{col} TEXT' for col in column_names])});\"\n",
    "            cursor.execute(create_table_query)\n",
    "\n",
    "            # Insert only rows that match the primary keys\n",
    "            for row in reader:\n",
    "                row_primary_key = row[column_names.index(primary_key)]  # Retrieve primary key value from the current row\n",
    "\n",
    "                if row_primary_key in primary_keys:  # Check if the row's primary key exists\n",
    "                    insert_query = f\"INSERT INTO {table_name}_NEW ({', '.join(column_names)}) VALUES ({', '.join(['?'] * len(column_names))});\"\n",
    "                    cursor.execute(insert_query, row)\n",
    "\n",
    "        # Drop columns with more than 85% missing values\n",
    "        drop_columns(f\"{table_name}_NEW\")\n",
    "\n",
    "        # Add a 'quarter' column with corresponding quarter\n",
    "        add_quarter_column(raw_data_folder, f\"{table_name}_NEW\")\n",
    "\n",
    "        # Join new data into original table\n",
    "        join_query = f\"INSERT INTO {table_name} SELECT * FROM {table_name}_NEW;\"\n",
    "        cursor.execute(join_query)\n",
    "\n",
    "        # Drop the temporary new table\n",
    "        drop_table_query = f\"DROP TABLE {table_name}_NEW;\"\n",
    "        cursor.execute(drop_table_query)\n",
    "\n",
    "        print(f\"Successfully processed '{filename}' and updated '{table_name}'.\")\n"
   ]
  },
  {
   "cell_type": "code",
   "execution_count": 16,
   "metadata": {
    "id": "NPRBFlgngrwo"
   },
   "outputs": [],
   "source": [
    "directory_path = \"./data\"\n",
    "\n",
    "# List all folders in the directory\n",
    "folder_names = [name for name in os.listdir(directory_path) if os.path.isdir(os.path.join(directory_path, name))]\n",
    "\n",
    "for folder in folder_names:\n",
    "\n",
    "    raw_data_folder = os.getcwd()+f\"/data/'{folder}'\"\n",
    "\n",
    "    # Separate query because ac_tables does not contain FUND_REPORTED_HOLDING\n",
    "    create_sampled_table_and_join(f\"FUND_REPORTED_HOLDING.tsv\", raw_data_folder, \"ACCESSION_NUMBER\")\n",
    "    for table in ac_tables:\n",
    "        create_sampled_table_and_join(f\"{table}.tsv\", raw_data_folder, \"ACCESSION_NUMBER\")\n",
    "\n",
    "    for table in hid_tables:\n",
    "        create_sampled_table_and_join(f\"{table}.tsv\", raw_data_folder, \"HOLDING_ID\")"
   ]
  },
  {
   "cell_type": "code",
   "execution_count": 17,
   "metadata": {
    "id": "VCtF535Hfvxu"
   },
   "outputs": [
    {
     "name": "stdout",
     "output_type": "stream",
     "text": [
      "Tables in the database:\n",
      "REGISTRANT\n",
      "FUND_REPORTED_INFO\n",
      "INTEREST_RATE_RISK\n",
      "BORROWER\n",
      "MONTHLY_TOTAL_RETURN\n",
      "MONTHLY_RETURN_CAT_INSTRUMENT\n",
      "EXPLANATORY_NOTE\n",
      "DEBT_SECURITY_REF_INSTRUMENT\n",
      "CONVERTIBLE_SECURITY_CURRENCY\n",
      "REPURCHASE_AGREEMENT\n",
      "REPURCHASE_COUNTERPARTY\n",
      "REPURCHASE_COLLATERAL\n",
      "DERIVATIVE_COUNTERPARTY\n",
      "SWAPTION_OPTION_WARNT_DERIV\n",
      "DESC_REF_INDEX_BASKET\n",
      "DESC_REF_INDEX_COMPONENT\n",
      "FUT_FWD_NONFOREIGNCUR_CONTRACT\n",
      "FWD_FOREIGNCUR_CONTRACT_SWAP\n",
      "FLOATING_RATE_RESET_TENOR\n",
      "OTHER_DERIV\n",
      "OTHER_DERIV_NOTIONAL_AMOUNT\n",
      "FUND_REPORTED_HOLDING\n",
      "SUBMISSION\n",
      "BORROW_AGGREGATE\n",
      "IDENTIFIERS\n",
      "DESC_REF_OTHER\n",
      "NONFOREIGN_EXCHANGE_SWAP\n",
      "SECURITIES_LENDING\n"
     ]
    }
   ],
   "source": [
    "cursor.execute(\"SELECT name FROM sqlite_master WHERE type='table';\")\n",
    "\n",
    "# Fetch all results and print each table name\n",
    "lalalalala = cursor.fetchall()\n",
    "print(\"Tables in the database:\")\n",
    "for table in lalalalala:\n",
    "    print(table[0])\n"
   ]
  },
  {
   "cell_type": "code",
   "execution_count": 18,
   "metadata": {},
   "outputs": [
    {
     "name": "stdout",
     "output_type": "stream",
     "text": [
      "Column names in 'REGISTRANT' table:\n",
      "ACCESSION_NUMBER\n",
      "CIK\n",
      "REGISTRANT_NAME\n",
      "FILE_NUM\n",
      "LEI\n",
      "ADDRESS1\n",
      "ADDRESS2\n",
      "CITY\n",
      "STATE\n",
      "COUNTRY\n",
      "ZIP\n",
      "PHONE\n",
      "QUARTER\n",
      "First 10 rows of 'REGISTRANT' table:\n",
      "('0001145549-19-041255', '0001145022', 'HOTCHKIS & WILEY FUNDS /DE/', '811-10487', '549300DFU8YF1PWZ5A57', '725 South Figueroa Street', '39th Floor', 'Los Angeles', 'US-CA', 'US', '90017', '213-430-1000', '2019q4')\n",
      "('0001752724-19-157564', '0001257927', 'WEITZ FUNDS', '811-21410', '5493001DCTX72JLZFE90', '1125 SOUTH 103 ST', '', 'OMAHA', 'US-NE', 'US', '68124', '402-391-1980', '2019q4')\n",
      "('0001752724-19-159709', '0001066602', 'Voya Funds Trust', '811-08895', '5493002OZLWDCTJEFB81', '7337 East Doubletree Ranch Road', 'Suite 100', 'Scottsdale', 'US-AZ', 'US', '85258', '1-800-992-0180', '2019q4')\n",
      "('0001145549-19-042355', '0001747688', 'Pacific Global ETF Trust', '811-23376', '549300HTE2GS8CHIQ361', '840 Newport Center Drive', '7th Floor', 'Newport Beach', 'US-CA', 'US', '92660', '949-219-3391', '2019q4')\n",
      "('0001752724-19-160201', '0000832808', 'BERNSTEIN SANFORD C FUND INC', '811-05555', '549300GA5IHQHIM7CU60', 'ALLIANCEBERNSTEIN LP', '1345 AVENUE OF THE AMERICAS', 'NEW YORK', 'US-NY', 'US', '10105', '212-969-1000', '2019q4')\n",
      "('0001752724-19-157095', '0000809586', 'HEARTLAND GROUP INC.', '811-04982', '549300TJI5TPMVIHYH92', '789 N. WATER STREET SUITE 500', '', 'MILWAUKEE', 'US-WI', 'US', '53202', '4143477777', '2019q4')\n",
      "('0001145549-19-041662', '0001011006', 'Altaba Inc.', '811-23264', '549300ZJC0V1K2ZCKG85', '140 E. 45th Street', '15th Floor', 'New York', 'US-NY', 'US', '10017', '646-679-2000', '2019q4')\n",
      "('0001752724-19-157562', '0001257927', 'WEITZ FUNDS', '811-21410', '5493001DCTX72JLZFE90', '1125 SOUTH 103 ST', '', 'OMAHA', 'US-NE', 'US', '68124', '402-391-1980', '2019q4')\n",
      "('0001145549-19-041844', '0000311101', 'Dupree Mutual Funds', '811-02918', '549300S8YVGTJ1NMTW57', '125 South Mill Street', 'Vine Center, Suite 100', 'Lexington', 'US-KY', 'US', '40507', '859-254-7741', '2019q4')\n",
      "('0001398344-19-019663', '0000836267', 'SCM Trust', '811-05617', '254900SUSEM61EA08I06', '1875 Lawrence Street, Suite 300', '', 'Denver', 'US-CO', 'US', '80202-1805', '800-955-9988', '2019q4')\n"
     ]
    }
   ],
   "source": [
    "cursor.execute(\"PRAGMA table_info(REGISTRANT);\")\n",
    "\n",
    "# Fetch all results and print column names\n",
    "columns = cursor.fetchall()\n",
    "print(\"Column names in 'REGISTRANT' table:\")\n",
    "for column in columns:\n",
    "    print(column[1])  # column[1] contains the name of each column\n",
    "\n",
    "\n",
    "cursor.execute(\"SELECT * FROM REGISTRANT LIMIT 10;\")\n",
    "\n",
    "# Fetch the first 10 rows\n",
    "rows = cursor.fetchall()\n",
    "\n",
    "# Print the rows\n",
    "print(\"First 10 rows of 'REGISTRANT' table:\")\n",
    "for row in rows:\n",
    "    print(row)\n"
   ]
  },
  {
   "cell_type": "code",
   "execution_count": 19,
   "metadata": {},
   "outputs": [],
   "source": [
    "conn.close()\n"
   ]
  }
 ],
 "metadata": {
  "colab": {
   "provenance": []
  },
  "kernelspec": {
   "display_name": "base",
   "language": "python",
   "name": "python3"
  },
  "language_info": {
   "codemirror_mode": {
    "name": "ipython",
    "version": 3
   },
   "file_extension": ".py",
   "mimetype": "text/x-python",
   "name": "python",
   "nbconvert_exporter": "python",
   "pygments_lexer": "ipython3",
   "version": "3.11.5"
  }
 },
 "nbformat": 4,
 "nbformat_minor": 0
}
